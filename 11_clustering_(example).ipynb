{
  "nbformat": 4,
  "nbformat_minor": 0,
  "metadata": {
    "colab": {
      "provenance": [],
      "mount_file_id": "1jww3mEsWrp4VjVCe94LdcScRw4oqKdkn",
      "authorship_tag": "ABX9TyPQwczKIy9l+b6vu2SRw55e",
      "include_colab_link": true
    },
    "kernelspec": {
      "name": "python3",
      "display_name": "Python 3"
    }
  },
  "cells": [
    {
      "cell_type": "markdown",
      "metadata": {
        "id": "view-in-github",
        "colab_type": "text"
      },
      "source": [
        "<a href=\"https://colab.research.google.com/github/tomonari-masada/course2023-sml/blob/main/11_clustering_(example).ipynb\" target=\"_parent\"><img src=\"https://colab.research.google.com/assets/colab-badge.svg\" alt=\"Open In Colab\"/></a>"
      ]
    },
    {
      "cell_type": "markdown",
      "metadata": {
        "id": "dhzrBYzaPTv1"
      },
      "source": [
        "# （実装例）日本語の単語ベクトルをクラスタリング\n",
        "\n",
        "* 使用するデータは下記の場所にあるもの\n",
        "\n",
        " * https://github.com/shiroyagicorp/japanese-word2vec-model-builder\n",
        "\n",
        "* Dask-MLのspectral clusteringでクラスタリングして、意味の近い単語が同じクラスタに属しているかをチェックする。"
      ]
    },
    {
      "cell_type": "code",
      "metadata": {
        "id": "C9PMQrmsKEi7",
        "colab": {
          "base_uri": "https://localhost:8080/"
        },
        "outputId": "5c1d97f6-b36f-42a1-98b9-dfde3bcb7e5f"
      },
      "source": [
        "!if [ ! -e latest-ja-word2vec-gensim-model.zip ]; then wget http://public.shiroyagi.s3.amazonaws.com/latest-ja-word2vec-gensim-model.zip ; fi"
      ],
      "execution_count": 1,
      "outputs": [
        {
          "output_type": "stream",
          "name": "stdout",
          "text": [
            "--2023-07-07 15:02:00--  http://public.shiroyagi.s3.amazonaws.com/latest-ja-word2vec-gensim-model.zip\n",
            "Resolving public.shiroyagi.s3.amazonaws.com (public.shiroyagi.s3.amazonaws.com)... 52.219.68.149, 52.219.68.161, 52.219.17.9, ...\n",
            "Connecting to public.shiroyagi.s3.amazonaws.com (public.shiroyagi.s3.amazonaws.com)|52.219.68.149|:80... connected.\n",
            "HTTP request sent, awaiting response... 200 OK\n",
            "Length: 132936751 (127M) [application/zip]\n",
            "Saving to: ‘latest-ja-word2vec-gensim-model.zip’\n",
            "\n",
            "latest-ja-word2vec- 100%[===================>] 126.78M  42.1MB/s    in 3.0s    \n",
            "\n",
            "2023-07-07 15:02:03 (42.1 MB/s) - ‘latest-ja-word2vec-gensim-model.zip’ saved [132936751/132936751]\n",
            "\n"
          ]
        }
      ]
    },
    {
      "cell_type": "code",
      "metadata": {
        "id": "TdWbOwZ0KLwQ",
        "colab": {
          "base_uri": "https://localhost:8080/"
        },
        "outputId": "dabb4128-4083-4efc-a0d9-57421e53a27d"
      },
      "source": [
        "!unzip -u latest-ja-word2vec-gensim-model.zip\n",
        "#!unzip -u /content/drive/MyDrive/data/latest-ja-word2vec-gensim-model.zip"
      ],
      "execution_count": 2,
      "outputs": [
        {
          "output_type": "stream",
          "name": "stdout",
          "text": [
            "Archive:  latest-ja-word2vec-gensim-model.zip\n",
            "  inflating: word2vec.gensim.model   \n",
            "  inflating: word2vec.gensim.model.syn1neg.npy  \n",
            "  inflating: word2vec.gensim.model.wv.syn0.npy  \n"
          ]
        }
      ]
    },
    {
      "cell_type": "code",
      "metadata": {
        "id": "SBkJJtuHKXib"
      },
      "source": [
        "from gensim.models.word2vec import Word2Vec\n",
        "\n",
        "model_path = 'word2vec.gensim.model'\n",
        "model = Word2Vec.load(model_path)"
      ],
      "execution_count": 3,
      "outputs": []
    },
    {
      "cell_type": "code",
      "metadata": {
        "id": "k-QWGhKlKkfO"
      },
      "source": [
        "wv = model.wv"
      ],
      "execution_count": 4,
      "outputs": []
    },
    {
      "cell_type": "code",
      "metadata": {
        "id": "xkWjpO5BKyBC"
      },
      "source": [
        "words = []\n",
        "vectors = []\n",
        "for word in wv.key_to_index.keys():\n",
        "  words.append(word)\n",
        "  vectors.append(wv.get_vector(word))"
      ],
      "execution_count": 5,
      "outputs": []
    },
    {
      "cell_type": "code",
      "metadata": {
        "id": "Hp313-J_LuQy"
      },
      "source": [
        "import numpy as np\n",
        "\n",
        "words = np.array(words)\n",
        "vectors = np.array(vectors)"
      ],
      "execution_count": 6,
      "outputs": []
    },
    {
      "cell_type": "markdown",
      "metadata": {
        "id": "sDyetTpLZpij"
      },
      "source": [
        "## Dask-MLのspectral clustering\n",
        "\n",
        "* Dask-MLについてはWebサイトを参照\n",
        " * https://ml.dask.org/\n",
        "\n",
        "* scalableなspectral clustering（ただし近似が入る）が実装されているので、使ってみる。\n",
        " * https://ml.dask.org/clustering.html\n",
        "* sklearnにもspectral clusteringはある。\n",
        " * https://scikit-learn.org/stable/modules/generated/sklearn.cluster.SpectralClustering.html\n",
        " * こちらは近似が入らない代わりに、遅い。\n",
        "* 参考\n",
        " * https://dask-ml-benchmarks.readthedocs.io/en/latest/auto_examples/plot_spectral_clustering.html"
      ]
    },
    {
      "cell_type": "code",
      "metadata": {
        "id": "IurEBdx_EsEo",
        "colab": {
          "base_uri": "https://localhost:8080/"
        },
        "outputId": "8a8a7f9b-30ab-41ab-a733-ac55392d3e41"
      },
      "source": [
        "!pip install dask_ml"
      ],
      "execution_count": 7,
      "outputs": [
        {
          "output_type": "stream",
          "name": "stdout",
          "text": [
            "Collecting dask_ml\n",
            "  Downloading dask_ml-2023.3.24-py3-none-any.whl (148 kB)\n",
            "\u001b[?25l     \u001b[90m━━━━━━━━━━━━━━━━━━━━━━━━━━━━━━━━━━━━━━━━\u001b[0m \u001b[32m0.0/148.7 kB\u001b[0m \u001b[31m?\u001b[0m eta \u001b[36m-:--:--\u001b[0m\r\u001b[2K     \u001b[90m━━━━━━━━━━━━━━━━━━━━━━━━━━━━━━━━━━━━━━━\u001b[0m \u001b[32m148.7/148.7 kB\u001b[0m \u001b[31m4.3 MB/s\u001b[0m eta \u001b[36m0:00:00\u001b[0m\n",
            "\u001b[?25hRequirement already satisfied: dask[array,dataframe]>=2.4.0 in /usr/local/lib/python3.10/dist-packages (from dask_ml) (2022.12.1)\n",
            "Requirement already satisfied: distributed>=2.4.0 in /usr/local/lib/python3.10/dist-packages (from dask_ml) (2022.12.1)\n",
            "Requirement already satisfied: numba>=0.51.0 in /usr/local/lib/python3.10/dist-packages (from dask_ml) (0.56.4)\n",
            "Requirement already satisfied: numpy>=1.20.0 in /usr/local/lib/python3.10/dist-packages (from dask_ml) (1.22.4)\n",
            "Requirement already satisfied: pandas>=0.24.2 in /usr/local/lib/python3.10/dist-packages (from dask_ml) (1.5.3)\n",
            "Requirement already satisfied: scikit-learn>=1.2.0 in /usr/local/lib/python3.10/dist-packages (from dask_ml) (1.2.2)\n",
            "Requirement already satisfied: scipy in /usr/local/lib/python3.10/dist-packages (from dask_ml) (1.10.1)\n",
            "Collecting dask-glm>=0.2.0 (from dask_ml)\n",
            "  Downloading dask_glm-0.2.0-py2.py3-none-any.whl (12 kB)\n",
            "Requirement already satisfied: multipledispatch>=0.4.9 in /usr/local/lib/python3.10/dist-packages (from dask_ml) (0.6.0)\n",
            "Requirement already satisfied: packaging in /usr/local/lib/python3.10/dist-packages (from dask_ml) (23.1)\n",
            "Requirement already satisfied: cloudpickle>=0.2.2 in /usr/local/lib/python3.10/dist-packages (from dask-glm>=0.2.0->dask_ml) (2.2.1)\n",
            "Requirement already satisfied: click>=7.0 in /usr/local/lib/python3.10/dist-packages (from dask[array,dataframe]>=2.4.0->dask_ml) (8.1.3)\n",
            "Requirement already satisfied: fsspec>=0.6.0 in /usr/local/lib/python3.10/dist-packages (from dask[array,dataframe]>=2.4.0->dask_ml) (2023.6.0)\n",
            "Requirement already satisfied: partd>=0.3.10 in /usr/local/lib/python3.10/dist-packages (from dask[array,dataframe]>=2.4.0->dask_ml) (1.4.0)\n",
            "Requirement already satisfied: pyyaml>=5.3.1 in /usr/local/lib/python3.10/dist-packages (from dask[array,dataframe]>=2.4.0->dask_ml) (6.0)\n",
            "Requirement already satisfied: toolz>=0.8.2 in /usr/local/lib/python3.10/dist-packages (from dask[array,dataframe]>=2.4.0->dask_ml) (0.12.0)\n",
            "Requirement already satisfied: jinja2 in /usr/local/lib/python3.10/dist-packages (from distributed>=2.4.0->dask_ml) (3.1.2)\n",
            "Requirement already satisfied: locket>=1.0.0 in /usr/local/lib/python3.10/dist-packages (from distributed>=2.4.0->dask_ml) (1.0.0)\n",
            "Requirement already satisfied: msgpack>=0.6.0 in /usr/local/lib/python3.10/dist-packages (from distributed>=2.4.0->dask_ml) (1.0.5)\n",
            "Requirement already satisfied: psutil>=5.0 in /usr/local/lib/python3.10/dist-packages (from distributed>=2.4.0->dask_ml) (5.9.5)\n",
            "Requirement already satisfied: sortedcontainers!=2.0.0,!=2.0.1 in /usr/local/lib/python3.10/dist-packages (from distributed>=2.4.0->dask_ml) (2.4.0)\n",
            "Requirement already satisfied: tblib>=1.6.0 in /usr/local/lib/python3.10/dist-packages (from distributed>=2.4.0->dask_ml) (2.0.0)\n",
            "Requirement already satisfied: tornado>=6.0.3 in /usr/local/lib/python3.10/dist-packages (from distributed>=2.4.0->dask_ml) (6.3.1)\n",
            "Requirement already satisfied: urllib3 in /usr/local/lib/python3.10/dist-packages (from distributed>=2.4.0->dask_ml) (1.26.16)\n",
            "Requirement already satisfied: zict>=0.1.3 in /usr/local/lib/python3.10/dist-packages (from distributed>=2.4.0->dask_ml) (3.0.0)\n",
            "Requirement already satisfied: six in /usr/local/lib/python3.10/dist-packages (from multipledispatch>=0.4.9->dask_ml) (1.16.0)\n",
            "Requirement already satisfied: llvmlite<0.40,>=0.39.0dev0 in /usr/local/lib/python3.10/dist-packages (from numba>=0.51.0->dask_ml) (0.39.1)\n",
            "Requirement already satisfied: setuptools in /usr/local/lib/python3.10/dist-packages (from numba>=0.51.0->dask_ml) (67.7.2)\n",
            "Requirement already satisfied: python-dateutil>=2.8.1 in /usr/local/lib/python3.10/dist-packages (from pandas>=0.24.2->dask_ml) (2.8.2)\n",
            "Requirement already satisfied: pytz>=2020.1 in /usr/local/lib/python3.10/dist-packages (from pandas>=0.24.2->dask_ml) (2022.7.1)\n",
            "Requirement already satisfied: joblib>=1.1.1 in /usr/local/lib/python3.10/dist-packages (from scikit-learn>=1.2.0->dask_ml) (1.2.0)\n",
            "Requirement already satisfied: threadpoolctl>=2.0.0 in /usr/local/lib/python3.10/dist-packages (from scikit-learn>=1.2.0->dask_ml) (3.1.0)\n",
            "Requirement already satisfied: MarkupSafe>=2.0 in /usr/local/lib/python3.10/dist-packages (from jinja2->distributed>=2.4.0->dask_ml) (2.1.3)\n",
            "Installing collected packages: dask-glm, dask_ml\n",
            "Successfully installed dask-glm-0.2.0 dask_ml-2023.3.24\n"
          ]
        }
      ]
    },
    {
      "cell_type": "markdown",
      "source": [
        "* 詳細を知りたい場合は下記のコードを読む。\n",
        " * https://github.com/dask/dask-ml/blob/main/dask_ml/cluster/spectral.py\n",
        "* 下記の論文のFig. 2が上のコードで実装されていると思われる。\n",
        " * https://people.cs.umass.edu/~mahadeva/cs791bb/reading/fowlkes-nystrom.pdf"
      ],
      "metadata": {
        "id": "A60H7j0bu5lT"
      }
    },
    {
      "cell_type": "code",
      "source": [
        "import dask_ml.cluster"
      ],
      "metadata": {
        "id": "ADAafWei2F6k"
      },
      "execution_count": 8,
      "outputs": []
    },
    {
      "cell_type": "code",
      "metadata": {
        "id": "j5yY7cJtQV29"
      },
      "source": [
        "n_clusters = 100\n",
        "clusterer = dask_ml.cluster.SpectralClustering(\n",
        "    n_clusters=n_clusters,\n",
        "    persist_embedding=True,\n",
        "    kmeans_params={\"init\":\"k-means++\"},\n",
        "    random_state=123,\n",
        "    )"
      ],
      "execution_count": 9,
      "outputs": []
    },
    {
      "cell_type": "code",
      "metadata": {
        "id": "brNB0mO2QjJw",
        "colab": {
          "base_uri": "https://localhost:8080/",
          "height": 127
        },
        "outputId": "09e82780-e0c9-4fd1-87f7-67d8f383baf9"
      },
      "source": [
        "%%time\n",
        "clusterer.fit(vectors)"
      ],
      "execution_count": 10,
      "outputs": [
        {
          "output_type": "stream",
          "name": "stdout",
          "text": [
            "CPU times: user 3min 4s, sys: 12.7 s, total: 3min 17s\n",
            "Wall time: 2min 32s\n"
          ]
        },
        {
          "output_type": "execute_result",
          "data": {
            "text/plain": [
              "SpectralClustering(kmeans_params={'init': 'k-means++'}, n_clusters=100,\n",
              "                   persist_embedding=True, random_state=123)"
            ],
            "text/html": [
              "<style>#sk-container-id-1 {color: black;background-color: white;}#sk-container-id-1 pre{padding: 0;}#sk-container-id-1 div.sk-toggleable {background-color: white;}#sk-container-id-1 label.sk-toggleable__label {cursor: pointer;display: block;width: 100%;margin-bottom: 0;padding: 0.3em;box-sizing: border-box;text-align: center;}#sk-container-id-1 label.sk-toggleable__label-arrow:before {content: \"▸\";float: left;margin-right: 0.25em;color: #696969;}#sk-container-id-1 label.sk-toggleable__label-arrow:hover:before {color: black;}#sk-container-id-1 div.sk-estimator:hover label.sk-toggleable__label-arrow:before {color: black;}#sk-container-id-1 div.sk-toggleable__content {max-height: 0;max-width: 0;overflow: hidden;text-align: left;background-color: #f0f8ff;}#sk-container-id-1 div.sk-toggleable__content pre {margin: 0.2em;color: black;border-radius: 0.25em;background-color: #f0f8ff;}#sk-container-id-1 input.sk-toggleable__control:checked~div.sk-toggleable__content {max-height: 200px;max-width: 100%;overflow: auto;}#sk-container-id-1 input.sk-toggleable__control:checked~label.sk-toggleable__label-arrow:before {content: \"▾\";}#sk-container-id-1 div.sk-estimator input.sk-toggleable__control:checked~label.sk-toggleable__label {background-color: #d4ebff;}#sk-container-id-1 div.sk-label input.sk-toggleable__control:checked~label.sk-toggleable__label {background-color: #d4ebff;}#sk-container-id-1 input.sk-hidden--visually {border: 0;clip: rect(1px 1px 1px 1px);clip: rect(1px, 1px, 1px, 1px);height: 1px;margin: -1px;overflow: hidden;padding: 0;position: absolute;width: 1px;}#sk-container-id-1 div.sk-estimator {font-family: monospace;background-color: #f0f8ff;border: 1px dotted black;border-radius: 0.25em;box-sizing: border-box;margin-bottom: 0.5em;}#sk-container-id-1 div.sk-estimator:hover {background-color: #d4ebff;}#sk-container-id-1 div.sk-parallel-item::after {content: \"\";width: 100%;border-bottom: 1px solid gray;flex-grow: 1;}#sk-container-id-1 div.sk-label:hover label.sk-toggleable__label {background-color: #d4ebff;}#sk-container-id-1 div.sk-serial::before {content: \"\";position: absolute;border-left: 1px solid gray;box-sizing: border-box;top: 0;bottom: 0;left: 50%;z-index: 0;}#sk-container-id-1 div.sk-serial {display: flex;flex-direction: column;align-items: center;background-color: white;padding-right: 0.2em;padding-left: 0.2em;position: relative;}#sk-container-id-1 div.sk-item {position: relative;z-index: 1;}#sk-container-id-1 div.sk-parallel {display: flex;align-items: stretch;justify-content: center;background-color: white;position: relative;}#sk-container-id-1 div.sk-item::before, #sk-container-id-1 div.sk-parallel-item::before {content: \"\";position: absolute;border-left: 1px solid gray;box-sizing: border-box;top: 0;bottom: 0;left: 50%;z-index: -1;}#sk-container-id-1 div.sk-parallel-item {display: flex;flex-direction: column;z-index: 1;position: relative;background-color: white;}#sk-container-id-1 div.sk-parallel-item:first-child::after {align-self: flex-end;width: 50%;}#sk-container-id-1 div.sk-parallel-item:last-child::after {align-self: flex-start;width: 50%;}#sk-container-id-1 div.sk-parallel-item:only-child::after {width: 0;}#sk-container-id-1 div.sk-dashed-wrapped {border: 1px dashed gray;margin: 0 0.4em 0.5em 0.4em;box-sizing: border-box;padding-bottom: 0.4em;background-color: white;}#sk-container-id-1 div.sk-label label {font-family: monospace;font-weight: bold;display: inline-block;line-height: 1.2em;}#sk-container-id-1 div.sk-label-container {text-align: center;}#sk-container-id-1 div.sk-container {/* jupyter's `normalize.less` sets `[hidden] { display: none; }` but bootstrap.min.css set `[hidden] { display: none !important; }` so we also need the `!important` here to be able to override the default hidden behavior on the sphinx rendered scikit-learn.org. See: https://github.com/scikit-learn/scikit-learn/issues/21755 */display: inline-block !important;position: relative;}#sk-container-id-1 div.sk-text-repr-fallback {display: none;}</style><div id=\"sk-container-id-1\" class=\"sk-top-container\"><div class=\"sk-text-repr-fallback\"><pre>SpectralClustering(kmeans_params={&#x27;init&#x27;: &#x27;k-means++&#x27;}, n_clusters=100,\n",
              "                   persist_embedding=True, random_state=123)</pre><b>In a Jupyter environment, please rerun this cell to show the HTML representation or trust the notebook. <br />On GitHub, the HTML representation is unable to render, please try loading this page with nbviewer.org.</b></div><div class=\"sk-container\" hidden><div class=\"sk-item\"><div class=\"sk-estimator sk-toggleable\"><input class=\"sk-toggleable__control sk-hidden--visually\" id=\"sk-estimator-id-1\" type=\"checkbox\" checked><label for=\"sk-estimator-id-1\" class=\"sk-toggleable__label sk-toggleable__label-arrow\">SpectralClustering</label><div class=\"sk-toggleable__content\"><pre>SpectralClustering(kmeans_params={&#x27;init&#x27;: &#x27;k-means++&#x27;}, n_clusters=100,\n",
              "                   persist_embedding=True, random_state=123)</pre></div></div></div></div></div>"
            ]
          },
          "metadata": {},
          "execution_count": 10
        }
      ]
    },
    {
      "cell_type": "code",
      "metadata": {
        "id": "Dq7CEyl-XOA_"
      },
      "source": [
        "labels = clusterer.labels_.compute()"
      ],
      "execution_count": 11,
      "outputs": []
    },
    {
      "cell_type": "code",
      "metadata": {
        "id": "NFFFxW51YM2y"
      },
      "source": [
        "np.save('dask_sc_labels', labels)"
      ],
      "execution_count": 12,
      "outputs": []
    },
    {
      "cell_type": "code",
      "source": [
        "labels"
      ],
      "metadata": {
        "id": "nKKq8a8p1PxO",
        "outputId": "2d94973b-45c7-452a-8ab8-5b48f7e8c3c7",
        "colab": {
          "base_uri": "https://localhost:8080/"
        }
      },
      "execution_count": 13,
      "outputs": [
        {
          "output_type": "execute_result",
          "data": {
            "text/plain": [
              "array([ 5, 30, 14, ...,  2,  1, 57], dtype=int32)"
            ]
          },
          "metadata": {},
          "execution_count": 13
        }
      ]
    },
    {
      "cell_type": "markdown",
      "metadata": {
        "id": "24rEqAg_e2qD"
      },
      "source": [
        "* クラスタのサイズ順にクラスタのインデックス（0~99）をソートする。"
      ]
    },
    {
      "cell_type": "code",
      "metadata": {
        "id": "0jq2PNGYYTgg"
      },
      "source": [
        "unique, counts = np.unique(labels, return_counts=True)\n",
        "size_dict = dict(zip(unique, counts))\n",
        "sorted_clusters = [k for k, v in sorted(size_dict.items(), key=lambda item: item[1], reverse=True)]"
      ],
      "execution_count": 14,
      "outputs": []
    },
    {
      "cell_type": "markdown",
      "metadata": {
        "id": "aKckFt-se_0n"
      },
      "source": [
        "### クラスタのサイズを調べる"
      ]
    },
    {
      "cell_type": "code",
      "metadata": {
        "id": "htNYMfbqYsOy",
        "colab": {
          "base_uri": "https://localhost:8080/"
        },
        "outputId": "461e96e5-659d-4f86-8ede-8351c4ffd05c"
      },
      "source": [
        "counts[sorted_clusters]"
      ],
      "execution_count": 15,
      "outputs": [
        {
          "output_type": "execute_result",
          "data": {
            "text/plain": [
              "array([8204, 7208, 5701, 4965, 4895, 4778, 4718, 4713, 4708, 4659, 4646,\n",
              "       4579, 4481, 4451, 4347, 4324, 4287, 4270, 4184, 4143, 4120, 4097,\n",
              "       4074, 4017, 3976, 3860, 3847, 3783, 3730, 3729, 3690, 3662, 3592,\n",
              "       3569, 3561, 3457, 3450, 3348, 3344, 3339, 3329, 3281, 3258, 3257,\n",
              "       3250, 3232, 3231, 3226, 3221, 3210, 3162, 3125, 3118, 3094, 3086,\n",
              "       3079, 3059, 3055, 3053, 3040, 3012, 2976, 2972, 2935, 2864, 2852,\n",
              "       2848, 2829, 2828, 2781, 2781, 2770, 2741, 2727, 2680, 2679, 2671,\n",
              "       2643, 2635, 2627, 2608, 2599, 2587, 2573, 2571, 2560, 2531, 2487,\n",
              "       2459, 2349, 2348, 2307, 2189, 2143, 2097, 2054, 1939, 1369, 1321,\n",
              "        662])"
            ]
          },
          "metadata": {},
          "execution_count": 15
        }
      ]
    },
    {
      "cell_type": "markdown",
      "metadata": {
        "id": "VZ6M1kwGfRJp"
      },
      "source": [
        "### サイズが最大のクラスタを調べる"
      ]
    },
    {
      "cell_type": "code",
      "metadata": {
        "id": "SWEzOCjxZU2I",
        "colab": {
          "base_uri": "https://localhost:8080/",
          "height": 212
        },
        "outputId": "3b690e09-8b8a-4d46-facf-cc2541a7c6c5"
      },
      "source": [
        "' '.join(words[labels == sorted_clusters[0]])"
      ],
      "execution_count": 16,
      "outputs": [
        {
          "output_type": "execute_result",
          "data": {
            "text/plain": [
              "'松平正容 ユニットコム 福山中学校 広島県立福山誠之館高等学校 公立大学法人首都大学東京 小田喜 山本精一 マインド・ゲーム ポルデノーネ無声映画祭 京都大学大学院法学研究科 東京都立墨田川高等学校 六神合体ゴッドマーズ サンダーマスク 飯島敏宏 スーパーロボット レッドバロン ワンサくん プラレス3四郎 機甲猟兵メロウリンク 忍者戦隊カクレンジャー 超獣戦隊ライブマン 無限増殖 魔界村 狩野常信 especially フランケンシュタインの逆襲 浮草 6120 シークレット・ドクトリン ユーシーカード株式会社 吉助 大阪府大阪市平野区 ~、 田中学 ガンパウダー プリンスオブウェールズ 宮城県警察部 マエストラーレ 東海艦隊 南海艦隊 シレ 昭洋 世界フィギュアスケート国別対抗戦 おいでよ どうぶつの森 33打点 熊姫 ザ・イロモネア 小林麻耶 世界の果てまで セブン・アークス 9370 3080 Tatiana ラジオどっとあい 白峯寺 狩野安信 武蔵 MUSASHI ヒューマ 新地駅 鬼武者 秋元玲奈 RSIP ACD 公証人法 尽誠学園 力弥 オオ とっくり ここな 片岡我童 大岸 さえぎっ むざむざ 久松静児 黒部の太陽 海と毒薬 Outrage 1246 のろう パワプロクンポケット ハンゲ スタジオジャイアンツ 王立宇宙軍 オネアミスの翼 スターデジオ フリクリ 福岡県立小倉高等学校 福岡4区 滋賀県立彦根東高等学校 三菱重工業株式会社 エンガノ 超時空世紀オーガス 超時空騎団サザンクロス 機甲創世記モスピーダ 大鉄人17 超時空要塞マクロスII -LOVERS AGAIN- たかべ ルイジ・コメンチーニ 一興 予防外交 沖風 梶岡定道 丸茂 日本リーバ 機動戦士ガンダム 戦場の絆 サラマンドラ \"|-|||||||| Stéphane Florent 育英高等学校 雲雀丘 3720 1595 朝夜 十日市場 松本電鉄バス テアトロン 砂の女 定州市 ウルトラジャンプ 月刊電撃コミックガオ! 別冊ヤングマガジン 特警ウインスペクター 地獄先生ぬ〜べ〜 Grosso 五星戦隊ダイレンジャー 太陽の王子 ホルスの大冒険 子鹿物語 デュアルヘッド hydroxide 利章 川崎市市民ミュージアム gsi 1583 Rémy ベール湖 メトロポール・ド・リヨン 分度器 アトランテFC エクゼター Mandarin 松平頼純 ゆでん 藤堂高次 東海大浦安 大阪ゴールドビリケーンズ 大島こうすけ 親の七光り ガボン共和国 萩原雄祐 中村七之助 コミックZERO-SUM 藤枝東 Brito グアラニ リマックス トリトリオフィス 井戸田潤 アニメオタク 長野県野沢北高等学校 ＭＳ ポッパー 沖縄セルラースタジアム那覇 巨獣特捜ジャスピオン 超電子バイオマン daemon 45.7cm 二式戦闘機 VET メディック JNNニュースバード 瞳孔括約筋 Pilgrim カッペリーニ カニオ 12.8m ファンデ 伊奈学園総合 看護師国家試験 アニメ版ポケットモンスターの登場人物 沈める滝 クローチェ ジェンティーレ leo Vito Ugo Gianni Massimo 知識社会 理科離れ 坂東國男 聖徳学園 した前 相馬直樹 ブンド ニューカッスル・ジェッツ Aki YEN TOWN BAND キクとイサム 本富士警察署 住井 Yamamoto クッキングパパ パワーシフト バヤルド 日本電気協会 あやや ビッグモーニング びっこ シュート! 永井尚政 どうぶん 日本馬主協会連合会 2184 村田雄介 月刊少年ライバル 海底二万哩 ヨネックスオープンジャパン 小説すばる 671人 脱工業化社会 1517 愛の嵐 夏の嵐 レク ロシアより愛をこめて ザ・フラッシュ 夫神 吸入剤 羊をめぐる冒険 好色五人女 美内すずえ ガラスの仮面 大谷女子大学 三人吉三 浅葱色 時無 現代歌人協会賞 まんがタイムラブリー 毛抜 41センチ 東宮武官 ヨークシャーオークス 昆虫物語 みなしごハッチ 新造人間キャシャーン 鎧伝サムライトルーパー 2221 六甲道 うかみ うっとうしい スウィーニー・トッド Montero 群馬2区 コロコロアニキ 森尾 全国大学野球連盟 三略 まるき >[</ >]</ liberté Lazare Beatriz ぼうはん 中央防犯 BOOMER ザ・ハリケーン a6 宇都宮貞綱 筑後宇都宮氏 3570 10ユーロ チャパティ Saito 電撃G\\'sコミック 国際トライアスロン連合 スタニスワフ・ジュウキェフスキ 26打点 沖縄県立博物館・美術館 sounds 住友金属工業蹴球団 ジェリー・ブラックウェル 黄金の日日 花神 中薬 静岡学園高等学校 打水 モーニングジャンボ奥さま8時半です フラワーズ・イン・ザ・ダート 日テレアックスオン ジェフリー・アーチャー 日本国首相 ニューロフィラメント チキン・リトル 金山神社 ららら 豊後竹田 肥後大津駅 スローターハウス5 1131 青山学院中等部 意趣 三中老 建設事務次官 忌中 ニッポン無責任時代 テクニカ おはよう!グッデイ 赤城乳業 メガゾーン23 Valerio 石田衣良 1094 荒手車庫 ブロンド・オン・ブロンド 高崎映画祭 陸軍野戦砲兵学校 高村薫 小林聡 J.Z.カルバン 石田光洋 石田ヒロユキ ロー・ファンタジー WIZARD 注文書 feng Midnight Sun 債権者代位権 創文社 Zdeněk ジョゼと虎と魚たち 絶対無敵ライジンオー フレッシュガンガン pathnavbox 木次駅 軽ボンネットバン 尾上松也 スワースモア スティーブ・ライト エデンの東 ビック東海 TOKAI 台湾メディア 101回目のプロポーズ 英語でしゃべらナイト 北川みゆき Cheese! アルシュ スキマ 55センチ Families フルメタル・パニック! persons 池崎 打たれ弱い 洞戸 ウィガン・アスレティック Atlantis 名古屋経済大学 日本冒険小説協会大賞 MellowHead Tara 三樹三郎 かわみなみ 和風総本家 アタック! 宮廷女官チャングムの誓い 韓国外換銀行 3013 5130 キットソン 大野まりな 長谷川良夫 ジーナ・ガリソン 1635 ちゅうえい 大脳皮質基底核変性症 37k 眼筋麻痺 flame 本町六丁目 南大塚 IAUC オイディプス王 開成中学校・高等学校 イノブタ 1172 1749 経済産業大臣政務官 必殺仕事人V 煮しめ 夕張郡 60式装甲車 宇宙戦士バルディオス 愛しく お通夜 立ち戻り スーパーマリオブラザーズ2 スーパーマリオコレクション 日本大学高等学校 北海道室蘭栄高等学校 ミューロケット 吉川元 小川敏夫 高岡寿成 プーナ 日本バドミントン協会 日本科学者会議 今野敏 New スーパーマリオブラザーズ 新三田 肉体の門 必殺仕掛人 野獣死すべし ドラゴンクエストVIII 空と海と大地と呪われし姫君 しらべる 36.3% ドラゴンクエストIII そして伝説へ… 1419 佐野藩 仮面の告白 658m 樅ノ木は残った 自動火災報知設備 松平康重 島津継豊 33.7% 新・必殺仕事人 ホリプロ・ブッキング・エージェンシー 成城学園初等学校 パルスレーザー砲 89式装甲戦闘車 鳥人間 だぁ!だぁ!だぁ! 森長継 大阪テレビタレントビューロー あさって 釜利谷 赤池町 岡山県立岡山操山高等学校 福岡県選挙区 お伊勢さん 大阪デザイナー専門学校 のび太の結婚前夜 えいさ のび太の恐竜 ジャラールッディーン・メングベルディー 富山県選挙区 海上無線通信士 二重関節 寺内貫太郎一家 前略おふくろ様 太陽を盗んだ男 ジェネラリスト 神奈川県川崎競馬組合 愛知県名古屋市名東区 国際学科 310km 円山動物園 パース・ヒート 榊原英資 山梨1区 山梨県選挙区 るろう 緋村剣心 881人 ケイダッシュグループ 山下元利 りょうせん メルキュール 森英介 ウエルシア関東 2246 2260 165k 3120 2248 1481 おおさかシネマフェスティバル Kamil ぜんつう 南淵 福島県立福島高等学校 厚生労働大臣政務官 丸田祐三 赤い光弾ジリオン アクセルワン ホーリーピーク さがり 岐阜県選挙区 IGポート 北海道帯広三条高等学校 中村プロダクション 東京福祉大学 キャンプ千歳 ショートソード 裸名 森林科学 建築施工管理技士 ゆりかごから墓場まで 政府刊行物 1767 信邦 FORWARD あずきちゃん 東京慈恵会医科大学附属病院 セレッソ大阪U-18 鹿島アントラーズユース \"...,\" あさのあつこ 月刊Asuka サッポロホールディングス NHK宇都宮放送局 神戸まつり ニコル・バイディソバ スウォンジー・シティAFC 碧水 レッツ・ダンス ベイウォッチ 9101 1331 95センチ ：\"\"、 MOON CHILD 平河 homme イワサザイ カザリドリ マイコドリ 2073 倍する スーパーマリオカート スーパードンキーコング3 ドンキーコンガ ガリバー旅行記 インハウスローヤー 気狂いピエロ 公共圏 都察院 ジャイアンツカップ 日本マンガ学会 みなもと太郎 マグネッサーシステム 新・週刊フジテレビ批評 小島奈津子 石打 女装家 MXテレビ オフィスキイワード OBベアーズ Bodies 東京芸術大学音楽学部附属音楽高等学校 アンサンブル・モデルン バルトロメ ベストポジション ストー ボルボオープンカップ 着衣水泳 石楠花 ニッパツ三ツ沢球技場 ゾイドインフィニティ 128kg ノーザンブリア フーズム コラン colours 富山テレビ放送 browser 仙丈ヶ岳 イワウメ 10.6m カマンベールチーズ シーアンドティー ヒドゥン 6102 牡牛座 電磁シールド 優先順位の逆転 世界のプロレス Adélaïde ヴェルマンドワ ペロンヌ 1243 CvS CAPCOM VS. SNK 小宮山重四郎 1375 カルメン故郷に帰る 豊島区駒込 純邦楽 少年ブック 2306 美王 非公式帝国 2180 53センチ 1367 1561 113km ソジ 5350 1705 1259 1578 カラオケの鉄人 宇迦 塩草 ホーム・アローン GALNERYUS 新藤晴一 986人 395m 近藤亨 和輝 粉末冶金 ニルスのふしぎな旅 破裏拳ポリマー パイロットエラー TABプロダクション designer エーツー 広島県立広島国泰寺高等学校 刀語 アトロミトス 大木伸夫 デューン/砂の惑星 108kg シボネイ はみだし刑事情熱系 ホイラー・グレイシー イシドール・フィリップ 電撃戦隊チェンジマン はぐれ刑事純情派 ブルースワット 忍風戦隊ハリケンジャー Messe 首都圏ネットワーク アローナ ホジャー・グレイシー 小沢村 1436 PlayStation 2 the Best 差戻 スヨン 大阪府立八尾高等学校 大阪府立春日丘高等学校 松嶺 魔法の絨毯 1332 ひかりごけ ドラえもんカラー作品集 くつした M.A.D. 錦城中学校 抗ガン剤 リウドルフィング ビルング アムンゼン 伊藤彰 Elsevier 590km 愛知医科大学 ニョッキ 鈴木瑞穂 glycol 明大中野 新・平家物語 ディエゴ・サンチェス あばよ パッチギ! Giancarlo 781人 リシェ ワールシュタット 高橋和枝 ナナコ 初笑い タイコ 沢木郁也 春の夢 峰恵研 倉科カナ 真殿光昭 アルファエージェンシー の・ようなもの 星界の紋章 居中 げんちょう 横浜国大 エスパー魔美 FOX出版 愛知県尾張旭市 人民文庫 講談社文芸文庫 776人 Pooh! セーズ 58年間 戦争と人間 綴方教室 ジールアソシエイツ 愛という名のもとに おとなの漫画 君こそスターだ! 河盛好蔵 Clone ギテガ 広島女学院 マッチロック ラモラック チビッコ 第35戦 ベロイト 悲劇喜劇 給食委員会 埼玉県岩槻 vinyl 麦の穂 隠顕 サプフィール 毎度おさわがせします ターナ 小説宝石 38.2% student Impress 栲 ラ・マンチャの男 comte 白蟻 月刊コミックコンプ 若い季節 ゴジラvsビオランテ アクトレインクラブ 小公女セーラ ジャングル黒べえ ヴェステルイェートランド 差別行為 長谷部恭男 ガメラ3 邪神覚醒 ジーダス ガメラ2 レギオン襲来 コクヌストモドキ もくば 女の都 アバコーン 地域社会学 菊井 常盤新平 風の歌を聴け 東京都立小山台高等学校 6300人 内藤忠政 ぐっさん 岩村田藩 荒巻義雄 真栄 京都国際マンガミュージアム おもしろブック ちかいの魔球 サインはV でっかい青春 はじめの一歩 もめる おつる 號第 中浦 クロモ ルイージマンション 目白台 大丸梅田店 情報コンテンツ パケ死 ムーチョ 日本絵本賞 ティアリングサーガ IGMP 1256 市谷田町 ベイビー・ブルー ノスフェラトゥ 敦彦 尾高賞 餓狼 MARK OF THE WOLVES 餓狼伝説3 リアルバウト餓狼伝説スペシャル リアルバウト 餓狼伝説スペシャル 細井雄二 パティ・シュナイダー 為隆 デジモンワールド 中国法制史 サニア・ミルザ はらせ テイルズ オブ ファンタジア 正通 PEA ガエル・モンフィス ザ・ポーグス ヘンリー・キャンベル＝バナマン カリクロー CAバンフィエルド ラシュリー Adriano コパ・アメリカ2004 明日の記憶 Nilsson 三田文学新人賞 ほす 燃え立つ 1161 危険な関係 ニュースプラザ 99話 駒場高等学校 交じる ダイ・アナザー・デイ \\u3000\"\" わが青春のアルカディア タクティクスオウガ アルティマニア ケーブルプラス電話 光線過敏症 アッキー 三重中京大学 あてはまり エフエムナックファイブ 埼玉県営大宮公園野球場 シカゴ商品取引所 8003 佐藤正治 冀南 発行済株式数 edited アカシヤ ウルトラマンギンガS 衛公 矢沢あい 杭打ち機 熊谷久虎 ファラデー定数 ついでにとんちんかん 環境副大臣 硫酸アルミニウム 966人 佐原健二 OIE 無症候性キャリア 785人 阿井 O嬢の物語 ハイカラさん 都市経済学 狭衣物語 ナガノ リゼル 0105 0104 機動戦士ガンダムSEED C.E.73 STARGAZER ギガンティス FM山形 しょうてい 朝寝坊むらく デビルマンレディー 山形県立山形東高等学校 時敏 トゥエルヴ 1057 一直 63打点 83打点 鳴門秘帖 東京芸術座 フェリーボート 風紋 鹿児島県伊佐市 いま、会いにゆきます 月刊サンデージェネックス サンデーGX SURVIVE Ewing バビロニア神話 コラン・ド・プランシー 造作材 5.1m 66k エディスン TAISHITA ブレンタ この人を見よ ネメシス/S.T.X 不食 GUM FAW Jour 中体西用 国際競馬統括機関連盟 IFHA 敬吾 世界の中心で、愛をさけぶ イチオシ!モーニング 大阪府大阪市生野区 過酢酸 Sympetrum ノシメトンボ 特殊記号 ランガー lucky １０月 人文社会科学研究科 森園 н 基宗 義辰 スーパーロボット大戦Z ミミー 万国橋 キュッリイェ ドルマバフチェ GBU 五郎八 角田城 デンジャークルー・レコード DEAN 私の何がイケないの? 河芸 三沢村 荻島 全米ゴルフ協会 ドラゴンエイジピュア 1028 1146 1147 1353 がんばっていきまっしょい 天恵 金河 青塚 ジロラモ・サヴォナローラ 自動プログラミング Morrow 小説吉田学校 街 〜運命の交差点〜 L.A.コンフィデンシャル 977人 1137 26.9% メシュエン みずほ総合研究所 情報コミュニケーション学部 勝直 車両長 24打点 United States of America ボルスタレス のりたま 大阪府大阪市旭区 153kg キリンプロ 栃木県立宇都宮高等学校 学田 大阪府大阪狭山市 マガジンGREAT 稲むらの火 有隣会 チェンジリング Vogel 梳毛 Megan せい子 こんやのニュース 夏への扉 メタルギアソリッド2 八千代松陰 ショーシャンクの空に オーン 軍事ジャーナリスト KIMURA SOLEIL 長上郡 3750 2222 2211 いちご白書 グッバイガール 尾道自動車道 グランディア キンパラ NMRA Majestic アッシュールナツィルパル メモリバリア なめくじ 3032 フォルバン 「+」 405m 真珠夫人 ウィルシャー 渋谷公園通り劇場 民主66 のあそび ゆかし むらまさ ルー・ホード 温良 日本教育再生機構 ジャノメチョウ 日揮 Moi dix Mois 洛北高校 随想録 シベルネティコ 牝馬東京タイムズ杯 東小松川 スーパーテレビ情報最前線 豚まん 1192 泰清 岡部長職 ①「 キャプテンストライダム ウォーラステイン 1168 再生可能資源 国道290号 もくじ 鉢呂吉雄 Cody 京都サンガ 北海道札幌東高等学校 松柏 ルイベ ダックワース グスタボ・クエルテン 75話 ゼニア 消されたライセンス トイ・ストーリー2 )/( 唯子 チンプイ のび太と奇跡の島 高橋渉 俺は用心棒 こうら ペルソナシリーズ 真・女神転生II 侍ジャイアンツ ガンバの冒険 臼井儀人 レナト 信大 札樽線 日本誕生 有年 長崎歴史文化博物館 愛知県警察 シャーロット・ブロンテ 生田町 メイザー 直知 伊藤計劃 ジョリー・ロジャー 天願 濱マイク オリアストラ 国道131号 税務局 カルボーニア ヘルゴランド 日本李登輝友の会 465人 7450 ダンピール 5900人 ヒンドゥー哲学 青島守備軍 ぷよぷよフィーバー 蜂須賀斉昌 72打点 J9シリーズ 銀河旋風ブライガー 37打点 せそん キネマ旬報賞 特別機動捜査隊 がんばれ!!ロボコン 96cm 旅立ちの日に 新テニスの王子様 Silvia ブラザー・ディーボン hospital ncc ジョアッキーノ ソーレ イェスゲイ・バアトル デイ・セチェン スーパーヒーロー作戦 エ・ネスト たみの 兵庫県選挙区 スーパーロボット大戦α外伝 カセグレン 別冊花とゆめ ザ花とゆめ 三陸沖地震 平光 キャプテン・スカーレット 保教 たむらプロ 龍の子太郎 世界名作童話 森は生きている 星のカービィ スーパーデラックス 星のカービィ3 月刊ドラゴンジュニア 2480 アルバニア軍 ビーボ スタジオ・ファンタジア 清山 サピア ほんにん 為兼卿和歌抄 薗部 フェリックス・ガタリ Nakai プチコミック おもいッきりイイ!!テレビ 美少女戦士セーラームーンS 栄冠賞 村上もとか 聊斎志異 キハ5000 盛岡大学 本沢 トルバドール音楽事務所 キハ82 ウクライナ・プレミア・ディビジョン Aleksei 吹替洋画劇場 近代英語 ハッピーデイズ ″、 花ざかりの君たちへ 日本社会学会 変身忍者 嵐 にょうぼう 6055 長野県飯田高等学校 歿日 ロロナ Getting Better 32打点 ハイチ語 最高裁判所事務総長 クラング 彩菜 バガボンド ハーメルンのバイオリン弾き 南国少年パプワくん 6550 25.3% 大阪府立住吉高等学校 fear チョソングル 大阪女学院 ミスターマガジン ヤングマガジンアッパーズ 見田石介 舞夢プロ ファイナルファンタジーIX FFVIII まんがタイムきららキャラット はつ恋 マーベラスクラウン 明六雑誌 山陰日日新聞 山陰中央新報 ジョゼ・アルド Pasteurella 月刊IKKI シャマシュ・シュム・ウキン カリガリ 夏恋 違憲審査基準 ご近所物語 赤ずきんチャチャ しんえん Ki/oon Sony Records アイレックス 文化学園大学 愛知産業大学 名古屋造形大学 常葉学園大学 ナイキ・フープサミット 46センチ ～！」 1263 Tunny 755m ザ・サンデー 878人 ロマンシア クルサール 名古屋国際ホテル 岐阜大会 5060 メインキャストプロダクション 穴吹興産 織りまぜ 九州百名山 10-300R形 とんがり帽子のメモル 佐武と市捕物控 ロジャー・メイウェザー ぶん殴っ ショーン・シャーク ツィミスケス 池中玄太80キロ ていかん ダーマ スピン・シティ 東リ ヴォーラ György 華麗なるギャツビー 駅前シリーズ ティースプーン 34.6% 杉本哲太 割引債 ニコラス・マスー AG-promotion 典之 ウッチャンナンチャンのやるならやらねば! カロネード ひとつ屋根の下 833人 142回 あしき KDDI株式会社 トミー・ハース ガイズ&ドールズ テアトル・ド・ポッシュ つぐない 二条良実 Kazimierz 二十四時間の情事 ピカドン 愛染かつら 西鶴一代女 虞美人草 春琴抄 金太郎飴 セーム・シュルト 情報文化学部 情報通信産業 ピリカ マルル ハケンの品格 2200円 フラッシュマン ヤングアニマル嵐 プファルツ＝ツヴァイブリュッケン＝ビルケンフェルト 挟まり 下水道法 高知女子大学 梨木 ドッキリ!ハッキリ!三代澤康司です レンカク スユ ark トランスフォーマー ザ・ムービー 北神急行 歌月十夜 雌鳥 半裁 英大 宮城県仙台第二高等学校 Restless トムクリエイト 32.6% サム・グレコ ケイン・ヴェラスケス Keane 有言実行三姉妹シュシュトリアン トップ・カラー 鹿児島県西之表市 親良 ハリー・ポッターと賢者の石 61打点 58打点 1157 弘山晴美 ニコニコドー 39打点 2730 救護法 明治生命保険 回天隊 松美 サーモバリック 二銭銅貨 阿部知二 有山 Ulf 量子光学 玄光社 アルネ オーシャンズ 陸士長 火吹山の魔法使い おおかた ヒッチコック劇場 YEN 東京都港区白金 東芝府中事業所 魔神英雄伝ワタル クイズ!年の差なんて Hillman 3610 ルパン三世 ルパンVS複製人間 ルパン三世 PartIII ロボタン ポポロクロイス ミニチュアダックスフント 日本製粉 克之 さいなん さよならジュピター 志村けんのバカ殿様 池田長幸 吉永町 99日 明神町 38kg サウダージ BAL 5200人 グラデュエーション あつまっ AKATSUKI 大阪天王寺 アトミックモンキー 1167 エマ・ワトソン 貸し会議室 せいばん Ning 揚子 武蔵江戸氏 古市検車区 サードウェーブ まことちゃん 野性の証明 ねらわれた学園 東映テレビ・プロダクション よそう 93期 1955年生まれ 月曜ドラマ・イン スターログ ロボット刑事 東京都豊島区池袋 宇宙鉄人キョーダイン おみやさん 京都地検の女 深沢七郎 ソック 八王子医療刑務所 かんが 憲孝 東京行進曲 ボイスワークス とうがく 米式 損切り 豊松 外交関係に関するウィーン条約 宇部商業 南コタバト州 セルゲイ・コバレフ 41日 38日 新世紀GPXサイバーフォーミュラ アップデート機能 Germain 北茂安 825人 148kg 唐辛子味噌 85日 射鵰英雄伝 まんがライフオリジナル Theo うっちゃん 438m Seawolf 保一 アルジャーノンに花束を 厨房設備 4050 汎アフリカ色 KIYOSHI 探偵学園Q ワンマンバンド 東京都浅草 中央労働学園 傭人 伝説のオウガバトル Forensic リング0 よこづな 玄武区 プチフラワー 32件 2年B組仙八先生 エントリーポイント 小公子 ウェルド 長井満也 天空のエスカフローネ ディンガン・トベラ デジモンアドベンチャー02 ぼくらのウォーゲーム! 白緑 イカル 千葉県立船橋高等学校 氷室冴子 横田一則 愛の言霊 22.3% ずっとあなたが好きだった スターロツチ 捨蔵 私の運命 東京コカ・コーラボトリング 93番 藤本ひとみ セベ・バレステロス 火打 0064 石川県能美市 上磯町 山上氏 風魔の小次郎 Cory 町人貴族 子供の情景 シックス・センス 常宮 東京都立上野高等学校 キングヘイロー 鳩子の海 大道典嘉 当世具足 4040 8085 小板 1639 392m アルバイ 三松 ザメ 907人 }, ヴィジュネル暗号 佐藤純一 さすらい刑事旅情編 21.9% 好酸球性多発血管炎性肉芽腫症 イノ 951人 かくざ ジーン・ワイルダー フェザード 四角いジャングル 岐阜県立岐阜高等学校 1217 モハ205 MOMENT 台東区谷中 私立バカレア高校 栄喜 スーパーマリオサンシャイン メアリー・ステュアート 7013 1136 ヘレー 1329 岡部長盛 島大介 肝っ玉かあさん オーカー クマのプーさん Winnie 埼玉県立浦和西高等学校 ブルースチール JOINT 予期せぬ出来事 1998年製 育夫 英郎 敬愛大学 Gli 吉村操 隣保館 ワーリー 171年 ニハーヴァンドの戦い 硝酸鉛 心の旅路 大正九年 映画用語 ファンタシースターユニバース 谷川士清 片恋 浦舟 padding 夢であいましょう Adonis ユア・アイズ・オンリー 大同生命 ウォーレン・ベイティ ドーソンズ・クリーク サード・ウォッチ みごろ!たべごろ!笑いごろ! ムーブ! 1990年生まれ 広島県選挙区 ムーレ・オ・ロムスダール ジジ・フェルナンデス 教育行政学 教育方法学 雷型駆逐艦 大森仙太郎 菊池幽芳 トラベルトレイン マドー 宇宙刑事シャリバン 夜歩く MiChao! 立岡山 毎日デザイン賞 野帳 乗松 昭博 静岡県立富士高等学校 1994年製 ストリートファイターZERO ストリートファイターIV エーチーム デニス・カーン ビクトー・ベウフォート ジェイク・シールズ 龍門石窟 ロバート・ノージック 勇者ライディーン 超電磁ロボ コン・バトラーV 闘将ダイモス コン・バトラーV 1479 2Q 桜蘭高校ホスト部 宝映テレビプロダクション Bento パラトカ ∩ ((\" ドラゴン桜 なめか 長澤奈央 横浜高等商業学校 バンジョーとカズーイの大冒険 ワリオランド 早稲田大学高等師範部 2033 風信帖 Arai リベルタ 蜘蛛女のキス 純情きらり 長野県長野高等学校 グランドジャンプPREMIUM 九六式艦上攻撃機 三原町 大分県立大分上野丘高等学校 ほしのゆめ 県道112号 iu 両唇軟口蓋接近音 祐太郎 tcsh 小さな世界 鹿鼎記 日本大学豊山高等学校 香川県立高松高等学校 行政院新聞局 豊勝 隠秘学 411人 蒼天の拳 不当廉売 Thiago 外国人登録法 京都商工会議所 東京都立江北高等学校 148度 灘高等学校 McCarthy マンデースペシャル さしげ ヨーハン・ヴァイヤー 荒物屋 ハカス語 角川大映撮影所 笛吹童子 チャタレイ夫人の恋人 27打点 ヨギ エドフ チェリニョーラ たいさ 解せる 6750 ポム 島田村 ヘレン・ウィルス・ムーディ 20.2% 桐の花 おれは男だ! SAINT 三囲神社 たけこ 安田火災 GGENERATION 島香裕 氷の微笑 チャイニーズ・ゴースト・ストーリー 試し切り スヘキ 中村粲 北脇 倉科遼 上福島 青の時代 麻美ゆま Qb 1555 スペースコブラ 血と骨 小説推理 1646 KNT 日本電産サンキョー ||| ウォー・ゲーム cinq キウィタス 生きながらえる empire バーンズリーFC ドンカスター・ローヴァーズFC ハダースフィールド・タウンFC 静岡FC 穢れる 428 〜封鎖された渋谷で〜 ディズニー・オン・アイス 関西大学第一高等学校 工業意匠 千葉県八街市 ダーゴル 衷心 柴田亜美 顕真 ビッグコミックスペリオール 図書新聞 スーパーヅガン ディーカラー 53万人 レアル・ソルトレイク 大恩寺 神奈川県立横浜平沼高等学校 ローダーデイル 奥州後三年記 ちょうかく 罌粟 敬文 別冊文藝春秋 松本大洋 武器よさらば 白泉社アテナ新人大賞 美容師法 山口県立岩国高等学校 Baptista 丸の内警察署 Summer Days 惠一 生島治郎 三原地域鉄道部 ディジット テレビタレントセンター 菱山 スカスカ JSCA Horner バリンタン Sawfish 隠密剣士 コラード 서울 ザ・スピリット 絵本太閤記 静岡県立沼津東高等学校 Óscar Domínguez 国際金融局 あいぼ 右門捕物帖 どですかでん 伊春市 月華の剣士 とんび 22打点 山本夏彦 スーパー・デラックス Petri 住信SBIネット銀行 Dmitri メゾ \"」、「 黒死館殺人事件 チャールズ・ヴィリアーズ・スタンフォード 585人 ジョン・ティンダル 寺田農 セルフラップ キノボリウオ 食と農 ウィントン・マルサリス 3999 エドワード・ウィッテン NYK APSS TIGER & BUNNY FLYING KIDS ミステリチャンネル グスコーブドリの伝記 アリエス 荒井チェリー 芦澤 正村 自転車泥棒 595人 クイアバ スコットランド中部 夏物語 しゅんき ザーンダム 容疑者Xの献身 Elżbieta オリエント急行殺人事件 真景累ヶ淵 ジヒドロキシ 岡山自動車道 新型転換炉 烈火の剣 ファイアーエムブレム 暗黒竜と光の剣 華の乱 Arnaud 久智 1900年代前半 スターオーシャンシリーズ 柳本晶一 クィーンズアベニューアルファ 151cm 本城村 アニー・レノックス ロード・オブ・ザ・リング/王の帰還 行政事件訴訟 古今亭志ん馬 牡丹と薔薇 ヴェシュニッツ 菱マンガン鉱 尚友 2215 磨りガラス 映画字幕 そして誰もいなくなった ダイアン・レイン ツカツクリ ウェイン・ファリス 律書 入野義朗 本陣殺人事件 A・A・ミルン 45.3kg 国立小児病院 政審 Mayflower 広島県立広島皆実高等学校 広島県議会議員 党紀 全国学生自治体連絡協議会 判断力批判 砂川町 FOODS 泥田 青森県道31号弘前鯵ケ沢線 ラグビーワールドカップセブンズ 宮城学院女子大学 おもいッきりテレビ 澪つくし スネイク トップ・ハット おもいッきりDON! 奇跡の扉 TVのチカラ 飛揚 ルージュの伝言 中平正彦 さくらがんばる! ストリートファイターZERO2 船水 SNK VS. CAPCOM SVC CHAOS 日本女子プロ将棋協会 925m 応急手当普及員 120g ゆらい ɔː 眞木 GQ JAPAN Олег ラストマン・スタンディング 交渉人 真下正義 赤木春恵 滝川氏 富山県立富山高等学校 竹元 スピンオン 1184 青銅時代 HAN-KUN ながう ぁん omnibus 1456 メロディーズ 電脳コイル 宇宙戦艦ヤマト2199 星巡る方舟 時空戦士スピルバン 伊藤潤二 カメルーン共和国 飛び込み競技 1645 原電 ビルマネジメント 報ずる 隨郡 まんがくらぶ スター千一夜 回帰熱 週刊ビッグコミックスピリッツ 月刊ビッグガンガン ブレイクアウェイ チメロサール レインマン 岡野剛 735m 白井・具志堅スポーツジム 元高 123系 北中央 9899 生さぬ仲 一斉授業 シリーズ9 友之助 1132 児山 稲生物怪録 ストリートファイターZERO3 CAPCOM FIGHTING Jam 宗教学科 ゴジラ対メガロ 1億人の大質問!?笑ってコラえて! ホテル・ルワンダ 138kg Purple software HOOKSOFT 杳子 秋山駿 滝の白糸 椿三十郎 超星神グランセイザー シュレージシェ・オーバーラウジッツ コベントリー ゴジラvsモスラ 怪獣総進撃 クモンガ かいぶつ ページレイアウト 流板 市川猿翁 怪物王女 ディレクトリサービス 大阪国際大学 エクストリーム・クートゥア アンディ・オロゴン 西戸崎駅 Crocodile \"|-|||| スペランツァFC大阪高槻 マメヅタラン RMC 佐藤静雄 Biotechnology ゃかいしゅぎ 若者のすべて 鍵のかかった部屋 極め付き ジャーム オーヴァード 田中信二 ラマー郡 ネムキ 公安庁 エコエコアザラク 電人ザボーガー セイリッシュ 情報セキュリティマネジメントシステム ユウスケ 主催者側 千葉県千葉市花見川区 オオカミ少年 9250 東海高等学校 Christensen クライスト・カレッジ 2403 不確定性の音楽 千葉市美術館 CCI サッパ さすがの猿飛 Packard 1322 6850 機甲軍 機甲軍団 月刊COMICリュウ コミック怪 造船科 月刊少年シリウス 新陽 遠藤幸吉 ジン・アンダーソン 1759 thunbergii はくどう 大阪府大阪市東成区 平成国際大学 5280 JA-SS 46打点 三橋貴明 内上 lucifer のしお 2205 メカゴジラの逆襲 ガンガンWING 相原コージ お富さん ヒュウ AFCボーンマス 風吹ジュン 43センチ スティッチ! 山梨県立韮崎高等学校 オンラインDVDレンタル 44cm 理科一類 ZZZ ザ・ニュース 線形合同法 さとうきび畑 ナバール 時効警察 稲山嘉寛 似鳥 rubber Ficus 朧車 グッジョブ! ウルティモ・ゲレーロ 麻布高等学校 1163 アルゼンチンのサッカー オフィスCHK 756人 2042年 59話 無敵鋼人ダイターン3 1787 千趣会 王蒙 tower 栖本 ロード・ウォリアー・ホーク 猟奇的な彼女 百想芸術大賞 土曜プライム 湘南白百合学園 虚無への供物 1348 向陽台高等学校 ｌ 藤原経宗 きいろい ワンハンドレッド そくし Éric BLACK CAT オニビシ 銭形金太郎 小公女 Grampus 3.2mm 5.5mm コンヤスポル 温品 県立広島大学 安田女子大学 甲南高等学校 オースーパージャンプ 東正 キャララジオ てんもんがく 3604 京都大学基礎物理学研究所 ピューリッツアー 上田女子短期大学 東大寺学園 若松プロ 大脱出 山口県立豊浦高等学校 蒼穹のファフナー 阿部和重 龍山村 Booty Adriana 忠輔 公然わいせつ罪 ラ・カージュ・オ・フォール フレッド・ゲティングズ 三丁目の夕日 fg ウィニペグ・ゴールドアイズ エースアサルト toy Paulus せんねんき 宮崎日大 乳姉妹 不毛地帯 芸苑 真向 レインズインターナショナル ひだまりスケッチ 茉里 壊 厚真 ヘルパ 文化科学研究科 the field creating selected articles 魔界戦記ディスガイア GN Software スパルタンX 青春パンク クロックタワー アランダ フェルディナント・カール Navarre 松原駅 陽のあたる坂道 フォレスト・グリフィン キース・ジャーディン Nori 兵隊やくざ イイジマルーム ロコモコ 急性脳症 行友李風 紺屋高尾 高慢と偏見 しゅんどう おそめ 文身 ビーストウォーズメタルス 松文館 兵庫県立御影高等学校 アオイコーポレーション ブルーベルベット 焦茶 Y2K 岩手2区 GAISF 松本深志 ゲッタウェイ 17kg 北北西に進路を取れ 122打点 ザ・フライ Christiane sector 狼男アメリカン オージ 愛知県立津島高等学校 ゼロの焦点 日本のいちばん長い日 私は貝になりたい 砂の器 5511 7018 9008 Cork 治男 則満 66打点 少年キャプテン 静かなるドン 漫画サンデー 澮 cysteine 284人 日本スポーツ賞 galactose プロゴルファー猿 灰谷健次郎 ブラウンシュヴァイク工科大学 横浜刑務所 Nathalie イセ 菅沢 国土交通事務次官 満州文字 佐賀県小城市 スポーツLIFE HERO\\'S ホンマでっか!?TV クイズ!ヘキサゴン 人志松本の○○な話 僕の生きる道 裏窓 3599 大和高田クラブ 瀬田貞二 上の前 裕久 日本の象徴 シシウド 秋田1区 たかしげ宙 聖剣伝説3 今江祥智 FCトゥーン 雄川 セントラルグループ セントラル子供タレント コミック乱ツインズ 劇団いろは 認諾 脇坂安董 倭奴 マノ Bragança 忠美 湘南国際村 モーレア島 フレズノ・グリズリーズ 後元 福津 アンゲラン ファミ通ブロス 655人 アテンションプリーズ フランケンシュタイン対地底怪獣 キングコング対ゴジラ ジャック・タチ パンダコパンダ き城 大怪獣決闘 ガメラ対バルゴン 大怪獣空中戦 ガメラ対ギャオス 別冊少年マガジン Hellenic 博康 植月 Camilla ラ・セーヌの星 ゴジラvsデストロイア 烈風隊 迎え撃た 4コマnanoエース ニュータイプエース キャッシュコヒーレンシ けいま 立命館高等学校 故郷の空 benzene 忍者じゃじゃ丸くん 76期生 伊賀の影丸 週刊少年サンデー超 39.9% ボディガード牙 福岡アジア文化賞 サヤン ASエルフェン狭山FC 大阪教育大学附属高等学校天王寺校舎 大阪府立四條畷高等学校 キングペンギン ビアナ 水10 フラジャイル ホオリ 堀村 719系 モハ485 沢海 経済産業研究所 ナンキン 魏続 宇宙家族ロビンソン 月刊少年キャプテン 男女7人夏物語 パパはニュースキャスター 池袋ウエストゲートパーク 3115 60打点 イスラエル・プレミアリーグ 戦争童話 cha 神奈川県横浜市磯子区 門倉聡 福岡県公安委員会 過換気症候群 打吹 谷東 Carla 大園 固定IPアドレス オジブウェー Lucie やすよ 直接照明 ムワイ・キバキ 688人 大阪教育大学附属池田小学校 JX-ENEOSサンフラワーズ 青影 変身忍者嵐 恵美須町駅 水色時代 機動戦士ガンダム 閃光のハサウェイ ガンダム Gのレコンギスタ 機動戦士ガンダム 鉄血のオルフェンズ コッチ チャイナート 備後落合 127kg モトキ 八郎潟駅 バットマン ビギンズ コーエー25周年記念パック グリンゴ 36.9% ペッチャブリー 中広 かざぐるま BSSラジオ シーラーチャー アーントーン 190k 筑波大学附属駒場中学校・高等学校 田中美知太郎 ざきけんりつ 49万人 テレビっ子 佳樹 松本商業 市成 Gábor 藤重政孝 ヴァルター・ツィンマーマン やくざいし かみまち 埼玉県立春日部高等学校 57打点 ナターシャ・ズベレワ ランディ・クートゥア ホナウド・ジャカレイ ゲガール・ムサシ ラストサマー スクービー・ドゥー 山内豊資 海事補佐人 ダレスト representations 国連薬物犯罪事務所 UNODC 国立精神・神経医療研究センター しんぷく DZ アフタヌーンKC エピカ テレビ新潟放送網 トレインスポッティング deoxy 1428 22.5cm バルバトス 創美社 新戸 東京シューレ MNF マンディンゴ Keiko 智宏 problems ドミートリイ Cushing 京都府警察部 523人 McCall Franks 匂う 渡辺勝 セラノーバ サスペリアミステリー 奈良県立郡山高等学校 白夜行 1247 ティヒ ボルツ トチカガミ 伝七捕物帳 さいかち サンシー レーモン・ベランジェ Lourdes 吉田秋生 櫻の園 ヒトラー 〜最期の12日間〜 Believer Bahadur 福岡市総合図書館 コギ 栃木県茂木町 寺前駅 Q熱 硫酸ピッチ 社会経済生産性本部 成蹊中学校・高等学校 新聞研究所 はれときどきぶた PQ17船団 鎌形 コミックZERO-SUM増刊WARD Revival 電子コンパス とりせん リオデジャネイロ連邦大学 工学研究院 Publius Asahikawa 座頭市物語 どんまい! アブドゥッラーフ 神風怪盗ジャンヌ モンタナ州立大学 \")/ 970人 白鸚 飯塚昌明 Ilya フロス ニヴフ語 松岡圭祐 ボーイズライフ ボーン・アルティメイタム DXアンテナ カムイ外伝 小新 3250 164m 八月の濡れた砂 飛び出せ!青春 おにごっこ オキソフラン -[( ヒドロキシフェニル トリメチル 山梨県立甲府第一高等学校 尚美学園 ブギーポップシリーズ やまもり 三浦貴大 松平義行 EARLY WING 山口県立徳山高等学校 NEEDLESS 41打点 3360 フウロソウ科 倒披 palustris 423人 地球へ… 優木 熱っぽく )]] Михайлович ニュースプラスワン 1267 オフィスジュニア ヨジテレビ! 無花果 5570 クリーン&ジャーク 坂井村 奥浩哉 チャッ チェルシーホテル 残照 エミリー・ブロンテ 福岡女学院 入佐 群馬県立高崎高等学校 利国 国立大学協会 ウナラスカ ベイカーズフィールド YOSHI-HASHI サイレーン ディーディー 広島ドラゴンフライズ 高い城の男 石目 524m TRY AGAIN 1319 ロシア国境軍 888人 183年 小鳥の巣 アーティストハウス・ピラミッド ファイアーエムブレム 紋章の謎 8061 東京都立松沢病院 ゲームラボ 座・高円寺 570円 特別公務員 陵虐 ソロモンの鍵 ニール・オートレイ 市姫 デイリーイン ATプロダクション Imai 環状ペプチド フレキシビリティ ざんまい 茨城3区 綿帽子 ズバリ言うわよ! エクスペンダブルズ2 アイソーポス コモド 130センチ 偏する 守田勘彌 リコ・ロドリゲス 798人 矢田亜希子 スーパーストリートファイターII その男、凶暴につき 無能の人 日本映画プロフェッショナル大賞 :\"\"、 Advancement まんがタイムファミリー 俚言 商業学 752人 25打点 largest 小出恵介 労働経済学 東京都立九段高等学校 神奈川県横浜市港南区 男一匹ガキ大将 松並 141km 虚栄の市 ジョージ・オズボーン 吉岡賞 須藤あきら 香川銀行 メガギラス チタノザウルス あゝ野麦峠 Yorktown 桂吉弥 鍋島光茂 Reinhold 24センチ 鉄道模型専門店 シス・カンパニー 川崎市長 博通 韓方 ストリート・ギャング Natalia 南條範夫 米国慣用単位 バズ・オルドリン 山川惣治 意地悪ばあさん TRIO 女王の教室 ベリーベリープロダクション 上綱 沖縄県立首里高等学校 シグルイ 140センチ ダメージプラン まことしやかに 0082 伊地知季安 プラネテス |*]] Edson 広島高等学校 105位 三年式機関銃 侵略!イカ娘 神奈川1区 ヒルデガルト・フォン・ビンゲン 大阪桐蔭高等学校 藤沢薬品工業 がくげい 62打点 株洲市 日本私法学会 日本会計研究学会 ろうれん ドリマックス・テレビジョン リインカーネーション 糖尿病性腎症 本態性高血圧 遮光器土偶 明烏 津田塾 噂の刑事トミーとマツ 139度 地霊 中ツ 下ツ 壮一 ナイスデイ ハーメルンの笛吹き男 755人 サニーサイドアップ オニクス 0930 オーケープロダクション ビッグタイム 麻生セメント 新城県 無言歌 国連人口基金 ij Capsicum 愛知県みよし市 prism たっきゅう 内全 マルビン 613人 野ブタ。をプロデュース マニュアル・オブ・エラーズ・アーティスツ マーガレット・スミス 13.3cm アオダモ ニュー・シネマ・パラダイス 三遊亭圓橘 厚狭毛利家 滝部 ビッグゴールド 30.9% 谷川流 愛のエプロン 能ヶ谷 花環 沙耶香 Ave Maria アラワク語 UCAV 木村兵太郎 大腸内視鏡 ダマーヴァンド エンゲルベルト・ドルフース 大阪府立清水谷高等学校 オフィスPSC はるしお ZQQ 香川京子 943人 30.6% 52件 社会的法益 VGS 歴史読本 児童演劇 Tia 恋におちたシェイクスピア Miklós サニングデール サランドラ Barney meg rock 医道審議会 Thoughts Torinese 点と線 成蹊中学校 北陽高校 64打点 49打点 42打点 郵便配達は二度ベルを鳴らす 最強ジャンプ ゼクセル ねじまき鳥クロニクル マスタリー ポタワトミー QCサークル 20001 ザッツ・エンターテインメント ザ・ギフト マツダアンフィニ 29mm ダブルオーセブン ワールド・イズ・ノット・イナフ Zelda 東京都立立川高等学校 安野モヨコ 高津中学校 セントラル・ステーツ・タッグ ドリアン・グレイの肖像 I LOVE mama みいこ 盛厚王 あらいぐまラスカル 新選組血風録 燃えよ剣 フレッシュジャンプ サーベラス・キャピタル・マネジメント コリンシアン 辰郎 熱い空気 月岡温泉 類本 \")(\" ロングヴィル 天眼 82期 右玉 だいがくせい 伝送損失 日出女子学園 MELODIES 名古屋ドラゴンズ ポリーシャ 鳳啓助 西平彰 クリムゾン・キングの宮殿 魔夜峰央 月刊コミコミ Sangyo 和歌山県立箕島高等学校 ローラ・インガルス・ワイルダー ジュラン 人山 屋根の上のヴァイオリン弾き スイート・ライフ LNA 笑点Jr. ウチナーヤマトグチ スパルタ・ロッテルダム 第5回スーパーボウル エリック・ディッカーソン 日本馬術連盟 ムーブマン 近鉄ホテルシステムズ 区間快速急行 天王寺動物園 茲政 宜野座 ノルウェイの森 ユナイテッド・フットボールリーグ 五井松平家 もとぶ 兵庫県相生市 クハ201 画布 メギ科 ロスト・ハイウェイ 野ばら 海城高等学校 1087 東京都杉並区永福 voyage 狂った果実 TOY BOX A-Studio 第54戦 575人 同志社大 47打点 倒卵 花鏡 純三 金沢泉丘 1399 草生津 アイトーロス たにし 由成 劇団東京ヴォードヴィルショー ロボット8ちゃん 50打点 八木智哉 5490 Guardfish 伊崎俊二 Saratoga 国洋 健洋 Scamp Darter Dace 2084 神奈川師範学校 形態そ Flare ベーリング島 ダイレクトマウント Triad Ochoa 全力投球!!妹尾和夫です 長保寺 proud Karim Motto japanese 1764 タイ王室 angelo 高橋英夫 野口武彦 夢のまた夢 黒部進 悲しみよこんにちは HANA-BI 汲沢 FAIRY TALE 変性意識状態 5018 8708 ライプチヒ Bunker 特攻野郎Aチーム 花ざかり 妖精帝國 ぐるーぷ・インパクト ラブ★コン 理花 ドゥルラハ 矢立肇 ワイルドアームズ Onion ネバーエンディング・ストーリー ケーベル キリア 甲下 壬生義士伝 西岸良平 BADBOYS ねこぱんち 富士通レッドウェーブ 桂樹 ルスラン・カラエフ 刑事ナッシュ・ブリッジス スーパーストリートファイターIIX >**</ 吸器 アル・ガラファ RARITIES THE IDOLM@STER 2 帝塚山短期大学 丸の内パークビルディング オランジュリー アプトプロ Ingeborg Petr プルーデンス 魔の山 大井発電所 利家とまつ 297人 118km 川村学園 ふんし 五番町夕霧楼 ハウンド・ドッグ 阿波池田駅 柳原良平 いろか ベルプロダクション Psyche 子供っぽく イシュア もたいまさこ 中国工商銀行 ニケア ぜんぜん 鈴木義尾 ASSP 福岡県立筑紫丘高等学校 江崎プロダクション 豊玉北 5.8m トリプルエー 1186 二枚目半 McDonnell MGS4 三菱電機ダイヤモンドドルフィンズ 低酸素脳症 まんき ロドスのアポローニオス 1335 Halibut ティムタム 尖閣列島 高野孟 範馬刃牙 真田太平記 和田唱 コロラドスプリングス・スカイソックス ジャンゴ 繋がれざる者 テレスコープ 315m 柳営補任 愛の渇き カッテ Gage まんがタウン Hilary 1563 青島中能 ガス溶接 964人 3.6倍 地盤調査 つよきす Raleigh おこがましい ブロント ヨタ 1556 シートン動物記 多胎児 アンデルセン物語 元国 1626 Balthasar トランスアエロ きんらん 公信 十三人の刺客 732人 WEB制作 Bis キンカーディン 日曜討論 草野正宗 カミサマ 独立行政法人経済産業研究所 神奈川県立厚木高等学校 グラディウスIII 大滝温泉 MKK 23時40分 勇者王ガオガイガー 北海道札幌西高等学校 さかまち 宴のあと 3Q レオポルト・フォン・ランケ 島田謹二 セントラルジャパン 城米 皇建 フィン・ウゴル系民族 興隆窪文化 さまつ あくせく 猿渡哲也 果心居士 藤原工業大学 1287 燃える!お兄さん ティー・ワイ・オー 陽あたり良好! Ursus 東鷹栖 SMEレコーズ 松平大膳家 ジヒドロ コミックブレイドMASAMUNE 125kg マブラヴ 久貝 Glad リップルウッド・ホールディングス きよしとこの夜 casTY ラーシュ・ラーゲルベック ピアチェンツァ・カルチョ ASリヴォルノ・カルチョ 松岡映丘 サンクチュアリ・レコード Tis 海城中学校 HEY!HEY!HEY! MUSIC CHAMP 山中秀樹 芋たこなんきん ながらみ書房 114kg 君ヶ濱 熊本県立済々黌高等学校 バス通り裏 八木治郎ショー 54打点 世界大学野球選手権大会 53回目 トリアス fellow ウーラ 118位 月刊少年ギャグ王 ーア kgm 84話 百獣王ゴライオン Trooper banner ヤング・スーパーマン ベニスに死す LIAR GAME エロイカより愛をこめて アドヴァンス 満州国国務院 268m LAMA 桃太郎映像出版 ブルクハウゼン コカ・コーラレッドスパークス 990人 塩屋浩三 矢尾一樹 屋良有作 機動戦士ガンダム外伝 THE BLUE DESTINY YCC 埼玉8区 アジアインフラ投資銀行 5006 単一民族国家 31.6% 大峡谷 Brigitte 56打点 94打点 2325 4440 マリオ&ルイージRPG ナムル 茅部 イギリス文学者 鹿児島中学校 伊藤真澄 TULIP 大いなる幻影 Brassica 高西 まむしの兄弟 御着 周期性四肢麻痺 プロプラノロール リーズン 平和大学 教会主義 Syrup 16g D.C.S.S. ピエ 能仁寺 知正 ソニー・ミュージックパブリッシング ミカエル・ロドラ ニコラ・マユ 亜細亜大学経営学部 幼稚園教員 ろうそ アーリントンハイツ 和歌山県御坊市 78期 ふれ合い X-MEN2 カーズ2 イー・コンセプト 兼造 マコーン ALBA 弐瓶勉 市民の図書館 アバウド 九州・山口地方 2620 アカリ 小渕健太郎 白川由美 川村亮 Colbert 或る夜の出来事 ジーン・アーサー ジェームズ・スチュワート 増上 都岡 47.3% wp 十六夜日記 月刊フラワーズ ファイナルファンタジーIII 正記 ソフィー・マルソー Mitch 真船 スウィートパワー その時歴史が動いた 赤羽西 1239 愛知6区 スグレ アイ・ハヌム てんこもり 138km Marek 2305 ヘキサシアノ ブリキの太鼓 池田長吉 ウス ニコマコス バイオレンスジャック ディープ・インパクト To LOVEる -とらぶる- 経営工学科 ゲマインシャフト 蒼き流星SPTレイズナー 立教高等学校 立教新座高等学校 Anemone 横浜文化賞 .; 1344 タナイス ビューティフルライフ 電撃「マ）王 中手 中野小屋 チャンネル銀河 ぎこちない 天下三分の計 中信兄弟 ひぐらしのなく頃に解 ホベルト 脳動静脈奇形 ワイワイワイ ケアハウス 85k アミュレート JUICY OSU Derived 腎臓癌 じんべえ ゴールデングロス賞 徳川綱誠 浅野綱長 尚久 ローズヒップ MF文庫 高寿 小島貞博 sachalinensis 3515 堂ヶ島 prayer 株式会社タカラ 3905 湯豆腐 北欧メタル 釣りキチ三平 コガネ nacional けいはんな 祇園の姉妹 リーンの翼 土井美加 多功氏 IELTS 神戸国際大学 中央信託銀行 年雄 歯科医師法 掛け離れ ほう助 志学 ジーリ 小池真理子 野上彰 59打点 青の騎士ベルゼルガ物語 ブラウニーブラウン 訴因変更 3076 pleasure achievement 鈴木杏樹 ニュースモーニングサテライト モッツァレッラ 上熊本線 賀集 1286 少女クラブ 断流器 損害保険代理店 米国小児科学会 AAP 乳幼児突然死症候群 ビルヒニア・ルアノ・パスクアル 314m 35g 料理天国 Kylie 769人 カップス ヴィルヘルムス クールヘッセン アッパーズ ニチブンコミックス ジュネス企画 千葉県立千葉高等学校 ホリプロ・インプルーブメント・アカデミー 椿説弓張月 フロックス 神戸空港駅 隠し砦の三悪人 幹生 リパン・アパッチ 路傍の石 清吾 青山学院大 5701 下今市 祖心尼 フィッツアラン Yonezawa ククタ 1425 Tex 龍三郎 شاه 今小路 ザ マーガレット マイケル・エルガン 埼玉県道56号さいたまふじみ野所沢線 嫌われ松子の一生 中村登 毛利治親 \"）」「 ボクらの時代 ニュースアイ 72mm なやみ 東京・国立 ベラミ サハラ以南アフリカ ザビーネ・リシキ china ROSA つかしん ペタンク オークランド・アラメダ・カウンティ・コロシアム HOLDINGS 南州 知っとこ! 神の山 アンナ・クリスティ 大野湊神社 もう一つの顔 吉沼 京北中学校 株式会社東京ドーム 諏訪道彦 tb ガイヤー 千代田区立麹町中学校 トーンキュンストラー 和歌山県立桐蔭高等学校 ジェシカおばさんの事件簿 他人の顔 29.9% せいほく 東京都立広尾高等学校 ひとこ コンピュータサイエンス学部 プロポ 429人 正則学園高等学校 Swords 元禄忠臣蔵 夏元雅人 ♭- 2323 ごきげん!ブランニュ バタフライ・エフェクト 天野明 アジア・フィルム・アワード 青池保子 三陽 月刊コミックドラゴン ドラゴンエイジ Newsletter ヘンリー・キャヴェンディッシュ ツバサ・クロニクル 農蚕 中等学校令 しゅんぞう ビーロボカブタック ドラゴンボールZ 復活の「F」 コロンバス・クリッパーズ ビンガムトン・メッツ 森下仁丹 Whipple 430万人 理科二類 VGM 8450 EF210 唯我 ファラガット級駆逐艦 真夜中まで Terme 稲武町 炎立つ タコマ・レイニアーズ 乙葉 スタージョン級原子力潜水艦 阿含・桐山杯 浩幸 0057 憲彦 天下五剣 ホルムズ島 NTB 柳生武芸帳 1268 デスモドロミック だんしょう 福中 625人 昌道 おはようクジラ とどのつまり 安濃町 ヤマグチ 出来損ない Microsoft Office Specialist 高橋一 ちはやふる 2123 NHKニュースワイド 乱杭 ニコマコス倫理学 32年後 タイトロープ 左投右打 クパ 削れる 倚天屠龍記 日本文理 ジオット 839人 アパートの鍵貸します 1447 林譲治 お茶の水女子大 大阪市立自然史博物館 ヴァルキリープロファイル 大阪府大阪市鶴見区 水夏希 東北師範大学 バンドール トランスヒューマニズム しょうどしま アブハズ語 referred WSD イル・ハン国 パルワーン たくら 最高裁判所調査官 メギ オーストラリア連邦科学産業研究機構 スターオーシャン セカンドストーリー 増田俊也 トム・ストッパード インタビュー・ウィズ・ヴァンパイア 鯰江 風雲ライオン丸 志村正彦 6400人 UEFA Champions League 基礎看護学 天花 反義語 汐文社 スタンレー電気 押し付け憲法論 肝性脳症 山ねずみロッキーチャック アンドレア・フラバーチコバ ブルーノ・ソアレス ジャック・ブレイズ チャクリー 許されざる者 蔿賈 木村政彦はなぜ力道山を殺さなかったのか オフィスPAC 誰がために鐘は鳴る ヒサシ 7550 Waldemar コミック乱 BugBug リトルバスターズ! しろくろ テイルズ オブ イノセンス テイルズ オブ デスティニー2 呂百型潜水艦 大学設置・学校法人審議会 兵庫県立加古川東高等学校 1488 神奈川県立小田原高等学校 玉代 ピッタ 第89回全国高等学校野球選手権大会 流経大柏 タイ風 怪盗セイント・テール 276m 大理ペー族自治州 ヒュー・ロフティング 鈴木杏 塩素酸ナトリウム OSCAR GODZILLA ゴジラ キングコングの逆襲 tf 2069 鴎友学園 アイシア 曽根中生 シュトラウビング 福井商 渡辺祐介 ウィリアム・アイリッシュ 自動車泥棒 ビピリジン Mateo 1664 2118 シェルブールの雨傘 緑黄色 へちま 中村時蔵 中村歌六 2047 久留美 3700人 オリオンビール 獣の数字 栄光学園 学校法人北海学園 CDレガネス 少年の魔法の角笛 2625 ツリスガラ アオバト 一の宮町 シン・レッド・ライン 伊南 Bxf Nxd Qc Qd Bxc Qf Qxd Nxc Qxf ゴジラの逆襲 987人 鬼龍院花子の生涯 かたせ ボヴァリー夫人 郷秀樹 Cupid 襟裳 2706 惜しむらくは 1475 1483 1484 波立つ バニーズ京都SC ル・シッド 在日韓国人二世 東京オリンピック・パラリンピック競技大会組織委員会 プラス株式会社 となりのサインフェルド Münster ロンゲール 安清 653人 269人 749人 アティ 八下 ガラテヤの信徒への手紙 ブルー・シャトウ 千葉県大網白里市 長陽 京都市立日吉ヶ丘高等学校 レナート・ババル 同人舎プロダクション RME 内山夕実 週刊ぼくらマガジン パシフィック・リム まじっく快斗 YAIBA ルパン三世VS名探偵コナン 新幹線大爆破 Pál Wanda リンツ・ブルックナー管弦楽団 Karin 元昌 ガンヘッド Thérèse 七光り 釜山アイパーク パニオニオス 正寧 Jiří 734人 ほえる アントニオ・ロペス 北海道釧路湖陵高等学校 岩手21赤べこ野球軍団 中央大橋 イアン・リビングストン 鷹司松平家 Shields 759人 定襄郡 高速えんがる号 Parallels イル・ド・フランス地域圏 4950 清泉女学院 海城中学校・高等学校 茂光 近代麻雀ゴールド 23℃ 耐蝕 Pasquale TAXi 相互銀行法 国士舘大 厚地 黒鉄ヒロシ 569人 えいけん 日知屋 大東大 ダニエル・シュミット ーネ Jian 人文書院 占地 終末から Haro 美篶 4900人 虎姫 暴力教室 法科学 葦プロ 札幌西 源有仁 としごろ おはようスタジオ デラックスボンボン ゲッサン カリオストロ伯爵夫人 ラッペーンランタ ネルケ 3057 スペイン北東部 ヒノヒカリ 鉾田陸軍飛行学校 別冊少年チャンピオン 共立女子学園 久保田新田 メイプルタウン物語 新メイプルタウン物語 三上参次 日本倫理学会 出張公演 体育学研究科 miracle ヌーヴォレコルト じん肺 ブラザー劇場 ガンスリンガー ヘキサシアニド ダニー・ハボック ドイツ語科 貴城けい 楊溥 1738 コロポックル Sanity ていよう Impressions 151年 \"）、\" 航空管制運航情報官 中山の補題 325km ガールズルール アツミサオリ 高岡亜衣 2591 3370 ウンポコ Tamara 阿武川ダム ゴジラ・エビラ・モスラ 南海の大決闘 舞-HiME 33.3% 大藪春彦賞 角川マーケティング 花組芝居 ゴクウブラック さむか マジレンジャー 46件 尾木プロ THE NEXT Selfish 土方隆行 東武宇都宮百貨店 ワークフォース 坂手 WBU 8031 neo sports 必殺仕置人 神奈川県立希望ヶ丘高等学校 終始一貫 Alcock Pelham スィースターン・バルーチェスターン 銘酒屋 ドラゴンボール ゼノバース プーアル 情けなく みどりのマキバオー 1365 \"∈\" ∀\" バンクーバー・カナックス エイリアンVSプレデター 4時間目 吉雄耕牛 670km 2509 2512 2555 2507 三温糖 バームクーヘン 青児 准ずる イスラム美術 FM北海道 由利本荘 サイフ コータローまかりとおる! 866人 三菱日本重工業 マリア・アマーリエ 箒虫 XVII XXIX ダミアン・サンドウ 釜師 大人は判ってくれない ジーニョ BDS 戸高秀樹 Daemon 救命病棟24時 秋山莉奈 劉建 ククルカン 殺意の波動に目覚めたリュウ 43kg 紀伊国屋演劇賞 メチレンジオキシ 870人 埴原 被爆二世 PEACH-PIT ゆーりんプロ 519人 narrative responsible 機動戦士ガンダムF90 高尾山口駅 スポーツドキュメンタリー 1379 クオーク オールド・ボーイ 鱒沢 230k 花の生涯 モーターボート記念競走 魍魎戦記MADARA マイアミ・オレンジボウル \\'+ 外国語学研究科 CROSS ROAD 大阪大学社会経済研究所 京都フローラ wax Morel 和歌山県議会議員 108打点 53打点 GIST パラサイト・イヴ Bayou シェフィールド・ユナイテッド カレン・ロバート 横浜シーサイドライン B-DASH FC岐阜SECOND PFUブルーキャッツ （、, 広島高等裁判所 dz すずな 杜松 まじる ACアジャクシオ 小型自動車競走法 ヴィルヌーブ 自転車競技法 帰休兵 Adele とうへい 96打点 immediately appear interview Hillary allowed whether followed raised objective provide officials importance extremely particularly raise represented situation reports protect respect attempt carried result marked conducted planned prior ウィリアム・シャーリー 宇木 ウェスタン・シドニー・ワンダラーズ ベセレアー Darío 機動戦士ガンダム00 -A wakening of the Trailblazer- マークスグループ 679人 月刊コミック@バンチ アニメ コンテンツ エキスポ 1441 シクラーゼ 読売新聞社杯全日本選抜競輪 本河内 バンビプロモーション demethylase マルセロ・メロ 47.9% 康生町 パウル・ヴィルト ぼくらの七日間戦争 1476 コマルカ・デ・カルダス パドロン イングロリアス・バスターズ Parasol 魯育 ディシディア ファイナルファンタジー Darts cyclizing アルスーア セイバーマリオネットJ アルバリーニョ LEGACY 長浦駅 北分 C76 Chau マッカサン駅 チャチューンサオ 生徒諸君! ターキッシュ・バスケットボール・リーグ 김 2511 早稲田中学校・高等学校 本庄藩 1946年生まれ 496人 558人 DATV 2445 1196 オーランド・シティSC イスタンブール・パーク 春のめざめ ロンドン市警察 グッド・ワイフ 37枚 ゆりん ラリン ボトシャニ テファン はんけい ニーデ 盛広 ゴンゾー 内部障害 バリエンテ ラ・マスカラ 宝寿 2007年製 瑞々しく Marchetti とある科学の超電磁砲 0805 ラッツェブルク Malus knots 4750 野杁正明 稲田姫命 月刊ガンガンJOKER 瓦房店市 WWN ビストリツァ Donja 撫州市 SCREW operational アウトサイダーアート エルプロモーション noon あかさ 7250 doi ベレス・サルスフィエルド ヘラクレス・アルメロ 筑波大学附属駒場高等学校 横手川 ジョージ・スティーヴンス バレンシュテット Sloane ビースターフェルト しゃっ 148cm デオキシ 819人 オ・バルコ・デ・バルデオーラス ジャクソン・ジェネラルズ エル・パソ・チワワズ ミシシッピ・ブレーブス FCアムカル・ペルミ シビラ チーム・バチスタの栄光 せきもん ランカスター・ジェットホークス 金色のガッシュベル!! スクラントン・ウィルクスバリ・レイルライダース 佐々駅 ガルフ・コーストリーグ・ヤンキース スクラントン・ウィルクスバリ・ヤンキース コマルカ・デ・オウレンセ REINCARNATION 日本翻訳大賞 北中部州 尾原 科学技術社会論 国立国際医療センター 895m 清水エスパルスユース とらドラ! Lister 週刊ファイト ガブリエル・ゴンザーガ スロヴァン・リベレツ チキータ provides essence 桐島、部活やめるってよ 二次元ドリームマガジン 風街ろまん シルエット・ロマンス コマルカ・デ・ベリン 39kg CLIFF EDGE アカネマニアックス 紀元前515年 コマルカ・デ・サンティアーゴ キャッシュマン 北川村 新潟県警察部 腹上死 クリミア州 公二 クライド・ベルコート コマルカ・ド・リベイロ 杉崎智介 メンフィス・レッドバーズ 熊本県警察部 福岡県警察部 ノーサンプトン・タウンFC アドルフォ・スアレス 月刊ヤングキング 月刊ヤングキングアワーズGH 561人 スターレイプロダクション コマルカ・ド・カルバジーニョ 塩井 Sikorsky スタッグハウンド トゥヴァ 126kg 修吉 電撃マオウ Aspects 東京家政大学 ほうろう クリシューマEC アイゴスポタモイ 漂流教室 GDR りょうこう レゾリュート 桃園国際野球場 79期生 ドクター・ドリトル ハマウツボ 215km 白い恐怖 さきどり ピカチュウレコード 147年 環境経営 ダッカ大学 アリアンロッド いつかきっと カザフスタン・プレミアリーグ 大阪府立大手前高等学校 婦人倶楽部 響きと怒り ギブスン J-One Records 永峰 マンソリー 新二郎 日美 世界開発協力機構 永遠の0 陸軍重砲兵学校 外傷性脳損傷 日本そば BCC 別册文藝春秋 下井 蹉跌 ボグダン・フメリニツキー 秋田県道28号秋田岩見船岡線 必殺仕事人2009 土堂 玉渓市 7才 607人 シドニー国際 アンゲリク・ケルバー 43打点 機動戦士ガンダム ギレンの野望 富田常雄 オフィスもり SOMPOホールディングス 黔南 イ・サン Achilles 白河ことり Samtgemeinde モーニング・ツー 1271 プライムエージェンシー トッド・ブラウニング 吾田 ホリア・テカウ 信陽市 川村学園女子大学 FCメタリスト・ハルキウ 岡山区 宮河家の空腹 新魚町 トリヒドロキシ 劇場版マクロスF イツワリノウタヒメ 2521 メゾン＝アルフォール ベルフラワー FECARBOX ワンズファクトリー ナムコミュージアム 天涯 広交 平越 立教女学院短期大学 地方独立行政法人北海道立総合研究機構 まんがタイムジャンボ 全日本大学女子サッカー選手権大会 スィイルト 桃華月憚 「青春ガールズ」公演 「目撃者」公演 福岡県立明善高等学校 ぷろふいる 1552 ネイサン・マーコート 饕餮 エジザージュバシュ フュルステンフェルトブルック コヴァスナ 北会津郡 芸術の森 WORLD WIDE 斉木楠雄のΨ難 アジアンクィア 8.6m コルチコステロイド Gabriele Rhododendron ティラ デンソーアイリス 札幌山の手 A-Sketch コミ語 スクールデイズ ジ・アニメーション トゥルー・ロマンス アンナとシャム王 ハリー・ポッターと不死鳥の騎士団 タス オフェリア ポークチョップ・キャッシュ FTB 生成り キャンドール ヒョンジュン 23打点 97打点 55打点 61.1% エダ 乱鴉の饗宴 竜との舞踏 1512 カマリ NORIYUKI Dr.コトー診療所 Nikolaevich GANTZ Eisenach 624人 福井地方裁判所 5750 2034 2181 シュライツ 針刺し 土曜スタジオパーク 済州ユナイテッドFC 5160 フェロシトクロム acetyl ざらつき 芸術学研究科 Владимир マクロス・ザ・ライド 宣毅 トランスフォーマー/リベンジ 文芸倶楽部 日立グローバルストレージテクノロジーズ アルティボニット県 Generations ぎょくざ 小峰書店 ポトマック・ナショナルズ ハリスバーグ・セネターズ シラキュース・チーフス Vladimirovich 山梨県立日川高等学校 provinces 碁ワールド Pilar Uprising Naoki さわこ 渡辺えり nikkei men\\'s egg アールグルッペ Îles タマラ・スミルノワ Voyages Krzysztof Tsutomu 嗣主 離婚弁護士 Phyllis 846人 魔法少女リリカルなのはStrikerS Svetlana 陸奥圓明流 ふたりのロッテ 忍山 明重 メロード 1971年製 フライングハイ ジェイ・クリップ 山名教之 茘湾 ヴンストルフ 03863 メンシコフ 排行 ブクログ ムー一族 引間 レフウィヤSC ギルバート・エリオット 石岡沙織 第77戦 ベーケーシュチャバ 村田重治 東海テレビ制作昼の帯ドラマ Printemps 76センチ 第4回参議院議員通常選挙 Stepping 富士教導団 アンハルト＝ベルンブルク 4020 當麻 飯田浩司 ソウル支局長 桂塩鯛 シグマ・セブンe エトロ リイドコミック セッカ 37周目 804人 未来福音 三木プロダクション デス・プルーフ in グラインドハウス テトラヒドロビオプテリン 124度 マックミック 安戸 アウン・サン サン＝ニコラ オフィス薫 アグラウロス 日日日 ピースプロモーション 海王社 中央西 オキソグルタル レモンピープル あまとりあ社 ソフィテル スカイハイ フォックス・テリア じゅんあい 844人 ドラゴン・タトゥーの女 ベンジャミン・バトン 数奇な人生 パロミノ Aries フェルデンツ シャルル・ルブラン philosophie 兵動 宮崎シャイニングサンズ つくばロボッツ 塚越孝 ジョジェン レギーナ ゴジラvsキングギドラ Marburg Sanger バファロー あがき 忠繁 メルヘヴン 715m 258m エンスヘーデ いくつになっても 夢十夜 アラビアン・ガルフ・リーグ ふたりはプリキュア Max Heart ロリー・マッキャン シベル・ケキリ エイダン・ギレン 鋼鉄都市 田沼町 在英国日本国大使館 ルンビニ 茨城キリスト教大学 Exodus ディンカ 久保松勝喜代 れっど かつろう Croiseur 湯河原駅 ヴィムス 二価鉄 セブンデイズ モンデリーズ・インターナショナル クナル Fabrice 松蔭大学 チチカステナンゴ ディー・ツァイト 毅彦 デメトリアス・ジョンソン ドミニク・クルーズ ジョセフ・ベナビデス 東京消防庁航空隊 リーガMX タイズ ホモソーシャル 素晴らしき日々 ぶらい 撞 レイフ・セーゲルスタム Proteus ノーサー Dr.HOUSE 上安 オウカ 内江市 小泉町 デヒドロ keto はじまりのうた 吉村由美 ドレスメーカー KBA 143度 クアポー ジャラシュ 昌元 ヴィズミック Bxb Nbd 若江城の戦い まんがぱれっとLite 村浜武洋 榊一郎 Reine 静岡市長 静岡1区 アベンジャーズ/エイジ・オブ・ウルトロン 2336 ウォッチン!みやぎ 419人 日本言語学会 Americas BHP クローバーフィールド/HAKAISHA イコ マンガ・エロティクス・エフ パンテッレリーア 急性ストレス障害 立花忠茂 triangle \"|-|||||| ファウンド ゾンバ Qg マリヤンポレ 復興庁設置法 フィリピン系アメリカ人 855人 プロ野球ワールドスタジアム ,…, ポプラ社小説大賞 アーバンデザイナー FANTASIA Malo 国民金融公庫 セミダブル 38回目 吉岡治 彩雲国物語 crossover テピダリウム HJKヘルシンキ グウィネット・ブレーブス 132km 佐賀県警察部 完全なる飼育 医療刑務所 1995年製 マルティン・ダム ジェール・モション・ショプロン ヨーロッパ卓球選手権 木更津キャッツアイ Sorcerer 896人 シューイチ バリー・サンダース 泉北ライナー 7300人 MEN\\'S KNUCKLE 渡辺清 ハッチポッチステーション 35.8% Phipps 神奈川県立平塚江南高等学校 685人 岡田稔 927人 1975年製 FFX-2 月刊ヒーローズ オンガン しゅうり 愛三工業 兵庫県警察部 アル・マドリル 下関商業 oxoglutarate アリーチェ ゴング格闘技 打ちっぱなし ちいさい Alvaro 直忠 Zack ごちそうさま 太平洋興発 マリーア・テレーザ 3760 真鍋譲治 サラ・エラニ 473人 ニューギニアヤリガタリクウズムシ グリーンアノール ノヤギ きんちょう 智武 従動 中原俊 捜索者 1326 3561 CABOFE オルランド・サリド ローマン・マルチネス オルギン 霍州 緒形健一 四角錐数 822人 片山津 Guise 武良 トウロ オルデス ポーパス級潜水艦 五本木 経営者団体 スーニ サルマン・ラシュディ 早稲田大学本庄高等学院 柏井町 サンティアゴ・デ・カリ マヤグエス ゾフィー・ホテク IBBY プラチナム・パスポート 滋賀銀行 金沢大学附属高等学校 ヴォーデモン 電エース Fernanda 「逆上がり」公演 彦根高等商業学校 古座 アナベル・メディナ・ガリゲス アナスタシア・パブリュチェンコワ 東京成徳大学 文宣 0046 0846 安田公義 レイトン教授シリーズ リナルディ トゥールガウ州 ホップマンカップ 139km 徳島文理 COZY バイオハザード5 co-op Pape ボリス・ネムツォフ 岩出町 虎の牙 Portsmouth 近藤夏子 ワンダーマン 長恨歌 チョウノスケソウ イブキトラノオ ネーション・オブ・ドミネーション ミセス・ダウト アンドリアノフ 祈る人 STANCE PUNKS dpkg ダックスープ メネゼス 藍坊主 キングダム ハーツ バース バイ スリープ Liège AG2R・ラ・モンディアル 簠簋 崔龍洙 アルフォンソ・キュアロン 特別自治 新潟県立新潟高等学校 伊吹島 福井弁 紅い花 アドバンテッジ Wi-Fiルータ ピエール・バルー クロッシィ ミッドアトランティック・タッグ WET 北森鴻 ヴァカンソレイユ・ 上川井 幾年も 1.FCウニオン・ベルリン ホセ・ルイス・ロドリゲス・サパテロ Sasaki ABDeh HGe こうらく 小高光太郎 伝説の勇者の伝説 epimerase チネ Modena performed ニンジニアスタジアム ニューライフ GOEMON 独立行政法人評価委員会 フレドリック・ブラウン 5004 梁山市 エスコバー 795m 超人ハルク ヘーグ Judd 毒麦 ハルギタ Tomáš 桃花源 糸山 シーエン リップ・ヴァン・ウィンクル 戦え!超ロボット生命体トランスフォーマー2010 ナコンラチャシーマ 御所浦 炉辺 B-Box 大工大 国府川 TAKUMA アバイ きよく ツトン カレハガ 根方 1324 イングリッシュ・マスティフ dimethyl 電波学園 KBS演技大賞 アカバナ科 ラインフェルス 札幌国際短編映画祭 134位 So What? 盾津 Shiga 下河辺牧場 568人 glycerol 史村翔 carboxylate ウイニングポスト SRC13 アミル 応用倫理学 パサマクォディ ふあん 新四国曼荼羅霊場 778人 38000 Marron Pollack づしょうがっこう 0816 オ・カルバジーニョ 大幡 Mil ベロイト・スナッパーズ ニューブリテン・ロックキャッツ ソルトレイク・ビーズ アクロン・エアロズ ルイビル・バッツ 世界平和研究所 office48 好男 1754 トロルヘッタン Elisa 勿忘草 複数アカウント Nge hg アンドロマック ボーン・アイデンティティー ポール・グリーングラス ボーン・レガシー ザ・リバース 青山学院中等部・高等部 あかべぇそふとつぅ Nxf 金築 畢節 山田風太郎賞 スタイルキューブ 宇土駅 西尾由佳理 2242 Vladimír 大東文化大学ラグビー部 ぎゆう アリュール 491m 上吉 恋の手ほどき おおおく rpg エウア ラ・メール Anatoly コーパスクリスティ・フックス 岐阜テレビ 2214 別宮貞雄 延永 古川学園 Danilo ambiguous 黔 ルイス・マイルストン butyl JARTIC きよせ )+( 長靴をはいた猫 サッカーマガジン ライフサポート 睦沢 エリー・シーウルブズ トレド・マッドヘンズ アメリカ橋 復讐するは我にあり 富田浜 バリントン リンチバーグ・ヒルキャッツ 磁気コンパス フリー聖餐 UNITY ソンソロール 東京アートディレクターズクラブ 三勇士 甲良 ファイブプロモーション 平和出版 52打点 67打点 74打点 HOOKnSHOOT 34打点 PENGIN のぼうの城 新寺町 37000 1342 ドラマチック・サンデー ジムカデ 藤林聖子 城内町 Holm セナール エルブフ 0133 0201 0122 しとり 116打点 天羅WAR 歯科矯正学 はいすくーる トミーズアーティストカンパニー まんがタイムきららフォワード 446人 Marta 水産大学校 江原線 ヘルマン・ミュラー リヤコンビネーションレンズ 貴志祐介 マリンケ 寒極 Ust 木佐貫 カベルネ Reinhard ブレスレス 隆州 ふぞろいの林檎たち オラはにんきもの 蒙古聯盟自治政府 Tec 愛知県知事選挙 Gheorghe NIAGARA TRIANGLE Beryl Annabel TPマゼンベ Castelnuovo \")-( deaminating 田中角榮 Amar ヴェロニカ・マーズ マクスウェルの悪魔 536人 筑波大学附属高等学校 ウリセス・ソリス 美嚢 飯山町 フリスコ・ラフライダーズ スリーライズ ABCC 菊地凛子 病跡学 tearbridge ノースウエストアーカンソー・ナチュラルズ オマハ・ストームチェイサーズ 78打点 かみあまくさ Syria カマール おおいなる キャプテン・アメリカ/ウィンター・ソルジャー 孔傑 サイパFC トルベツコイ 無線操縦ヘリコプター 724人 田耕 月刊ジェイ・ノベル 702m 113kg マイノリティ・リポート 東京シティ競馬中継 川棚温泉 新宿高校 COMIC SEED! 月刊コミックジーン フェルナンディナ 女系家族 さくらまち ティーアイネット 秀安 ホスホ 上方演芸ホール 黒須克彦 Vampires オキソブタン 新ソード・ワールドRPGリプレイ 利益相反行為 まんが4コマKINGSぱれっと 十二湖 非婚 ボルシッパ ゅいち はぐくみ carboxylase どしり でないと 船山基紀 Vol.18 エリック・バードン うたかたの恋 生活ほっとモーニング 川添智久 ゲイム 超次元ゲイム ネプテューヌ 富崎 神奈川県立近代美術館 芽生 リーハイバレー・アイアンピッグス 松ヶ崎村 昭通市 NHE ワイルドフラワー 2513 ディクレア 落合正幸 ブレイキング・バッド フランス語科 国谷 レーヴ ラドゥ 年若く フォーティーン 大手前女子大学 ポンソンビー 辻村深月 9350 せっぷん ザ・リバティ 夜ノヤッターマン 広島女子大学 29打点 ポートランド・シードッグス 45打点 ありがとッ! 林与一 花咲くいろは どですか! 日朝関係史 nii セダ 火曜曲! 帝京科学大学 尾瀬あきら 不都合な真実 永積 2820 フリードリヒ・フェルディナント レ・シルフィード ASNARO ボウイ・ベイソックス メタルファイト ベイブレード ハイス 605m さんす 上那賀 ロシェ アグリー・ベティ 生命の花 ポール・W・S・アンダーソン コレスタン diol UIP アヴィニョン演劇祭 全日本学生柔道連盟 ヴァーレ ロイ・ネルソン 西川村 松原小学校 サクラメリーメン 小金井良精 株式会社ファミリーマート ターミネーター3 decarboxylating 裸麦 FM FUJI うみねこのなく頃に散 Manny 32kg 境港市議会 南大通り 仲井真 共立薬科大学 株式会社東芝 アホルン 0845 3221 Sonderburg ベルンブルク ハクション大魔王 Marian GUILTY GEAR 小川紳介 バルセロス FCパソス・デ・フェレイラ 布引滝 ロールシャッハ・テスト 巴波川 あらまち Cross Days マグラ avex tune VOYAGER 岡山地方裁判所 週刊こどもニュース 石川直樹 通川郡 amount eds 債務不存在確認訴訟 鉄西区 ビングリー エカテリーナ・マカロワ クベタ・ペシュケ ロベルタ・ビンチ ミッドランド・ロックハウンズ 28打点 東のエデン 福岡空港駅 恩物 わくわく動物ランド ノルディクス ユニーグループ・ホールディングス 水原FC しらみつぶし ダーメ ベラー 如シ メアリー・テューダー 佐野瑞樹 グッドイナフ マクパーランド 十二角形 繁沢 日向台 Georgios ブリスベン・ロアーFC ジェリービーンズ リカルド・アブリル グランダンス県 名古屋商工会議所 金原ひとみ 木曜ミステリーシアター プラチナイト アンドレアス・セッピ サム・クエリー ライジング・スターズ・チャレンジ ソウル特別市長 Mr.サンデー ハーバッハ 静岡県警察部 98度 ロトルー SFが読みたい! 神奈川県横浜市南区 清洋 ベルデン クルーム 短歌新聞社 61期生 キューゲ impacts 890万 夕焼 コミュニケーションアート Fallon df 電気工事業 マリアージュ アーティフ Jérôme 稲川素子事務所 現代制作舎 鈍牛倶楽部 日本ガス協会 3660 ウィリアム・ヘンリー・ヴァンダービルト 蒸気ブレーキ 行親 伝習館 Eleganceイブ 幸造 現代詩花椿賞 Attila スーペル ワール コナミ工業 条鋼 生化学会 765m マクラッケン 101kg 7006 さいごのひ フリップアップ 磯島 94期生 富士通陸上競技部 けんめい イリンガ トヨタ自動車アンテロープス 山口一郎 友里恵 ポポロクロイス物語 ポサーダス チャコ州 マキシモ 契約の自由 2161 ブラッチャーノ Makihara 植田真梨恵 かわいそうなぞう 前田斉広 CLOCKUP ホタルイ 東洋信託銀行 1747 キング・オブ・ザ・ヒル 会計史 平塚球場 菊地創 聖隷クリストファー大学 恋と選挙とチョコレート AXL ネピア 丁亥 サンデーズ ホセ・ロペス Miroslav カア Mallory 人事労務管理 mutase あかね台 ビジネスソフトウェア 黄金銃を持つ男 Kristin Cummings 高の原 わりに フルーツバスケット Travelling Lansing 日本出版学会 ララビー 永安県 れおな ガーゴイルズ ATARU GiRL ねおん ユライア・フェイバー 水垣偉弥 19.4cm テルナーナ・カルチョ FCルツェルン EXCEL ベン・ヘンダーソン ペティス サイアン 3224 Towns ガジェットリンク 蓮堤区 ドナルド・セラーニ ギルバート・メレンデス ハファエル・ドス・アンジョス 皆目 判例時報 REPLAY 1697 北海道医療大学 隴南 紳士同盟 池森 押水 リトル・ミス・サンシャイン タラバ 任意定数 0832 ∈\" Tsuchiya 633人 693人 アサダ アレクサンデル・ポベトキン ちんもく 風葉和歌集 叢書集成 お引越し 新藤兼人賞 ライオン奥様劇場 文安県 0812 ウォーク・ザ・ライン/君につづく道 Ladislav ノーマンビー 東建 Tadeusz Harry Potter せいへい 柴本 \"′(\" 20.5m ヌーベル 701人 三重県警察部 ヤナ Devotion レザボア・ドッグス ジェームズ・ヒルトン セインズベリー 舞台音響 Rousseau ダンピエール 大塚隆史 く画 野生の王国 黄衣の王 椎名慶治 威し 972人 エリトリトール 日本比較文学会 中国軍機 コミック アース・スター Alexandr 徳留 大事MANブラザーズバンド ヤシマ ルパ 中華人民共和国中央軍事委員会 丸亀競艇場 ゴーヤー ポトカルパチェ 2375 Mathews スソ 英喜 マリー・ドルレアン グリセロ Fagus 覆審法院 クリアビジョン スマイルモンキー 川部駅 窪川駅 バグウェル 浩次 Janusz 8040 8005 2272 BROWN ひうらさとる MAMORU MIYANO 佐賀高等学校 PAW 北海道滝川市 詩人会議 エロル ジョン・ヘダー cristata エドワード・ズウィック vasútvonal スクリプス Joaquín 前田吉朗 ŠKスロヴァン・ブラチスラヴァ バンプール ゴースト/ニューヨークの幻 西角 リーハイバレー étude 2370 楡林市 クイーンズ・オブ・ザ・ストーン・エイジ カラスヤサトシ ファンタスター はんで トータル・イクリプス パスラボ山形ワイヴァンズ 新古 モグール Physique DAISUKI viridis 松山東 茨城県立土浦第一高等学校 ドレミファ・どーなっつ! スタインハート Φなる・あぷろーち 聖美 Hamid シュルギ 光の雨 1266 Melayu 1346 FCガンジュ岩手 イニャツィオ プロレスリングBASARA みずち 本高 ナウ・アンド・ゼン 1133 1139 ろっかせん タイ王国代表 写真時代 ヒダルゴ ドッグヴィル アイリーン・ダン パーネル・ウィテカー カリオン 日立ハイテクノロジーズ 房之助 ニュープリマス 電子ランド杯王中王戦 8710 許昌市 十堰市 イキイキ ホタルノヒカリ カンボジア・リーグ DOPING PANDA 3309 ,[ 荘佳容 柳屋 日野自動車レッドドルフィンズ アストライオス せつじ 邦久 ペリプルス Horne DETECTIVE Germán 石油連盟 エアライナー Arias 石川県かほく市 \\u3000: 粋人 葉上 戦火の馬 御法川 ベサニー・マテック＝サンズ Slade 73期生 瓊浦 ガンダムビルドファイターズトライ \",…,\" 池田茂政 イーヴァル ラグナル 九州文化学園 マクロスフロンティア 615m 不測事態 月刊コミックゼノン Mauricio オンセ・カルダス トンビ 結束信二 建山 マリアナ・フアレス ヴィダルサスーン appears 赤江珠緒 平壌国際空港 メガロドン ダンボール戦機W 津田健次郎 2433 航海訓練所 Ingram 1386 宣正 愛知県立刈谷高等学校 コミックブレイド シャリ川 ジャン＝クレマン・ラブルデット Französische 富士石油 GLV ホラーM ミラクルジャンプ Sauber 終わらざりし物語 アトランタ・スラッシャーズ 国際平和協力本部 周智 processes implement 着信アリ 自性清浄 浄蓮寺 歩兵第9連隊 アンソロジスト 虎の門 ラ・ペリ フォレスト・ガンプ/一期一会 ･･････。 勝抜い ホムトフ ニーレジハーザ チューリン 山本又一朗 妖女 Bitter & Sweet 駐馬店市 菏沢 プファルツ＝クレーブルク oxo ネラ 桜の森の満開の下 スプリガン supernova スーザン・ボイル Panzergrenadier 日本SF新人賞 シレト 1294 ホットロード 634人 manner improvement measures accordance responsive intended コレシストキニン 下飯田 ドブジン ハルナ トレンメア・ローヴァーズ 藤本京太郎 松商学園短期大学 ゴスフォード メルボルン・シティFC 実話ナックルズ 能登有沙 声優アニメディア クリテリウム・デュ・ドフィネ トワイライト〜初恋〜 草子地 itmedia スタートレック:ヴォイジャー 毛深く 東京農業教育専門学校 クーサ One Tree Hill 旭川医科大学 富山医科薬科大学 フライムート・ベルンゲン 大谷ノブ彦 Desa ゼカリヤ書 レオニード・クロイツァー 権十郎 蘭州軍区 じょしゅう 新注 斉田 高田利種 音楽心理学 文化情報学部 北海道武蔵女子短期大学 リコモーション 鳩目 ペレグリン オー・ブラザー! 1513 40.1% t3 Zepp Sendai 角館駅 ピロリン 836人 エポニム 岸田教団&THE明星ロケッツ 陽のあたる場所 Rallus 神田紺屋町 人肉検索 下関商 ベルリン・天使の詩 洋菓子メーカー 明治グループ まさの グラン・トリノ SCJ うちゅうじん ラウリル硫酸ナトリウム シュピールベルク ヒトツバ 富士正晴 佐藤拓也 モンゴメリー・ビスケッツ 1371 Ettore 50.6% 中信銀行 トレホン ヘクサム 山田ミネコ トヨタ自動車株式会社 竜洋 2275 タパチュラ シーズンズ かなしき 1405 カーボランダム 連邦軍出動指揮司令部 クルト・ゲオルク・キージンガー ニーダーシュテッテン ザ・ドラゴン 随州市 LPWA 自然対数の底 明治学院高等学校 ルセロ ベストディガー 福聚 秋日和 468人 えいへい ドライゼ アリステウス アウトライダー TBq 能代駅 びがく 韓国取引所 Lauri オーバーン・ダブルデイズ ニューハンプシャー・フィッシャーキャッツ CEM キャリクファーガス Meaning グリーンメディア 1692 バルドエージェンシー アキレスと亀 聖職叙任権 JBIC NMI ノイベルク コウェタ ヴィラ・ノヴァ ファンタジア文庫 スラムドッグ$ミリオネア サンタイサベル 3098 666人 かきつばた アステラス・トリポリス ディファ チェストバスター 2223 Departamento 中矢力 HAPPY END 法政大学大原社会問題研究所 Nifty 君田 エーライツ フリービット ヤンヤン歌うスタジオ Pons 為基 MarkII ポセイドン・アドベンチャー ホーンテッド 悲しみの歌 啤酒 中須賀 Ensign 莫言 Mécanique ウースチー・ナド・ラベム Sunya 「PARTYが始まるよ」公演 Locus 日大山形 吉家 オフバランス thiol エフ・エム・ジー シュウェップス 地底旅行 2175 阪神競馬倶楽部 ビッグコミックオリジナル増刊 バルブマチック 公立学校共済組合 閔行 李王職 太王 細山 ムーンライト伝説 KKR 艦隊これくしょん -艦これ- 149cm ?）） 東京都中野区本町 ベツコミ クラッシャー・ブラックウェル 伷 fc2 古手梨花 桃太郎侍 京都大学霊長類研究所 大正野球娘。 99打点 ダイワ精工 ポドラシェ ザ・タウン 波津 梟の城 賢政 又野 歴史秘話ヒストリア あかね色に染まる坂 波上 篠原千絵 梅南 流水大賞 マップス イソップ物語 Nikita Mahal Raj 0807 帰去来 ルーカス・ドロウヒー コソボ議会 イブラヒム・ルゴヴァ 本気! アリス・イン・ワンダーランド フェルディナント・アルブレヒト エリーザベト・クリスティーネ 51打点 マイク・ナポリ 蘇える金狼 58654 ノーフォーク・タイズ 病は気から 静岡県立韮山高等学校 ろくしょう （,、 フェデラテン 91打点 123位 家政婦のミタ アンリーシュド 錦野 桜井徳太郎 Feb maps aim コネチカット州議会 閃乱カグラ バイオハザード4 りとる みにくいアヒルの子 アンソニー・ムンディン FCアーラウ Clint モン・サン＝ミシェル 曾我蕭白 155k カサノバ 起爆薬 FC鈴鹿ランポーレ ザ・ベリー・ベスト mathbf mathrm エチレンジアミン四酢酸 マハーサーラカーム おトラさん 久慶 ブラックナイト 高木八尺 仮面ライダーエグゼイド トリッパー 石井克人 4009 observation エージェント・オブ・シールド ミュスカデ マン・オブ・スティール クレイマー、クレイマー 河池市 Aleksandar ゆめゆめ ユリス 輝弥 ザ・エージェント 北爪 あららぎ 結婚できない男 サッカー女子日本代表 ざきしょうがっこう 通りぬけフープ ききいっぱつ 1417 讀賣テレビ dxe ジフェニル シシリアン 栗塚旭 43.6% 台中インターコンチネンタル野球場 マルセラ 湊かなえ 裕幸 1166 熊沢川 黒沢年男 剃刀の刃 光利 ニョロ 京急ストア NHK福島放送局 Simpsons Reuben Thieves Irma 富樫直美 佐川印刷京都 Recall 特例民法法人 7.5kg シアーシャ・ローナン KJ法 FCヴィクトリア・プルゼニ 島津綱貴 井伊直中 スーパーロボット大戦ORIGINAL GENERATION ルーベン・ジェームズ 42件 しんこく ゅのうかいぎ Cousins プファルツ＝ズルツバッハ McCulloch ザ・リング 藪下めぐみ 2280 )^{ 菊一文字 飯森 1318 大文字焼き 米華 クーティ ロシア国内軍 MY STORY 色素性乾皮症 DIVE II entertainment ごぎ ガス冷却炉 コールダーホール CHIHIRO QIX スホイ ウズベキスタンのサッカー キャピトル・ヒル Favorites ラブ・アクチュアリー 芝不器男俳句新人賞 車椅子バスケットボール 光泉 春畑 道哉 九一式十糎榴弾砲 冒険遊び場 4850 サリーナ 東所沢 ループス RABDe はなち tacica 下山田 好夫 Missing Link 頼茂 羽黒町 イパチンガ TsD ベーブラ ブライテンバッハ WMAF 種田梨沙 ザンベジ 京都府京都市南区 建昌県 Michał レミュザ 95打点 133km 孝仁 第五位 のび太と緑の巨人伝 新・のび太と鉄人兵団 ドラえもん のび太の日本誕生 サンディエゴ・コミコン 東芝機械 冀中 ホーソン・レスリー Kiel 州司令部 エルディング 京都薬科大学 ブラザーズ&シスターズ île チクタク 阿里山郷 エアーコンバット 大久保薫 Vandenberg 父君 東海大仰星 日本現代詩歌文学館 イトゥアーノ キャラぱふぇ エジプト・プレミアリーグ スタディオ・ジュゼッペ・メアッツァ ウーヴェ・ボル スクリップス Satoh 日本チェーンストア協会 ザフィ 東京都豊島区目白 ライトウェイト カタン ハバナ州 労働者教育協会 ろうざん 福岡2区 光速エスパー 松尾芸能賞 白糸台 しゅかい トーロ 岡山村 ぎた 環太平洋柔道選手権大会 時清 LARME トレーポレモス かたおもい ワーロック イルデフォンソ モロト 身の回り品 忠恵 特別背任罪 スタア誕生 丸紅株式会社 狂人日記 富士短期大学 焼尻 天売 面高 東之 しゅごキャラエッグ! 620円 商工中金 チラン インペラ 花へんろ スーパーロボット大戦OG ORIGINAL GENERATIONS 第4次スーパーロボット大戦 ぬらりひょんの孫 Hussain REVIVAL ラナオ ケーシー・デラクア 静岡県志太 BLOOD+ セブンスヘブン 10号誕生!仮面ライダー全員集合!! 第98話 1496 イェータ 国際協力局 こんぴらさん 日本大学櫻丘高等学校 フューチュリティ 文七元結 H12 ウナス アムル・イブン・アル＝アース Mahmoud Republika エーデルワイス賞 EF55 花の冠 銭ゲバ ひろひと ネステロフ 岡山県警察部 アノルトシス・ファマグスタ 台湾式 姫川玲子シリーズ 若者の車離れ フィズ 宗像サニックスブルース ルチオ・フルチ Zoological 逆転検事 ドラ焼き 韓国産業銀行 origami リゾ 福岡サニックスブルース 細川村 1559 高城亜樹 マーガレット・テューダー 吉岡村 世宗路 新潮社文学賞 最有効使用 おんたま 高取村 0843 上宮太子 スタッフ・アップ ミッテル 国民年金基金 徐栄 ピンク大賞 ブラインドサッカー (〜 Salvia サンアントニオ・ミッションズ 捻じれ ねぞう 35打点 Pembroke 三菱電機グループ ホア Sergeyevich アースフレンズ東京Z 寝業師 モルガン・スタンレー証券 井上富雄 本当にあった笑える話 早春賦 第3次スーパーロボット大戦α 終焉の銀河へ シャンピオン フォナック 玉ネギ 天つ神 元藤 ヒトツバタゴ Arabidopsis dam 青木雄二 クインテッセンス ウィルズデン・ジャンクション 戸塚村 ロバートソン郡 9015 アントニオ・シウバ desert 十年式手榴弾 佐倉中学校 Naomi 7601 サーヴェロ・テストチーム 文京区湯島 長崎税関 キュウ Velasquez 死亡広告 在独 セルシス イバン カズキヨネ 蔵書票 帰家 ランシング・ラグナッツ 3330 明和の大火 秋色 pratique 谷藤 東燃ゼネラル石油 汐見橋 フラーム 北海道庁警察部 新郷市 孝感市 ビエルソ 樛 ユーキ 栄久 雷句誠 金色のガッシュ!! 長崎国際大学 良導体 106kg O20 愛知5区 日本大衆党 智恵子抄 サヴ 生命保険協会 ゃだんほうじん マートルビーチ・ペリカンズ 千葉県立銚子商業高等学校 152回 オロミア おふでさき paix 風の国 aryl カザーレ・モンフェッラート 真瀬 インデペンディエンテ・メデジン 国島 貞良 萱生 リボ Giorgi 先駆舎 チアゴ・アウベス ドジっ娘 マニサスポル テオドール・ヘルツル 4530 メンタン 種子田健 ザルヴァトール いずみ野 げんしけん 福祉タクシー FUTSAL地域チャンピオンズリーグ リリイ・シュシュのすべて 魔法少女リリカルなのはシリーズ =（ メディコ ウィルチェアーラグビー Andrey 阜新市 チェー インソムニア 大場つぐみ ボーイズバラエティ協会 二十三 岳史 3355 PICCOLO TOWN 尖山 霞ヶ丘 ウミ ワシャクトゥン Muḥammad ヒーウマー レフ・ポズナン 近代映画社 音無小鳥 876プロ 萩原雪歩 もやもや病 中切 北京地下鉄15号線 順義区 Fiona TETSUYA KOMURO 蔵敷 タクシラ ジュリアン・ベネトー 佐藤幸治 レンセラー 少年ビッグコミック 静安 どのみち ジャクソンビル・サンズ ミリセント honneur グレートレイクス・ルーンズ チャタヌーガ・ルックアウツ 焼け死ぬ 亠 Moraes ロビー・ローラー カーロス・コンディット 南が丘 蒲郡競艇場 ロシアの女性 こう称 ベラルーシ・プレミアリーグ 430904 土佐丸 1568 シアトル・ストーム テルノーピリ州 うしおととら よしもとクリエイティブエージェンシー 北海道岩見沢 137回 ジャン・ルーシュ 日本橋兜町 ペルチェ 大阪銀行 オーエル 彦五瀬命 こくりゅう 風炉 リノ・エーシズ シャーロット・クーパー こいのうた BE・LOVE 3900人 ヒュンドラの歌 エクスカバータ 尺には尺を アテネのタイモン アイシン・エィ・ダブリュ ウィングス ビル・タルバート グルヴェイグ 江畑 未収金 新宇宙戦艦ヤマト lg ヘビクビガメ サンジェルヴェ 小林政広 大阪府立生野高等学校 真智子 嘆きの天使 経済の奇跡 バリー・リンドン 暗闇でドッキリ 当たり屋 マーライオン カスタムロボ バッカーノ! 635m TVおじゃマンボウ オモニア・ニコシア ダニエル・ジョーンズ Truly 阿部俊雄 原顕三郎 秋山輝男 大杉守一 トラロック シャルル・ボワイエ ジュール・ロマン symphony いがくぶ Kurz 信宗 コーパス言語学 ヒッコリー・クロウダッズ 1068 ANIMAL プエブラ・パロッツ ティクリーティー Matsui ハエドクソウ 我那覇響 沼倉愛美 日清製粉グループ本社 和央ようか 3608 3310 Abner サフル大陸 ブランディッシュ 吉川潔 小倉日記 寅治郎 輟耕 若森 アルコル 高松第一高等学校 あなたに夢中 ストレートアームバー カバチタレ! さしあげ 岩明 根知 依佐美村 ドリン 四国のみずべ八十八カ所 65打点 マルドゥック・スクランブル 穴吹町 コグスワース リアルティ グンツェンハウゼン シュタイナハ タンバリンアーティスツ うなづき 背子 Александр ミハイル・ニコラエヴィチ Asterisk メアリー・セレスト 官僚たちの夏 札幌市役所 マルコフ性 クロアタン 四酸化三鉄 夢占い 満寿 Dorian 康秀 鬥 影牢 真章 玄人受け 高橋伊望 アドバンテッジパートナーズ アエトリア ゅうろう サンポーニャ ルイーズ・ド・サヴォワ NICOSカード ティーラ オセット語 研究公正局 星くず兄弟の伝説 Departed to the future 放映新社 フラマトム Broughton モンソー オーキット ライオス ：+ 自然写真 NHN PlayArt バタシー発電所 ファイブ☆エイト 沙村広明 Diggy-MO\\' 奈半利駅 スワデーシー Pieve Retrieved Villanova 熊本県熊本市西区 虎鉄 銭形雷 君よ憤怒の河を渉れ 瑞光院 タルサ・ドリラーズ 白山坊 第70話 ブリーフ&トランクス 女ねずみ小僧 アレクサンダー・ウスティノフ destination 武徳編年集成 からき Playground 新耳袋 ファンタジーゾーン 200センチ 赤ちょうちん 86打点 越前屋 WINDS OF GOD イバラモ サブロウ ナド・アルシバ競馬場 エクセルヒューマンエイジェンシー 事解男命 瑞芳区 アルファヴィル 位相共役 前原町 不能犯 日本名輪会 ヴォルスンガ・サガ BOYS BE… ニューオーリンズ・ゼファーズ 最終兵器彼女 ニガキ 澹泊 2124 ジョン・チャールズ 取り纏める 橘家圓太郎 商法会議所 Élisabeth Juneau ウルトラストリートファイターIV ウルIV コミックトム 短編アニメ賞 酢酸銅 円貨 柊かがみ さきよ 松沢呉一 川村栄二 ビューティフル・マインド 恋する女たち ライフ・オブ・ブライアン から騒ぎ フィフス・エレメント 1709 エンバンクメント駅 白雪劇場 国上 シュリンクラップ契約 放逸 ゴールデンナイター 3507 Hampshire 逆転イッパツマン 57巻 パンタグリュエル スパンブリー 架空の武器 4301 Seahorse Spadefish 230cm コルン 久直 プレコミックブンブン どうた ノヴェー・ザームキ 稚児の剣法 堀江敏幸 太良町 SUEMITSU & THE SUEMITH ザラエゲルセグ スーパーマリオ64DS ピクミン2 資本集約 札幌北 コナミレーベル 福寿町 恋する日曜日 健康心理学 ولاية 1974年製 ルッザーラ カリムノス カラミアン 雲霧仁左衛門 Asarum アシーナ 107打点 5016 きんとん 崇左市 ホワイトサイド ノキア・ジャパン サンオーイ マラウイ共和国 ドラゴン危機一発 Seadragon キンキ 詐欺被害 真藤 к 476人 元もと 崇徳高等学校 オオカミウオ フェルディナント・マリア )、『』( ナクラ サハデーヴァ 蒋欽 モーニングコール 函館基地隊 伊藤整文学賞 163年 Lookin α外伝 テネシー・スモーキーズ ピオリア・チーフス 日本公園緑地協会 フィリピンパブ 阿南準郎 浄心寺 5320 くらお \")/\" 映美くらら 大阪女子 オリゾンティ アリスティッポス ヨトゥン 野老 マット・ブラウン discipline ヴァイルティンゲン アリシア・モリク 土星人 ニキビダニ ダントー 強制結婚 モバMAN シグニュー YOURS アリス九號. 二ノ宮知子 腰浜 ケイエムシネマ企画 ネイムマネジメント 小夢 午後の曳航 服部公太 隠し持ち Sturgeon ダイヤモンド・アイ 幻想水滸伝シリーズ アレクサンドロヴナ ベネズエラ・ボリバル共和国 ウォークラフト 盪寇 テイア 0599 よこはま・たそがれ 奥富 Flasher 6004 3420 3410 或る列車 バレーボールロシア男子代表 金天 江水 ガシャ クライ・ベイビー ニューヨーク州立大学オールバニ校 烈風伝 Romulus 怠ける アンシュ 長くつ下のピッピ 銀ちゃん ガンダム・インレ マルコム in the Middle 冨樫義博 熱いトタン屋根の猫 地上より永遠に COH ますた ジャンプSQ カルタヘナ法 菊池正士 這いずり 然しながら パラシューツ Y・M・O 能登かがり火 ダイナスター プッカ ミハイール Andromeda 宗尹 77打点 モーモールルギャバン トネリ 杉並町 お笑いマンガ道場 桜木花道 エレクション 吐含 4560 科捜研の女 バンドーラ 原始家族フリントストーン 竹尾 香川清登 ケロット ロバート・Z・レナード 東海遊侠伝 モーターホーム あかだ ロックマンXシリーズ 横浜市歌 チュムポーン県 75打点 デニス・エカーズリー ドアン フォーマ・ピー サボー Kumar 備北交通 ラ・アラウカニア imp Kokusai 秦日綱 281年 \")=\" 131度 地域科学部 経基王 板垣氏 バートランド ドルシッラ ウルト 浦和高等学校 福岡県議会 ハリス島 岡嶋 4010 4030 4510 ウガリト 日本ミステリー文学大賞新人賞 すべてがFになる スカーレットブーケ nouveau Carangoides 44打点 MOTHER2 ギーグの逆襲 MOTHERシリーズ デニング 伊集 ライド・オン 学校法人白百合学園 ラウザー ヴェルノン プリティ・ウーマン 香川ファイブアローズ 第14回NHK紅白歌合戦 キハ181 スウプスク マリア観音 とばく 兄弟仁義 飛蚊症 2440 ジンキ 七ヶ宿 二人の貴公子 金銀糸 宗興 クリスチャン・ミハレス フェリックス・シュトルム ミッケル・ケスラー シャノン・ブリッグス カール・フランプトン フランク・ウォーレン スコット・クィッグ 互恵的利他主義 武邑 リッチモンド・フライングスクウォーレルズ ピチュー 清瀬保二 ツーソン・サイドワインダーズ 0106 スリーエム コミックガンマ 新鹿駅 レピュブリック クラッシャージョウ Refuge イルスホーフェン 山形県立米沢興譲館高等学校 佐藤勉 亜衣子 ラズ語 カルトヴェリ 745m 東淀川 三井不動産株式会社 シナイ写本 土山町 ジ・アニメ 虹の女神 武威市 Equilibrium YAMATO2520 シティ・オブ・ゴッド 藤原公季 戦時刑事特別法 ベサ 北海道深川市 象皮病 979人 エリミネート 長旗 糸賀 すずえ アラウージョ 石西礁湖 みなみけ 蘭学事始 上菅谷駅 セントラル・セント・マーチンズ 泥の河 エア・ウォーター タヤ ヨルズ 積層電池 胸の谷間にうもれ隊 ティルヴァンナーマライ サットヴァ ペトロニウス 椋鳥 動物園前 名探偵モンク ドーマー Kiss PLUS 武里 マイリンゲン リドン 家政学研究科 厚き 黒崎播磨 ニュースタッフプロダクション 大乱闘スマッシュブラザーズ ラファイエット・マクローズ Farnese 猫町 ウェディングピーチ 愛天使伝説ウェディングピーチ 茨島 ワクフバンク マニトウ ビッセル 稲田浩司 ルヴァロワ＝ペレ 改メ Pp セントラル子供劇団 監禁罪 中武 ショウ・ザマ 光州広域市都市鉄道公社1号線 ひろう ハッシュパピー マキナック 2423 新逗子 カタンドゥアネス 240k ジョー・スティーブンソン 妖星ゴラス 飯田覚士 ニプマク ニューイングランド大学 びとたち ロスシー 酒井澄夫 ダーナヴァ BLOGOS 上尾町 ··· シヴ サハ101 演奏記号 森岳 3220 モハ210 & LOVE 2333 直志 銃夢 暁の女神 くるしま 9820 Barbier ブラチスラバ ferro Garner 篠尾 リカーブ 市岡中学校 スコット・スミス フラッシュポイント Mak 東方朔 106位 特定毒物 小松清 蔡卞 未知谷 盛りあがる デチェン 785m 1597 28週 二光 坂本博之 新庄直頼 講談社コミックプラス チャイドル ショウジョウコウカンチョウ ショートトン ろうけつ染め STRIPS 譚海 Researches 8402 acquired 老人と海 理研コンツェルン ローディ県 ダニーデン・ブルージェイズ シャクジョウソウ ファンタスマゴリア インファナル・アフェア 邛崍 小倉進平 91勝 1989年製 3630 民族派学生組織 憂国忌 佐賀北 コーサ 大阪府立夕陽丘高等学校 キャッチ・ミー・イフ・ユー・キャン }{( MBSニュース ブリクサ ファインディング・ニモ カルタニッセッタ コミックマスター 飯島魁 エンナ 徳島地方裁判所 ファイヤーボール フィールドノート ビジャ・クララ リヒテンラーデ アクリル繊維 言葉の力 フィンガーシフト 増岡組 鉄鋼ビルディング アイツヴォル プカンバル 徳州市 サマル むかわ 上諏訪町 2686 ぼくの伯父さん Kogyo 立美 穴内川 モノノ怪 セント・メアリーズ Hitomi ：? 冀軍 ビッグコミック増刊号 押原 流星人間ゾーン 87分署シリーズ 仁淀 京成小岩駅 カシノ Frazier Corynebacterium トワイライトプリンセス なよたけ 夏の花 Gino まもって守護月天! 渚滑線 ウツ 星界の戦旗 ブラック・ハウス 漫画ブリッコ 香川県立丸亀高等学校 Cocohana サムットソンクラーム 楊度 Norbert おさがり 支援車 ブライアン・クランストン 麴義 大変さ 雲長 destruction フィジカル・グラフィティ パチャカマック 小袋谷 旭電化工業 道すじ 1382 ラグランジェ 模型戦士ガンプラビルダーズ ビギニングG 武四郎 安順 みんなの甲子園 那覇地方裁判所 山鳩 キム・ドンヒョン たねいち 浜川 大江村 鳴門駅 溝端淳平 ジェイムズ・テイト・ブラック ノイズ・レコード 茨城県立下妻第一高等学校 高口 カール・クラウス ブラッド・スポーツ Drury 劉興居 室町家 ニューヨーク市立大学ハンター校 ふしぎの国のアリス いちご姫 ヌマガメ 八八式七糎野戦高射砲 妻夫木 アワッシュ CEPT LMG ビジネスプロデューサー Jayne FIPRESCI デスマーチ ドゥラッツォ 285m 小見川藩 弘中邦佳 瑞恵 7月4日に生まれて グリフィス・スタジアム 他動 巡回符号 \\'; 0500 緑のたぬき 中鉢 ポール・バーホーベン polymerase ニカド電池 カエデチョウ 岡川 SUP książę 国民生活金融公庫 ホテルオークラ東京 ガリンペイロ ガヴァナー デイトン・ドラゴンズ ケイト・ベッキンセイル スモルツ トルケスタン 複素ベクトル束 立替え 笹沢左保 企業ブランディング 雀部 ジェミナイ Lindsey ニータ 5850 48打点 三国伝 kiwi ERI Niger ジャック・ドワイヨン シャープ株式会社 テケテケ 夢幻戦士ヴァリス 7009 ミンデロ Courses Helloween 四国別格二十霊場 栄山 HNO STRANGE 戸町 突間 環式有機化合物 3054 チャームキッズ 102打点 泡坂妻夫 MIF トルビアック C2C 京都成章 正智深谷 金沢村 かね丸 Songbird ホーチャンク 大鶴義丹 カリュプソー ロジ モービル・ベイベアーズ ブライアン・ビロリア フェルナンド・モンティエル lu レーベンブロイ パイロットフィッシュ 逗葉 ゴジラ対ヘドラ 花と蛇 念仏の鉄 世界忍者戦ジライヤ 美少女仮面ポワトリン きぬこ )\", スイス・カップ ほんいんぼう 凛花 トゥルチャ ダブリューイーエー・ジャパン マラウイ人 もみじ台 ブレニー オリンピア・アスンシオン フェイスレス 北村想 ∖ 3059 2614 マキバオー シガーライター ディーター・フォン・レーダー ：－ ターチャーン カルーサ アルバニア人民共和国 計測工学 おねがい☆ティーチャー Free! 大森東 Marseille 陽暉楼 ラ・スペツィア県 和史 ニガウリ 首都圏整備委員会 きけ わだつみのこえ 15線 紅世の王 悠二 5014 ナカドーチェス 3Dプリント 巫山 桃尻娘 吉田鉄郎 Erzherzogin 昇州 のろく 2740 クルロタルシ 水成 エイチ・ツー・オー Welles 横浜エフエム放送 下反 端田 創元推理短編賞 エスクイリヌス 書剣恩仇録 キャシャーン 新南部 ガルナッチャ エヴァーグリーン オコゼ 116度 ジェームスサリバン 野中郁次郎 高谷裕之 イジリー岡田 歴史時代作家クラブ れんり Bent ピッカピカ サンタンデール県 Katarzyna Kondo 治療指数 ろうさい 5106 ターナー・フィールド intention 物集女 しんきろう 錆止め 戦国無双2 トレビア カレドニアン・スリーパー マリオン・コティヤール WITH LINE こどもの国駅 ソール・ベロー 撲殺天使ドクロちゃん 西八幡 それでも夜は明ける affinis コンバットマーチ シャーリィ タタバーニャ ヴォン・ヴィレブランド アイオー オミクロン 青海町 切創 鏡城 カオサイ・ギャラクシー JADGE みっかい 急映フライヤーズ 小西貴雄 上条上杉家 2704 2444 踊る大紐育 みなみらんぼう 青森県議会議員 ぎんいろ スターダストクルセイダース 城卓矢 換算質量 大町町 幸畑 ゾンダ ノルトマルク アイシンシーホース 南古谷 プワヴィ ファイナー 和菓子のアン 別府アルゲリッチ音楽祭 3921 Gao 宮松 カルロッタ・ジョアキナ ヤリード 324m 1616 マニエマ エドガル・ソーサ 横手中学校 ランパ \"\\u2009 オーシャン・カラー・シーン マカベオ ステパネク 鏡明 鎮西高校 1959年生まれ 鹿の湯 離散付値環 田手 てんてん カベゾン 2709 生徒会役員共 和納 中国電力株式会社 Sublime ハル・ハートリー コールド・リーディング バトルドッジボール 看護研究 マンネングサ 国道346号 ラビタ・バクー プリンシパル・インベストメンツ ホルモゴルイ JMO 新垣諭 多摩芸術学園 児玉・後藤政治 アエギディウス EF200 副市町村長 Deep Love 大阪府堺市北区 奈良文化女子短期大学 千々 クズロルダ Trapp MAH スマイルズ PKNS アシャッフ トゥブ Rival ほも クリフサイド ファースト・トレイラー ∑ センター・オブ・ジ・アース デビー・レイノルズ FLS リネ 電波教師 チェルヴェン オーバリン 学校医 SAFFC トップ・オブ・ザ・ワールド 1.3cm ジャドソン・キルパトリック 名門大洋フェリー アンティオキア県 国防委員会委員長 ルヴァン 阿波堀川 アミティエSC FRINGE/フリンジ 中方 5778 説苑 カールトン・カレッジ メタルルグ 秋田市立体育館 ベラト ヤコウガイ マセナ 第25戦 ヨーロッパカデ 羽根田 大阪朝鮮 ピンクスパイダーズ キプロス・ファーストディビジョン PFK ロンバルディアトロフィー ボルフ・ジノン 共同保育所 サルセド ラージェーンドラ 八十一 ジャック・ソック 2271 海軍将官会議 2241 展転社 カナポリス・インティミデイターズ 石田昌也 ストロムネス 厚生労働省設置法 義弥 ギルデンスターン 広州富力 テリー・ノリス ホウガン・ユナイテッド 9050 いずこねこ Chine 君の瞳に恋してる 285km africana ランチョクカモンガ・クエークス 誠信書房 サントゥルツィ サムス・アラン カーマーゼン キッズルーム シャーロット市 GAMESS ドクロクシー 女囚さそりシリーズ Illustrations 消費CAPM イースタン・パーク まつゆき 卭 ダイセル化学工業 428m 8709 セコムラガッツ グータン 志位 孝感 Eluard 0842 こがね丸 大阪高知特急フェリー メロキュア PhysX マンハント メリダとおそろしの森 黄色いリボン ソコアゲ 法印大五郎 シュトヘル レニ・レナペ オーバー＝メルレン レバディア・タリン レイクカウンティ・キャプテンズ カロライナ・マドキャッツ オメでたい頭でなにより 石床 福井口駅 マサカ 3161 Kの昇天 井伊家伝記 きいやま商店 ウスク Ogawa 裵 戸次氏 ネウケン州 佐藤誠 プロスチェヨフ BKA リヴァ・トリゴソ 原爆供養塔 メルカド ヴィース 瑞穂通 ダイヤモンドフェリー 日本高速フェリー ジャンプSQ.19 中部スラウェシ州 the oc サランボー キオン 霞山 宮下町 タイムレス 星雲仮面マシンマン 日はまた昇る アリストマコス くノ一忍法帖 東京都渋谷区笹塚 エッジコム 0299 Sykes 隆秀 陰謀家 リチャード・イーウェル 2382 東京バンドワゴン 日建 52.4% アニュラ RCAF ハイライナー A.L.C. George Harrison Discoveries タカサゴ aspartate alanine リヤード ミツバウツギ コーク伯爵 ジェームス・マクドネル アンソニー・ジョシュア 本郷小学校 エヴフロシニヤ サルキシャン えびら こたえてちょーだい! 局所凸位相ベクトル空間 アフィン写像 コチェイン スウェンソン PH1 フォーカルプレーン ラグラジアン 伊勢野 ⑨ しまじろうのわお! ウォルフ・ライエ FVL 橘いずみ リアウ諸島州 シー・ビーチ clef フルーム はなまるカフェ ネオンテトラ バンドワゴン 535m KNOCK OUT MONKEY 山形県立鶴岡南高等学校 ザイヌル・アービディーン ザ・ボルケーノ タイカレー Shāh 浜田山 シャワートイレ 20世紀フォックス・ホーム・エンターテイメント・ジャパン Love Collection グランヴィル・ルーソン＝ゴア オクタ エン酸 コスタノ ホレイショ・ライト マルホランド・ドライブ 国内留学 ウォラストン メトディウス 海都 7950 尾鷲駅 セントヘレナ・アセンションおよびトリスタンダクーニャ テレビくまもと 興文 大血川 デボンポート トマス・オブ・ウッドストック フェラーリス 大谷駅 まんがタイムきららミラク 月下美人 あんみつ姫 宮崎港 形部 東京魔人學園伝奇 マウントレーニアホール 義邦 黒木華 アザンデ 先天盲 日本民謡協会 日本赤十字看護大学 犯人隠避 趙良弼 イバイエデル 修復的司法 イバイサバル ムンギア 特定個人情報保護評価 兗青 ブレマー 荒野より 清水港線 若大将のゆうゆう散歩 新山千春 ババリアンオープン 315km 恩施 ナマイキ part1 ペトロルル・プロイェシュティ 忻都 志賀勝 宜野湾市長 タンコ エフィンガム エデ Shogo アイススター デンコヴァ・スタビスキー バルヒフェルト 冬の狂風 ダファリン ジャン・ペラン Luxemburg 川上氏 口羽 the house オリオール・パーク・アット・カムデン・ヤーズ バボ 西田優香 尻別 ムース・モロウスキー ナムゲル 宇津保 Automobiles にんしん オプ・アート 中澤祥次郎 Wilfried サッスーン シニャンガ ロシアカップ パルナス 日本広告写真家協会 東京海上ホールディングス スカーズデール ONGC ハイファイブ ラノーン Len アタラ 希望的リフレイン 古賀春江 ケミ川 アルフレッド・プレソントン 喧嘩祭り Franciscus Raceway 後藤正文 TRASH-UP!! キルッコヌンミ 仙台市立病院 分離不安障害 ヤクドゥ Theologie 宇宙戦艦ヤマト2202 愛の戦士たち ラージョ・バジェカーノ 137度 鏡城郡 マリー・ド・メディシスの生涯 ヴァンタドゥール CONFUSION クーヨー 四十八体仏 荷葉 七星剣 Imre PXC ラジシャヒ ロンブロン カラモジャ カセセ 四月は君の嘘 金星堂 シオデ フェアリージャパン われら生きるもの 立花屋 ラフィー・ウッダラジャート カンファレンス・ノース ラージプーターナー 42センチ 長長 Authors 女による女のためのR-18文学賞 フィラハ チジック・ハウス 法宝 ユーリエフ オーガスタ・グリーンジャケッツ 0499 少年ジャンプNEXT!! ウィリアム・ジョーンズカップ 上総牛久駅 ワーマス コエ PBT 平野村 ルンダ 学校博物館 光尚 けんぺい コルガス チャールズ・フィッツロイ 掖市 2510 青の祓魔師 中原理恵 the band LabVIEW ケル・ブルック 杭州緑城足球倶楽部 ヘルナンド 性交体位 アメリカン・スナイパー 腐男子 ESRO 稲田村 プライマリ・ケア キジムシロ 57日 オラキオ リュウグウ エルジー Hydrogen 南コルドファン 沈黙の艦隊 両側加群 ペリカンズ クレーヴの奥方 RBライプツィヒ 韜光養晦 ゴンド 西春町 伊弉諾 チャナッカレ アーザーデガーン・リーグ 張寔 アン・ネヴィル 終物語 八熊 グリーンツダボクシングクラブ オデ テソ 広島ライトニング 対話路線 avex globe モダン・ファミリー 1276 KENWOOD あめふり イェヴレ ソモフ 1429 奥瀬 沛王 ザ・ユニバース アズベリー リアルワールド まつ毛エクステンション ノルトエルビエン タカタ ニーム・オリンピック カガヤン・バレー FCノアシェラン Cuisine NOSS 神様のカルテ ナヴァル Mr.King vs Mr.Prince 桃園書房 マジェスティックプリンス ボウツ 能登路 ジャパンディスプレイ シヴァガンガイ 靫負 マラディ Naumann ジャンビ :+ METAFIVE 3544 ウェス・クレイヴン カッサラ コール・ハメルズ 新水俣駅 Miura Pogo ランドールズ バハル・アル・ガザール地方 吳 SHIROBAKO 京王多摩センター ヒルトンヘッドアイランド 白鳥麗子でございます! ナイト ミュージアム 北嶋秀朗 尚希 レイハ 犨 ヴェルニエ Jaroslav 賀島 最終絶叫計画 サクライソウ Aff ダクスベリー 一海 =+ パコルス 小さな恋のメロディ 「会いたかった」公演 クールラント・ポケット Blackwell Zeta チェスケー・ブヂェヨヴィツェ 河辺村 日本遺伝学会 ])、 アルチ・ノヤン ピフ 大分空港道路 桑野川 ジェイミー・モイヤー 輝水鉛鉱 ホルムデール ビクトリアーノ・ウエルタ 青森1区 ドバイ・ワールド 兵庫5区 招商銀行 吉行エイスケ 中央県 クワラ ネートチカ レメク SysRq 重樹 Niki クラスレート 三菱UFJリサーチ&コンサルティング 夢から醒めた夢 グランパパプロダクション 太陽の法 ららぽーと新三郷 アールスト ラグラッツ オンド Chaim IESE Holloway べっぴんさん BASEBALL L!VE 井伊直盛 サルバン 8550 ヴァレ マラヴァーン ギリジャー・プラサード・コイララ カルドア DJ.taiki フレッド・ニブロ 動形容詞 産業資源 2711 5009 細尾 応用地質 宣教学 シャックリ キース・サーマン ドラゴンライダー ネットランナー カリーラとディムナ 特別敏感海域 タリク ガウス・ボネ 姫ちゃん ゴルダ Released 鷹司政煕 538m 半電池 アリストテレス全集 ハドレー 橋田賞 ソラリアターミナルビル cinerea aes 快楽天 COMIC快楽天 ニュースタッフエージェンシー BIOGRAPHY ハンツィ 大深 ダースチョーク パンチブラザーズ 牟平 ニッケル・クリーク Pedersen ノーメ・カリュ さんてつ 2817 東日本トップクラブリーグ プルデンシャル生命 えのき氷 日本不動産銀行 維新政友会 ノトテニア 似非科学 スパンエアー デニーズジャパン クローバ 百鳥 コスタナイ ランボオ 梶原龍児 Rutherford S-310 明花 ロバート・マートン エチェバリア ブルックフィールド 北海道教職員組合 楠根 仁田尾 チャッティースガル 古田足日 パッシブ運用 Hiroyuki しろばんば バンバリー 航空計器 本欄 g8 単純加群 23代目 evergreen ノヴァウニオン 横戸 クラドノ スタンボ ナンキョクブナ 千田氏 胤綱 バセイン条約 仲野親王 デポック フランツ・フォン・エップ 法思想史 林由美香 ペチョラ クリャージマ 本然 ウニヴェルシタテア・クルジュ TECI 嗅ぎタバコ ド・ラ・ポール 嘉川 高木敏雄 大阪府立泉陽高等学校 ジーベル 軍浦市 apg 空弁 ソンタム Savigny 7021 筑波大学蹴球部 イシク・クル 羅憲 藤山コンツェルン ドロゴブージ かんざきひろ ara ケビン・アンダーソン アミドヒドロラーゼ ワーサル ワイル代数 ヒルベルト多項式 メビウス関数 ラディーノ クロロプレン 信江 Cullen Schiller ルンブルク サイコメトリー ヨハネの手紙三 ヨハネの手紙二 ヨロイザメ 風野 原子力飛行機 クラブ・レオン ドゥプニツァ サラブリー ザルビンツィ ユタ・スターズ worked イスラボニータ 五省 ヒレントルプ ステファニー・メイヤー トレイナー ルピ カモテス デュルヴィル Bon Voyage ダフラク 5204 夜叉丸 ホスホヒドロラーゼ bisphosphate ミオイノシトール 高知県立高知追手前高等学校 meldac 天心区 ほんやら洞 共終数 Milnor プライマーゼ 離散集合 エリュシクトーン アルバネーゼ Sent 中野雄太 マイクロボット ロシアの選択 ジョルジュ・ダンダン ラ・コンチャ 下御霊神社 スベリン Cagayan ベラヤ 怪談新耳袋 ダブル・ファンタジー ウィナルダ nigricans ツルレイシ aldolase アルデヒドリアーゼ Parents チリッチ レプティリアン 夏石番矢 燕州 岡嶋二人 なまけもの コルィマ アンティポン 2234 成瀬台 ボルゴ・ヴァルスガーナ エルネスト・バルベルデ ルイ・ド・フュネスのサントロペシリーズ アラキ 技術と人間 アトルボロ ヤクシニー gluconate dehydro グエン・カオ・キ ティルヴァッルール プラッシー 戸外制作 ルーイン ボォス 天籟寺 21200 ヴェセリー パイア 田宮良子 ウーンソケット フランツ・シーゲル コナニカット 兼高 バンダー 恩平区 梅ノ木 木村資生 溜池山王駅 Biron ニアサ ウィットソン 光善寺 ウェサガセット ほのぼの君 オキナ ベシア 国時 海馬島 薔薇刑 スルエタ アンフィトリオン マット・ライナート 柄沢 スパイダーズ 東京基督神学校 エウスカルドゥナ ドウダンツツジ アダムス・ファミリー Nagar カミギン マンドラゴラ ダウンジャケット バルマセダ 忍者部隊月光 二迫川 裴方 マーガディー マータレー コスモスクエア oxaloacetate ツバサ-RESERVoir CHRoNiCLE- スラヴォンスキ・ブロド 生物海洋学 MH4G 古龍種 4gamer 景直 岬にての物語 北長野駅 アクシオス ウィラドゥリ フェールデン ウルフガイ 孫壱 米川英之 多加 武俊 。, TZD オロロン マルプラケ プエブロ・マヒコ テトラクロリド 2341 勝時 快傑えみちゃんねる ブケディ ゲルゴウィア ニコラエ 口吉川 フェイリュア 2651 雑誌記事索引 北海道3区 \"ℓ(\" チェリーブロッサム アグラヴェイン Befco ビービースターズ ジズドラ ハビトゥス 市立名寄短期大学 上連雀 デザルボ Kuraki バリー・ジト コピエテルス NTTコム 万朶 チョイスル 栄和 essere アログリプチン パパのいうことを聞きなさい! 富吉駅 界磁チョッパ ネン TRIX 沖縄基地隊 racemase ムネエソ 福里 寒露 青柳信雄 こいずみまり コネクシン アシス グローバル・コミュニケーション イボ・カルロビッチ バスキーフィールド phosphorylating ルクラ ジャナクプル 宗伝 アポステリオリ 原平 ギンダラ 長老ヨハネ ビスケットエンターティメント サモトラキ 〇－ 昌益 硫酸鉛 ヴィルヘルム・ライヒ 輝盛 蜘蛛女 器楽的幻覚 シチナヴァ ライヒリング ゾーア 竜江省 ルヴヴェク スターリツァ kushitani dT ヴワディスワフ・オドニツ 聞天 Hendrick ヴェルタハ マング 北海道北見 hydroxysteroid エウレカセブン 古河銀行 AYUSE KOZUE Günter NIGHT HEAD オスク語 transhydrogenase 伊良湖試験場 カミングズ サクセサ ザカフカーズ 老上単于 きな子 丹治峯均筆記 第二種運転免許 西郷川 茂宗 マーメイドメロディー イチケリア 三奈 六姫 カルロヴォ 三遠ネオフェニックス タルー 84億円 東京電話 ニャンジャ リコマ Ḥasan ナキール アルドナ ショットランサー 浅い夢 Mプラス 国籍離脱 VHR hydroxyacyl インターネット依存症 ヴェムディング 日本通運グループ 野村将希 シデテス MorphOS オービー ソヨンボ 宙のまにまに リウーニティ テイルズ オブ ヴェスペリア ウエスト・ハイランド・ホワイト・テリア トロポミオシン ゼーガペイン メー 安定・成長協定 寺畑 やまぎん 長野智子 ネオガンダム 獣耳 御所ケ丘 乃木坂春香の秘密 mannitol マンジュラ 阿川毛利家 東条藩 モリツバメ 母子保健法 はまかいじ 廣田瑞人 石本沙織 あつみ温泉 関空快速・紀州路快速 相鉄ホールディングス Hirado 見明川 豆盧寧 池山直 ドルゴルーコフ Gunma 新・必殺仕置人 佐羅 関甲新学生野球連盟 坂元町 ネウケン ARBiH SuperS 時の扉 正精 Gackt.C ドーベルマン刑事 泣いてもいいですか CoM ベーラム 愛していると言ってくれ ポリング フトマニ ドイッチュ 桝井 フリースナー Wat Shěng パスカルの賭け Xfire 上田武司 臼杵駅 パッタルン県 新宿大ガード 咥利 酒鬼薔薇 西新田 東川口 アロガント 宇宙空母ブルーノア 柳時敏 サバラガムワ マクア イフメーネフ ウルトラマンノア 若手騎手限定競走 毘咄 東成田 アーサー・キル POWER6 ウィラポン・ナコンルアンプロモーション 電光超人グリッドマン Larus アンタル 江原会 夜も一生けんめい。 秋山瑞人 秀景 CSUN 東農大二 ヘキサクロリド 鉄人タイガーセブン QVCジャパン IREM DKA 国繁 ルガンダ 天満駅 花旗 長野県安曇野市豊科 宮久保 二川村 ハッスルエンターテインメント isocitrate 鎌倉書房 落花流水 佐味 絶体絶命でんぢゃらすじーさん 稙国 キミハ・ブレイク インタグリオー 安西ひろこ 標葉氏 梵天丸 しゅうさえこ RGS らしんばん 土田世紀 プレウローン 仁連木 スタリ・モスト Kotsu コピーキャット コロちゃん ゅうろくにち タカトシ牧場 鶏知 西初石 報ステ 重言 ゴナイーヴ 湖月 大隅線 （：, 内野駅 E129系 平端駅 特撮エース 臼井駅 デンキナマズ 瀬高駅 痛快!エブリデイ 世界征服者の歴史 川端健嗣 いわき湯本温泉 PIII おはようエクスプレス カタラウヌムの戦い スレッガー・ロウ 機動戦士ガンダム0079 吉岡氏 砂漠の惑星 14760 カルマン渦 ドラムロ Branta 寒河江駅 赤芝 七十門徒 ロスト・イン・トランスレーション かげろうお銀 メトロポリタンホテルズ ポワトリン Zbigniew ETカード STVホール じっかい ヴィセンテ 大前駅 星城 北海道エアシステム 那須資胤 ナハネフ 総士 リオ・グランデ・ド・スル 真田三代記 CLAMP学園探偵団 注連寺 油須原線 漆生 浦安鉄筋家族 こわれもの テロケファルス メリクリウス 鎌谷 無責任艦長タイラー 土塚理弘 マテリアル・パズル からす座 魔性の子 波川 花簪 15200 サトラレ 木次鉄道部 櫛ケ浜 カマキラス ガインゴブ ラジオ・スターの悲劇 岡倉大吉 神戸総合運動公園野球場 千種家 孫の手 海龍王寺 述異記 アビシャイ たかう 大阪シティドーム 豊後森 フェーマルン タージマハル・ホテル メーサリエン 目黒祐樹 言論出版妨害事件 強制的措置 Halcyon Costa Rica アイギアレイア イル・アルスラン 貫手 パネルでポン 新世紀エヴァンゲリオン2 日名子 佐藤藍子 コウライウグイス 全米プロバスケットボール協会 ベン・ベラ 猫目小僧 経済雑誌社 Pensacola 司馬朗 オカンパ 鹽 ガビチョウ アダド・ニラリ 坂元弥太郎 伏完 ハイデッカ ダイニン ドゥジャイル 皆川藩 四国運輸局 八点鐘 プロジェリア インボイスSEIBUドーム チャバカノ \"′, 珸瑤瑁 シュム 大井田 姑獲鳥 ヤーダブ オッゴ インレ 裸の大将放浪記 鳴門線 ツーショットダイヤル ヤンピース アナクサンドリデス シュトリゴン パイプフィッシュ 友山 星華 永和鎮 北西連邦管区 顔恵慶 ユーホーム ファン・フランシスコ・エストラーダ メタウルス グレヴェナ アラグアイア パクサス クーターガメ 法界坊 フランツ・カイザー テレウティアス スキアボーネ ツヴィステ レチクル座 白地図 アンティマコス ピタゴリオ ブレレン チャネルボンディング 桜井古墳 6003 フェー 朱富 豊かの海 セメナウィ・ケイバハリ キャサリン・スウィンフォード くちよ カヴァイヨン .hack//SIGN ヒッパルキア メルツェン 嶺東高速道路 対馬海峡西水道 バートベルゲン 北宮純 boldsymbol ヘルドニア 筒賀村 Rie fu トミネ ベネヴェントゥム 軟骨伝導 ヴァレンホルスト シュワルツシルト半径 岡造道 Discreet LuxRender ガーサー 益陽市 ノグリキ駅 セイエル チヘ エディルレイド 大門軍団 里見四郎左衛門 長沼村 CNPC stella ナイトスクープ 裴潜 アナール アナらじ ミマロパ シープシャンクス DnaB Tiberius 氏繁 クラフト＝エビング エネルギー管理士 宝幢寺 スーパーまつかぜ スーパーおき エッガーランド レトロ電車 ドンブラ 武田信武 トゥクルティ・ニヌルタ アッシュール・ニラリ ティルッチラーッパッリ カダルール ヴィリュップラム アッガ ラーマナータプラム トカゲモドキ ネサス シャミセンガイ 大更駅 宇野みなと線 おーはしるい ヲキ ドルカス サハ111 猫缶 Shenzhen 金おじいさん Canavese trek ファティック županija ドラッケン 古久喜 徳山地域鉄道部 せとうち地域鉄道部 みなみのかんむり座 パプワ Dearborn Geophys ウスバゼニゴケ アラマキー 石月 グラフ社 ドキハキ LMTO 志摩ようこ'"
            ],
            "application/vnd.google.colaboratory.intrinsic+json": {
              "type": "string"
            }
          },
          "metadata": {},
          "execution_count": 16
        }
      ]
    },
    {
      "cell_type": "markdown",
      "metadata": {
        "id": "d3ggj2nSfOoY"
      },
      "source": [
        "### サイズが最小のクラスタを調べる"
      ]
    },
    {
      "cell_type": "code",
      "metadata": {
        "id": "uviB0AC-YyxM",
        "colab": {
          "base_uri": "https://localhost:8080/",
          "height": 194
        },
        "outputId": "b48d55be-86d7-4783-b7e4-b280c760a59e"
      },
      "source": [
        "' '.join(words[labels == sorted_clusters[99]])"
      ],
      "execution_count": 17,
      "outputs": [
        {
          "output_type": "execute_result",
          "data": {
            "text/plain": [
              "'求めよ 連れ戻そ だろ しよ ご 戻ろ 盗も あろ 受け取ろ 抑えよ 登ろ けんど 戻そ 取り持と つこ させよ 押し通そ せよ 示そ 集めよ こんど 出そ 討と 高めよ 行なお 語ろ 納めよ 言お 渡そ 及ぼ でしょ 立と 抜こ 斬ろ やろ 付けよ 見よ 殺そ 収めよ 立ち去ろ 引き返そ 慰めよ 切ろ いえよ 返そ もらお ましょ 帰ろ 見極めよ 殴ろ 探ろ してやろ くれよ かかろ まいと さそ 奪お あげよ 聞こ 刺そ 買お 捕らえよ 送ろ 贈ろ 戦お ちろ 備えよ ぶろ 迎えよ ほしょ えんど 決めよ 伝えよ 知らせよ 遊ぼ かいきょ 受けよ かんす 出よ いこ おこ 立て直そ かわそ 渡ろ たろ 保と かけよ 与えよ 役立てよ 行お 得よ 逃げ出そ 助けよ 近づこ 合わせよ ていりゅうじょ 洗お みよ 始まろ 図ろ 彷徨 届けよ 減らそ 辞めよ なろ 立てよ られよ 起こそ 封じよ 結ぼ 調べよ 救お ごまかそ 避けよ 抱きしめよ 防ご 歌お 守ろ 上げよ 導こ 述べよ 割ろ 打と 死の いよ 見せよ よかろ 取り戻そ 売り出そ 変えよ 目指そ 逃げよ 乗ろ 言えよ 妨げよ 知ろ 乗り切ろ 作り上げよ 育てよ 入れよ 認めよ 及ぼそ 加えよ 作ろ しじょ 乗り込も 留めよ 尽くそ 働こ 続けよ 組み込も 潰そ 広げよ 挑も 探そ げんこ 進も 座ろ 掴も ぎゅ 見出そ つけよ 書こ 倒そ 見直そ 開こ 追い払お 乗っ取ろ 用いよ 譲ろ 行こ 追い出そ れよ 説こ 絶する 置こ づけよ 笑お 盛り上げよ 食お やめよ じゃろ できよ 狙お 止めよ 盛り込も ぶしゅ 葬ろ 通り過ぎよ 取ろ 始めよ 捨てよ 応えよ 逃れよ 補お 握ろ 進めよ 強めよ 当たろ 起きよ 壊そ 描こ 採ろ 貫こ 持と 使お 極めよ 抜け出そ 果して 消そ 会お きんじろ 出かけよ 召し出そ ぎじょ とうじょ 貸そ 触ろ げつよ 仕立てよ 覚えよ 明かそ 済ませよ 稼ご 去ろ 貰お 捕まえよ 滅ぼそ 逃がそ 移そ 確かめよ 消えよ つくろ むそ 退けよ 就こ 封じ込めよ 暴こ 躍起 応じよ 仕えよ 定めよ 支えよ 攻めよ 考えよ 話そ 攻め込も 引こ 掛けよ 飛び込も 動かそ 隠そ 伸ばそ 持ち出そ はかろ もたらそ 売り込も 裂こ 引き出そ 挙げよ 広めよ 取り上げよ 深めよ はも 増やそ 暮らそ 正そ 忘れよ 委ねよ 飲み込も 引き受けよ げんど 生み出そ 下ろそ 活かそ 着こ 食い止めよ 頼ろ 飾ろ 連れ去ろ 焼こ 果たそ ひらこ 推し進めよ 射よ 捉えよ しまお けんじろ 晴らそ 教えよ 見つけよ 勝と 離れよ 運ぼ 拾お いちこ 追いつこ 近付こ 食べよ とどめよ 向かお 引き継ご 旅立と 話し合お 捧げよ 計ろ 取り込も 払お 就けよ 近づけよ 残そ なかろ 継ご 持ち上げよ てんこ 答えよ 楽しも 下げよ 試みよ 成し遂げよ 呼び込も 解こ 寝返ろ 飲も 盗み出そ 生き残ろ 許そ 引き裂こ 乗り越えよ 頼も はじめよ こよ 引き戻そ 頑張ろ 直そ 無くそ 呼び寄せよ 選ぼ ふそ 呼び戻そ 据えよ 整えよ 打ち出そ 送り込も 遂げよ 和らげよ 改めよ 決しよ 学ぼ 読も 超えよ 阻も かわこ 持ち込も 断ろ 過ごそ 抑え込も 受け入れよ 手放そ 沈めよ 残ろ 仕掛けよ 襲お 弱めよ 終わろ 営も 作り出そ 向けよ 築こ 諦めよ 合お 弾こ 免れよ 裏切ろ 取り合お 走ろ 入ろ 勝ち取ろ 取り締まろ 置き換えよ 祝お 立ち上がろ 観よ いたろ 来よ 越えよ 襲いかかろ 助け出そ こうじろ 雇お はくしゅ 代わろ くりょ 迫ろ やり直そ 除こ 建てよ 撮ろ 鎮めよ 追いかけよ 取り入れよ 訴えよ 授けよ 放と ひょうど 任せよ 覆そ いじろ じきょ 込も 取り付けよ のも 課そ 取り組も 立ち向かお 移ろ 問お 従お 吸お だそ 脅かそ 向き合お 待と 賄お 追い返そ 下そ 隠れよ 生かそ ふしょ 当てよ 陥れよ 落とそ りゅうじょ 訪ねよ 突き止めよ 帰そ 着せよ 治めよ 当てはめよ とらえよ 救い出そ しりょ 加わろ たくらん 通そ 通ろ 嗤 追お やこ 信じよ 扱お 読み取ろ 通り抜けよ ちょうじょ 誘お 引き起こそ 変わろ 撃と えんしょ 取り返そ 投げよ 組も 押しつけよ ちょうちょ あやかろ 売ろ 促そ 打ち立てよ 設けよ 奪い取ろ 押し付けよ 売りつけよ 叩こ 犯そ こきゅ 造ろ 引き抜こ 操ろ 掛かろ 過ぎよ 取り出そ 赴こ 飛び降りよ 開けよ 臨も 上ろ 迎え入れよ 打ち破ろ おびき出そ 治そ うたお 遠ざけよ 出来よ 遅らせよ 癒そ 埋めよ 持ち帰ろ 託そ 別れよ 呼ぼ 訪れよ 起ころ 告げよ 絶と ゆこ 描き出そ 削ご 引き止めよ ふじつ てんゆ 留まろ 借りよ 写そ 奪い返そ 泊まろ しんぞ 引き込も 崩そ 無から こも 乗り出そ 買い取ろ 歩も 叶えよ 結びつけよ 任じよ 招こ びきょ 名付けよ 報いよ もうそ 引き取ろ てよ 断ち切ろ 興そ 儲けよ 引き上げよ やり過ごそ 触れよ 突こ 住も ゆうじょ 諌めよ 創ろ 引きずり込も 巻き込も くりゅ とめよ 見届けよ 降ろ 真似よ 満たそ 取り入ろ 飛び立と 引き離そ 鍛えよ 繋げよ 覗こ 見捨てよ 引き渡そ しめよ まとめよ 脱ご 衝こ 退こ あてよ じょうじょ 上がろ 解き明かそ 試そ かえろ 押さえ込も 励まそ 論じよ 貶めよ 抜けよ つなげよ げんじろ 探し出そ 傷つけよ 捕えよ 追い込も 経と 口説こ 追い落とそ 落ち延びよ 塞ご 施そ 踊ろ 見いだそ つなご 固めよ 聴こ 替えよ 引き入れよ 騙そ 燃やそ 迎え撃と 終えよ 関わろ 敷こ 獲ろ しんじろ 取り掛かろ 連れ出そ 愛そ 寝よ きいちろ 乗せよ 至ろ 思い出そ 横切ろ 破ろ 生き延びよ しょこ 惹こ 聞き出そ 飛ばそ 充てよ えいじろ こごろ 表そ 続こ にんきょ 流れよ 見つけ出そ 閉じよ けんしろ 飛ぼ 取り除こ なそ げきと 切り替えよ 呼び出そ 結び付けよ 捕ろ 預けよ かばお なおそ みせよ 取り押さえよ なだめよ げじょ 回り込も 降りよ 努めよ 懲らしめよ 取り立てよ 護ろ 掲げよ 生き抜こ 逃げ込も せしめよ なくそ 目立と 押さえよ ほっしょ 位置づけよ へんちょ 流そ 見せかけよ 演じよ'"
            ],
            "application/vnd.google.colaboratory.intrinsic+json": {
              "type": "string"
            }
          },
          "metadata": {},
          "execution_count": 17
        }
      ]
    },
    {
      "cell_type": "markdown",
      "metadata": {
        "id": "hxg_othufTgX"
      },
      "source": [
        "### サイズが中間的なクラスタを調べる"
      ]
    },
    {
      "cell_type": "code",
      "metadata": {
        "id": "CKbaZrHJZhM-",
        "colab": {
          "base_uri": "https://localhost:8080/",
          "height": 229
        },
        "outputId": "3150eecc-32bd-4c87-94e5-775c044627be"
      },
      "source": [
        "' '.join(words[labels == sorted_clusters[49]])"
      ],
      "execution_count": 18,
      "outputs": [
        {
          "output_type": "execute_result",
          "data": {
            "text/plain": [
              "'】 \\u3000 文学部 自治医科大学 学 麹町中学校 和光大学 首都大学東京 修士課程 関西大学 社会学部 台湾大学 法律学科 専攻 単位取得退学 京都大学 研究会 日本の教育 府立一中 東京都立日比谷高等学校 高等工業学校 工業大学 基礎科学 紫綬褒章 東京都立新宿高等学校 日本工芸会 日本文芸家協会 日本ペンクラブ 日本脚本家連盟 京都嵯峨芸術大学 客員教授 東京都出身 慶應義塾大学 国文 卒 慶大 名誉教授 東京大学 理学部 数物 研究員 東京神学大学 学長 福岡県出身 情報学 大阪大学 国立新美術館 上智大学 文科 教養学部 同大 東京大学東洋文化研究所 立教大学 助教授 人間科学部 阪大 人間科学 東京大学先端科学技術研究センター 政策研究大学院大学 法政大学 特任教授 早稲田大学 研究所 学会 青山学院大学 県立 女子高等師範学校 広島大学 教育学部 男子寮 香川県出身 公益財団法人 文化振興 芸術文化 神奈川県横浜市 工学部 応用化学 福岡大学 研 歴任 高等師範学校 上海大学 中国人民政治協商会議全国委員会 宮城師範学校 宮城県図書館 日本体育大学 体育学部 功労賞 文化功労者 日本芸術院 東亜大学 京都府京都市 府立 文学研究科 芸術選奨新人賞 恩賜賞 プレップスクール 東大 岡山県出身 理工学部 フランス文学者 身体運動 行政学者 日本学士院 東京都生まれ 法学部 国際基督教大学 研究科 東京市政調査会 21世紀臨調 リトルシニア 大阪府出身 文化財研究所 財政学 経営学 東京藝術大学 日本現代音楽協会 総合科学 体育学 全日本スキー連盟 BFA 一橋大学 アミューズメントメディア総合学院 ロボット競技 照明デザイナー 常磐大学 地学 NHK放送文化研究所 大阪外国語大学 ）< 中央民族大学 ティーチングアシスタント 電気工学 サイモンフレーザー 西オーストラリア大学 内科学 明治大学 商学部 医員 帝京 信州大学 文理学部 芸術選奨 愛知県名古屋市 全日本軟式野球連盟 審判学校 国士舘大学 東海大学 筑波大学 工学 関西学院大学 福井県立藤島高等学校 経済学部 農林水産 経営学部 修道中学校 前橋中学校 陸軍歩兵学校 医学博士 九州大学 学芸大学 健康科学部 滋賀県出身 東京都立大学附属高等学校 山梨県出身 歴史教育者協議会 日本政治史 政治学科 法学研究科 客員研究員 グラフィックデザイン学科 Ｂ 民法学 （～ 早稲田大学法学部 准教授 韓国史 中央研究院 大学校 順天堂大学 建築科 天理大学 近畿大学 棟田康幸 全国高等学校総合文化祭 短期大学部 劇団雲 NHK学園 20期生 福島大学 システム情報 名古屋大学 高等学校野球 英会話教室 NPO法人 北高等学校 中主 東北大 • 169cm 跡見学園女子大学 臨床心理 柔道整復術 堀越高等学校 一般財団法人 司法研修所 担当科目 5教科 武蔵野大学 立教女学院 東京女子大学 金属工学 奨励賞 開発経済学 専修大学 白樺学園高等学校 金沢大学 金沢美術工芸大学 銚子高等学校 Ｋ 日本大学法学部 岡山天体物理観測所 相愛大学 精神保健福祉センター 大阪学院大学 理工学研究科 工大 タカキ 中央大学 東京教育大学 中国科学院 航空研究所 明野陸軍飛行学校 第五高等学校 駒澤大学 文部科学大臣賞 桐朋女子高等学校 北海道大学 日本化学会 産業技術総合研究所 クラス会 170cm 北海道小樽市 日本手話 指文字 東京経済 弓道部 天文部 獨協大学 名古屋大 神奈川大学 高志高等学校 福井大学 早稲田大学政治経済学部 山形県出身 石巻専修大学 気象キャスターネットワーク 中沢新一 兵庫県神戸市 システム工学 刑法学 理工学 助産 北里研究所 芝中学校 京大 松商学園 パーソンズ美術大学 東北学院 関西学生野球連盟 硬式野球部 同志社大学 立命館大学 関西学院 大阪大 商科 京都帝国大学 第三高等学校 大阪医科大学 神戸高等商業学校 龍谷大学 大谷大学 商業大学 大阪専門学校 理工 奈良県立医科大学 大阪歯科大学 神戸商科大学 東北大学 日本大学 京都府出身 お茶の水女子大学附属高等学校 早稲田大学第一文学部 長野県出身 武蔵野音楽大学 花園大学 野間児童文芸賞 広島県出身 熊本県出身 日本芸術院賞 名誉都民 済美 宮沢俊義 女子大学 高麗大学 工学科 原子力工学科 アジア太平洋 大学院大学 名誉館長 宮崎県立宮崎大宮高等学校 日本文学 二松学舎大学 国文学 農学部 女子バスケットボール 早稲田大学文学部 仏文 加藤治郎 早稲田大学第二文学部 塾講師 代々木アニメーション学院 シナリオ作家協会 日本放送作家協会 山口大学 神戸大学 PL教団 大分大学 青二塾 声優養成所 大学専門部 千葉大学 明治大学付属中野高等学校 情報センター 京都府立医科大学 神戸大 甲南大学 神戸商船大学 滋賀大学 大阪商業大学 京都産業大学 大阪経済大学 神戸学院大学 滋賀県立大学 東京大学総長 成蹊大学 道部 東京都中野区 代表理事 日体荏原高等学校 東北大学金属材料研究所 ネイリスト 東京女子高等師範学校 九州国立博物館 桃山学院大学 東京農業大学 東北福祉大学 九州国際大学 福島県出身 芸術大学 ソウル大学 李栄薫 農業試験場 姜尚中 神経病理学 普及事業 松本大学 東京大 1979年度 JFA 公認S級コーチ 徳山大学 東京都立戸山高等学校 土木工学科 工学研究科 大日本水産会 広島修道大学 商業学科 科学研究所 生物学部 学習院大学 藤田保健衛生大学 医療法人社団 衛生検査技師 兵庫県出身 東京高等師範学校 筑波大学附属小学校 国語教育 心理学部 農業改良 陸軍砲工学校 横浜高等学校 東京芸術大学 小中学 学生新聞 船橋市立船橋高等学校 学院長 桐朋学園 演劇科 国立研究開発法人 農業・食品産業技術総合研究機構 農業工学 産総研 工業技術院 農業環境技術研究所 森林総合研究所 水産総合研究センター 産官学 芸術学部 長崎大 中部日本 ハーバード・ロー・スクール 桐朋学園大学 日本作曲家協議会 長崎中学校 日本歴史 帝国学士院 史学会 西洋美術史 旭化成陸上部 勝田声優学院 マウスプロモーション 富山県出身 デザイン学部 環境工学 国語読本 東京学芸大学 ソフトテニス 西高等学校 エクセレンス 早稲田大学文学学術院 客員 同志社中学校 早稲田大学人間科学部 生命倫理学 国際日本文化研究センター 大阪府立大学 京都精華大学 泉鏡花文学賞 関西外国語大学 鹿児島大学 日本歌手協会 交通経済学 沖縄県出身 獣医学部 産業社会学部 国立天文台 ペンブルック・カレッジ デザイン学科 国際学部 オハイオ大学 パブリック・アイビー アントレプレナー 新潟大学 電気科 東京都立北園高等学校 戯劇 埼玉大学 東洋大学 東京理科大学 開成高校 山口県出身 第一高等学校 福島県立安積高等学校 早稲田大学社会科学部 工学者 宇宙工学 土木科 東京帝国大学第二工学部 東京大学生産技術研究所 早稲田実業学校 音響工学 桐朋 筑波大学附属中学校・高等学校 聖学院大学 人文学部 山梨学院大学 広島経済大学 琉球大学 沖縄師範学校 早稲田大学教育学部 科学技術庁 音楽学科 島根県出身 皇學館大学 第9回参議院議員通常選挙 手づくり （財） 国際関係学部 桐蔭学園 高大 東京商工会議所 日本体育会 北海道札幌市 静岡県出身 国立国語研究所 公共経営研究科 甲南女子大学 国土審議会 福岡県立修猷館高等学校 政治経済学部 福岡県議会議員 人間学部 看護学部 過去問 早稲田大学高等学院 OB会 生活科学 昼夜開講制 東京都立科学技術大学 経営情報 栄養学科 164cm 極真館 松井派 新領域創成科学研究科 山梨大学 政策科学 学校法人立命館 衣笠キャンパス 京都法政学校 大阪府立北野高等学校 九大 東京医科歯科大学 医学研究科 医長 日本大学医学部 皮膚科学 手塚治虫文化賞 日本漫画家協会賞 日比谷高校 総合政策 栄光学園高等学校 修道高等学校 経済学研究科 永原慶二 併任 経営工学 日本ナレーション演技研究所 奈良県出身 岐阜大学 農学科 東北帝国大学 法文学部 長崎大学 吉本総合芸能学院 日本SF作家クラブ 指導医 石川県出身 専門学校東京アナウンス学院 更生保護 東京大学大学院情報学環 明星大学 アメリカ陸軍指揮幕僚大学 ルイジアナ州立大学 国際協力事業団 国際交流協会 福井県出身 大東文化大学 建築学科 デザイン工学部 美術学部 造形学部 家政学部 生活科学部 工学院大学 建築学部 林学 建築工学科 環境計画 関東学院大学 京都工芸繊維大学 大學 大阪府立大 理学 東京慈恵会医科大学 病院勤務 外科学 慈恵 東京病院 日本医師会会長 とりくみ 教育学 臨床医学 基礎医学 社会医学 臨床教育学 中国哲学 山口県立防府高等学校 朝日賞 大佛次郎賞 日本女子大学 ライフセービング オープンウォーター 公的資格 広島国際学院大学 野外教育 サポートセンター 聖心女子学院 日仏会館 野田暉行 東邦音楽大学 藍綬褒章 理財 全国社会福祉協議会 社会福祉施設 出身大学 ESS 岐阜県出身 メディア研究 英米文学 在日韓国人2世 理化学研究所 徳島商業 國學院大學 拓殖大学 交詢社 尚美学園大学 一浪 京都市立芸術大学 島根大学 教育学研究科 愛媛県出身 高知県出身 愛知県出身 大津高校 日本泳法 熊本国体 立正大学 慶応義塾大学 182cm ピラティス 新潟県出身 年報 宝塚大学 精神衛生 三大予備校 駿台予備学校 代々木ゼミナール 慶應義塾高等学校 清華大学 比較文学 東進衛星予備校 外国語学部 光村図書 埼玉県立熊谷高等学校 東京外国語大学 綜合 。< 女子美術大学 相模原キャンパス UNC 人口問題 家族計画 南山大学 日本看護協会 東京商船大学 東京海洋大学 産業技術大学院大学 化学科 国際教養学部 カリフォルニア大学リバーサイド校 南イリノイ大学 正則高等学校 日本図書館協会 衛生学 沖縄学 プロダクトデザイナー 県人会 上越教育大学 愛媛県立松山東高等学校 総合理工学研究科 競技ダンス 星稜高等学校 ヤマハ音楽振興会 グレイシー柔術 劇団青年座 共立女子短期大学 青年座研究所 津田塾大学 宇宙科学研究所 第二東京弁護士会 社会学研究科 紀要 一橋大 日本学 紺綬褒章 大阪府立茨木高等学校 囲碁将棋 経済法 東京大学大学院教育学研究科 高等教育局 消化器科 GIT 早稲田中学校 学府 文理科 学芸学部 沖縄大学 文化科学 環境学 教育社会学 政治社会学 Z会 東京都立大学 文化学会 物質・材料研究機構 総合研究所 国立科学博物館 満期退学 文教大学 蠍座 高校横綱 岩手県出身 政治学研究科 食品衛生責任者 製菓衛生師 奥川 木口道場 京都女子大学 龍谷総合学園 城西大学 日本設計 少年鑑別所 青森県出身 -）、 東京都三鷹市 熊本大学 日本エッセイストクラブ賞 宗教研究 駿河台大学 鹿屋体育大学 京都造形芸術大学 ロイヤル・カレッジ・オブ・アート 美術研究科 国立国際美術館 躰道 医療事務 鉄道学校 軟式テニス 全日本アンサンブルコンテスト 第一高等女学校 現代演劇協会 慶応大学 電子工学 ミッション系大学 梅棹忠夫 獨協医科大学 下志津 新潟県立高田高等学校 国際教養大学 児童文化 図書委員会 卓球部 獨協 経済学科 庭球 東北学院大学 教養部 開成中学校 帰山教正 学業不振 義務教育学校 統合教育 中教審 初等中等教育局 小6 慶應義塾普通部 国立高校 高等専修学校 海上保安大学校 気象大学校 航空保安大学校 群馬大学 名城大学 シュタイナー教育 モンテッソーリ教育 公文式 暁星 16期生 名古屋芸術大学 教科用図書 東京都目黒区 慶應大学 徳川林政史研究所 1970年代の日本 武蔵高等学校 兵庫教育大学 教育史 ロシア文学者 麻布中学校・高等学校 林業試験場 エッサッサ 群馬県出身 高等学校教員 中京大学 特別研究員 横浜市立大学 教育評論 大松博文 メンタルトレーニング 東京女子体育大学 大阪市立桜宮高等学校 ウィーン工科大学 臨床心理学 中南 美術研究所 社会福祉学 日本女子大 人間社会学部 デイトレーダー 二松學舍大学 声楽学科 秋田県出身 多摩美術大学 メディア論 フランス文学科 音楽学部 出光音楽賞 東方文化学院 日本ユネスコ国内委員会 管理業務主任者 土地家屋調査士 カルチャーセンター 美術科 崇城大学 平和学 スタディーズ 国際政治学 情報処理学会 産学連携 府立高等学校 神奈川県立横須賀高等学校 日本文藝家協会 交流協会 教育法学 感染症学 長崎県出身 成城学園 丸山眞男 最優秀脚本賞 山歩き 日本山岳会 法経学部 国家基本問題研究所 写真学科 岐阜国体 材料工学 Graduate 和歌山県出身 旭日中綬章 NHK放送文化賞 ブリティッシュ・カウンシル 徳島大学 聖マリアンナ医科大学 名誉学長 第一東京弁護士会 東京都立小石川高等学校 東京大学大学院経済学研究科 国際経済学 日本児童文学者協会 大阪産業大学 ポール・ラッシュ 仙台育英学園高等学校 平成9年度 清泉女子大学 佐賀県出身 水産学 商業デザイン 瑞宝重光章 国楽 弘前大学 芸術祭優秀賞 プロレス研究会 物質工学 アナウンス研究会 大正大学 スポーツ解説者 高田保馬 ワンダーフォーゲル 国語国文学 湯川秀樹 大阪帝国大学 名古屋帝国大学 がんセンター 吉川英治文化賞 学習院高等科 学習院中等科 社会工学 東京大学大学院総合文化研究科 日本大学文理学部 中文 北海高等学校 北海道東海大学 情報デザイン学科 芸術工学部 北翔大学 桐花大綬章 日本内科学会 経済地理学 京都市動物園 大阪市教育委員会 神経心理学 認知神経科学 田嶋幸三 ダブルスクール 二紀会 鈴木梅太郎 理研 経営学者 静岡県立掛川西高等学校 東京学芸大学附属高等学校 成城大学 選科 石井十次 Ｍ 愛媛大学 松山大学 西江大学校 東都大学 ニューヨーク映画批評家協会賞 機械科 国公私立 日本の農業 宇沢弘文 中谷巌 英和 グロービス経営大学院 北九州市立大学 明治学院大学 南京大学 商学研究科 農学 Veterinary 功労章 インテリアデザイン 開発センター 美学美術史学科 ブランダイス 宝塚音楽学校 はばたき 校友 アリゾナ州立大学 ゲートボール 久留米大学 器楽学科 社会学研究 新制作協会 谷口吉生 大学の略称 共立女子大学 九州交響楽団 市川高等学校 公共経済学 中央学院大学 家族史 全日本空手道連盟 ローマ・ラ・サピエンツァ 小山内美江子 東京造形大学 理科総合 経営学研究科 園芸学部 文化庁メディア芸術祭マンガ部門 学習院女子高等科 文化学院 工手 日本相撲連盟 道会 井上円了 志賀潔 鶴見俊輔 電気試験所 東京都立青山高等学校 臨時教育審議会 寄生虫学 宮城県出身 滋賀県立膳所高等学校 市立大学 成安造形大学 京都府立山城高等学校 神奈川県立湘南高等学校 神戸女学院 岩手県立大学 県立大学 江崎玲於奈 エコール・ノルマル 地球化学 愛媛県立宇和島東高等学校 大阪府立豊中高等学校 大原社会問題研究所 旭日重光章 帝京平成大学 農学研究科 東京専門学校 雄弁会 統合幕僚学校 大阪府立市岡高等学校 東京工科大学 政治過程論 日本政治学会 新生面 松山中学校 青山南町 群馬県立沼田高等学校 繊維学 林学科 生命科学 工学系研究科 RMIT 農工 玉川大学 放射線科 チーム医療 兵庫県教育委員会 共同利用・共同研究拠点 北大 ⑦ 福羽 神戸松蔭女子学院大学 日本テニス協会 公衆衛生大学院 文芸学部 名誉理事長 211工程 中国工程院 商学 岡山大学 日本薬剤師会 アコール 東京都立代々木高等学校 聖徳大学 興國 朝日大学 法と経済学 加藤一郎 川島武宜 ミュンスター大学 発想法 地球科学 福山大学 東京電機大学 衛生研究所 第三中学校 大阪高等学校 マルチリンガル 東洋英和女学院大学 社会科学部 東京大学地震研究所 浅井学園 農芸 ニュースクール大学 演劇映画 帝京大学 写真評論家 誠信 哲学会 九州帝国大学 広恵 岩手医科大学 東京大学大学院農学生命科学研究科 奈良国立文化財研究所 奈良文化財研究所 医学会 大阪体育大学 副手 発明協会 東大病院 コメディカル カリタス テアトルアカデミー 開成高等学校 人間科学研究科 アジア・太平洋賞 ノースアジア大学 お茶の水女子大学 文教育学部 女性学 駒場高校 佛教大学 刑法総論 国際科 スポーツ科学 美術教室 東アジア言語 大阪府立今宮高等学校 実業専門学校 東京アニメーター学院 アグレガシオン 映画俳優組合 神戸女学院大学 音楽研究科 建築模型 教科書検定 武蔵野美術大学 名古屋学芸大学 表現学部 東北工業大学 FIAPF 愛知県立旭丘高等学校 泌尿器科 和歌山商 首都大学 ニューヨーク州立大学 ストーニーブルック 精神薄弱 星新一ショートショート エイベックス・アーティストアカデミー アメリカンスクール 北里柴三郎 マドリード・コンプルテンセ CNRS 21世紀COEプログラム 数理科学 東京水産大学 海洋科学 四年生 競技設計 前川國男 保健学部 保健学 ロードアイランド・スクール・オブ・デザイン 鹿児島県出身 国立環境研究所 成城学園高等学校 桐朋学園大学短期大学部 日商簿記検定 早稲田セミナー 政治学部 北九州大学 京都外国語大学 茨城大学 >\\u3000 明星学園 岡山中学校 武蔵野女子大学 和歌山県白浜町 日本写真家協会 東京農工大学 広島市現代美術館 環境法 情報科学 環境学研究科 香川大学 移動動物園 文化財保護審議会 日本大学経済学部 東京医科大学 清陵 九州産業大学 ながらく 日本近代史 日本ジャーナリスト専門学校 道都大学 北海道開発 北海道教育大学 農業大学校 昭和女子大学 北國新聞社 ロータリークラブ 三菱総合研究所 代ゼミ 歯科大学 明海大学 附設 吉田寮 家政学 吹奏楽コンクール 英語学 奈良女子大学 専門外来 坪井正五郎 社会科学研究所 芝浦工業大学 亜細亜大学 電力中央研究所 国際大学 国学院 陸上自衛官 ロバート・シラー 原水爆禁止日本協議会 外国語大学 福祉大学 精得館 予防医学 相模女子大学 東京芸大 創造学園大学 広島女学院大学 龍谷 医専 ミスキャンパス 日本医科大学 社会起業家 文芸学科 日本工学院専門学校 特別任用 三重大学 武蔵工業大学 東京都市大学 陸軍経理学校 山形大学 桜美林大学 蝋山政道 日本建築学会賞 嶺南大学 三重県出身 聖心女子大学 愛知淑徳大学 現代社会学部 立教大 法政大 関西学生アメリカンフットボール連盟 フィロソフィー 兵庫県立明石高等学校 ディプロマミル クレイトン大学 教育情報 大学評価・学位授与機構 同志社女子大学 筑波大 電気電子工学科 栄高等学校 北海道帯広柏葉高等学校 日本の観光 楠美 国士舘 ANNアナウンサー賞 林忠四郎 愛知県立明和高等学校 関西フィルハーモニー管弦楽団 産業能率大学 外語 レクレーション 江戸川大学 東京育ち 耳鼻咽喉科学 全統模試 環境情報学部 白百合学園高等学校 小学校受験 東京女子医科大学 国際スポーツ振興協会 日本留学試験 国際高等学校 成均館大学校 公立はこだて未来大学 冶金学 日本ゴルフ協会 エクステンションセンター 万葉学者 テンプル大学 音響賞 日本俳優連合 実践女子学園 ドイツ文学者 日本語学者 全生 農業経営者 15期生 武蔵高校 バイオメカニクス 福岡県立福岡高等学校 工作者 東洋史 修猷館 都立大学 自治大学校 都留文科大学 天文学科 田中宏 機械工学 徒手 経営情報学 経営情報システム 共働 アジア経済研究所 単位取得満期退学 岐阜経済大学 スポーツ医学 小児科学 学卒 国立情報学研究所 芸術学 日本演劇協会 日本演劇学会 目白学園 東京リーガルマインド 百年史 学生支援 国際関係学研究科 地域研究 ウェズリアン 現代文 復旦大学 Pharmacy 志望動機 ユニバーシティー オーストラリア国籍 神戸市外国語大学 東京基督教大学 四国学院大学 Nursing 香港大学 デトモルト音楽大学 消費者教育 教育委員長 法学研究 物質科学 国際関係学 札幌東 至誠館 旧制三高 千葉中学校 高等学校卒業程度認定試験 北海道帝国大学 造園学 日本造園学会 造園科 環境デザイン 地理学科 国立極地研究所 総合馬術 兵庫県立大学 商経学部 仙台大学 生物工学 愛知県立岡崎北高等学校 東福岡高校 名古屋高等商業学校 東京商科大学 教育研究所 情報工学部 産学 Universities 情報工学 応用心理学 技術経営 土木学会 東京外国語大学アジア・アフリカ言語文化研究所 宇都宮大学 國語 御茶の水 文検 麻布中学校 商法講習所 信濃毎日新聞社 長野中学校 島尾敏雄 国際連合大学 岩手県立盛岡第一高等学校 社会哲学 文科一類 栄養教諭 社会福祉士 勲二等旭日重光章 大分県出身 電子技術総合研究所 科技 情緒障害 スペシャルオリンピックス 末川博 映画学 環境部 プロマジシャン 姫路獨協大学 24期生 ライフル射撃 労働政策研究・研修機構 国立歴史民俗博物館 警察大学校 西東京 千葉県立東葛飾高等学校 愛知学院大学 交歓 愛知教育大学 御厨貴 日本大学理工学部 北海道札幌北高等学校 北海学園大学 大阪教育大学 会計科 経済思想史 選奨 専門図書館 愛知県立千種高等学校 ミラノ音楽院 歴史学研究会 ミネルヴァ書房 博物館学 芸術学科 東京大学大学院人文社会系研究科 国立民族学博物館 世田谷美術館 政策学部 社会福祉学科 宝井 日本語学 フランス語学 中国語学 芸術院 シラパコーン 総合科学部 Jリーグ選手協会 兵庫県立神戸高等学校 ライフサイエンス 日本医学会 陸上自衛隊生徒 札幌大学 上武大学 ライフデザイン 情報工学科 デザイン工学科 COC 電波工学 インダストリアルデザイン 浜松大学 東京国際大学 日本数学会 東京農業大学第二高等学校 教育庁 競技麻雀 犯罪心理学 犯罪精神医学 史料編纂所 鹿戸雄一 京都府立大学 杏林大学 建国大学 臨床工学技士 視能訓練士 古井由吉 国立がんセンター きゆう師 光風会 空間デザイン デジタルアート 虎の門病院 為末大 スポーツ文化 中学一年生 上智大 上智 大学通信 日本推理作家協会 東京農大 リトミック 群馬師範学校 構造設計事務所 法経 サテライトキャンパス 東京工芸大学 東映アニメーション研究所 大妻女子大学短期大学部 早稲田高等学校 鳥居龍蔵 会社員生活 フランス国立行政学院 ENA 日本プロ麻雀連盟 シューレ 藤倉電線 北星学園大学 札幌学院大学 東京大学大学院法学政治学研究科 須地 神港 文科二類 佐伯彰一 環境学部 医療福祉大学 心理学研究科 日本児童文学者協会賞 昭和大学 エステティシャン 国際協力機構 学術賞 大妻女子大学 高知大学 比較文化 表象文化論 自衛隊体育学校 瑞宝小綬章 東工大 海洋学部 名大 北海道札幌南高等学校 東邦 科学警察研究所 向学 土浦日本大学高等学校 電気通信大学 マンガ学部 アニメーション学科 広告大賞 雑技団 黒川紀章 日本物理学会 沖縄国際大学 麗澤大学 日本山岳協会 ノースリッジ 装丁家 美学校 多摩大学 東京出版 フジテレビビジュアルクイーン 奈良先端科学技術大学院大学 東京師範学校 上田萬年 奈良女子高等師範学校 成城学校 新教育 小原國芳 東京都立駒場高等学校 島岡譲 神経科 経済協力局 北村徳太郎 宇宙科学 別府大学 高等看護学院 看護専門学校 藤田湘子 畜産学 カイロプラクター 桐蔭横浜大学 スポーツ健康科学部 東和大学 日本公認会計士協会 弁論部 武蔵大学 名古屋商科大学 愛知大学 消防大学校 国際文化学部 佐々木毅 海洋工学 全国体育大会 成田高等学校 総合政策学部 NIRA 東畑 環境社会学 文化服装学院 公共政策大学院 日本総合研究所 コラソン 小児専門病院 学校法人早稲田大学 富山大学 富山第一 鍼灸院 運動器 柔道整復 医学史 介護支援専門員 スポーツアカデミー 日米協会 女子栄養大学 芸術劇場 ソーシャルスキル 西南学院大学 新島学園 保健医療学部 映画学部 ゴルフ部 職業訓練学校 宗教人類学 森田療法 中国文学者 国連難民高等弁務官 口腔外科学 婦人科学 秋田工業高校 高松中学校 毎日芸術賞 広島工業大学 アルベルト・シュヴァイツァー 日本現代中国学会 大学基準協会 )､ 和歌山大学 政経学部 東京大学社会科学研究所 サイバー大学 ち国 成瀬仁蔵 国立教育政策研究所 漢文教育 千葉工業大学 広中 理論物理学研究所 栗本慎一郎 駒大岩見沢 創価大学 中国社会科学院 奏楽堂 鳴門教育大学 日本臨床心理士資格認定協会 学級活動 職業高等学校 商学科 放送学科 ポピュラーソングコンテスト コミュニケーション学部 千葉商科大学 Category 学事 工業教員養成所 てがける 東京女学館 科学朝日 成蹊 宮城大学 鹿児島国際大学 石油天然ガス・金属鉱物資源機構 講道学舎 浙江大学 東京大学大学院理学系研究科 聖路加国際病院 摂南大学 埼玉医科大学 福島県立磐城高等学校 大山泰彦 ソ連軍参謀本部 ヨネクラジム 作新学院高等学校 ニューヨーク州弁護士 岩手大学 日本電子 東京藝術大学音楽学部附属音楽高等学校 文化会 ）] ソウル芸術大学 塾し 中日文化賞 日本大学商学部 東邦大学 ルーテル学院大学 ウェストミンスター大学 岡山理科大学 倉敷芸術科学大学 千葉科学大学 吉備国際大学 目白大学 広島市立基町高等学校 広島国際大学 広島文教女子大学 インスティテュート 私立短期大学 児童精神医学 日本芸術専門学校 セント・アンドリュース 京都市立堀川高等学校 グローバルCOEプログラム 学習院女子大学 最高学府 芸術高等学校 西武文理大学 旭川大学 青森大学 川崎医科大学 鳥取大学 聖ヨハネ大学 オーガン 矯正歯科 浪速大学 学校心理学 心理教育 コンサルテーション 学校心理士 伊東豊雄 グランドデザイン コミュニケーション学 教育工学 横濱 大阪福島 アートスクール 教育心理学 教育人間学 名古屋女子大学 武庫川女子大学 フェリス女学院大学 物理療法 浪曲親友協会 林健太郎 和洋女子大学 総合情報学部 赤ちゃんポスト 応用生物学部 徳島県立城南高等学校 平安高校 年会 新極真会 学士入学 馬場あき子 岡井隆 流通経済大学 情報学部 ユネスコ・スクール ユネスコスクール 地球市民 日本建築学会 近畿大学附属高等学校 国際交流基金賞 理化 国際政治経済学部 大同大学 姫路高等学校 金時計 金城学院大学 松江北 日本医療機能評価機構 大学共同利用機関法人 自然科学研究機構 小室直樹 都市工学 日本国際問題研究所 日本原子力研究所 県人 暁星中学校 辰野隆 渡辺一夫 青山学院高等部 農業経済学 帝国大学農科大学 マグサイサイ賞 応用科学 神宮皇學館 平林たい子文学賞 東洋学園大学 オープン大学 早稲田大学政治経済学術院 静岡大学 科学技術振興機構 北陸先端科学技術大学院大学 ケネディスクール 殿岡 国防大学 仏教学科 洛南高等学校 種智院大学 専修大学北海道短期大学 神村学園 全商 立命館大 群馬県大泉町 タイ式 リフレクソロジー 園芸学校 群馬県立前橋商業高等学校 チュラロンコン 桃山学院高等学校 東京都千代田区三崎町 省庁大学校 日本博物館協会 大阪電気通信大学 明治法律学校 明法寮 グローバル人材 大学博物館 上海交通大学 延世大学 水泳連盟 東海学園大学 アクレディテーション 奈良教育大学 ノースイースタン大学 専攻課程 客員准教授 女子美術大学短期大学部 秋田大学 学校法人専修大学 切手展 アラスカ大学 学習院幼稚園 青山学院女子短期大学 慶應義塾幼稚舎 ビジネスマナー 日本作曲家協会 唯物論研究会 鎌倉アカデミア 文芸学 京都大学人文科学研究所 阪南大学 群馬県立桐生高等学校 松商学園高等学校 日大二 政治運動家 早稲田大学文化構想学部 自然科学研究科 出前授業 化学工学 日本刑法学会 スペースデザイン グリーフケア 坪井忠二 日本語学科 日本文化研究所 日本動物園水族館協会 水産学校 日本大学生物資源科学部 国際学 関野貞 奈良国立博物館 イェール・ロー・スクール 19才 ニューヨーク州立大学バッファロー校 特別栄誉教授 高エネルギー加速器 素粒子原子核研究所 小柴昌俊 善隣 ラ・サール高等学校 西南学院 京都学園大学 鳥取県出身 士道館 政治経済学科 鹿児島実業高等学校 室蘭工業大学 北見工業大学 豊橋技術科学大学 長岡技術科学大学 城西国際大学 埼玉県立浦和高等学校 大阪音楽大学 特許事務所 小保方晴子 昭和音楽大学 東京綜合写真専門学校 宝塚造形芸術大学 中部大学 14期生 衛生工学 デザイン学 心身医学 学会認定専門医 東京英語学校 定員削減 延世大学校 東京文理科大学 フェリス女学院 東京医学校 吉阪隆正 日本野鳥の会 富良野塾 公益財団法人日本国際フォーラム ネイティブスピーカー 山形新聞社 ]]（ 甲陽学院高等学校 国文学研究資料館 帝塚山大学 国語学者 京城帝国大学 日大芸術学部 （社） 計算科学 情報基盤センター 日本大学生産工学部 ペンクラブ 高窪 俳人協会賞 東京都立国立高等学校 サントリー音楽賞 食品科学 四谷大塚 日本大学工学部 日本写真芸術専門学校 沖縄科学技術大学院大学 準硬式野球 医科歯科 比較宗教学 日本大学第三高等学校 徳島県出身 既往症 同人社 英吉利法律学校 九州東海大学 瑞宝中綬章 日本労働研究機構 古舘プロジェクト 関東国際高等学校 陸水学 桑原武夫 東北芸術工科大学 ア式蹴球部 ア式蹴球 明治神宮競技大会 弘報 日出高等学校 野菜ソムリエ ニューヨーク工科大学 動物学会 東北薬科大学 日本法制史 韓医学 静岡文化芸術大学 名誉院長 日野原重明 聖路加看護大学 緩和ケア 日本教育史 作曲学科 広島大 夜間主コース 被団協 大阪市立工芸高等学校 景観デザイン 東京大学大学院工学系研究科 土木研究所 早稲田大学芸術学校 SAIS 中医 Hygiene 北里大学 春日部共栄 腫瘍学 北海道教育委員会 工芸学科 社会情報学部 商法学 鹿児島県立鶴丸高等学校 団体職員 成蹊学園 静岡県立浜松西高等学校 鳥取県立米子東高等学校 高級中学 同朋大学 ベルツ 坂倉準三 航空宇宙工学 通商政策局 神戸中学校 新潟高校 音楽療法 郵電 稽古館 仙台陸軍幼年学校 18期生 サイバネティクス 集安市 ソウル大学校 獣医科大学 独立美術協会 女流画家協会 絵画教室 青森公立大学 日本建築家協会 JIA 成蹊小学校 成蹊高等学校 JCF 落合英二 プロレス同好会 理科教育 京都大学防災研究所 ･･････ 桐朋学園芸術短期大学 福岡教育大学 公財 鎮西高等学校 二十一世紀 日本ジャーナリスト会議 汎愛 Nコン 放送教育 起業支援 中京高等学校 吉林大学 キャリアデザイン 早稲田大学図書館 全日本なぎなた連盟 司法書士会 東京大学大学院医学系研究科 人間禅 近大 環境評価 東北文化学園大学 鹿児島実業 駒沢女子大学 佐瀬勇次 FEI 九州学院高等学校 洗足学園音楽大学 通信制大学 園芸療法 星槎大学 自然人類学 望星 COE 東京都国立市 麻布大学 日本女子体育大学 信息 名誉師範 名誉大使 下関市立大学 鎌倉女子大学 名誉所長 グリークラブ 全日本合唱連盟 国立健康・栄養研究所 児童学科 歴史社会学 宇部高等学校 大宮法科大学院大学 東京大学医科学研究所 東京女子師範学校 自然地理学 療育 大衆芸能 \\u3000－\\u3000 立命館アジア太平洋大学 方言学 Normale 嵯峨美術短期大学 白鴎大学 吉田道場 旧制成蹊高等学校 相談員 人体模型 霊南坂教会 études 帰化前 トリマー いわき明星大学 九州芸術工科大学 アサヒカメラ 会津大学 聖学院 神田外語大学 日本機械学会 日本歯科医学会 社員研修 ノートルダム清心女子大学 メルクマニュアル 茶道部 日本映画テレビ技術協会 三田会 弐段 防衛技術 日本精神 桑沢デザイン研究所 ルーシーダットン 名古屋学院大学 鈴木尚 獨逸 獨協中学校・高等学校 千葉師範学校 ランニングクラブ 生殖補助医療 早稲田大学ア式蹴球部 全国菓子大博覧会 本栖 短期大学士 碩士 進徳 ライターズ ワッハ上方 将棋ペンクラブ大賞 日本芸術文化振興会 共立出版 椙山女学園大学 白百合女子大学 サイエンスライター 写真工業 宇宙科学研究本部 毎日小学生新聞 明治薬科大学 ラッセル・グループ 山村正夫 情報科学部 17期生 放射線医学 秋田県立能代工業高等学校 園芸学 名誉総長 宮崎大学 東京都美術館 愛媛県立今治西高等学校 福祉学部 企業倫理 吉阪 七帝柔道 創価 第一高等学院 高橋史朗 桜丘 大阪工業大学 小林秀雄賞 高麗大学校 多読 浦和学院高等学校 教務主任 ウォーリック タイムズ・ハイアー・エデュケーション AACSB 日本民主主義文学会 東京都立西高等学校 都市工学科 文化学園 日本キリスト教団 第6部 生命科学部 加計学園 サプリメントアドバイザー 千葉県立佐倉高等学校 簿記検定 天王寺中学校 清風高等学校 中央大学附属高等学校 東亜研究所 啓明 東部中学校 有馬朗人 四天王寺大学 指導教諭 麻布高校 華道部 日本考古学協会 北海道大学病院 アタッシェ 俳句研究 日川高校 新聞学 弘前高等学校 東京国体 芦屋大学 薬科大学 大学入学資格検定 中山伊知郎 サレジオ ラグビーフットボール 東洋文化研究所 骨相 系属校 田宮虎彦 甲部 都築学園グループ 薬科 佼成 中矢 中国語科 帝塚山学院大学 藤原正彦 いわさきちひろ 日本児童文芸家協会 麻布中学 大阪文学学校 老人介護 女子学院中学校・高等学校 LEC 高崎経済大学 邦語 学校法人同志社 高松宮殿下記念世界文化賞 福岡高校 松本清張賞 京都大学原子炉実験所 総合研究大学院大学 日本の言語 タマサート 医療学部 政策学 女子学院 法人会 神戸芸術工科大学 東京都立両国高等学校 産科学 第二工学部 造形大学 北星学園 藤森照信 図書館情報学 イメージフォーラム メディア学部 日本の地理 現代の名工 親学 ウィップル 日本消費者連盟 劇画村塾 拓殖大 ふるさとづくり 東亜天文学会 嘱託講師 小樽商科大学 EMBA 地理教育 二浪 クラヴマガ 建築研究所 積水化学 佐賀県立佐賀西高等学校 MOT 福武直 石川県立美術館 技術・家庭 職業高校 と学会 国学院大学 びわこ・くさつキャンパス 観相 今西錦司 BKC 中国棋院 郵趣 横浜市立桜丘高等学校 理学科 観光学科 福祉学科 異文化コミュニケーション 崇実 ミュンヘン音楽・演劇大学 俳人協会 医用 筑波大学附属病院 岐阜聖徳学園大学 日本文学研究者 桃山学院 キリスト教功労者 こども音楽コンクール 公共建築賞 国土社 埼玉県教育委員会 産婦人科学 甲南中学校 東北公益文科大学 人文研 跡見学園 民医連 養神館合気道 ドイツ学 <。 山びこ学校 LEED 福西 富山県立富山中部高等学校 高木兼寛 北海道小樽潮陵高等学校 農業部 輔仁 関西学院高等部 SOAS ワタナベエンターテイメント 加藤寛 順天堂医院 金沢星稜大学 イーストマン音楽学校 和辻哲郎文化賞 灘中学校・高等学校 建築計画学 淑徳大学 国際コミュニケーション学部 JFC 日本チェス協会 JCA 調理実習 食品科学科 日本赤十字社医療センター 副主幹 人工知能学会 情報学環 関西学院中学部 鹿児島県生まれ 小樽高等商業学校 陸上自衛隊幹部学校 慶應義塾中等部 旧制高等教育機関 横浜高 神戸大学経済経営研究所 中央音楽学院 戸田建設 明倫中学校 福井県立若狭高等学校 兵庫県立西宮高等学校 ロシア語科 Scholars ～）、 カイロ大学 上智学院 副園長 老健 神奈川工科大学 慶應義塾高校 アール・ブリュット 学士会 藤女子大学 潮音 東京YMCA 陸軍少年飛行兵 熊谷陸軍飛行学校 航空科 明治女学校 嘉悦大学 神奈川歯科大学 環境情報学 松江高等学校 大日本報徳社 福祉学 茨城県立水戸第一高等学校 歴史学部 新教育運動 ウェイクフォレスト 開成学園 新田次郎文学賞 茂木健一郎 霊長類学 模擬国連 日本貿易振興機構 和仏法律学校 山本一清 学会発表 講座制 高松北 学術出版 中央工学校 日本ユネスコ協会連盟 ハウスクリーニング 恵泉女学園大学 NIRS 工業化学 開発学 文理大学 札幌国際大学 社会工学科 山形高等学校 西村あさひ法律事務所 国立中央大学 彫刻学科 帝塚山学院 教育科学研究会・国語部会 バトントワリング 家族社会学 社会福祉主事 統計数理研究所 日本心理学会 日本社会心理学会 社会科教育 九州工業大学 地域創造 鶴見大学 日本歯科大学 福岡工業大学 ブルッキングス研究所 日本民俗学会 原子力工学 テーラワーダ仏教 世界気象機関 名桜大学 農芸化学 食品栄養科学部 林政 札幌医科大学 医療経済学 函館大学 英法 研修プログラム ろうあ 船舶工学 脳神経外科学 北海道情報大学 経営管理論 厳法 静岡薬科大学 薬学研究科 静岡女子大学 静岡女子短期大学 日本化 ザンクトガレン 現代俳句協会賞 佐賀大学 特任准教授 中央大学校 熊本学園大学 赤い鳥文学賞 北海道工業大学 岐阜女子大学 安全研究 大阪女子大学 同文館 大阪大谷大学 高野山大学 国画会 兵庫県立兵庫高等学校 戦略的創造研究推進事業 野依良治 取組む 水産学部 酪農学園大学 コピーライターズクラブ 帯広畜産大学 畜産学部 112kg 東京帝国大学農学部 追手門学院大学 大検 富士常葉大学 九州学院 デザイン・マネジメント シャンソン協会 ギメ 三重短期大学 観光学部 京都国立近代美術館 医学講座 放射線医学総合研究所 リウマチ科 暁星中学校・高等学校 わかしゃ 嘉義農林 文京学院大学 IFAC 現代俳句協会 東洋英和女学院 イカストラ アーバンデザイン 高山英華 石川賞 国際文化会館 サンフランシスコ国際映画祭 文理学 職業訓練法人 関西中学校 生産技術研究所 工科系 奈良大学 サステナブル オルタナティブ教育 ブフ 日本建築学会作品選奨 海野義雄 建築学者 秋田公立美術大学 工芸学部 弘三 医療保険事務 北野建設 日本工学院八王子専門学校 宮城教育大学 マネジメント研究科 截拳道 錬磨 群馬県立女子大学 建築業協会 エイズ治療拠点病院 経営史 河北大学 金日成総合大学 近代水道百選 ハンナ・リデル ハンセン病療養所 グラフィックアート センプル ギャルママ 至学館大学 名古屋放送局 京都教育大学 文史 タンマサート (財) 南開大学 日本近代文学会 UCSB 梅花女子大学 第一文学部 人文科学研究所 言語社会研究科 外務公務員 神戸女子大学 大気科学 田辺元 聖書神学 ブラウン塾 JAGDA 芸術研究科 謝金 平安女学院大学 岡正雄 高知工科大学 公立鳥取環境大学 経営情報学部 情報学研究科 東横学園女子短期大学 京都情報大学院大学 シンガポール国立大学 キンダー 俱乐 魚座 東京高等学校 曁南 生物資源科学部 音楽民族学 マラヤ大学 サンドハースト王立陸軍士官学校 鹿児島県議会議員 指揮幕僚課程 聖書宣教会 履正社 国立公衆衛生院 眼科学 マーケティング論 林学者 前橋工科大学 仏蘭西 システム工学部 乃川 建築士会 測量士補 30期生 筑波大学附属視覚特別支援学校 人材育成事業 基礎生物学研究所 理療 ）-） 原中学校 中部学院大学 東恩納寛惇 東洋美術学校 バンタンデザイン研究所 26期生 富士大学 新保博久 鹿島学園 東京高等師範 東呉大学 都市地理学 郁文館 秋田師範学校 ETH 岐阜県立岐阜商業高等学校 鷲見三郎 北海道科学大学 ]]。 セツ・モードセミナー ファイナンシャルプランナー 技術院 仏教学部 フレッチャースクール JOCエリートアカデミー 日本キリスト改革派教会 春陽会 安井賞 日本哲学会 ベンジャミン・リー 歯学研究科 歯科補綴学 徳川生物学研究所 精神神経科 デフリンピック 豊田工業大学 東京家政学院大学 昭和薬科大学 75期生 産業医科大学 浜松医科大学 消化器外科学 対がん 財経 日本児童文学者協会新人賞 95期生 淑徳 了徳寺学園 東京法学校 梅原末治 医学書院 武道学科 Vocational 札幌弁護士会 熊本商科大学 アールト 宝典 図書館情報大学 北陸大学 台北帝国大学 日本エネルギー経済研究所 東京国立文化財研究所 河竹賞 公共福祉 日本皮膚科学会 演劇教育 医療社会学 シルバー賞 四日市中央工業 実践女子大学 大阪芸術大学短期大学部 日本映画テレビプロデューサー協会 東洋美術史 全日本吹奏楽連盟 宮柊二 警察講習所 東京都現代美術館 じんぶん 国際地理学連合 ねむの木 雜誌 大村高等学校 日本大学松戸歯学部 亜細亜大 循環器科 神戸親和女子大学 暁星高等学校 株式会社ネクスト 服部栄養専門学校 医療技術評価 開発コンサルタント 海外留学制度 博士候補 総合学園ヒューマンアカデミー 高坂正顕 静岡高校 活水女子大学 新潟産業大学 山口高等商業学校 国立遺伝学研究所 日本法律学校 国際経済学科 音楽療法士 学園大学 福島県立医科大学 ローレンス・サマーズ 社会福祉学部 特任助教 日本美術家連盟 国際センター グラム・リーチ・ブライリー 静岡県立大学短期大学部 日本大学国際関係学部 東京薬科大学 森戸辰男 再春館製薬所 基礎工学部 劇団コスモス 日本大学歯学部 学士院賞 名誉所員 66巻 －\\u3000 体操伝習所 プロ・フィット声優養成所 アウグスチノ 社会言語学 宝石学 森林計画 国立医薬品食品衛生研究所 recherche YIC 高崎中学校 スタディー 北海道文化賞 國學院大学 農村計画 帝国書院 組織学会 セカンドオピニオン 東京物理学校 生理学研究所 伊藤正己 京都文教大学 東京歯科大学 学習院女子短期大学 武井武雄 学校運営協議会 全国智力運動会 政策医療 重症心身障害 生物理工学部 早稲田大学大学院アジア太平洋研究科 稻田 国際商科大学 ブリヂストン美術館 人間文化研究機構 原美術館 日本伝統工芸展 観光学 連合大学院 栄養学部 ケロッグ経営大学院 精密工学 東畑精一 国立政治大学 情報・システム研究機構 中京女子大学 ナスミス 鳥取環境大学 エコロジスト 高橋信次 航空宇宙技術研究所 薬学校 アクターズスクール広島 真宗学 仏教伝道文化賞 介護福祉 中央神学校 札幌短期大学 黄綬褒章 小4 日本獣医生命科学大学 體育 慶熙大学校 末永雅雄 児童会 知識経済 東雅夫 小児歯科学 日本歯科医師会 校内暴力 山岸徳平 ソッカー 麻酔科 日本バレエ協会 滋賀医科大学 培材 クラーク記念国際高等学校 秘書検定 光華 実用音楽 歴程 舎密局 北九州学術研究都市 関東学院 85期生 リハビリテーション科 金沢学院大学 経営戦略論 山極 宇宙作家クラブ 駒場キャンパス 茶華道 正心 東福岡高等学校 藤女子短期大学 ヤマギシズム 美容学校 ラポール 学校法人藤学園 基幹理工学部 北海道江別市 グレゴリアン 山階鳥類研究所 宮城学院 東福岡 俳人協会評論賞 システマ \\u3000< 札幌大谷短期大学 東京工業大学 ラテンアメリカ研究 国立清華大学 五行歌 いじめ自殺 流通科学大学 関西美術院 中国共産党中央党校 JCD 奥羽大学 大阪スクールオブミュージック専門学校 びわこ成蹊スポーツ大学 名誉研究員 大阪文化賞 ティーチャーズ 大阪音楽大学短期大学部 家庭医学 黒井千次 海軍飛行予科練習生 遠山啓 日本詩人クラブ \\u3000* ゲーム研究 NYU 雪氷学 情報デザイン 千住博 BMA 80期生 国際科学会議 北海学園北見大学 ファブラボ 兵庫県立美術館 札幌南 噴火予知 日本水道協会 ボストン音楽院 放送芸術学院 全米人文科学基金 学校法人中央大学 田原中学校 静岡県草薙総合運動場 藤村記念歴程賞 日本航空高等学校 老年医学 生物有機化学 学際情報学府 産学官連携 ENBU 米村でんじろう 安藤昌益 瀋陽軍区 広島県教育委員会 芦生 物部長穂 本格ミステリ作家クラブ 大阪経済法科大学 ワクナガレオリック 農政学 日本詩人クラブ賞 日本語教室 武蔵野学院大学 日本旅行作家協会 大との 九州歯科大学 仏教大学 平成音楽大学 PADI 安全学 通信工学 南博 ゴールドスミス・カレッジ 早稲田大学ビジネススクール 色彩検定 大阪市立大学 北陸高校 日本心理臨床学会 ユニオン・チャーチ 国立保健医療科学院 医用生体工学 京都大学医学部附属病院 水産講習所 第二病院 物語論 明治高校 宇宙医学 現代ビジネス 絵画学科 矢内原忠雄 人材開発 看護学研究科 カロリンスカ 多文化共生 点字図書館 生産工学 北海商科大学 京都サンガF.C.U-18 幼児教室 聖トマス大学 浦和高校 小石川植物園 国立高等学校 花園学園 名古屋高等工業学校 呼吸器科 国際教養科 神戸高校 天野貞祐 日本喜劇人協会 基礎工学 東京農林学校 高度救命救急センター 工芸科 演奏学科 人文大学 数研出版 尾木直樹 失読症 茨城県東海村 連合学校教育学研究科 大阪樟蔭女子大学 獨協学園 灘高校 ジュニアオーケストラ 日進月歩 生田教室 最優秀藤誠志賞 永井隆 原研 聖和大学 西谷啓治 核融合科学研究所 オステオパシー 橿原考古学研究所 伏見工業高校 連邦軍大学 日本火災 上野学園大学 Humanities 食品工学 ウィラメット大学 東日本国際大学 ：< 現代詩人賞 病児保育 日本美術会 大阪英語学校 文化評論 九州総合スポーツカレッジ 青森山田高等学校 大河内一男 鈴木鎮一 マッセー大学 山川出版社 高等農林学校 二科 無着 矢田部良吉 教育科学研究会 長島愛生園 東洋英和女学校 尚美ミュージックカレッジ専門学校 韓国芸術総合学校 宮部金吾 藤元 平山洋 Surgeons 西安交通大学 哺乳類学 山田秀三 男子新体操 予餞会 ニューハウス 航空大学校 ケニヨン 環境科学部 救急科 作新学院大学 スカースデール 経済地理学会 湖沼学 羽仁五郎 指導主事 整骨 警察大学 星陵 彰国社 心療 メディアアーツ ロリカリア 日本トンデモ本大賞 旧制中等学校 労働科学研究所 薬食 アドラー心理学 整形外科学 エスビー食品 小出義雄 Colegio 大阪大学医学部附属病院 ロサンゼルス・シティー・カレッジ 大阪府立国際児童文学館 全日本私立幼稚園連合会 日本保育協会 コロンバイン 江藤俊哉 東農大 人文学研究科 大阪商業講習所 ホフストラ スクールデュオ 日本ホッケー協会 朝鮮文化 公害防止管理者 一般曹候補生 実践神学 自衛隊中央病院 )】 東京英和学校 白日会 金沢医科大学 バンタン 税務大学校 LDC 霞山会 福井県立大学 法政大学野球部 捜真 養護助教諭 自立活動 理論生物学 国民中学 東京逓信病院 透谷 利根川進 総合福祉学部 東京高等工芸学校 市河三喜 アメリカ言語学会 同志社高等学校 長崎県立長崎東高等学校 児童心理学 エネルギー工学 高等映画学院 神奈川県立多摩高等学校 能代工業高校 国立文化財機構 マンガ学科 名古屋外国語大学 バレスティア・カルサ 環太平洋大学 恵泉女学園 津田梅子 核融合エネルギー 地域学部 DBA 看護学生 完山 文化フォーラム 土井ヶ浜遺跡 広島国際アニメーションフェスティバル 東京都立豊多摩高等学校 エコール・サントラル・パリ 前橋育英高等学校 慶應義塾大学湘南藤沢キャンパス 四日市大学 海事科学部 健祥会 慶應義塾志木高等学校 湘南工科大学 熊本工業高校 興亜工業 デール・カーネギー 促成 鉱床学 音楽図書館 三田学園 国際バカロレア資格 本郷キャンパス 早稲田キャンパス 長崎高等商業学校 ミネソタ州立大 湘南工科大学附属高等学校 芸能評論家 CEMS 全日本弓道連盟 琢朗 学校図書 森林土木 メディア教育開発センター 総合地球環境学研究所 学位記 天津武備学堂 プライベートスクール 東城大 開発教育 日本常民文化研究所 帝京大学グループ Associations 盛岡高等農林学校 ワクスマン ヒューマンファクター 皇學館大學 百ます計算 松山高等学校 五年生 龍谷大 千里国際学園 アーカイブズ 向山洋一 全国中学校水泳競技大会 東京法学社 環境教育プログラム 関西法律学校 初耳 源氏物語千年紀 歌壇賞 国民美術協会 浪越 日本大学短期大学部 趙元任 生物産業学部 ネットワークエンジニア ParisTech 福岡女子大学 日文研 UWC 東京文化財研究所 聖望学園 妻木頼黄 アテネフランセ バルセロナ自治大学 ヴュルテンベルク福音主義州教会 VERA 大学共同利用機関 松江中学校 教育技術 電子科 中国の宗教 キリスト者学生会 東京スクールオブミュージック専門学校 事業用操縦士 細江英公 ウエルネス 佐久総合病院 帝国農会 ガウチャー 川崎医療福祉大学 麻酔科学 茅盾文学賞 くらしき作陽大学 クラヴ・マガ 言語聴覚療法 常葉学園菊川高等学校 さくら国際高等学校 セントラルフロリダ大学 常葉大学 薬剤師国家試験 順正短期大学 セミナ 写真協会 東京音楽学院 野口整体 療護 バークマン・センター Jリーグ加盟を目指すクラブ 児童学 アルバータインターサイエンス 東京高等造園学校 上原敬二 ダイコロ 三星火災杯世界囲碁マスターズ 山梨県立図書館 UCA 日本心霊科学協会 Supérieure 斎藤報恩会 戸板女子短期大学 東京情報大学 放送大学学園法 醫學 十文字学園女子大学 暁星学園 未来館 横浜高等工業学校 顕忠院 本多光太郎 旧制小学校 推拿 雙葉学園 学校法人日本大学 美容科 ペンテコステ教会 ソディ 白門 愛知淑徳短期大学 自彊 IBSA 放送ウーマン賞 ビアーズ 草の根レベル ポールマン 学業不正 大阪成蹊大学 マーサ・レイン・コリンズ 普通学部 チェス・プロブレム 大阪中学校 医療メディエーター 関場 東京高等農林学校 KAIST 青年文法学派 熊本バンド コナミスポーツ バインランド 氣道 日本東洋医学会 SUA 滋慶学園グループ TLO 学都 癌研究会 日本武道協議会 田村剛 ラヒホイタヤ 全日本空手道連盟錬武会 防具付空手 東京聖書学院 中研 致道博物館 福音自由教会 東京神学塾 英数学館 東海中学校・高等学校 北海道女子短期大学 柏木聖書学院 活動履歴 産業高等学校 自彊術 第一工学部 愛生園 原田大六 麻帆良学園 ギャローデット 結核予防会 中村天風 シャックマン フィニッシングスクール 重村智計 大阪市立高等学校 修女 漁業調整委員会 フタバスズキリュウ SOBA ドレスメーカー学院 ワシラ 整体操法 スポーツ吹矢 フィビゲル サシン 心茶会'"
            ],
            "application/vnd.google.colaboratory.intrinsic+json": {
              "type": "string"
            }
          },
          "metadata": {},
          "execution_count": 18
        }
      ]
    },
    {
      "cell_type": "markdown",
      "source": [
        "* 全てのクラスタについて、**ランダムな50語**を表示"
      ],
      "metadata": {
        "id": "rqhlPN_t8xZx"
      }
    },
    {
      "cell_type": "code",
      "metadata": {
        "id": "lsCiMW4-Zmqc",
        "colab": {
          "base_uri": "https://localhost:8080/"
        },
        "outputId": "af10c3d4-762e-449b-e072-981219983bfe"
      },
      "source": [
        "np.random.seed(0)\n",
        "\n",
        "for i in range(len(sorted_clusters)):\n",
        "  members = words[labels == sorted_clusters[i]]\n",
        "  np.random.shuffle(members)\n",
        "  print(' '.join(members[:50]))\n",
        "  print('-'*80)"
      ],
      "execution_count": 19,
      "outputs": [
        {
          "output_type": "stream",
          "name": "stdout",
          "text": [
            "倍する ろうそ しゅうり マドー 1348 AYUSE KOZUE 大変さ チャタヌーガ・ルックアウツ 長陽 EF210 機動戦士ガンダムF90 Schiller 黄衣の王 シーエン 文身 日本SF新人賞 student referred 9370 独立行政法人経済産業研究所 メトロポール・ド・リヨン 怪物王女 三年式機関銃 ゆでん シニャンガ 荒井チェリー 1971年製 自動プログラミング シグニュー 黒須克彦 ピリカ ドラゴン桜 煮しめ 2686 松平義行 スペランツァFC大阪高槻 ヴァイルティンゲン Tia 沙村広明 ∑ 造作材 バトルドッジボール シレ ケイト・ベッキンセイル ハッピーデイズ 硫酸鉛 スターリツァ 川添智久 Hussain 他人の顔\n",
            "--------------------------------------------------------------------------------\n",
            "ラインホルト・メスナー トムフール 東京カテドラル聖マリア大聖堂 ウルトリア 紀ノ国屋 かかりきり 徳吉 キージンガー コスチュームプレイ しるす 静寛院宮 Toonz リュドヴィク・ジュリ ルイ・ブラン こどものおもちゃ 猪苗代氏 NNN昼のニュース ピュジョール 職役 ヘッズ・アップ 帝國館 あゆみの箱 素股 フェルナンド・ゴンサレス ネク 農業気象 ミニラボ 象徴詩 菊野 circular nmi 56.5% 悪球打ち 河角廣 コクトー・ツインズ 乗り継が パタプスコ ヘナン・バラオン 白松 スタジオアリス 11才 エストレラ スクィンチ PartIII 城南FC groupAsk 鍵のかかる部屋 ストークス・モーター 魚見 74式特大型トラック\n",
            "--------------------------------------------------------------------------------\n",
            "アイ・キャン Rae ギャル曽根 ガイアの夜明け ギルバート・アンド・サリヴァン ネギま!? FF2 「夢を死なせるわけにいかない」公演 Another World スレイヤーズ ソ・ラ・ノ・ヲ・ト UDON MINMI 女の一生 リブレ出版 たいやき カイ・シデン ソフト・ロック ヴァニラウェア 四号機 ヴェリー シャンブロウ アニメ魂 チバユウスケ FILMS SAME 愛の讃歌 アンダーグラウンド映画 倒叙 あなたがここにいてほしい ベイビーレイズJAPAN M@STER VERSION 七月鏡一 ファルコムレーベル CAPTAIN 藤村歩 ジュジュ mihimaru GT バイオマン すっごい エロチシズム STARDUST CLICK だ～ ついおく 誘惑のガーター GEORGE ニュー・ミュージカル・エクスプレス イーストウエスト ドラゴンボールGT\n",
            "--------------------------------------------------------------------------------\n",
            "ヨーロッパユースオリンピックフェスティバル 角盈男 トゥエンテ インターゾーン ユナイテッドリーグ・ベースボール バレーボール全日本女子 木佐貫洋 田代未来 スティーブ・マクラーレン スコット・カズミアー クリスチャン・クリエン ジェフ市原 マイク・ディ・メッリオ カリファノ ラグナ・セカ キリンカップ オスロオリンピック 第67回NHK紅白歌合戦 ブブカ 82分 エネルギー・コットブス 小鶴誠 慶南FC ウィレム・ルスカ ヒセラ・ドゥルコ 前田遼一 プラウディット アンドレ・ロッテラー オースティン・トロス ジョシュ・ジョンソン ケス・デパーニュ ニューヨーク・ペンリーグ トルペド JWBL 18年目 グッデン エディ・ジョーダン 水野和敏 トニー・カナーン ポートランド・ビーバーズ ゴードン・ストラカン ツアー・ダウンアンダー 広陵高等学校 マーディ・フィッシュ スニガ 皆勤賞 照國 デリー・マシューズ 1974 FIFAワールドカップ 256km\n",
            "--------------------------------------------------------------------------------\n",
            "Barber ナバロ Chrysler Hawai Witt gum Yale Em Minority several Lune 21グラム gan Avalanche mir Cello Corn Macau Arizona welding hope Soo comfort Brethren エガリテ empty タムワース qosi Estádio creative Fortuna deal Combination グナー Naming Chosen Distant Alle Node イート Botany \"／ フロレアル institutions Thurston Ladder Matador NTTドコモレッドハリケーンズ holy ars\n",
            "--------------------------------------------------------------------------------\n",
            "シャロン＝アン＝シャンパーニュ 51km エカテリノスラフ エピナル フダイダ エルティシ川 サンファン ラインハイム ドルドレヒト シャトー＝シノン 115度 オリヤー エンゲルン ペンリン シュヴェ トゥルース・オア・コンシクエンシーズ 玉樹チベット族自治州 ダイラム ザプレシチ チエンラーイ スロバキア共和国国民議会 グアダラハーラ ストラスクライド ヒデンハウゼン マキナック橋 コモロ諸島 ミルバーン 水飲み場 マルシュ 3800人 オーバーズルム バンメンタール イリノイ州議会 ハスベルゲン キャンドルマス 静かの海 ムン ドブリチ ラリサ トローサ グワーハーティー ポーテージ ラ・ロッシュ＝シュル＝ヨン メグズ郡 テハチャピ イノヴロツワフ ギルギット・バルティスタン エプフェンバッハ クリム ヘアウッド\n",
            "--------------------------------------------------------------------------------\n",
            "マティアス・グリューネヴァルト ピープス サタデー・ナイト・フィーバー テイザー ブリヂストン・アリーナ Henrietta サバール ウォルター・バーデ ヘルボーイ レーバー オマロサ ジーザス・クライスト・スーパースター アンシュッツ ジーグフェルド トムスン アンソニー・ホプキンス ベルボーイ ヌーノ モルテン ヴィンセント・プライス マトロック レオポルド・ゴドフスキー ゴールディ・ホーン 自由学校 十二夜 ワッハ ベン・アフレック ジョルジュ・エネスコ ジョン・ヴォイト エドワード・スタイケン トマス・ゲインズバラ アブ・ニダル 日本アート・シアター・ギルド フランス・ハルス ジョン・ファヴロー Belinda ネメス ウフーラ ベルクマン レッド・ホット メユール ニッキ ブリュワー マリ・クレール ポポーフ オリヴィア・デ・ハヴィランド Assassin マッデン 三児 マーヴェリック\n",
            "--------------------------------------------------------------------------------\n",
            "丹南郡 徳安 能見町 神戸中央 日本民藝館 秋田県立大館鳳鳴高等学校 ブイコフ 沼田ダム計画 NHK盛岡放送局 沖縄本島のバス路線 荒坂 北海道・北 間門 多和 鬼首温泉 プッシュバック 馬見古墳群 安蘇 浅越 馬場大門のケヤキ並木 東浦駅 鹿島中学校 軽川 寺田駅 大房 土壌汚染対策 ヤマハスタジアム 鬼柳 梶並 大師橋 皇国地誌 内の倉ダム 鳴門公園 江原町 岡本町 トムラウシ 国道310号 緑の島 紫雲丸事故 いっちゅう キャンプ・ 磯部小学校 5.6m 西宮球技場 盛岡南 ケスタ 南成瀬 カルチャーブレーン 哲学の道 神戸研究学園都市\n",
            "--------------------------------------------------------------------------------\n",
            "出場枠 19年ぶり ダイオライト記念 世界選手権大会 Jリーグユース選手権大会 日経賞 朝青龍 ホウヨウボーイ 4度 横綱 FIFAクラブ世界選手権 62勝 井上尚弥 ゴルディコヴァ トーナメント 中国代表 出場 森下広一 井上康生 六大学野球 2009 スウェーデン大会 ボストンマラソン フライ級 ゴドルフィンマイル 29周目 古馬 神奈川大会 今期 龍帝 ミハルカス パシフィッククラシックステークス 一本勝ち ハードバージ サンクスギビング スウィンドン・タウン 決勝 J1昇格プレーオフ 高松宮杯 サクラシンゲキ 中村和裕 走 演技構成点 海外遠征 武豊 成田和也 34位 マートルウッド Xゲームズ 俳句甲子園\n",
            "--------------------------------------------------------------------------------\n",
            "秀介 定直 楠部大吉郎 大鳴戸部屋 蝋山 アイ子 剛士 川喜田 長内 岡元 雪奈 和憲 榛名由梨 長四郎 水菜 68期 雅康 諸富 信郎 しげよ 文男 金曜会 博義 嘉文 妙泉寺 其一 康晴 小坂徳三郎 直彦 小島烏水 幸生 市太郎 野村徳七 上山英一郎 瓢亭 横澤 広司 小河原 繁蔵 恒吉 源一郎 船田中 矢数道明 有島一郎 拓朗 金治 はな子 ひめゆりの塔 前尾繁三郎 千賀ノ浦部屋\n",
            "--------------------------------------------------------------------------------\n",
            "RealPlayer BTX WVGA コペン サウンドボード PC-UNIX e3 海上治安活動 ブルースペックCD SVX コスダック エントゥームド アクワイア クリエイティブテクノロジー 半自動ドア 904SH D12 ティック デュアル・モード・ビークル アームレスト honto ファクトリーオートメーション SDC 96K Appstore RDA ゲームボーイプレーヤー ハード・ハウス BusyBox GPIO MIDS ドアカブリオレ 手順前後 フロム・ジ・アッシュズ キッズケータイ Furious GEU STK コンテナー AIL LVM BY-SA SC-88 昼間点灯 GPR 8048 さくらライナー 6.5cm 通信研究所 Opcode\n",
            "--------------------------------------------------------------------------------\n",
            "ゾバイダ バルー あいも 取りつい 気をつけ 渇く いがみ合っ 同じか 朱実 泣きつか 貧苦 放り込み 商魂 言伝 衝動買い 紅く 捨吉 ひとかけら 犬田 勝ち取ら 寝取ら 立ちこめ 雨あられ シェルク 千変万化 七つ道具 思い上がり 獠 心象風景 泳がせ 殺気立っ 分ち 差し掛かり 品定め イーノック ラファエラ 同感 押しやっ お待 マータ フォッコ 包道乙 フェイフォン 元少年 最敬礼 付きまとい 自殺願望 奮う 忌み嫌い さしずめ\n",
            "--------------------------------------------------------------------------------\n",
            "聞得大君 迎接 久須 宮伯 道信 宋弁 湯河 転輪聖王 マモン 近し 満天星 アメノヒボコ 国慶 』,『 耳なし芳一 賁郎 破魔弓 大智度論 大好 内位 山主 七座神社 神武天皇祭 治天下大王 更級日記 輪読 多聞天 海法 ドイツ法学 呉承恩 鴟尾 新勅撰和歌集 草枕 阪谷芳郎 楊梅 宣恵 鎮江市 明時 七音 公俊 石庫門 成唯識論 拳聖 つたわる 考試院 大和本草 伏水 永興県 黄丹 内裏式\n",
            "--------------------------------------------------------------------------------\n",
            "分轄 北川辺 大阪市中央体育館 福高 斯福 北村山 渡利 登米町 奥飛騨 八王子神社 西門前 徳野 フルーヒウ 永利 ホールダウン金物 溝渕 中央東 茗溪学園 稲野 妙興寺 山本通 常磐公園 横浜市都筑区 通称 大同区 紫雲寺 奈良県立橿原考古学研究所 広瀬町 伏木海陸運送 くやくしょ 山田小学校 静岡県御殿場市 富士見橋 ひばりが丘 宝鶏市 西新井大師 曹渓寺 天間 蒲田区 隠岐の島町 NEWSエンターテインメント 今井村 川崎村 吾妻村 下中島 金田町 井口町 加西 曾根田 浪岡町\n",
            "--------------------------------------------------------------------------------\n",
            "藤山 大澤 清介 弘一 安藤 大二 裕次郎 佐一 北澤 使い込み 周三 雨宮 唯 源さん 義太郎 茶々 静馬 悠子 恵司 タツ 野田 廣田 森島 克己 梅谷 新名 信行 おくら 昌子 山崎 笠原 滝川 杉崎 明人 春成 高嶋 黒須 田村 貴子 米山 茂木 諒 とみの 白崎 雷部屋 富樫 庫之助 寺尾 吉富 智也\n",
            "--------------------------------------------------------------------------------\n",
            "Seven Ton Courage Cyberpunk Seed Sentimental child Accademia Truck Poison Glory Tales トリジェル Experiments I will Dixie Dee Throw IPW Soccer Looks Ole Mastering Giro Medal of Honor じょきょく Money Leben Slim That throughout mal Stan Darling Trail Honour Hawaii Past Groove knows Solid sich Hear Outer Ash Dry Harbor factory CHAR Power\n",
            "--------------------------------------------------------------------------------\n",
            "フィラデルフィア・セブンティシクサーズ 長谷見昌弘 マリノス ヘディングシュート ワンバウンド ロッキーズ 山下大輔 テキサス・レジェンズ 第34回スーパーボウル ロマーリオ 名誉監督 マダックス 星稜高校 勝利至上主義 ゾーンプレス 移籍 ロナウジーニョ 時報イーグルス 投球練習 ボールパーク 香川伸行 ピッツバーグ・パイレーツ トッテナム テロル 小久保裕紀 ブラジル代表 佐藤義則 パワプロ リーヴァイ・ライプハイマー アリーナフットボールリーグ セットプレー アメリカン・フットボール 活躍 J1復帰 前園 浦和レッドダイヤモンズ 福地寿樹 稲本潤一 異彩 NASL チーム全体 タイタンズ 西武球場 ロシア代表 Aクラス 藤村富美男 ディバッシャー BABIP ドラフト外入団 ヘテ\n",
            "--------------------------------------------------------------------------------\n",
            "ASIN Utilities 55℃ Wu tire fi fl ODS AOP Bio artificial rapid platform nowiki computing curve Value ')、 used mean Pond inner MPE driver point Bataillon distribution option JEM \"=\" replication Uranium if Scale unit specialized twin Tactical CHIP general =- ISSN obj ジャクェン・フ technical select Rhino page レモ Pee\n",
            "--------------------------------------------------------------------------------\n",
            "大阪府羽曳野市 久世郡 二ツ井町 奈井江町 愛媛県越智 矢掛町 泊村 三重町 牧之原市 大野城市 南予地方 消防本部 岩見沢市 荘川 神埼郡 愛知県公安委員会 平川市 明野 大間々町 忠清北道 地方管理空港 双葉郡 置戸町 美方 市原市 宇美町 金峰 扇町 新庄市 白州町 企業庁 沼垂 川俣町 伊敷 東庄町 土浦市 猿島 東御市 広島県庄原市 湖南市 中関 加古郡 戸頭 朝日村 美保関町 安芸郡 玖珠 地方道路公社 葛南 群馬県渋川市\n",
            "--------------------------------------------------------------------------------\n",
            "openSUSE Xerox 電話帳 バグフィックス タイムライン マイクロコンピュータ 大戦略 IPP 携帯機器 Nuke Lotus Notes CAST 階差機関 ESRB CMT ファミリーベーシック パッチパネル Chrome PLOS オフライン フィーチャー・フォン プログラミング デモシーン ストアードフェアシステム Skype ハンドヘルドコンピュータ IIOP スカイプ コンパイラ 仮想現実 Nintendo Switch ダウングレード パンチカード 有線LAN MAPI DDP コンポジット映像信号 v10 Directive アウトライン ファクシミリ プロセス識別子 Deflate WSGI 自作パソコン 関係データベース管理システム オペコード プリインストール クラッキング CCS\n",
            "--------------------------------------------------------------------------------\n",
            "金吾 中老 真如院 武氏 対馬藩主 足利義量 馬之助 徳川義親 伊周 高成 太政大臣 勘太郎 亀山天皇 島津忠良 有世 七世 信輔 信光 広瀬淡窓 橘氏 正勝 増誉 時信 隆康 饗応役 黒川氏 養女 政光 家の子 膳所藩 建礼門 吉岡宿 娥 武蔵円明流 興義 金春 比企能員 議奏 江川英龍 小林虎三郎 切米 正経 弥六 不行跡 景綱 頼純 道節 宗光 皇嗣 列席\n",
            "--------------------------------------------------------------------------------\n",
            "臨 荀崧 覇 節度使 愛新覚羅 勾当内侍 蕭正 蜀 俟醜 璆 毓 開府 慕容盛 厳 曹真 陵城 竇氏 馮異 桂林 揚州市 独孤信 諸方 纂 武恵妃 鄭氏政権 工農 沈 李憲 河陽 寧海 ペイライエウス 暹 元澄 海東 夤 二道 平定 右水 アラシャン 雲南省 張果 遼西 汴京 鮮于 簡文帝 睢陽 吐火 才幹 祏 胡朝\n",
            "--------------------------------------------------------------------------------\n",
            "オールディフェンシブ レッグス gumi コラボユニット プライム feat はつね SMA TRIBUTE DoCoMo Gyao SHIMA MISS 102話 リッスン GRAND 豊洲PIT ネイビー KATZE 秦基博 FIRE GAME WELCOME Rainy エヴァンゲリオン LOVERS SOCCER BREATH イフ PandaBoY Caramel REAL docomo PRO series エレメンツ 機動戦士ガンダムAGE VS 超時空要塞マクロス 7th ZAQ eX OUT X'mas Vol.4 SION 徳間ジャパンコミュニケーションズ -」（ BREEZE よしもとアール・アンド・シー AWAY スプリット\n",
            "--------------------------------------------------------------------------------\n",
            "尾久 高架鉄道 熊本市交通局 広電 西鉄グループ 西大阪線 国際ターミナル 稚内駅 東洋バス 八条口 大回り 常磐道 岩槻街道 北野白梅町 栄駅 鶴橋駅 連絡運輸 池田駅 路線バス 信越本線 名鉄一宮駅 セントレア 灰塚ダム 日暮里 篠ノ井線 余部橋梁 神姫グリーンバス 杉田駅 小牧線 暫定2車線 銚子電気鉄道 ワシントンホテル 丁字路 紀伊勝浦駅 京急線 マリンライナー サンセット・リミテッド ルート バスレーン 京都バス 公共交通機関 射水線 釧路駅 たまプラーザ駅 日ノ丸自動車 明石海峡大橋 アンダーパス サウスウェスト・チーフ 中野駅 線\n",
            "--------------------------------------------------------------------------------\n",
            "らんぶ しんぜん あど みずな ひょうじゅん 奈央 なま ふせ ほくとう おお きょうは ょういん けんきゅうしょ にゅうもん ぶひ うしん りんぐ しゅうゆう むせ なげ どうじょ とくべつ めん にっこう きこ しゅう くに あきば はちまん まじん せんだい うて つうち べんとう まじ えっ ばけ おうざ うえの しん わらい がくぶ てらす たいひ せきどう あや ぞね あやこ ほんま けんじ\n",
            "--------------------------------------------------------------------------------\n",
            "平野駅 西所沢駅 岐阜駅前駅 ラインネッカー フレンテ 竜ヶ崎線 今治小松自動車道 直航 新夕張駅 祇園新道 黒部川第四発電所 羽越 豊浜 四季が丘 津軽海峡フェリー 国道338号 釜山交通公社 東府中駅 西武球場前駅 ムサシトミヨ 田川後藤寺駅 瀬棚線 橋北 PDU 路用 横山駅 河原田駅 オープリー・ミルズ 高橋川 北恵那鉄道線 小坂線 ラーンタール 太平洋フェリー 五十鈴川駅 新井薬師前駅 上六 西田原本駅 鷲ヶ峰 広島高速4号線 7011 赤羽根 辺戸岬 江東橋 八日市駅 本庄早稲田駅 江川町 天神地下街 第二京浜 山野線 中央林間\n",
            "--------------------------------------------------------------------------------\n",
            "うたのえほん ヤン坊 アチャコ たこ八郎 フィル・コールソン 上原謙 木村祐一 堤下 大森南朋 大川透 岡田茉莉子 桐生一馬 上原敏 SmaSTATION!! ジェットマン 後藤邑子 晶夫 Doll☆Elements 田端義夫 輝竜 貫地谷しほり クリス・ペプラー シナリオコンクール 岡野ハジメ 森茉莉 エランドール賞 西川のりお 次長課長 スターライト学園 坂上忍 H8 橋蔵 生天目仁美 とんねるずの生でダラダラいかせて!! 八木亜希子 山村美紗 原哲夫 ケンイチ イ・ビョンホン おなじく カープファン トレンディドラマ シニアスタッフ ジャリズム 大佛 佐野史郎 東京世田谷 笠置シヅ子 ウォーターボーイズ 坂田明\n",
            "--------------------------------------------------------------------------------\n",
            "冷泉院 劉喜 唐橋家 朝香宮鳩彦王 ケンドール・ウインダム 政繁 礼銭 義篤 為久 広順 左沢 阿波根 西江原 利政 史渙 草川 喜連川判鑑 正景 小川祐忠 坊や哲 三根山藩 宗賀 鎌倉権五郎 橋本左内 盛房 黒田城 黒田官兵衛 蓮誓 坂氏 鎌倉年代記 聖園 天王寺の戦い 建中寺 宮将軍 壬生藩 孫資 持直 朝良 夜久野 大光寺城 治田 景国 甘利虎泰 宣平 頼泰 三好康長 久頼 本城常光 北条仲時 敦賀郡\n",
            "--------------------------------------------------------------------------------\n",
            "CBSA 三大事業 サイト売買 化学物質の審査及び製造等の規制に関する法律 公安審査委員会 訪問介護 整備管理者 底辺への競争 スターどっきり 緑資源機構 タイムカード 転出入 裁判管轄 同番 琉球住民 自判 仙台地方裁判所 陸軍兵器行政本部 章節 生活介護 政党助成法 集団移転 南方開発金庫 YOSAKOIソーラン 一進 バルコ・スキャンダル ばい煙 日雇労働者 政府系金融機関 日本遺族会 事務所費 手続的 修正申告 通貨発行権 在留カード 分有 内国民待遇 利付債 医療少年院 古物営業法 投融資 市場介入 ICRP 国土交通部 通貨の単位及び貨幣の発行等に関する法律 陸伯鴻 買取請求 事業法 Nupedia 独自取材\n",
            "--------------------------------------------------------------------------------\n",
            "シャボフスキー アグレマン シンドーナ 月刊朝鮮 蘇貞昌 トーレン アフマディーヤ ドイツの首相 爆発物処理班 アルバニア・マフィア 鹿地亘 東京・生活者ネットワーク イロンシ コンピュータソフトウェア協会 ケベック解放戦線 慰安婦制度 汎テュルク主義 ライヒスコンコルダート 2014年東京都知事選挙 第32回衆議院議員総選挙 アルチーデ・デ・ガスペリ シビリアン・コントロール おとしめる ピエール・ムニエ 鈴木寛 勝間田清一 ユナイテッド・アイリッシュメン 民主国民党 強硬外交 中国民主同盟 JPU 南部スーダン 南米諸国連合 外国人嫌悪 サルド 国際テロ カタルーニャ・ナショナリズム Provisional 革命児 チョイバルサン 法理独立 李基澤 国際電気通信株式会社 シュトイバー 内閣総理 復興院 鍾和 ケン・リヴィングストン ムスカット 大分県議会\n",
            "--------------------------------------------------------------------------------\n",
            "チャウ アンド セス ラグビー校 ホブゴブリン プリムローズ ケニー ジョリー ロイヤル ハップ エベレット ベイブ ゴド Busby マックイーン イーサン フランクリン モーズ ダウニング テイタム リッチー クランペット アンダーソン ウォーター ブラックウェル ブー ベーデン ケイトリン クッシング ボイラン ロナン ステ シューメーカー デイリーニューズ ハリウッド・ブラックリスト レナ ブランチ トニー エスピノサ ポル カーロス フローラ ジーンと ビルト オヘア ホッペ マミー ゲリ シュー スクラッグス\n",
            "--------------------------------------------------------------------------------\n",
            "物足りなかっ 出来映え 自嘲 とかく 卑下 ほとほと ほしさ 礼儀 欝 下さい 申し上げる えらく 名言 ちゃっ お糸 い者 罪悪感 しゃべり 演技者 どんな 後ろ姿 嫌い 立川こしら 距離感 しごき 気分転換 よろしい 涼介 ぜひ 清玄 機知 諸君 平素 ていねい それとなく クール ボンクラ 真似る ?」 微笑 満足感 辞めろ アレグレット ベルナ 割と さわり 髭 何でも 痛い 親愛\n",
            "--------------------------------------------------------------------------------\n",
            "羅先 ファーストネーション ビシュケク イタロ チベット自治区 カルーガ州 カスピ海 ヘルツェゴヴィナ マーストリヒト チベット族 マレーシア連邦 タラ パッターニー県 コソボ・メトヒヤ ビトリア ダナン ローマカトリック ノイエ・ヴェストフェリシェ ドミニカ国 ヌナブト準州 クラスノヤルスク ヤウンデ マザーリシャリーフ 殖民 フリジア 北緯31度線 グレナディーン諸島 インド系 ヨルダン川西岸地区 カザマンス ハイチ スマラン オプシュティナ アルワル クライナ ベルベル スカイ島 綿陽市 モルダビア マリティーム イェ 国の標語 バントゥー リンブルフ ズムテ キルギス語 シティ・オブ・シドニー 西ネグロス バンスカー・ビストリツァ タソス\n",
            "--------------------------------------------------------------------------------\n",
            "コイルス 真空計 コリオリ力 逆格子空間 Pub コフート 辞書学 ディリクレの原理 Blowfish 逆2乗の法則 モダリティ グロフ アダム・ビナティエリ 陰翳 カビボ ダッチロール ソーラー・アップドラフト・タワー ロジスティック曲線 面心立方格子 物質微分 事細かく テクニカル指標 逆散乱 モラルハザード Cm クレペリン 惑星の定義 前期量子論 空積 サッケーリ 理論段数 ホールズワース 日本式ローマ字 ポール・エルデシュ 地球の年齢 普遍文法 X線天文学 構造的暴力 弾性波 PDCAサイクル BeF データ記述言語 恐怖の大王 ハッカー文化 グスタフ・キルヒホフ ナローバンド D-Wave 超幾何級数 オストロム EKBO\n",
            "--------------------------------------------------------------------------------\n",
            "朱雀 那比 松原の石取祭 睡 東源 樵 穿 凝 翔丸 酔 奉書紙 喰 戸隠山 頂山 九曜 佐久本 討入 立成 華林 小町 霜夜 涯 大刀 咫 越山 山邑 あんどん 經 はふ 魯班 国隆 乙姫 阿州 講式 人生劇場 画き 綺 吾 今上 閼伽井 禽獣 杢 龍文 長姫 饒速日命 烟 漱 蛇骨 大太刀 藤舎\n",
            "--------------------------------------------------------------------------------\n",
            "4004 ザ・シャーラタンズ )（） Gil Trumpet Goodrich Shelby Usher Berger Malcolm Emile Caesar Dal Guido Gottlieb ジョン・トーマス USAF Marguerite Petrus Luis Werke Sultan Figueroa Brno Valentine Mohr Middleton Keenan Flugzeugbau Maldonado Abad Flores Ashley Krauss Gonzalez 1867 Cooke Preah Schumacher Neu アーノルト Donaldson USCGC ウッディン Luke Eberhard Antônio Pen Loki Internacional\n",
            "--------------------------------------------------------------------------------\n",
            "非ユークリッド幾何学 ジョルダン 共軛 リターンアドレス ウェダーバーン クリーネ S&P500 慣性モーメント 異音 多対一還元 クラスター 鞍点 助動詞 重根 電気抵抗 ダニエル・ベルヌーイ 積 カテナ 定常波 項書き換え 表面波 差分 集合体 自乗 一次 ソート テトレーション 並行性 スキーマ 結合法則 正負 パラメトリック MoO 平文 ヴェイユコホモロジー 励起状態 判別式 完全系列 二階述語論理 ド・ブロイ フェリックス・クライン 除数 標準模型 固定物体 ..., 幾何学 概周期函数 メンガー 逆写像 ベズー\n",
            "--------------------------------------------------------------------------------\n",
            "バナスター・タールトン コンホヴァル 戚夫 北守 ペピータ チューラ カリロエー ロンギヌス マリア・カロリーナ エウトロピウス チャクラパット 437年 マチルド クセノフォン 煚 デメトリウス ブジェク ベルレブルク アルファイド キルデリク アンゲロス ローゼンクロイツ ガジ ナタリー・ドーマー ラウール ラーマ王子 アンブロジアーナ イオニアの反乱 マウソロス シャカ キャサリン・ハワード 呂尚 妻達 ムウタスィム 162年 ひきとっ クロティルデ ヘロデ・アンティパス カーリヤ ラカブ バヌー Barak ポワトヴァン スタヴローギン アルクマイオーン 二四 ミーリー ウァレンス フォルモスス アベイ\n",
            "--------------------------------------------------------------------------------\n",
            "矢作川 国中地方 小仏峠 伊勢佐木町 甲州道中 久米島 土留 秋葉ダム 横手盆地 丘上 那須野が原 白馬岳 津山盆地 貯木場 善福寺川 要所 奈良盆地 松田川 小金宿 岨 金毘羅街道 上高野 新町通 一本木 姶良カルデラ 来島海峡 日本三大急流 外大 荒浜 馬瀬川 伊良湖岬 隅田公園 岩鼻 新京極通 準用河川 厚別川 西麓 金州区 林道 平山城 権堂 不知火海 知多半島 彦島 千歳川 在る 浦戸湾 信越地方 投入堂 段丘\n",
            "--------------------------------------------------------------------------------\n",
            "マインドコントロール アンファンス 秘密基地 オルフェノク ヤンダル・ゾッグ ゴン ダンク ミンミン 紫龍 地球外生命 アンノウン 武闘家 NERV テレヴィア コピーロボット ティンペット 闇の組織 キン肉マンII世 ペガサス 重囲 パーソナルカラー ラウンダー クラウザー アスラ ZAP 一撃必殺 クワトロ・バジーナ ハヤト シナンジュ 尖兵 ナヴィ ガブスレイ SWORD 雲間 悪魔超人 パラレルワールド スコール ストーリー メフィスト フェアリイ ラルヴァ ゼハート ホイルジャック キャプテン・アメリカ デイダラ ゴルゴン ウルトラセブン ジャーク将軍 ユウナ テイルス\n",
            "--------------------------------------------------------------------------------\n",
            "京都市伏見区 森藩 森吉 松代町 鳥居前 上野原 上之 助任 鎌倉市 鶴ヶ岡城 猿橋 八徳 東京都台東区谷中 鶴屋 苫 大久保村 大善寺 押小路 宇多川 屯所 五良 定助 漁業協同組合連合会 日本キリスト教会 答志郡 蘇我 本字 麻布区 甑島 山形県高畠町 大鳥大社 長久寺 大船 都田 八軒 臥雲辰致 汶山 修善寺 津家 布屋 沖津 中津川 大浪 宮山 稲葉地 駿東郡 佐波 有楽 東別院 天台真盛宗\n",
            "--------------------------------------------------------------------------------\n",
            "採火 慈光寺 宝恵 都邑 明神 富士山興法寺 葵祭 新嘗祭 遊山 祭典競馬 東京国立博物館 比良 山階寺 妙法院 渡 神社明細帳 湯屋 瑞泉寺 問注所 開湯伝説 奥 金鈴塚古墳 自身番 櫓 歌川広重 八柱 聚楽第 応神天皇 長講堂 妻有 羽黒山 三宝 平等院 御構 保田妙本寺 舎利 名神大 願文 一本松 追儺 官寺 峡 町火消 鬼門除け 武徳殿 土塁 即位の礼 茶室 大聖院 中の間\n",
            "--------------------------------------------------------------------------------\n",
            "聞い 死 平手打ち 悪霊 欲する 爆殺 女子供 よそ者 荒れ果て 思いがけない 憎い 妬ま ツォウ族 捕らわれる 念 座し 浴びせかけ 漁っ 毒殺 腹中 東丈 奪い返す 赴く 滅する 出迎え 看取ら 葬る 裏切ら 黙ら 平謝り 申しつけ 所望 宥め 抱き上げ 罵ら 飛び交っ 退散 信じる 死に場所 明け渡し 籠っ あわて 外敵 送っ 謝絶 武勲 御する 計略 怖 柳生一\n",
            "--------------------------------------------------------------------------------\n",
            "ティ・ジョイ ツネイシホールディングス JSS 日本国内航空 カネボウ化粧品 佐賀新聞 三井物産 西武自動車販売 五番館 牧場長 カドヤ 全日空ホテルズ 人材派遣 信用金庫 名鉄百貨店 全国銀行協会 JR西日本グループ 西武自動車 ウィルコム沖縄 共石 フィットネスクラブ ヒカリ屋 日本食品 阪急阪神ホールディングス 三越伊勢丹 アセット 電気通信局 沖電気 証券子会社 近鉄不動産 箱根土地 ソフト・オン・デマンド 三省堂書店 日鋼 ピアット 住友林業 全国農業協同組合連合会 建設コンサルタント 福岡日日新聞 J-PHONE 井門 メガターミナルオペレーター 三井住友カード ミーレ 阪急東宝グループ アサヒ飲料 ロベルト・カルヴィ 関水金属 博多湾鉄道汽船 ベスト電器\n",
            "--------------------------------------------------------------------------------\n",
            "ケースレス弾薬 スポーク スタシオン 空気力学 開閉器 DBM BESK 雷サージ 加入者線 インターホン CLF コネクタ 無響室 登坂 整流子電動機 フォトリソグラフィ 使い切り ツェナーダイオード 写真乾板 コンパレータ 造水 駆動 スキルポイント プレキャストコンクリート インサート KEKB 弁装置 閉力 テレメトリー 二重化 組立 湯沸かし IERS FLIR 実証試験 SD2 フライバイ OFF 二次空気導入装置 EGR レーザ タイプライタ 温暖化係数 噴化 確率変動 レコードプレーヤー ブレ ショートリコイル 着脱 SCR\n",
            "--------------------------------------------------------------------------------\n",
            "フラッグスタッフ ブラウント エパルヒア ララミー ザカスピ パリ郊外 ピカリング ルートヴィヒスハーフェン ウィスキー税反乱 ハイデルベルク マーケット・ストリート チェスターフィールド シュタイアーベルク ギンス ケンタッキー州議会 PNC 州境 田園 メイヨー ペンシルヴァニア アルコベンダス モアヘッドシティ ヨハネスブルク オールドバラ アントワープ フローニンゲン イングリッシュ・ヘリテッジ サッカースタジアム インネレシュタット ブランズウィック オウ オーシュ ゴスティヴァル マルミ フレデリック・ダグラス カナル・グランデ アメリカ合衆国国勢調査局 ヤスイ アレゲーニー ウォールズ アラバマ マーフリーズボロ ウェストフィールド イラー プレイノ バレニー カウンシル ホルストン ケネソー 北緯49度線\n",
            "--------------------------------------------------------------------------------\n",
            "臨める 両足 研ぐ 飛び跳ね ゴミ箱 差し換え バテ 胸板 眼鏡 引き付け 使い慣れ たたみ 尻餅 破魔 着る せり上 揺する 剥げ 一升瓶 た所 放屁 まっすぐ ブラジャー 黒焦げ 横腹 やわらげ 立ち寄る 真新しい 浅黒く 着替える 通り過ぎ 逆立て 引き寄せ 抜き差し 飛び出る 映る ガルガノ ファイアボール 渡せる 出かける 通行人 離し さまよう 戸棚 刺す たまっ 入りこみ 縮め 点け 矢羽根\n",
            "--------------------------------------------------------------------------------\n",
            "比較政治学 抑圧 天賦 ヒューマニズム 住民参加 逆行 循環型社会 願望 チャネリング 模索 バクティ モダニスト 郷土愛 不可知論 地形学 論理実証主義 消費者運動 軌を一に 体系 学術用語 系統学 外在 オカルティズム 酬 精神 大望 多角 文章 石言葉 完全雇用 否定論 重層 営々 ムゥタズィラ 実存主義 世俗 あり方 創り出す ウーマンリブ 歴史的事実 排し 体現 先進的 構造機能主義 日本主義 地球環境問題 神経科学 政略 生得 ナノテクノロジー\n",
            "--------------------------------------------------------------------------------\n",
            "パパンドレウ ロシア内務省 ユーゴ 独島 帝国大管区 レンドリース アフリカ連合 五四運動 ユーゴスラビア連邦共和国 東西教会 ゴローニン事件 FEMA 抵抗勢力 ハリーリー 占領軍 扇動 ゲットー 反核 外遊 ファシスト党 非常事態 CIA 戦時 英連邦 本国送還 美麗島事件 ローマ条約 団 国家弁務官 フランス領インドシナ 反米 マッツィーニ 交戦規定 ゾルゲ事件 主体思想 政府高官 ロシアファシスト党 PAIGC ミュンヘン一揆 在外公館 バシール ウルグアイ・ラウンド 軍事部隊 欧米列強 戦後処理 ザカフカース 開発独裁 国家社会主義党 交渉 イスラエル諜報特務庁\n",
            "--------------------------------------------------------------------------------\n",
            "文科 デザイン工学科 花園大学 国際高等学校 尚美学園大学 グリークラブ ウィーン工科大学 日本文学 九州工業大学 早稲田キャンパス 甲南大学 教養学部 西高等学校 プライベートスクール グレイシー柔術 石井十次 湖沼学 田原中学校 Vocational 全日本弓道連盟 ローレンス・サマーズ 税務大学校 冶金学 東京学芸大学附属高等学校 航空大学校 NIRS 宇宙科学研究本部 75期生 ロバート・シラー 弘前大学 日野原重明 社会情報学部 大阪高等学校 日本の言語 ナスミス 電気電子工学科 東京法学校 日本泳法 じんぶん 学都 相模女子大学 春陽会 徳島大学 養護助教諭 日本教育史 東京出版 日本政治史 ･･････ 俳人協会評論賞 札幌大学\n",
            "--------------------------------------------------------------------------------\n",
            "決着 内輪 そちら 波及 妨害 権力 引き金 目下 セールストーク 被害 不祥事 コミケット 干渉 被災者 メンタル面 経緯 連載中止 社会現象 見切り マンネリ化 事業拡大 悲観 建前 払拭 疑問符 きたす ギャヴィン 方策 識者 やすさ スカモッツィ 難く 新潟県中越沖地震 破綻 布石 つもり そぐわなく 心機一転 いち早く 強者 空洞化 円高不況 危うく 後刻 視野 アバランシェ まだしも 故障 健在 無縁\n",
            "--------------------------------------------------------------------------------\n",
            "香港政府 総務会 オディンガ 衆議院 無所属の会 古賀派 スコットランド議会 所信表明演説 フンシンペック 縁故主義 自治省 マルティネリ ライブドア事件 アジェンデ 補欠選挙 ソ連共産党政治局 退任 シルヴィオ・ベルルスコーニ 保革 ホルタ 政治家の年金未納問題 友党 政治団体 評議 スペランスキー カナダ議会 津島派 辻元 立候補者 沖縄県知事選挙 決算委員会 山田啓二 社外取締役 加藤の乱 長島昭久 民主党公認 安倍総理 チェコ社会民主党 論客 団藤 検討チーム 内閣総理大臣指名選挙 予算案 欧州人民党 山梨3区 政界進出 統一民主党 ゲアハルト・シュレーダー 島桂次 民主党候補\n",
            "--------------------------------------------------------------------------------\n",
            "371 121 582 634 2399 26 物資別適合輸送 SSN 360万 2326 2999 570万円 116m 1025 343 422 78 2360 $3 70キロ 0センチ 494 35m 831 393 3132 2655 421 1515 3601 violations 649 1308 cn 1499 1036 761 44km 734 1780 135km 33000 1432 48 1360 460m 900キロ 890m 351 110\n",
            "--------------------------------------------------------------------------------\n",
            "留守氏 源平合戦 庶流 義稙 佐久郡 松永氏 沼城 大江氏 布陣 来島 秋月城 国屋 白石城 肥後国人一揆 川中島の戦い 奥州総大将 証如 上総 浅井氏 石川氏 宗心 懐良親王 山形城 初代将軍 金川城 四道将軍 支城 改易 戦乱 松山城 巻狩り 丹後国 今川 遷し 毛利氏 高屋城 村宗 山崎の戦い 北条高広 三幡 兵乱 討た 攻め落とし 忌部氏 宮部継潤 参集 尼子経久 法住寺合戦 陶隆房 太郎左衛門\n",
            "--------------------------------------------------------------------------------\n",
            "63巻 高杉良 口絵 カルテ 一迅社文庫 公開中 ライトノベル 公式Twitter 』( 角川 沈黙の春 歴史漫画 黒人差別をなくす会 ニュースリリース Nintendo Direct アスタウンディング 青空文庫 ソフトバンクパブリッシング 児童文学 『' 製作委員会 宝島社文庫 ティーンズラブ ドラゴンクエストV 天空の花嫁 桂由美 HAL研究所 ハイパーホビー サーガ コバルト文庫 BIGLOBE 育鵬社 ロッキング・オン 川原泉 マンガボックス ISBNコード ファンアート 罪と罰 ソード・ワールドRPG 競馬雑誌 伏字 河出書房新社 漫画化 パソコンゲーム ゲンロン 編集プロダクション 噂の眞相 前出 貸本 ボードゲーム ジョン・ル・カレ\n",
            "--------------------------------------------------------------------------------\n",
            "あの日 ムシ あおい つるこ かっぱ 徒然 旬 恋路 たくし チョッキ ?」（ ぬう ち～ ヤッセンボー 山口良一 ミケ 会いたかった ぷに ちゃぶ台返し 優香 あがない バルーンアート 現代用語 彩 ぷいぷい そは ラジ キンモクセイ じまん クレヨン 夢の島 まるまる アレ 上羽 漂流記 闘魂 どうぞ はげ 街角 おやすみ るか ずばり 逝く おにいさん はしゃ ゴーオンジャー シュミーズ どっと せつなく コトバ\n",
            "--------------------------------------------------------------------------------\n",
            "ねばり 矢代田 れいかん まくろ ラダ らんぷ じあまり ゆのさと きまる ひめか 羋 やすか ろうきん とうじん OWS あいせ やぶさめ ほうおん くじょ 児童向けドラマ 鹿児島県鹿児島市吉野町 げいか でざいん さぐり ょういくがくぶふぞくようちえん さくらこ さくき えんじん ダブルフェイス ほそい 孝弘 しゃが きょうちょう ぎじゅく よい国 ふかう こうぶつ こいしか おのでら そふと ちかよ 兵庫県神戸市西区 とよの づみむら どうきょ パレマルシェ ももは しんに じょうく Nikko\n",
            "--------------------------------------------------------------------------------\n",
            "監視 ハンゼン 貫い 済ませ 物語る 載せ 関連 うたわ 侵入 ないがしろ 引き渡さ 賭ける 出土 区別 まかさ つくさ 賞賛 立てる 伝わっ へこま 流さ 抱え 及ぼし 相当 喪わ みなし 発達 蓄え 準じ 盛り上げ 判読 生まれ変わっ 募っ 歴然と 着目 果たす 送り付け 集積 任さ 束ねる 取り巻い 経っ 二分 形作っ 狭かっ 補わ 虐げ 送り込ま かかわっ 間引か\n",
            "--------------------------------------------------------------------------------\n",
            "大阪高等裁判所 イギリス法 無免許運転 司法省 初審 誹謗 代理人弁護士 差額関税制度 都道府県労働局 シノドス はく奪 機会均等 文化審議会 逐条 大赦 号外 指令 常居所 商標登録 頒布 手鎖 特典 先着順 前橋地方裁判所 海難審判庁 軍命 日本野球機構 議院運営委員会 おとり捜査 道義的責任 テロ特措法 許可申請 徳洲会グループ 次回 政務調査費 私的整理 被告人 普通地方公共団体 過度経済力集中排除法 聴聞 傷害致死 申立 重罪 産業保安監督部 重犯 鶏姦 賠償責任 党規 印鑑証明書 満了\n",
            "--------------------------------------------------------------------------------\n",
            "ランチア・デルタ N95 GMLS K7 SME JH F-22 ターボファンエンジン 8303 UYK W50 三菱電機 CU C5 吋 デッドコピー TK k. F-14 CC エフィシェンシー G30 5種類 2151 TE 統一規格 MX 8087 キャプチャー DRC RIVA 23インチ フォード・トリノ TZR VIT LARC 17.8cm 30mm EMG ワード shp 155m 非大気依存推進 BV 4s 8色 TR-808 WK typeG HTV\n",
            "--------------------------------------------------------------------------------\n",
            "クリオージョ アタルヤ スパルタ王 グンドバト ジョージ5世 ウップランド ロレーヌ公国 フェラーラ カラジョルジェヴィチ カリフ メッテルニヒ 朱友珪 テオドロス 第一帝政 オシフィエンチム ピューリタン アナスタシウス 狂信的な ルター派 アレッサンドロ・ファルネーゼ ミェシュコ カロル テウデベルト 死後 テオバルド 駐仏大使 城伯 オランダ王室 フランス第一帝政 コンスタンツ バルバラ 1666年 シュパイアー エンツォ ゲルマニクス サフィー 1812年 ザクセン公国 エルサレム総主教 ボナ ルウェリン・アプ・グリフィズ 婚礼 カーン ズルフィカール・ハーン アリーヴァルディー・ハーン 1712年 1786年 徴収権 ルッス プラキディア\n",
            "--------------------------------------------------------------------------------\n",
            "内国為替 2400万円 倒産 賃貸借 ベリカード 対ドル 原価 退蔵 限界費用 課税所得 従量 20億円 ターラー 代金引換 買い増 地上権 抵当不動産 企業買収 自己株式 入札 通信費 格付け 130万円 市場調査 酒税 滞る 運用会社 預入 残余 両税法 各社 JPモルガン 頭金 ネット通販 一括払い セキュリティコード 契約金 ETCカード 大規模小売店舗法 決済 1200万円 保険証券 250万円 レバレッジ 役金 専売制 昇給 日経平均 節税 保険事故\n",
            "--------------------------------------------------------------------------------\n",
            "アウトウニオン 5弦ベース ディープ・ブルー コブラ 水平対向エンジン カーオーディオ ベース ヴェント ボディ 外装 コンバット アーケードゲーム GTS NextGen 中盤 ゲームバランス ライン ブロー XK クルージング ウエイト スイフト ピックアップ 短距離 彩京 ファンジオ 2周目 モーグル シェクター 製品化 デッキ ウエスタン OTL シャーベル デイトナ500 パッティング ロケテスト スプリントカップシリーズ 汎用 アクセサリ マールボロ 「' イン 純正 データカードダス ロードバイク ホイッスル マニファクチャラー ヘッドギア 第11戦\n",
            "--------------------------------------------------------------------------------\n",
            "イアン・ペイス ワープ・レコーズ キャット・スティーヴンス ズ フィンガーピッキング ボズ・スキャッグス スライドギター ブラックメタル カホン ピストルズ 佐藤博 ブルース・ブラザーズ ヴィンス・ニール SHUSE 馬飼野康二 ヴィニー・アピス モダン・ダンス レッド・ツェッペリン メタリカ リードギター ネーネーズ フィル・ウッズ 四人囃子 金管バンド 桑野信義 ニューヨーク・シティ・オペラ パティ・スミス フランク・ザッパ バナナラマ クリード・テイラー ホワイト・アルバム ベイビー ユーロビート トースティング レドン ガールズバンド ロリー・ギャラガー ホリデイ マエストロ ロン・カーター 10-FEET グラモフォン ムーヴメント ドン・ヘンリー ミニマル ニュー・ウェーブ ライフタイム ハードコアテクノ パスト レディスミス・ブラック・マンバーゾ\n",
            "--------------------------------------------------------------------------------\n",
            "バイオマス 慣用名 バンコマイシン ブタジエン ヘルペスウイルス ACLS 食物繊維 稠剤 高分子化学 保護基 主成分 汚染物質 有機物 グリコシダーゼ 中性子捕獲 グルタミン酸 トロポニン リポタンパク 不安定核 MRSA 過酸化水素 修飾 エクソン ピロール 二硫化炭素 ペプチド 界面活性剤 GaN メチルフェニデート 酸化銀 誘起 TATA エフェドリン ビリルビン (+)- ダイマー プロテアソーム 大気イオン MDMA 溶解 ニコチン 炭水化物 フラーレン アセトアルデヒド脱水素酵素 硫化水素 高分子化合物 塩化カリウム モルヒネ ワーム セレン\n",
            "--------------------------------------------------------------------------------\n",
            "第二神殿 アルタン・ハーン 諸王 ペチェネグ メーレン タブリーズ ドナウ 三国同盟戦争 アカエア カト エジプト・トルコ戦争 ローマ略奪 奪回 スーズダリ 唐・新羅戦争 カルトリ クレイトス ヴラディスラヴ ゲラ グモン 領内 チュニス ヤルカンド プラケンティア キリスト騎士団 スペイン継承戦争 モンケ ランゴバルト 治下 ヴィスワ川 ドゥア ズヴェニゴロド マハーダージー・シンディア ロドス島 ゲルマン人 トランスオクシアナ フィリッピ 流刑 ヒジャーズ セダンの戦い 閥族派 シャイレーンドラ ペリシテ クレタ島 ハンムラビ ヴェールール イリュリクム マゴ ムーサー アフマドナガル\n",
            "--------------------------------------------------------------------------------\n",
            "育休 寄宿 他薦 一時帰国 語学研修 4年生 海外出張 病院 乙種 専門職学位 学課 消防団 ハローワーク 解説 サッカー 女子学生 ホームスクーリング 替え玉受験 論文博士 実働 モンテッソーリ 基礎研究 分科 科学映像館 生活指導 社会教育主事 持込 TOSS 中等教育機関 就業時間 ジュニアリーダー 課程 受験生 卒業証書 ボランティア 本校 閉課 社団法人 退職 啓発 机上 スケート カンニング 附置 防災訓練 上演権 例会 受章 関東学生陸上競技連盟 視覚障害者\n",
            "--------------------------------------------------------------------------------\n",
            "空中写真 保護地域 みなとオアシス 駐車場 無休 航路標識 高速道路交通警察隊 周遊 新宿副都心 維持管理 参観灯台 大字名 集配郵便局 中空重力式コンクリートダム 大区小区制 議員宿舎 鄙び 煥章 架け アンドラーシ通り 観光大使 自由が丘 号棟 渡船 関東地方 楽天地 工業団地 6階建て 東京都選定歴史的建造物 橋梁 平成13年 東京スカイツリー 鉄道唱歌 新園 有料老人ホーム プラザ 区 名誉市民 非常階段 庁舎 石炭火力発電 公民館 数少なく 潮陵 ギャラリー 号館 ミュージアム 皇居前広場 中高層 原爆死没者慰霊碑\n",
            "--------------------------------------------------------------------------------\n",
            "背びれ 見立てる 光硬化樹脂 畳み 筆順 inferior 3種 尾椎 S造 クエスチョンマーク アオリ 素通し 挟み込む 短め 鉄扉 開口 構造用合板 すだれ 袖 一輪 拗音 オモリ 土壁 白系 襞 手筋 付柱 裳階 剄 根出葉 図柄 フリル 両刃の剣 窓ガラス 漏斗 切妻 本葉 交差 花軸 天窓 凍害 クモの巣 本将棋 前側 地団駄 縮れ 么九 索 塔の前 擦\n",
            "--------------------------------------------------------------------------------\n",
            "清温 佐佐木幸綱 思想の科学研究会 友右衛門 中條 岸駒 下総皖一 声聞師 戯作 長唄 江州音頭 橋本関雪 艶本 興趣 名工 大拙 武谷 舞姫 重要無形文化財保持者 狩野亨吉 5代目 淡彩 束髪 胡琴 本郷和人 新鷹会 鏡新明智流 沖縄出身 中林梧竹 清巌 中村光夫 緒方洪庵 平家琵琶 博堂 清水文雄 観世寿夫 豊期 斯界 仏画 運筆 サロン・ドートンヌ 猪口 聞き書き 歌物語 フルベッキ 幇間 形意拳 埴谷 降神 天行\n",
            "--------------------------------------------------------------------------------\n",
            "耕耘機 白州 貝輪 レディメイド エスカルゴ 飲茶 圧搾機 ヨークシャー・プディング 薪割り 調理パン 京料理 焼きうどん カルーア 洋弓 アングロアメリカ サービスカット 落雁 グロッソ 間仕切 歯応え コスメ 脱臭剤 チヂミ ドイツワイン キノコ狩り 張り付ける 混老頭 セカンド・ライン 米粉パン 低温殺菌 ドーナッツ 巾着 乾燥肌 アラコ ファヒータ ビデンデン 垂れ流し 玉子焼 板海苔 ポトフ コーセー つくね 仮面ライダースナック シャモ フラットブレッド 糠漬け 薄焼き卵 レバ刺し 引き出物 キティちゃん\n",
            "--------------------------------------------------------------------------------\n",
            "46話 89cm 3秒 86点 ※# 48年間 ヒトシ 満 4万人 µ 30枚 18カ月 ppb 20年度 103m 16点 QT 俯角 近日点 1.5m 5000枚 メートル 10日 使用済み核燃料プール 10割   52度 締め切り 8打 時短 150km 100年間 震度4 ヒットポイント 出塁率 10点 12か月 天体カタログ テクニカルダイビング 3打 1割 143km 50日間 1000g dfb 11分 75K 過去最低 メガバイト 65分\n",
            "--------------------------------------------------------------------------------\n",
            "キャラクターソング クリスマスイブ 坂本真綾 浜離宮朝日ホール イエスタデイ 特別企画 オフコース オリコンチャート オカザイル 自主企画 夏焼雅 重大発表 SENDAI 渡辺宙明 Love ソロ曲 美郷あき スマッシュヒット TSUTAYA 龍が如く0 誓いの場所 ご当地アイドル フィーバー 根本要 氣志團 ステッカー お茶の間 フォーク・クルセダーズ 東郷健 林原 東京画廊 乙女新党 ひめキュンフルーツ缶 試写会 Negicco 東京ディズニーシー 松井五郎 ダンスチューン 配信限定シングル dwango Kis-My-Ft2 元気を出して ryo エイベックス 邦楽 奈保子 榊原ゆい 伊藤由奈 生写真 子門真人 太田裕美\n",
            "--------------------------------------------------------------------------------\n",
            "ベルリン映画祭 アブ・アイワークス デ・ハヴィランド 舟橋聖一 本宮ひろ志 名探偵コナン 読売演劇大賞 嶋田隆司 須永秀明 豊田四郎 ジュディ・ガーランド 製作 コメディエンヌ ザ・シンプソンズ TCJ メインビジュアル ヴァイタフォン 今井正 白井松次郎 城戸賞 ポストプロダクション 桃井かおり 江川宇礼雄 松竹富士 東京ムービー 崎元仁 ハロルド・ロイド 阿部豊 ジャン＝ルイ・トランティニャン 開米 堺雅人 マーティン・スコセッシ 市川森一 黒田洋介 神代辰巳 漫画家志望 造形学科 ロイド・ウェバー 高田賢三 主演作 アンドレイ・タルコフスキー 曾我廼家五郎 Production I.G 空撮 成美団 岡田斗司夫 上映後 和田誠 ローレン・バコール 定評のある\n",
            "--------------------------------------------------------------------------------\n",
            "ラガー 葉タバコ 起毛 冷麺 カナダ産 酢飯 つけまつげ 黒米 干す マーガリン プレミアムビール 柑 キャットフード ブロッコリー 碗 プルーフ貨幣 軟玉 スリヴォヴィッツ 観賞魚 粥 がまかつ トウガラシ 鮓 ハルワ 消石灰 飲む ローズウッド 油脂 ビーカー オーストリア料理 後発医薬品 ポン酢 果樹 切削油 地産地消 バウムクーヘン 湯量 平織り イクラ ペットボトル 翡翠 インスタントコーヒー ヤンニョム 歯磨 飲食物 近郊農業 ウーロン茶 穀物 照り焼き レイシ\n",
            "--------------------------------------------------------------------------------\n",
            "褚遂 無記 輯本 神典 王充 九品官人法 詳しかっ 兼学 鑰 紫衣 上野宮 道観 仰が 兼官 大篆 渡来系 顛倒 伝奏 臨書 述作 鎮護国家 必称 冠位十二階 品官 外史 公式令 圃式 稀覯 撰者 人臣 司り 儒学者 闘戦 夏侯勝 唐楽 刻字 正法 御恩と奉公 遍 歌合 范曄 芦部信喜 俗説 比丘尼 江戸幕府 土佐日記 仏教説話 閣令 あり様 偽作\n",
            "--------------------------------------------------------------------------------\n",
            "議院法制局 大阪毎日新聞 監 東条英機 軍人勅諭 大川平三郎 酒匂 神道政治連盟 田中六助 海員 徳二 宣統 中華ソビエト共和国 錦鶏間祗候 朝連 大達 革新官僚 協成 鳥尾小弥太 江崎真澄 腹積もり 不退転 周仏海 経済団体 軍学校 士族反乱 労 見習 新生会 寄り合い 渡部恒三 荒尾精 昭和研究会 田中正造 公議所 山本舜勝 有馬頼寧 奉天市 日本農民党 学堂 伊地知正治 豊田貞次郎 佐橋滋 伊藤律 足球 不行き届き 兵部省 黨 発行人 有栖川宮熾仁親王\n",
            "--------------------------------------------------------------------------------\n",
            "Ferro NAB ブリティッシュ・レイランド マーズ・エクスプレス マルチプレックス ロッキード・マーチン オーストラリア フリーマントルメディア ELDO Volkswagen エンジニアリング トイガン ミランダカメラ RIA HVD イベルドローラ ライツ CCC ルノーサムスン自動車 リン鉱 ニュークリア・シェアリング アリカ Howey NABO TRW ド・フォレスト BEA テキサス・インスツルメンツ BTグループ アルセロール アグファ トーマス・クック バルチラ ペトロナス ゲームズワークショップ カルロ・キティ エネルギー省 ボッシュ ケミカル グラス・スティーガル法 イヴェコ ソウルモーターショー コンテナ船 SAAB ルートン イージージェット アリタリア航空 DLR ブラウザ戦争 ニュークリア・ブラスト\n",
            "--------------------------------------------------------------------------------\n",
            "ヴァージニア・ウルフ ハウテン ロー・レビュー ロヨラ 技術書 SF作家 ハンス・スローン コプリ・メダル アジア協会 1913年 地球科学者 ペルジーノ ジョン・フォン・ノイマン ヤーキス天文台 20人展 パステル画 デュー カリフォルニア工科大学 交霊会 プッサン クレメンス・ブレンターノ エラズマス・ダーウィン ニューヨーク市立大学 博愛主義 アルベルティ イオ・ミン・ペイ イェール大学 リルケ アンドレイ・コルモゴロフ ロシア文学 ブリガムヤング大学 日本文化会館 ロジャー・ペンローズ スタンダール レープクーヘン タングルウッド アウエルバッハ ノーベル生理学・医学賞 ジョサイア・ウェッジウッド フィロソフィカル・トランザクションズ ドス・パソス ヴォルフガング・パウリ 敦煌文献 ペテルブルク レオンハルト・オイラー アーネソン ムードン イェーナ アレクサンドル・プーシキン エコール・ポリテクニーク\n",
            "--------------------------------------------------------------------------------\n",
            "田茂木野 ゲオルギー・ポベドノーセツ オカーン ハウランド ベン黒木 コロネル 3319 ギデオン・ウェルズ 八幡の戦い ベレスフォード スコーラス ルイブール要塞 サーモピレー ミューゼバッハ 蘆溝橋 カスティヨン クニャージ・スヴォーロフ 戦友会 海軍乙事件 シャコー ツィンマーマン シャイロー ジェインウェイ スパルティヴェント トーテンコプフ 宛平県 警乗 警視庁予備隊 13日間 血眼 コングリーヴ・ロケット ラグナロック 0088 ゲルト・フォン・ルントシュテット エッガー ドレパナ ルイージ・カドルナ ボナヴェンチャー ヴェルニー 督励 ヘンリー・ノックス スヴォボードヌイ プエルト・アロンソ エヴァーツ マッキーン シロー・アマダ フランツ・フォン・ヒッパー 自部 サルセード ゴーラム\n",
            "--------------------------------------------------------------------------------\n",
            "サンサポール 山本五十六 フランス軍機 軍事郵便 指揮 陥落 日章旗 ミウス レットウ レジオン 少尉候補生 第3軍 ナウパクトス レッドフィッシュ 白旗 爆沈 ジャルート ハミディイェ タイタニック マリウスの軍制改革 移乗 レキシントン・コンコードの戦い キスカ ルオット ジョフル 帰投 海南島 本土 従軍 グアム島 アンティータム 連合国軍 緒戦 トライトン ホーム・ガード ヒ68船団 親衛隊特務部隊 根こそぎ動員 クリカレフ ディエンビエンフー 南方作戦 ペリー上陸記念碑 至急 戦場 青島 巡邏 ロシア軍 レイテ島の戦い 戦傷 スヌーク\n",
            "--------------------------------------------------------------------------------\n",
            "グラフト 鈴木・宮浦カップリング ムレイン 水蒸気改質 抗血清 ジストニン 氷晶石 中毒性表皮壊死融解症 dioxygenase エオシン 低密度ポリエチレン ペガスス座 ras ゼアキサンチン リドカイン ハイドロゾル エンドペプチダーゼ Hib カルボプラチン 整腸剤 ひずみエネルギー FASTA 眼底検査 希土類磁石 Ts TGF カルバミン酸 フロン類 クルックス管 電気石 川崎病 メチルエチルケトン ブレオマイシン ペンテン ソタロール 幌満 化学気相成長 グリーゼ832 ジャラワ DEHP テクタイト 糸球体腎炎 パルボウイルス アロマターゼ 半矮性遺伝子 カルシュ クラウンエーテル 月経前症候群 トリオン 日本食品標準成分表\n",
            "--------------------------------------------------------------------------------\n",
            "神風型駆逐艦 玉津丸 船底 富士学校 直衛 浦丸 水素爆弾 敵機 M4シャーマン 編制 特車 アツタ 一〇〇式輸送機 艦攻 短期現役士官 アーセナル・シップ 甲板 領海警備 空中給油機 パーミャチ・メルクーリヤ 潜航 屠龍 戦略兵器 ゾック Pe ホッチキス 先尾翼 ハンググライダー 後方 龍鳳 君川丸 飾緒 発煙弾 はつゆき 初霜 階級章 飛行隊長 ダメージコントロール サラミス級 スター・デストロイヤー 哨戒艦艇 ガミラス艦 九九式短小銃 トーネード ドライゼ銃 殲撃 偵 戦術核兵器 キュベレイ あおく\n",
            "--------------------------------------------------------------------------------\n",
            "衝動性 精子 多剤耐性 焼灼 トイレットトレーニング 肝硬変 筋緊張 幼 痴呆症 斜視 熱中症 無菌 パーソナリティ障害 気道 皮膚癌 頚部 描出 離人症 五臓 膵管 筋肉内注射 肌荒れ ランゲルハンス島 網膜芽細胞腫 肘関節 ファブリー 性病 強迫神経症 上腕骨 泌乳 色盲 塞栓 ニューロパチー 熱性 眼振 ステータス異常 桿状 催眠 いもち アナル 曝露 多細胞生物 神経系 内因子 先天 排泄 隔膜 核相 骨格 ヒステリー\n",
            "--------------------------------------------------------------------------------\n",
            "種多様性 アッケシソウ イワナ ヨシ ホンダワラ 食い荒らし ドングリ ノニ 畜犬 スゲ属 ナガスクジラ 魚 ユピック 耙 ヤマボウシ ガラパゴス諸島 トンボ オタマジャクシ 混泳 クサレケカビ 咬 棘皮動物 モクレン 管足 グロムス ジャコウネコ サゴヤシ ハドロサウルス 植物 海藻 クロンキスト体系 カエナグナトゥス コメネズミ 定置網 富む 200種 人工林 仮足 小綱 ドジョウ シラコバト シギ クリプト ハナバチ 交配 岩地 アフリカゾウ 45種 サーディン 巻き貝\n",
            "--------------------------------------------------------------------------------\n",
            "少年ドラマシリーズ ドイチェ・ヴェレ 岡山放送 パブリシティ 東京ガールズコレクション NHK広島放送局 ネオプラス プロ野球ニュース 三重テレビ ディズニー・チャンネル KNTV リゾート踊り子 ナイトinナイト 日本一周 ニュース系列 TOHOシネマズ日劇 テレビジョン放送局 NHKラジオ第2放送 朝の情報番組 女性アナウンサー ダウンタウンのごっつええ感じ 衛星ハイビジョン バース・デイ ARABAKI ROCK FEST. 先行公開 ラジオ講座 PR JNN報道特集 α-STATION ニッポン放送 プロレス中継 InterFM 自社製作番組 月曜ミステリーシアター 納会 かくし芸 カワスポ 東奥日報 49話 BSスカパー! GyaO 文化放送 地域情報番組 EZ!TV 大阪放送局 チバテレ テストトーン ラジオ第1放送 RKB毎日放送 朝の連続ドラマ\n",
            "--------------------------------------------------------------------------------\n",
            "中国標準時 近畿の駅百選 51回 8年度 32期生 5月9日 1984年度 光復節 東京厚生年金会館 国際バレーボール連盟 国立競技場 8月上旬 6話 平成4年 65回 二番 21年目 2057 1月29日 176回 88番 肝臓がん 章 3番 昭和33年 昭和62年 台風6号 138回 48位 平成8年 180回 39代 1991 91回 64回 91位 70年目 4月24日 1979年 67期 32番 1999 18回 11話 アゼリア大正 全国女子高生制服コレクション 12月22日 12月30日 3月9日 1月27日\n",
            "--------------------------------------------------------------------------------\n",
            "虎毛 泡立つ ワキン キャノーラ ジャワ原人 トクサ インシュラー エダフォサウルス カラフトシシャモ 石鉄隕石 爬虫 ササキリ コルマ 下村脩 ソコダラ ヒラコテリウム マーストリヒチアン alba 海草類 アポイ岳 ジンベイザメ エンゼルフィッシュ 貯える ディスカス 野菊 ヤドリバエ マオウ オオヤマガメ エナガ みつかり グンカンドリ 檀国大学校 幸島 ハコヤナギ シフゾウ パネットーネ クロヤマアリ 枝振り タテガミ 痙 基節骨 カイツブリ ベニテングタケ オゼソウ ムクゲ ニホンリス ヘイケボタル ポリエ 産出国 ごくごく\n",
            "--------------------------------------------------------------------------------\n",
            "ポニョ シムノン 勘吉 バンコラン 息 彼女 アパート 筋金入り 日記帳 幼少期 クアナ ホステス 良家 仲たがい 危篤 実姉 サマンサ 立会っ 従妹 引越し 別れた妻 家出 進太郎 売人 働き 若く 助手 アキ 55歳 新婦 普通の人々 一人娘 一女 旅 女騎士 幸福な生活 ナニー ソワレ 美貌 生まれつき バーグマン 指折り 1989年生まれ レイプ 自動車評論 マクダ 感銘 村八分 富美男 ロスペロー\n",
            "--------------------------------------------------------------------------------\n",
            "王代 680年 301年 286年 アユルバルワダ 526年 明徳 嘉暦 419年 782年 801年 天平2年 乾道 1253年 オッソリンスキ 1304年 時憲暦 Phúc 端宗 691年 景興 771年 1019年 621年 725年 1104年 五位蔵人 1383年 武平 嘉祐 建保 元徳3年 233年 元嘉 1055年 中大通 505年 1400年 淳化 304年 309年 建初 1134年 929年 811年 765年 775年 289年 建安 567年\n",
            "--------------------------------------------------------------------------------\n",
            "エッセネ派 われら ギリシャ語 崇める トルバドゥール 熾天使 造物主 ぶどう酒 アーサー王の死 フェニキア文字 11世紀 ゲッセマネ アーダム ルクレティウス 恐らく クシャトリヤ 貧者 リンガ 聖体 17世紀 石版 円卓 六派哲学 敬称 ウジヤ フィロン 道徳経 四大天使 カラカラ浴場 キリスト ゴルゴタの丘 ドルメン 帝王 牧歌 カライ 詩体 1000年 十字架 普通名詞 聖フランシスコ レプラコーン カトリック教会 ダラズィー ゴシック様式 エドワード・ホール デーメーテール 聖霊 ルカによる福音書 ギルド 一視\n",
            "--------------------------------------------------------------------------------\n",
            "角海老宝石 マンデー・ナイト・ウォーズ ヒール ドラゴン・キッド アメリカ合衆国サッカー連盟 大谷晋二郎 グラウンドポジション DSW 豊田真奈美 ブルース・マクラーレン UWFインターナショナル チーム3D 田村欣子 リッキー・モートン DEMOLITION 松平康隆 査定試合 ジェシー・バー シェイマス TEPPEN 血祭り ロング・ライダーズ テリー・テイラー ジェリー・ブラウン シュガー・レイ・レナード 我闘雲舞 ZERO1-MAX 亀田和毅 IBO WWC GYM ベニテス ジム・バーネット マーク・ハント ボブ・スウィータン ジェイ・ブリスコ ワイフビーター Match マリオ・ミラノ ドラムロール 宮本裕向 佐々木義人 ハンス・シュミット SWA オカダ・カズチカ カラッ NO MERCY マレス 征矢学 スカル・マーフィー\n",
            "--------------------------------------------------------------------------------\n",
            "プルーム ヴュルム 暑く カトラ火山 近畿方言 落葉樹林 台風20号 古生代 堰き 北西 ヘイマエイ 森林伐採 波源域 鳥浜貝塚 発地 ローム 小宝島 氷河湖 500年 有珠山 海嘯 ロンドン橋 おとめ座銀河団 蒸し暑い 源流 取水制限 コロニー 氷河地形 スールー海 漁期 オクシリンコス 四万十層群 域 ペトログリフ 氷雪 黄砂 ターポン 降雨 プレアデス星団 強い雨 得撫島 波 噴き上げる 内水 日射量 成層圏 先カンブリア時代 さんかく座 夏の終わり 真東\n",
            "--------------------------------------------------------------------------------\n",
            "プレファブ 資本力 来客 搬出 水車小屋 郷土色 久米桂一郎 料理店 貫目 新茶 銑 岩瀬村 製麺機 貸 精米機 売り出し 江戸和竿 別宅 脇差 請け負い 行商人 廃材 床の間 アールヌーボー 酒造 製革 エスコフィエ 自炊 興す 東京製綱 杞柳 専業 日本刀 昔 飯場 供出 ユーハイム 家財道具 請負人 取立 小作人 鉱山開発 しつらえ 別子銅山 商 問屋 戦災 居酒屋 辯會 精米\n",
            "--------------------------------------------------------------------------------\n",
            "301人 43件 33万人 597人 ISTAT 42℃ UNRWA 6.8% 929人 一人当たりのGDP 520人 72% 235人 9.7% 349人 27.9% 24万人 39% 967人 912人 483人 87.5% 25.9% 1400円 322人 60% 314人 33% 320万円 50.3% FAS 94% 849人 830万 6ドル 581人 1500人 230万人 187人 92人 1.2% 45% 5700万円 959人 600人 27万円 26.4% 177人 604人 14件\n",
            "--------------------------------------------------------------------------------\n",
            "パロディ・ミサ ピッツィカート 歌曲賞 外山雄三 宗教音楽 ネイガウス ハンドベル 近衛秀麿 ミケランジェリ クセナキス 佐藤眞 トリオ・ソナタ シュポーア ジャンベ アラベラ フェルッチョ・ブゾーニ シマノフスキ バラージュ オッターヴァ・リーマ セビリアの理髪師 アレッサンドロ・スカルラッティ 最終楽章 カーネギー・ホール ブランクヴァース ヴァイオリンソナタ ロッシーニ BBC交響楽団 大友直人 教会カンタータ 協演 金管 王立劇場 新世界より ザッハー ウィーン国立歌劇場 後奏 ハインツ・ホリガー ラヴェル パウル・ヒンデミット ベルリン・フィルハーモニー シンフォニーホール 振付 マリンバ 幻想交響曲 古典音楽 クラウディオ・アバド 馬頭琴 ベンジャミン・ブリテン 中世西洋音楽 マタイ受難曲\n",
            "--------------------------------------------------------------------------------\n",
            "特別二等車 ロテム クイックル 500形 セミクロスシート サロンエクスプレス東京 改修 トラス橋 大型自動車 ミドル・サークル 2700系 6500系 新鶴見機関区 桜木町事故 インテルラゴス 優等車両 新旧 キハ40 鉄道院 往復 排雪 パターンダイヤ セントローレンス海路 電装 3011 玉突き VIA鉄道 ロールボック 勝田車両センター 先行 二段階右折 EF64 据付 自家用 ナハ みんくる 5201 温水暖房 狭軌 繁忙 日本のタクシー 運転曲線 同系 変電所 遮音壁 発火事故 2両編成 オストメイト 3700系 外線\n",
            "--------------------------------------------------------------------------------\n",
            "させれ めずらしく 寄れ 明け渡せ 勝ち越せ 太ら かかわら 引き返せ 歩け 関知 当て嵌 定か 定まら 少なから 敢 超えれ まわら 乗り込め 奮わ 近づか 則れ 長続き 固まら 問え 引き取り手 濡らさ 遭わ 照らせ かみ合わ 願え 見せれ 癒え つくれ 及ば 和俊 受け入れれ つくせ 数えれ 満たせ 眼中 ぶつから 見抜け 呼び出せ 乗り切れ そろわ いんじゃ 沿え さり気 低けれ 負け\n",
            "--------------------------------------------------------------------------------\n",
            "せっかち アグレッシヴ オーソドックス 豪壮 大味 困難 直接的 多様 苦手 勝気 適正 あからさま 透明 にぎやか 不便 気弱 面倒 節操 卑劣 秀麗 重大 ちぐはぐ りっぱ 気まま 辛辣 不可解 複雑 寛容 明白 寡黙 じゅうぶん 微妙 平凡 安価 平坦 大切 放縦 あざやか 硬派 流麗 曖昧 快適 きみょう 豊潤 うつろ クリーミー ドラマティック 霊的 トリッキー 勤勉\n",
            "--------------------------------------------------------------------------------\n",
            "かばお しめよ 降ろ 起ころ 叶えよ 生かそ 描こ 変えよ 攻め込も くりゅ 生き残ろ 飛ばそ 起きよ 抱きしめよ 始めよ つなご みよ ほしょ 広げよ 教えよ 許そ 継ご 手放そ 逃げ出そ はじめよ 抜けよ つくろ あろ 受けよ 食お 仕えよ 借りよ 飛ぼ 刺そ ましょ 役立てよ 及ぼ 持ち出そ 祝お 答えよ 覗こ 推し進めよ げつよ しまお ぶろ 襲いかかろ 晴らそ 追いつこ しんじろ 満たそ\n",
            "--------------------------------------------------------------------------------\n"
          ]
        }
      ]
    },
    {
      "cell_type": "markdown",
      "source": [
        "### `n_components`を増やしてみる\n",
        "* これを増やすことで、近似の度合いを下げることができる。\n",
        " * その代わり、実行時間は長くなる。\n",
        "* デフォルトの設定では`n_components=100`"
      ],
      "metadata": {
        "id": "7LylDHzWssi8"
      }
    },
    {
      "cell_type": "code",
      "source": [
        "clusterer_200 = dask_ml.cluster.SpectralClustering(\n",
        "    n_clusters=n_clusters,\n",
        "    persist_embedding=True,\n",
        "    kmeans_params={\"init\":\"k-means++\"},\n",
        "    n_components=200,\n",
        "    random_state=123,\n",
        "    )"
      ],
      "metadata": {
        "id": "z-Jljmukpy3R"
      },
      "execution_count": 20,
      "outputs": []
    },
    {
      "cell_type": "code",
      "source": [
        "%%time\n",
        "clusterer_200.fit(vectors)"
      ],
      "metadata": {
        "colab": {
          "base_uri": "https://localhost:8080/",
          "height": 127
        },
        "id": "7yGDATErscht",
        "outputId": "4dd29a35-bc87-4c01-9a99-043acf64569e"
      },
      "execution_count": 21,
      "outputs": [
        {
          "output_type": "stream",
          "name": "stdout",
          "text": [
            "CPU times: user 6min 48s, sys: 24.6 s, total: 7min 12s\n",
            "Wall time: 5min 53s\n"
          ]
        },
        {
          "output_type": "execute_result",
          "data": {
            "text/plain": [
              "SpectralClustering(kmeans_params={'init': 'k-means++'}, n_clusters=100,\n",
              "                   n_components=200, persist_embedding=True, random_state=123)"
            ],
            "text/html": [
              "<style>#sk-container-id-2 {color: black;background-color: white;}#sk-container-id-2 pre{padding: 0;}#sk-container-id-2 div.sk-toggleable {background-color: white;}#sk-container-id-2 label.sk-toggleable__label {cursor: pointer;display: block;width: 100%;margin-bottom: 0;padding: 0.3em;box-sizing: border-box;text-align: center;}#sk-container-id-2 label.sk-toggleable__label-arrow:before {content: \"▸\";float: left;margin-right: 0.25em;color: #696969;}#sk-container-id-2 label.sk-toggleable__label-arrow:hover:before {color: black;}#sk-container-id-2 div.sk-estimator:hover label.sk-toggleable__label-arrow:before {color: black;}#sk-container-id-2 div.sk-toggleable__content {max-height: 0;max-width: 0;overflow: hidden;text-align: left;background-color: #f0f8ff;}#sk-container-id-2 div.sk-toggleable__content pre {margin: 0.2em;color: black;border-radius: 0.25em;background-color: #f0f8ff;}#sk-container-id-2 input.sk-toggleable__control:checked~div.sk-toggleable__content {max-height: 200px;max-width: 100%;overflow: auto;}#sk-container-id-2 input.sk-toggleable__control:checked~label.sk-toggleable__label-arrow:before {content: \"▾\";}#sk-container-id-2 div.sk-estimator input.sk-toggleable__control:checked~label.sk-toggleable__label {background-color: #d4ebff;}#sk-container-id-2 div.sk-label input.sk-toggleable__control:checked~label.sk-toggleable__label {background-color: #d4ebff;}#sk-container-id-2 input.sk-hidden--visually {border: 0;clip: rect(1px 1px 1px 1px);clip: rect(1px, 1px, 1px, 1px);height: 1px;margin: -1px;overflow: hidden;padding: 0;position: absolute;width: 1px;}#sk-container-id-2 div.sk-estimator {font-family: monospace;background-color: #f0f8ff;border: 1px dotted black;border-radius: 0.25em;box-sizing: border-box;margin-bottom: 0.5em;}#sk-container-id-2 div.sk-estimator:hover {background-color: #d4ebff;}#sk-container-id-2 div.sk-parallel-item::after {content: \"\";width: 100%;border-bottom: 1px solid gray;flex-grow: 1;}#sk-container-id-2 div.sk-label:hover label.sk-toggleable__label {background-color: #d4ebff;}#sk-container-id-2 div.sk-serial::before {content: \"\";position: absolute;border-left: 1px solid gray;box-sizing: border-box;top: 0;bottom: 0;left: 50%;z-index: 0;}#sk-container-id-2 div.sk-serial {display: flex;flex-direction: column;align-items: center;background-color: white;padding-right: 0.2em;padding-left: 0.2em;position: relative;}#sk-container-id-2 div.sk-item {position: relative;z-index: 1;}#sk-container-id-2 div.sk-parallel {display: flex;align-items: stretch;justify-content: center;background-color: white;position: relative;}#sk-container-id-2 div.sk-item::before, #sk-container-id-2 div.sk-parallel-item::before {content: \"\";position: absolute;border-left: 1px solid gray;box-sizing: border-box;top: 0;bottom: 0;left: 50%;z-index: -1;}#sk-container-id-2 div.sk-parallel-item {display: flex;flex-direction: column;z-index: 1;position: relative;background-color: white;}#sk-container-id-2 div.sk-parallel-item:first-child::after {align-self: flex-end;width: 50%;}#sk-container-id-2 div.sk-parallel-item:last-child::after {align-self: flex-start;width: 50%;}#sk-container-id-2 div.sk-parallel-item:only-child::after {width: 0;}#sk-container-id-2 div.sk-dashed-wrapped {border: 1px dashed gray;margin: 0 0.4em 0.5em 0.4em;box-sizing: border-box;padding-bottom: 0.4em;background-color: white;}#sk-container-id-2 div.sk-label label {font-family: monospace;font-weight: bold;display: inline-block;line-height: 1.2em;}#sk-container-id-2 div.sk-label-container {text-align: center;}#sk-container-id-2 div.sk-container {/* jupyter's `normalize.less` sets `[hidden] { display: none; }` but bootstrap.min.css set `[hidden] { display: none !important; }` so we also need the `!important` here to be able to override the default hidden behavior on the sphinx rendered scikit-learn.org. See: https://github.com/scikit-learn/scikit-learn/issues/21755 */display: inline-block !important;position: relative;}#sk-container-id-2 div.sk-text-repr-fallback {display: none;}</style><div id=\"sk-container-id-2\" class=\"sk-top-container\"><div class=\"sk-text-repr-fallback\"><pre>SpectralClustering(kmeans_params={&#x27;init&#x27;: &#x27;k-means++&#x27;}, n_clusters=100,\n",
              "                   n_components=200, persist_embedding=True, random_state=123)</pre><b>In a Jupyter environment, please rerun this cell to show the HTML representation or trust the notebook. <br />On GitHub, the HTML representation is unable to render, please try loading this page with nbviewer.org.</b></div><div class=\"sk-container\" hidden><div class=\"sk-item\"><div class=\"sk-estimator sk-toggleable\"><input class=\"sk-toggleable__control sk-hidden--visually\" id=\"sk-estimator-id-2\" type=\"checkbox\" checked><label for=\"sk-estimator-id-2\" class=\"sk-toggleable__label sk-toggleable__label-arrow\">SpectralClustering</label><div class=\"sk-toggleable__content\"><pre>SpectralClustering(kmeans_params={&#x27;init&#x27;: &#x27;k-means++&#x27;}, n_clusters=100,\n",
              "                   n_components=200, persist_embedding=True, random_state=123)</pre></div></div></div></div></div>"
            ]
          },
          "metadata": {},
          "execution_count": 21
        }
      ]
    },
    {
      "cell_type": "markdown",
      "source": [
        "### 埋め込み空間でのクラスタの重心を取得する\n",
        "* 元のデータは、spectral embeddingによって、低次元空間に埋め込まれている。\n",
        "* spectral clusteringでは、このembeddingを、最後にクラスタリングしている。\n",
        "* このembeddingを取得するために、自前のクラスを定義する。\n",
        " * embeddingを取得すれば、KMeansのときと同じように、重心に近い順に単語をソートできる。"
      ],
      "metadata": {
        "id": "3lkoDHGU3Cgj"
      }
    },
    {
      "cell_type": "code",
      "source": [
        "from dask_ml.cluster import KMeans"
      ],
      "metadata": {
        "id": "qFVqjaKZswDt"
      },
      "execution_count": 22,
      "outputs": []
    },
    {
      "cell_type": "code",
      "source": [
        "class MyKMeans(KMeans):\n",
        "  def __init__(self, **kwargs):\n",
        "    self.X = None\n",
        "    super().__init__(**kwargs)\n",
        "  def fit(self, X, y=None):\n",
        "    self.X = X\n",
        "    super().fit(X, y=y)"
      ],
      "metadata": {
        "id": "jAY-9hz4webR"
      },
      "execution_count": 23,
      "outputs": []
    },
    {
      "cell_type": "code",
      "source": [
        "n_clusters = 100\n",
        "\n",
        "my_kmeans = MyKMeans(\n",
        "    n_clusters=n_clusters,\n",
        "    random_state=123,\n",
        "    init=\"k-means++\",\n",
        "    )\n",
        "\n",
        "my_clusterer = dask_ml.cluster.SpectralClustering(\n",
        "    n_clusters=n_clusters,\n",
        "    persist_embedding=True,\n",
        "    assign_labels=my_kmeans,\n",
        "    random_state=123,\n",
        "    )"
      ],
      "metadata": {
        "id": "GY6ox5-Gy6TZ"
      },
      "execution_count": 24,
      "outputs": []
    },
    {
      "cell_type": "code",
      "source": [
        "%%time\n",
        "my_clusterer.fit(vectors)"
      ],
      "metadata": {
        "colab": {
          "base_uri": "https://localhost:8080/",
          "height": 153
        },
        "id": "g5EmyMaWzEc4",
        "outputId": "3e1a693d-63b3-48c8-a357-68bbdd1eeb23"
      },
      "execution_count": 25,
      "outputs": [
        {
          "output_type": "stream",
          "name": "stdout",
          "text": [
            "CPU times: user 2min 53s, sys: 8.16 s, total: 3min 1s\n",
            "Wall time: 2min 24s\n"
          ]
        },
        {
          "output_type": "execute_result",
          "data": {
            "text/plain": [
              "SpectralClustering(assign_labels=MyKMeans(), n_clusters=100,\n",
              "                   persist_embedding=True, random_state=123)"
            ],
            "text/html": [
              "<style>#sk-container-id-3 {color: black;background-color: white;}#sk-container-id-3 pre{padding: 0;}#sk-container-id-3 div.sk-toggleable {background-color: white;}#sk-container-id-3 label.sk-toggleable__label {cursor: pointer;display: block;width: 100%;margin-bottom: 0;padding: 0.3em;box-sizing: border-box;text-align: center;}#sk-container-id-3 label.sk-toggleable__label-arrow:before {content: \"▸\";float: left;margin-right: 0.25em;color: #696969;}#sk-container-id-3 label.sk-toggleable__label-arrow:hover:before {color: black;}#sk-container-id-3 div.sk-estimator:hover label.sk-toggleable__label-arrow:before {color: black;}#sk-container-id-3 div.sk-toggleable__content {max-height: 0;max-width: 0;overflow: hidden;text-align: left;background-color: #f0f8ff;}#sk-container-id-3 div.sk-toggleable__content pre {margin: 0.2em;color: black;border-radius: 0.25em;background-color: #f0f8ff;}#sk-container-id-3 input.sk-toggleable__control:checked~div.sk-toggleable__content {max-height: 200px;max-width: 100%;overflow: auto;}#sk-container-id-3 input.sk-toggleable__control:checked~label.sk-toggleable__label-arrow:before {content: \"▾\";}#sk-container-id-3 div.sk-estimator input.sk-toggleable__control:checked~label.sk-toggleable__label {background-color: #d4ebff;}#sk-container-id-3 div.sk-label input.sk-toggleable__control:checked~label.sk-toggleable__label {background-color: #d4ebff;}#sk-container-id-3 input.sk-hidden--visually {border: 0;clip: rect(1px 1px 1px 1px);clip: rect(1px, 1px, 1px, 1px);height: 1px;margin: -1px;overflow: hidden;padding: 0;position: absolute;width: 1px;}#sk-container-id-3 div.sk-estimator {font-family: monospace;background-color: #f0f8ff;border: 1px dotted black;border-radius: 0.25em;box-sizing: border-box;margin-bottom: 0.5em;}#sk-container-id-3 div.sk-estimator:hover {background-color: #d4ebff;}#sk-container-id-3 div.sk-parallel-item::after {content: \"\";width: 100%;border-bottom: 1px solid gray;flex-grow: 1;}#sk-container-id-3 div.sk-label:hover label.sk-toggleable__label {background-color: #d4ebff;}#sk-container-id-3 div.sk-serial::before {content: \"\";position: absolute;border-left: 1px solid gray;box-sizing: border-box;top: 0;bottom: 0;left: 50%;z-index: 0;}#sk-container-id-3 div.sk-serial {display: flex;flex-direction: column;align-items: center;background-color: white;padding-right: 0.2em;padding-left: 0.2em;position: relative;}#sk-container-id-3 div.sk-item {position: relative;z-index: 1;}#sk-container-id-3 div.sk-parallel {display: flex;align-items: stretch;justify-content: center;background-color: white;position: relative;}#sk-container-id-3 div.sk-item::before, #sk-container-id-3 div.sk-parallel-item::before {content: \"\";position: absolute;border-left: 1px solid gray;box-sizing: border-box;top: 0;bottom: 0;left: 50%;z-index: -1;}#sk-container-id-3 div.sk-parallel-item {display: flex;flex-direction: column;z-index: 1;position: relative;background-color: white;}#sk-container-id-3 div.sk-parallel-item:first-child::after {align-self: flex-end;width: 50%;}#sk-container-id-3 div.sk-parallel-item:last-child::after {align-self: flex-start;width: 50%;}#sk-container-id-3 div.sk-parallel-item:only-child::after {width: 0;}#sk-container-id-3 div.sk-dashed-wrapped {border: 1px dashed gray;margin: 0 0.4em 0.5em 0.4em;box-sizing: border-box;padding-bottom: 0.4em;background-color: white;}#sk-container-id-3 div.sk-label label {font-family: monospace;font-weight: bold;display: inline-block;line-height: 1.2em;}#sk-container-id-3 div.sk-label-container {text-align: center;}#sk-container-id-3 div.sk-container {/* jupyter's `normalize.less` sets `[hidden] { display: none; }` but bootstrap.min.css set `[hidden] { display: none !important; }` so we also need the `!important` here to be able to override the default hidden behavior on the sphinx rendered scikit-learn.org. See: https://github.com/scikit-learn/scikit-learn/issues/21755 */display: inline-block !important;position: relative;}#sk-container-id-3 div.sk-text-repr-fallback {display: none;}</style><div id=\"sk-container-id-3\" class=\"sk-top-container\"><div class=\"sk-text-repr-fallback\"><pre>SpectralClustering(assign_labels=MyKMeans(), n_clusters=100,\n",
              "                   persist_embedding=True, random_state=123)</pre><b>In a Jupyter environment, please rerun this cell to show the HTML representation or trust the notebook. <br />On GitHub, the HTML representation is unable to render, please try loading this page with nbviewer.org.</b></div><div class=\"sk-container\" hidden><div class=\"sk-item sk-dashed-wrapped\"><div class=\"sk-label-container\"><div class=\"sk-label sk-toggleable\"><input class=\"sk-toggleable__control sk-hidden--visually\" id=\"sk-estimator-id-3\" type=\"checkbox\" ><label for=\"sk-estimator-id-3\" class=\"sk-toggleable__label sk-toggleable__label-arrow\">SpectralClustering</label><div class=\"sk-toggleable__content\"><pre>SpectralClustering(assign_labels=MyKMeans(), n_clusters=100,\n",
              "                   persist_embedding=True, random_state=123)</pre></div></div></div><div class=\"sk-parallel\"><div class=\"sk-parallel-item\"><div class=\"sk-item\"><div class=\"sk-label-container\"><div class=\"sk-label sk-toggleable\"><input class=\"sk-toggleable__control sk-hidden--visually\" id=\"sk-estimator-id-4\" type=\"checkbox\" ><label for=\"sk-estimator-id-4\" class=\"sk-toggleable__label sk-toggleable__label-arrow\">assign_labels: MyKMeans</label><div class=\"sk-toggleable__content\"><pre>MyKMeans()</pre></div></div></div><div class=\"sk-serial\"><div class=\"sk-item\"><div class=\"sk-estimator sk-toggleable\"><input class=\"sk-toggleable__control sk-hidden--visually\" id=\"sk-estimator-id-5\" type=\"checkbox\" ><label for=\"sk-estimator-id-5\" class=\"sk-toggleable__label sk-toggleable__label-arrow\">MyKMeans</label><div class=\"sk-toggleable__content\"><pre>MyKMeans()</pre></div></div></div></div></div></div></div></div></div></div>"
            ]
          },
          "metadata": {},
          "execution_count": 25
        }
      ]
    },
    {
      "cell_type": "code",
      "source": [
        "U2 = my_clusterer.assign_labels.X.compute()\n",
        "labels = my_clusterer.labels_.compute()\n",
        "centers = my_clusterer.assign_labels.cluster_centers_"
      ],
      "metadata": {
        "id": "biNR4ltHzROg"
      },
      "execution_count": 26,
      "outputs": []
    },
    {
      "cell_type": "code",
      "source": [
        "U2.shape"
      ],
      "metadata": {
        "colab": {
          "base_uri": "https://localhost:8080/"
        },
        "id": "e7R-uQuF2wF5",
        "outputId": "1b2ac698-d91f-42e7-f55c-4c626218280b"
      },
      "execution_count": 27,
      "outputs": [
        {
          "output_type": "execute_result",
          "data": {
            "text/plain": [
              "(335476, 100)"
            ]
          },
          "metadata": {},
          "execution_count": 27
        }
      ]
    },
    {
      "cell_type": "code",
      "source": [
        "centers.shape"
      ],
      "metadata": {
        "colab": {
          "base_uri": "https://localhost:8080/"
        },
        "id": "xNDAtNNAz0e1",
        "outputId": "aea845ec-f2be-4760-9d07-367122a6261c"
      },
      "execution_count": 28,
      "outputs": [
        {
          "output_type": "execute_result",
          "data": {
            "text/plain": [
              "(100, 100)"
            ]
          },
          "metadata": {},
          "execution_count": 28
        }
      ]
    },
    {
      "cell_type": "code",
      "source": [
        "unique, counts = np.unique(labels, return_counts=True)\n",
        "size_dict = dict(zip(unique, counts))\n",
        "sorted_clusters = [k for k, v in sorted(size_dict.items(), key=lambda item: item[1], reverse=True)]"
      ],
      "metadata": {
        "id": "_uO1PTMu0Sjb"
      },
      "execution_count": 29,
      "outputs": []
    },
    {
      "cell_type": "code",
      "source": [
        "np.random.seed(0)\n",
        "\n",
        "for i in range(len(sorted_clusters)):\n",
        "  members = words[labels == sorted_clusters[i]]\n",
        "  np.random.shuffle(members)\n",
        "  print(' '.join(members[:50]))\n",
        "  print('-'*80)"
      ],
      "metadata": {
        "colab": {
          "base_uri": "https://localhost:8080/"
        },
        "id": "vBAv2Bs_0e4i",
        "outputId": "8a98b0c0-6487-4b5f-9f1c-646a08baca60"
      },
      "execution_count": 30,
      "outputs": [
        {
          "output_type": "stream",
          "name": "stdout",
          "text": [
            "省略記号 リリイ・シュシュのすべて カムイ外伝 \")-( 2710 カガヤン・バレー 秋田1区 41.6% 日本翻訳大賞 615m 景仁 高度化PHS 水垣偉弥 ファラジ スターダストクルセイダース 中邨雄二 マイアサウラ 柳亭燕路 沢田ユキオ ウスバゼニゴケ 浮草 エルプロモーション ゲイラクス Evgeny オタリア スリーエム Yorktown ヴィダルサスーン 日本電気協会 カリュプソー ヨーロッパ卓球選手権 ロシアより愛をこめて 悪魔の手毬唄 ツチスドリ ニューロフィラメント 君田 トライガン 再生可能資源 ロー・ファンタジー YOSHI-HASHI 苛性カリ 荒雄川神社 裸名 コーパス言語学 デュアルヘッド Garnet Gartner シチリア海峡 宇土駅 ビスマルク海\n",
            "--------------------------------------------------------------------------------\n",
            "千葉県南房総市 東祖谷山村 盧竜県 田染 引地 サンマルク 白楽 東関東方言 五月山 ふきあげ 萩往還 多摩区 潮境 釜谷 鳥居本 赤城駅 うつくしま百名山 1567 荒沢 喜入町 石城郡 神呪寺 東京都東久留米市 新丸 元吉原 国民休暇村 木子 閩北 遠石 高崎町 幕張海浜公園 杉並町 伊勢赤十字病院 布引山地 道意 大森海岸駅 チャンタブリー県 是政 晋州市 阿寒郡 尾島町 多良間島 宮城県議会 西新井大師 862人 釜臥山 深安郡 新城町 浦内川 赤井川村\n",
            "--------------------------------------------------------------------------------\n",
            "スウィート・ホーム お笑い三人組 香南 マルグレ＝ヌー ジョージ・スコット ユルゲン・メルツァー NHK松江放送局 ボンダレンコ タレント議員 スウェーデングランプリ コングリッシュ ぱじゃまソフト マイケル・ハワード 大学路 クリントン国務長官 アルカリ剤 西沢歩 舁 ジロティ Al Jazeera 赤口 勧善懲悪委員会 ASEM 第24回東京国際映画祭 アボット・ラボラトリーズ イジメ、ダメ、ゼッタイ 基礎票 機動刑事ジバン エルサレム聖書 -5℃ 利根川水系8ダム ナルシソ・イエペス ファーストステップ ミイラ肖像画 広島ビッグアーチ 前検 光検出器 閉域 テガミバチ キップリング 田知本愛 ムツェンスク郡のマクベス夫人 葛井 ノリントン グラフィック・アート ザ・ヴァイパー・ルーム 真善美 ザカライアス 日本電産 ドラッグアンドドロップ\n",
            "--------------------------------------------------------------------------------\n",
            "ファストファッション パネルクイズ アタック25 マリア様がみてる BARKS ゴッドフレッシュ WINDS OF GOD パンテーン Alright 家なき子 THING 聖誕祭 TUT Funta フルリメイク TWO-MIX ソロアイドル METAMORPHOSE 高橋由美子 ユーメックス NIKITA 滴草由実 別冊コロコロコミック Beep 遊☆戯☆王デュエルモンスターズGX HIGH and MIGHTY COLOR Rewrite SoulJa 絵かき 酔拳 こぎ着ける Y&T ポワロ ミスティー ジンボ ミニアニメ BSミステリー レスキューファイアー リバイバル公演 HOLLYWOOD ドラベース タイヨウのうた ニュースの深層 与太者 わたなべまさこ GUEST STANDING とっとこハム太郎 ライヴ・イン・ジャパン ミルモでポン! 木曜ゴールデンドラマ\n",
            "--------------------------------------------------------------------------------\n",
            "宮崎県日南市 名古屋市港区 玉島村 座間市 迫町 新温泉町 広島呉道路 中蒲原郡 茨城県鹿嶋市 佐久間町 利根町 松戸市 長野県千曲市 駒ヶ根市 栄村 山武市 豊後大野市 春日部市 長崎村 川内市 不入斗 五條市 土岐郡 四条畷 板野郡 上内間木 堀江町 北九州市若松区 天野川 東松浦郡 可児 岡山県下 鹿児島県鹿児島市 三木町 佐野市 蔵王町 松山町 甲西 砺波 串間市 南多摩郡 静岡市立 筑西市 智頭町 落合町 埼玉県行田市 後月郡 鳳来 小俣町 飯豊町\n",
            "--------------------------------------------------------------------------------\n",
            "吉田修一 多肥 英語でしゃべらナイト 突囲 川上宗薫 フジオプロ さよならジュピター 美松 走れメロス 六甲台 今日庵 小野次郎 日本大学相撲部 愛知学泉大学 お雪 江連 闇討 看護学生 松竹少女歌劇団 明利 お茶の水女子大学附属幼稚園 友山 芳村伊十郎 上田武司 貴乃花一門 石田博英 黒田二十四騎 佐々木味津三 花神 5児 久生十蘭 本牧亭 結城素明 塚越孝 桂小文治 八天 ニューオータニ美術館 大和流 下田武三 斉藤さん 姫ちゃんのリボン 陸軍憲兵学校 磯貝正義 北海道科学大学 生馬 大宝院 裕文 唐沢なをき 唐人お吉 北海道釧路湖陵高等学校\n",
            "--------------------------------------------------------------------------------\n",
            "マイクロカセット SIGSALY ワンウェイ Aeronautics COPC イーライナー RDD Opcode ディーゼルターボエンジン ワンビア ゼンデン 超小型車 PFU カストロール UltraSPARC BSC 6.5cm テラバイト 浜松ホトニクス ツインヒューイ 匿名化 クリエータ 技能実習 ゲーター ハードウェアアクセラレーション TCD 120k サーフィス WZ キャッシュレジスター フレネルレンズ アイシン バックログ ハイラックス XENIX iDC マグプル Creative Suite Cadenza APN ダウンサイジングコンセプト ガスタービン機関車 ビルトイン DASD 2218 大鵬薬品工業 バイオニック ストリートファイターEX ミッドレンジコンピュータ Lモード\n",
            "--------------------------------------------------------------------------------\n",
            "フェリーターミナル 東北縦貫自動車道 アエロフロート航空 入庫 乗鞍スカイライン 香椎線 丹波橋駅 国道2号線 三ノ宮駅 木津駅 関門橋 高松築港駅 河原町通 梶が谷駅 指宿枕崎線 広電 停車帯 新宿線 ロンドン・ヒースロー空港 山線 いすみ鉄道 RER 久大本線 北九州線 成田線 複線化 団体臨時列車 大府駅 13号線 長春駅 静鉄 神奈川中央 東村山駅 笹谷トンネル 北関東自動車道 鎌ヶ谷 大泉学園駅 田園都市 馬込車両検修場 水俣駅 京急 ベルニナ マイカー 淡水線 新鶴見機関区 尾久 千歳空港 鶴橋駅 千葉都市モノレール 笹子トンネル\n",
            "--------------------------------------------------------------------------------\n",
            ":+ Mandy アイリッシュカップ 男性限定 ギブスン ライトフット NTM 周口市 キューゲ 有線ラジオ放送 グリーンエッジ 緑のたぬき 複素ベクトル束 安辺 町人貴族 1667 Sadie ひまつぶし 大脳皮質基底核変性症 アゼリ おトラさん ホワイトプレインズ リオデジャネイロ連邦大学 106度 チャカオ hydroxybenzoate ジョホール・ダルル・タクジム マヤグエス the field テンダーロイン リンギ アス・ポンテス・デ・ガルシーア・ロドリゲス Legio オサ レゾリュート 耳環 金銭価値 サンダー・クレゲイン Fusarium 9550 高知高等学校 日本女子プロ将棋協会 TALIZMAN しろくろ セントラル子供タレント デノミナシオン・デ・オリヘン Олег 国籍離脱 於是 フロールシュタット\n",
            "--------------------------------------------------------------------------------\n",
            "斬奸状 スレッガー つけ込み ギラティナ 思い悩み 秋生 まるっきり ヘルモーズ お元気ですか 年端 だからといって よろこん 忍び寄り 箱屋 ピノコ 勿体ない 身代り 折り重なっ オーベルシュタイン オスターマン なぎ倒す 集団ヒステリー 万雷 血痰 折り合う 思慮深い 断腸の思い ファイティングポーズ キーロック うなずく ひかれ 生滅 ？\" テウタテス おじぎ 尻餅 吸い寄せる アリーシャ 約束の日 スノーシュー 頓知 鞭打つ 廻転 ゴリャートキン からまっ マリエ 受け流す 飲み代 つたっ 響け\n",
            "--------------------------------------------------------------------------------\n",
            "アルゴンヌ国立研究所 シーナ・イーストン アメリカン・アカデミー・オブ・ドラマティック・アーツ エイサ・グレイ クロウドッグ メンズウェア ヘップ ヴァン・ダイン カム・オン オールセインツ メレンデス テピク テレンス・マリック ガルシア・マルケス バーブラ パーレイ シモーヌ・ヴェイユ Edouard カサール Illustrious サカイ カメロン テディ・ウィルソン ベップ ジョヴァンニ・ダ・パレストリーナ ヴルム グリジ ジョージ・キューカー 吹奏楽のための交響曲 サビーナ パスト アメリカ合衆国造幣局 セントラル・スクール・オブ・スピーチ・アンド・ドラマ ココ・シャネル ロベルタ ジョゼフ・ヴァラキ Goodrich ジェイムソン エド・ゲイン プリチャード ブルース・ホーンズビー ピップ ヘンリー・キング John Henry ドネリー ライオネル・バリモア ダニエラ ジョン・スチュワート ブローディ パク・チャヌク\n",
            "--------------------------------------------------------------------------------\n",
            "Lust takes Intervention divisor IFLA オルタナティヴ・ミュージック Necrolysis statements Britt reticulata Turns Danse authority コンソールアプリケーション Arranged TFS Privy Puma Maxpoint dialect Dharma added pump ria Daiwa Gibb Mojo Veritas Mic 鏡の国のアリス Sparkle Linguistics Shimizu Explosion canadensis Braves Ultraviolet 3つの小品 nan Coventry lazy tw signs Truman delicious Syn website plain ペシタ シジュウカラガン\n",
            "--------------------------------------------------------------------------------\n",
            "VIRTUAL 堂珍嘉邦 ハイビスカス 鷹の爪 くちびる UNIQLO Stage INFINITY 一番くじ 発売決定 KEEP SONGS /　 イエティ ボンボン NASTY NEMO 飯塚雅弓 WEEK ニッポン TVサイズ ワッショイ RiCECOOKERS うまなで 2-NI- HOTEL オフィシャルブログ ルモンド 誕生石 ウルトラマンフェスティバル CRUSH ONLY Kiroro オメガ・スプリーム ALPHA Genie MORI SIDE KURO 特価 じいろ ソレイユ SAKEROCK けむり GIZA CRIME GRAFFITTI ワッカ レボリューション BAY\n",
            "--------------------------------------------------------------------------------\n",
            "太輔 野元 有島生馬 石川県小松市 小田秀臣 関根達発 佳代子 鱓 梅玉 美童 テソン 宗二 浮世風呂 寛之 嘉章 佳久 笹倉 露伴 賀古残夢 軍治 義夫 由香里 雅雄 バンマス 徳元 大柿 平六 菊池大麓 鶴野 ）､ 梨絵 前田青邨 天勝 重和 越野 和生 藤ノ川 幸和 山川健次郎 子連れ狼 三二 中村部屋 恒富 重一 保之 坂木 佐為 竹家 悠斗 大蛇山\n",
            "--------------------------------------------------------------------------------\n",
            "杉山賢人 広瀬章人 赤組 モジャーキン ジョン・ホプキンス ソルナ シカゴ・ファイアー トロイ・グロース ジェラール・ドゥカルージュ デビッド・プライス MLSオールスターゲーム クリスチャン・クリエン クレイ・レガツォーニ バレーボール・ワールドグランプリ イアン・キンズラー メジロムサシ 平野早矢香 71試合 40戦 グッデン 24周目 デビッド・ライト 第34回スーパーボウル キャピタルズ プリンス・フィルダー トリニータ ラヴジョイ 隋文静 ブイグテレコム ミロスラフ・クローゼ ヘイキ・コバライネン マイク・ハンプトン ギンザーニ ロッテマリーンズ ミラー・パーク 近藤有己 ミヒャエル・バラック マイケル・エッシェン アメリカン・トップチーム サン・パウロ 岩手大会 15連敗 ニューウェルズ・オールドボーイズ FCディナモ・ブカレスト ルスカ 東京アパッチ 鹿島ディアーズ 395m スポルティング・デ・ヒホン ジェイソン・ジアンビ\n",
            "--------------------------------------------------------------------------------\n",
            "Skin Then Pain Governors Stroke evil \"(『 UNDERGROUND Birth goes Victory \"# Nua our Disaster Character Verde hearts Cool Chernobyl Kick Order tres Sacrifice tout Fruits Suck Mint Skills 邦題 eines Yesterday Mediterranean Ballade Swan Fab Palestine Enchanted Snake Ole lovers Fires Forget \"\"（「 Conservatoire Singers Premio Showdown Finals Serious\n",
            "--------------------------------------------------------------------------------\n",
            "誘導障害 ムーアゲート駅 藤枝宿 小田原厚木道路 西部軍管区 十字街 萬代橋ライン 雪が谷大塚駅 千城台 武庫川駅 白糠線 東京臨海新交通臨海線 水海道駅 国道219号 土合駅 蘭新線 江ノ電バス横浜 二葉町 丸の内口 国道479号 国道388号 大須駅 岡本駅 ビッグサイト 盛岡バスセンター 新村駅 くずはモール 塩津 屋代駅 オストラヴァ 武漢地下鉄1号線 霞ヶ丘町 空港前 西灘駅 1142 太平洋フェリー アイランドシティ 綱島街道 川越観光バス 平和大橋 西ノ宮 多治見駅 新座駅 豊鉄 大阪府道2号大阪中央環状線 羽田空港駅 明光バス お台場海浜公園 南島原 ピークトラム\n",
            "--------------------------------------------------------------------------------\n",
            "義達 介添え 信清 高力 実政 三条実美 油川信恵 九度山 守光 春日虎綱 信国派 矢島藩 豊州 直常 位禄 忠利 馬廻 伊東玄朴 信貞 秩父宮 徳川家重 三后 行成 朱舜水 貞宗 戸浪 依仁親王 外孫 落飾 塩谷 清浄華院 後水尾法皇 義親 鳥羽天皇 良基 信定 不行跡 名のり 八条院 和宮親子内親王 信幸 滋野 三守 宗久 薩州家 義頼 跡部 近習 建部 信安\n",
            "--------------------------------------------------------------------------------\n",
            "勝豊 依田氏 懿王 頼尚 友直 世良田氏 俊勝 勝宗 左谷 赤須 愛智 美濃国諸旧記 館山藩 岩成友通 龐勛 細川真之 臨川寺 孝伯 島津家文書 俊宗 湯長 上杉朝興 阿利 合志 疋田氏 入郷 加久藤城 風間氏 裨将 伊東祐兵 思紹 宣義 九条良経 水野忠重 趙光祖 梅雨小袖昔八丈 西園寺氏 京極高知 梅雪 竹阿弥 昌世 福与城 中島信行 杉原家次 定輔 金沢氏 強硬保守 満弘 太始 推挽\n",
            "--------------------------------------------------------------------------------\n",
            "クラフトフーズ テック 両備ホールディングス ローンスター 日本電信電話株式会社 NTTグループ すかいらーく 川重 日本油脂 ラリー・ペイジ ゲイロード スリーダイヤ 川南工業 房総鉄道 昭栄 中裕司 iTV 高島屋 改称 メセナ TMG マイクロエース 玩具メーカー スターヒル 日立ディスプレイズ 日本交通公社 五島慶太 スタンレー・ホー 日本長期信用銀行 三井住友建設 アトレ ジョルジオ・アルマーニ 本店 エンドーチェーン 英国核燃料 エバンジェリスト 筆頭株主 東邦薬品 バンク・オブ・アメリカ CCC 忠実屋 高炉メーカー Company 天神エフエム セーブオン 貯蓄貸付組合 露清銀行 公営交通 業務提携 共同企業体\n",
            "--------------------------------------------------------------------------------\n",
            "光通信 Cg サムネイル GCE JBoss ™ OASIS WebM ScummVM ネイティブ 外部コマンド Webサービス HDD RAID Ajax f2 KEK ATI Technologies RDF 49g+ インプットメソッド EY Keynote ネットスケープ NVIDIA DirectShow シスコシステムズ CIIA HPET 1TB ウィキ Unix系OS アラート PD Mono リモート ect 日本語名称 AutoHotkey FIP Framework GUI インテリセンス FAQ Microsoft PMA 物理エンジン 実行ファイル Bluefin SIP\n",
            "--------------------------------------------------------------------------------\n",
            "きじょう わらい まい みやび いこうじ こうがく かば ろっか みつまた たましい いかん あさ ていさつ 餅田 しゅぎょう ぱい ずい なま ぶつえん よび水 ひばく あじま ことん たけお とよはし エービーシー エヌエイチケイ へや せいち はれつ っけ ぷか きょうそ ようこう こみち ふるか やすゆき しゅく さとう はまじ えいしゅん れんご けんこう みら せいかつ びる かれん ぺ いさむ ょうぼうくみあい\n",
            "--------------------------------------------------------------------------------\n",
            "島流 定恵 御弓 秀山 蕨手刀 在島 燕返し 天道根命 一念三千 越山 迹迹 序で 韮山反射炉 親元日記 可睡斎 散曲 山王神社 畢可 気多神社 巡覧 二松學舍 中村修 軸継手 縦横家 警吏 著者不明 源氏物語絵巻 歎異抄 東亜会 谷川健一 観智院 李陽冰 配す 纒 サンカ 榜眼 普門 鼬 奉迎 左殿 幷州 著聞 不離 延州 一ノ谷 日興門流 和蘭 自流 尚真 静神社\n",
            "--------------------------------------------------------------------------------\n",
            "ポルトフィーノ ナミビア共和国 カルチュラル アメリカ合衆国北部 カルダス ジョアンヴィル ブリアンソン ナーブルス ルブシュ ラハイナ エスコンディード Shipyard キンタイア Centrum バート・イーブルク イヌヴィック バルントルプ ドルドレヒト ナコーンシータンマラート ヴェリカ・クラドゥシャ カルド Dfc ラ・パス ブーシュ シエンフエーゴス ヤルムーク アルダハン Marne ラトゥナプラ 78km ブラックフライアーズ ノースサイド コルモンス サポテカ ホーフガイスマー ラノーン県 デルンバッハ Stamford 南エーゲ チアパス タウポ LATAM ポートビラ ゲンティン シエラ・モレナ Horseshoe エル・アルト アールヴァイラー スウェーデンの県 ズレニャニン\n",
            "--------------------------------------------------------------------------------\n",
            "Frobenius lower Geophysical unsigned DOC ultra trans (= conversion ill 」' fo array Near individual neutral final Linear Mode η Internal tap Term Athletics Corp leg built margin box eight bis suicide fast ´ electronic successor hit wire https Text Federal Value public stress Resource vector 二重音字 ena Board dot\n",
            "--------------------------------------------------------------------------------\n",
            "エゴイスト 喜怒哀楽 極まりない いじる 偉い まんま 描ける 自己陶酔 ゼニ 逢い ほんとうに お姉さま 意気込む 夕陽 荒っぽく ｢ 走り書き いのち ワタル 痛々しい 常套句 すごい ポージング ののしり 掃い ティータイム 芽衣 心を開いて みなさま サチ 聞き分け あしらう すわっ 阿呆 たたかう 親愛 おごり 身振り 理詰め 出会える ぴったり 即答 切れ字 世の中 聖志 おぼえる 前かがみ おバカ 何となく 顔色\n",
            "--------------------------------------------------------------------------------\n",
            "ラスキン マッキム クイーン アービン ギャロ ゲインズ ジョン・ロビンソン ファロー ジェレミー サイモン セルジオ ナップ デラニー ソップ バジル P・G スウェイン ヒーリー フライシュマン リチャード アイラ リッツ スノー カナ ラングドン トリビューン コンスタン パーシバル インブ モハメド ビバリー トリンブル エンゲル ラグナ サンダンス・キッド 列車事故 マリー・ヴェッツェラ アダムス パーカー デイヴィッド スペンス リート リチャードソン サンノゼ州立大学 チャールズ・ウッド ブロートン オブ トレー ウィルトン ケロッグ\n",
            "--------------------------------------------------------------------------------\n",
            "武公 禁 燕雲十六州 勢家 侯莫陳悦 邳 忱 開平 竇熾 奥州総大将 丁零 婺州 聿鍵 鄭経 徳正 曹魏 太武帝 安陵 桓公 代王 曹丕 王羆 191年 禅譲 董憲 陳興道 陞 蕭詧 陰 奮い ファリアス 陛下 賀斉 楊儀 顔延之 冏 求法 永熙 戊戌 孫賁 竇泰 小錦下 瑗 祁山 宰相 威名 物部麁鹿火 呂禄 李秀成 羽衣石城\n",
            "--------------------------------------------------------------------------------\n",
            "ステンレス 1720 EyeSight W-1 ガルウイング ダブルトラック Gran Turismo A.J.フォイト メタリック ヴェラロ シグネチャー スロ ロット スカニア レシーバー PCM音源 公道 緩急車 ECCO 設計思想 ティアドロップ パゾ 600形 FJ QWERTY トラール レーン ギャランフォルティス フロート車 急行形車両 スクーデリア・フェラーリ コンビーノ BoP 標準軌 性能 レクサスブランド デュランゴ・アンド・シルバートン狭軌鉄道 ビークロス 圧縮天然ガス CW ラピード ランエボ ショックアブソーバー 250 ワンマン チャージャー WH フォーミュラ3000 2CV スペアタイヤ\n",
            "--------------------------------------------------------------------------------\n",
            "黒部 四ヶ町商店街 山陰地方 芭蕉の辻 伊計島 山陰 公衆便所 和賀川 御影石 三河島 住吉川 岩木山 重要港湾 宿場町 WINS 毛無山 中央館 舞鶴港 城東 烏川 甲西道路 木ノ芽峠 木道 街 中田宿 竿燈 東京スカイツリー フィルムコミッション 御笠川 栗橋 白山白川郷ホワイトロード 富山平野 小樽市 那須疏水 32階 大野川 城口 奥尻島 条里制 上世屋 乙津川 墾丁国家公園 千曲 白峰三山 環状通 調整池 荒川 しゅんせつ 釜無 ハーモニーホール\n",
            "--------------------------------------------------------------------------------\n",
            "プロセシング エネルギー収支 不可逆反応 ミマス 植込 反対称性 固有派生形質 アンタラ ベニカワムキ スルホキシド ピーターセングラフ フォースプレイ 純色 部分評価 Aso methyl SCF 6行目 MnO 平気法 メソン 周期的境界条件 つくり出す アウトカム G型主系列星 太陽圏 動きベクトル コントロールストア イソプレノイド 眼底検査 酸化ホウ素 アナライザ 言語音 チャパ 等か スコルダトゥーラ 核質 バックプロパゲーション フィッシャー・トロプシュ法 一物一価の法則 視野障害 tyrosine プラネット・ナイン 量子テレポーテーション 単位の換算 UARS ヒ化ガリウム ハプティクス コリトサウルス 生物学的半減期\n",
            "--------------------------------------------------------------------------------\n",
            "伏見街道 鶉 梧 中仙 布引 小俣 尾谷 津山 朝陽 陸中 上野原 船町 花川戸 稲場 三之 野寺 丹党 愛宕下 西大 東中野 分部 柏崎 泉城 安行 名草郡 国崎 粥川 高山祭 鹿沼 三津寺 海田 三俣 岩手 別府村 高岡 深沢 函南 奥吉 上前津 天満社 宮ノ下 中目 浦 福王寺 横沢 大工町 椎葉 湊川 前波 一身田\n",
            "--------------------------------------------------------------------------------\n",
            "コミPo! 年金手帳 失業保険法 NSPIXP まぐまぐ 全国健康保険協会 任意規定 憲法第9条 国際手配 世界測地系 交通困難地 スーパービジョン ICT教育 精勤章 リワーク 駿河湾地震 広島平和記念都市建設法 外国法事務弁護士 ねつ造 農協中央会 指定都市 企業再建整備法 DMCA 無線航行移動局 有線役務利用放送 地方教育行政の組織及び運営に関する法律 7600人 懈怠 私的所有権 共同持ち株会社 ケイビーバス 意匠法 GVP 可動文化財 高松地方裁判所 登録販売者 PSE法 一対多 告知せず 富田メモ 代位弁済 国立国語院 精神保健福祉法 基幹放送普及計画 財務会計 棚卸 ベルギー国立銀行 水質汚濁防止法 投融資 古物営業法\n",
            "--------------------------------------------------------------------------------\n",
            "シーツ 箒 アンビル 満遍なく 懸垂 火の粉 ルーズリーフ 無地 舗道 三線 土煙 日本の伝統色 握り拳 襟首 ステー かんじき 轍 道糸 表地 略章 修整 心棒 座金 南京錠 ゲバ棒 黒い 石板 アルペジョ 組紐 茶色 飛び上がり 焚き火 バラ色 剃刀 骨壺 一斗缶 フローリング 差し込む 履い 目玉 プロテクター 洗面 応接間 制帽 一輪 ちょうちん パティオ 仕込み ガレキ ピッケル\n",
            "--------------------------------------------------------------------------------\n",
            "順子 康生 東海林 清二 三樹 草平 安部 大河内 野澤 久富 信夫 江木 ひさし 笹川 石井 岸川 志ん朝 川路 浩一郎 尾崎 翔 高部 浪曲師 伊藤野枝 正夫 後藤忠政 10代目 謙一郎 雅人 日出子 瀬能 誠 矢野 野本 恒松 門脇 お梅 桂三 平尾 清司 花井 保治 圓生 沢田正二郎 森戸 慶一 恩田 七生 龍宝 舟木\n",
            "--------------------------------------------------------------------------------\n",
            "別業 徐福 稲荷山 屋敷神 長久保赤水 とおっ 回遊式庭園 揚屋 正保 日本さくら名所100選 民俗文化財 出土 宵祭り 冬の風物詩 足利学校 鴻臚館 中島川 永平寺 曳山 葬送 石積み 大神楽 神体 新編相模国風土記稿 折紙 町会 御蔵 御仮屋 佛光寺 板碑 鎮座 鉄道唱歌 営所 鹿児島県立図書館 都名所図会 證誠寺 王子神社 山の神 平等院 臨幸 薬師 護摩壇 菅公 神奈備 里神楽 尾去沢鉱山 龍泉寺 諏訪大社上社 蚕室 一朱銀\n",
            "--------------------------------------------------------------------------------\n",
            "決勝トーナメント グローブトロッターズ 弘山 18試合 馬場 ナイナーズ ゲームプラン 7試合 最終年 マクヘイル 19試合 47勝 全検 アッパー スパスキー 引分 琴光喜 西武ライオンズ ルチアーノ・スパレッティ 野選 アウトボクシング マーク・バーリー 疲労骨折 再試合 来季 ペテランセル 攻め合い 山井大介 本命 22試合 福岡ソフトバンクホークス こぼれ球 シカゴ・カブス 4打点 フォースアウト 大逆転 ティム・ウェイクフィールド ダラス・マーベリックス マッチアップ いざゆけ若鷹軍団 アンドリュー・ラック ボレー 取りこぼし コートジボワール戦 8連勝 アワーバック 2敗 払巻 メルクス 黒星\n",
            "--------------------------------------------------------------------------------\n",
            "ガンビー バンドメンバー KAN 森高千里 ビート オジー・オズボーン エレキ UNIT クリス・スクワイア コナミ矩形波倶楽部 ヒッピー マーク・ジェイコブス 山本寛斎 PE'Z ELO Do As Infinity PSY アシッドジャズ FANATIC◇CRISIS NOFX メタル・ブレイド・レコーズ 星勝 カバー 録音 ジョニー・カーソン ミュージック・アワー クリフ・リチャード アコースティックサウンド 昭和歌謡 ラーズ・ウルリッヒ レオ・フェンダー 50曲 25曲 ドッケン ジョニー・ロットン レイ・ブラウン 大西順子 岩谷時子 ヴィニシウス・ヂ・モライス エヴァネッセンス 現メンバー ビリー・アイドル ジャズバンド 3rdアルバム ブルートーンズ イーノ トラックメイカー 歌唱 はちみつぱい アーチスト\n",
            "--------------------------------------------------------------------------------\n",
            "セル スロット 推進力 平射 タイプライタ 屈折望遠鏡 ショッピングカート ウインチ 動作 ウラン燃料 レバー 安全機能 セクション 防音 焼き付ける 近赤外線 アルカリ乾電池 開閉器 把持 交換機 取り外す 主制御器 コンボ 棒台枠 音量 取り替える AMSR 蒸溜 クリック ラインデリア トランジスタ 蛍光灯 衝突回避 若干 SNG 撃力 かさ上げ 補機 釘調整 締付け 素体 ワープナセル 調速機 トランスポンダー 扇風機 こうのとり3号機 蒸気 ハニカム構造 式 マイクロカプセル\n",
            "--------------------------------------------------------------------------------\n",
            "鉱物 年代測定 アルゴン d軌道 幻覚剤 プロントジル フェルラ酸 ヒドロホルミル rRNA ポリリジン ラジウム Tl シスプラチン 殺虫剤 メッセンジャーRNA 核磁気共鳴分光法 トラスツズマブ 欠乏症 塩化ナトリウム 肝細胞 顆粒 抑制剤 イソシアネート チアゾリジン 光触媒 フッ化ナトリウム 抗炎症薬 陽極 電気化学 プロトン プロピオニル サリン ラクタマーゼ cells 固体 プロトンポンプ阻害薬 DMSO 不溶性 レスベラトロール LOX 人工授粉 遺伝子発現 メタンガス フェノール ブチル ビス 破傷風菌 分子標的薬 モノクローナル抗体 硫酸カリウム\n",
            "--------------------------------------------------------------------------------\n",
            "物語り 高山国 風来 朝風 大紋 黴 俳名 升 牛頭 建水 あまた 魔除 吾が 芳春 検字 し事 驪山 半紙 磋牙 祭車 大正新脩大蔵経 布勢 西天 付喪神 かえて 紗 古語拾遺 高士 狗 相成り 或 熟字訓 金襴 亞 水月 迹 蠟 芒 五蘊 あるく 土蜘蛛 去 大行 轉 緑山 坡 酉年 小内 樟 榊\n",
            "--------------------------------------------------------------------------------\n",
            "ワ～ モラヴァ オストヴェストファーレン コンカニ語 チャンネル諸島 ソチ Burmese キシニョフ マガダン キエフ州 レグア オーフス 東インド諸島 ブランタイヤ サンジャク ゲルマン神話 ベルゴロド ウシュアイア 南アフリカ共和国 カウナス ドイツ南部 三国国境 アビラ ヤストルフ ベーヴェルンゲン タラ 西インド連邦 ニーダーエスターライヒ州 マナーマ カラチャイ・チェルケス共和国 レニングラード州 グレートベースン チャタム諸島 ブルラーダ カルパチア山脈 マプチェ族 クロアチア語 CBD ブレシア県 スリランカ 音素文字 沿海地方 キブ タインアンドウィア州 ピッグス湾 トカラ語 スクレ 西プロイセン アルーシャ Department\n",
            "--------------------------------------------------------------------------------\n",
            "温度勾配 二元 数理物理学 グローバル変数 可 外部キー ヘヴィサイドの階段関数 動的 ジョン・ネイピア ガウス整数 順序体 密度 定数時間 構造定数 入れ子 暦表時 空間群 対角行列 双対 世界線 デストラクタ 基線 磁化率 換 語順 透磁率 弧長 { ペンシルパズル \"〉 ディオファントス方程式 PRA 黒板太字 ウス型 Xa 係数行列 ħ 群の表現 自己解離 一人称複数 対称群 CBP ハイティング代数 テンソル場 アトリビュート 偶関 アフィン部分空間 電位差 圏論 エピジェネティクス\n",
            "--------------------------------------------------------------------------------\n",
            "日本選手権オートレース ガルリ・カスパロフ 立役者 UEFA EURO 2008 チームロゴ デーリー EURO2004 東海クラシック 日本グランプリ 日本キックボクシング ロサンゼルス映画批評家協会 全日本選抜 トラバート 平昌 60勝 デキュジス サッカーフランス代表 プロゴルフ協会 アレクサンドル・ポポフ ライトミドル ゴイアス モハメド・ファラー マリヤ・シェリフォヴィッチ 第4回スーパーボウル 第22回NHK紅白歌合戦 フットボールリーグカップ 錦織圭 飛込み K-1 GRAND PRIX 平均台 オープン参加 チャンピオンズリーグ 国際オリエンテーリング連盟 タイ代表 3000m マイク・ベルナルド 南米サッカー連盟 フェルナンド・イエロ 国立霞ヶ丘競技場 ウェンブリー・スタジアム クラシカ・サンセバスティアン 高円宮杯全日本ユース(U-15)サッカー選手権大会 パンクラチオン 全国高等学校総合体育大会 走り幅跳び ライスボウル スーペル・リーガ コントラクトブリッジ 最優秀主演男優賞 ラクロス\n",
            "--------------------------------------------------------------------------------\n",
            "預け 打ち明ける 嫌がる 捕まえる 通り越し 装い ワイクルー 飛び回り 触れ回っ 冷める 抜け 治し つぶれ 気付い ゆずっ 後ろ足 抜き取っ 遣ら 乗り捨て 願う 未決囚 探し回っ 兎角 暗転 折檻 舐める 飛び散り 浸かっ 一部始終 鳴り響く 寄せて 物陰 ゆるん ほのめかす やらかし 呑み込む ねじ伏せ うろたえ 助け出す 流子 物色 突き通し そらす 村人 静まり返っ 馬上 くぐっ 企ん 呆気なく 危難\n",
            "--------------------------------------------------------------------------------\n",
            "ピエール・ムニエ アイゼンハウアー 言論機関 農業党 コソボ自治州 教会派 平和・市民 スチンダー シンウェル フィッツ・ジョン・ポーター 自民党政治 ジェラルド・フォード 愚策 惨害 デメジエール 国民保守主義 日本の国会議員 クラブ関係者 ジョレス 建設院 インド共産党 フェルキッシャー・ベオバハター ジャワハルラール・ネルー ウリベ ドイツ将校同盟 アジズベコフ ネポティズム バース党 インカタ自由党 東京財団 SMER 原田熊雄 加瀬英明 蒲島郁夫 芸団協 JPC 石川県議会 東京条約 諮り GUAM 政府代表部 ミリューチン NTC 親台派 アシュクロフト オズヴァルト・ポール 全日農 アイアデル NED 薄一波\n",
            "--------------------------------------------------------------------------------\n",
            "Steve rerum Ernst Aubrey 1877 Burgess Pedro ld Byrne Bennett Martin Roger 1783 Playhouse Clube JU Rhein Cheng Rankin Caproni コボ Gottfried Heinrich Author Battista Pace Lévy Mary Cosmo Bueno Kenneth Expedition Medina 1798 Parkway Wiener Bauer 〜) Ramírez Heller Hood Evelyn Cunningham 動物の倫理的扱いを求める人々の会 Lama Associazione Christy Brno (、、 Louis\n",
            "--------------------------------------------------------------------------------\n",
            "日本数学会 学習院大学 フランス語学 早稲田大学第二文学部 鹿児島大学 日本大学商学部 日本語学科 家政学部 日本児童文芸家協会 都市工学科 東京大学大学院総合文化研究科 東京基督教大学 囲碁将棋 たずさわっ 田村直臣 興亜工業 桐朋学園 天理大学 ハンガリー科学アカデミー 四天王寺大学 中国籍 吉田五十八 梅原猛 千葉県立東葛飾高等学校 系属校 国際映画製作者連盟 UCSB 上智大 こども音楽コンクール モスクワ大学 14期生 沖縄国際海洋博覧会 渡独 東京音楽学院 夏山診療所 名古屋学芸大学 滋賀県出身 日本臨床心理士資格認定協会 尚美学園大学 技術コンサルタント 立命館 UCLA 旭日双光章 国立教育政策研究所 政策学部 九大 聖望学園 中日文化賞 デューク大学 公共建築賞\n",
            "--------------------------------------------------------------------------------\n",
            "稲垣足穂 長谷川京子 ジェラール・ドパルデュー 大久保清 クルーゾー警部 中田ダイマル・ラケット 取り掛かる 新派劇 加瀬亮 燃えよドラゴン 影の軍団 ヒッチコック バーニングプロダクション 松本幸四郎 島田陽子 大原麗子 鈴木清順 銀獅子賞 三代目襲名 撮影中 東京劇場 潘恵子 渡哲也 ボブ・ホープ 喜劇王 24 -TWENTY FOUR- 勅使河原宏 松竹株式会社 檀ふみ レイチェル・ワイズ 浅草公園六区 梶芽衣子 鳳蘭 インダストリアルデザイナー 中尾隆聖 黛敏郎 劇場アニメ 火野葦平 上原正三 ロバート・ハリス 浅利慶太 渡瀬恒彦 菊田一夫 大川博 クロード・シャブロル ストリープ 根津甚八 小林昭二 アクションシーン さいとう・たかを\n",
            "--------------------------------------------------------------------------------\n",
            "諸方 留守 教行寺 駿河侵攻 栄華 博徒 勝頼 森可成 仁木氏 如道 大功 淡路国 所司代 加担 密書 貢物 遺 信濃国 早雲 頼政 野田城 本領 勢威 芳賀氏 田城 直義 国衆 遠島 島津家久 同道 宇都宮忠綱 仁賢 篭城 アテルイ 北近江 松浦鎮信 迎え撃っ 黒田氏 五奉行 群雄割拠 下地中分 満直 俘囚 小寺政職 奉公衆 匿い 少弐氏 逃散 九頭竜川の戦い 国衙領\n",
            "--------------------------------------------------------------------------------\n",
            "ミーゼス レーガン・ドクトリン カニバリズム 超準解析 ルイ・ド・ブロイ ダランベール 自由学校 萌え要素 ヘルマン・ワイル 統合医療 遠隔透視 トラシュロス 文語訳聖書 真性異言 バーネイズ ノブレス・オブリージュ フリーマン・ダイソン 源氏物語玉の小櫛 社会的費用 書誌学 タバリー 生物地理学 ペアノの公理 海洋地質学 双書 カビボ ゴルトン 世界大百科事典 動物の系統 プロビデンスの目 新来 観相 根拠に基づく医療 盲ろう者 ボンヘッファー デューイ十進分類法 マービン・ミンスキー メディアリテラシー 共時的 performing アブダクション ペリパトス サットヴァ マックスプランク しい島 反日プロパガンダ ハーバーマス 比較発生学 明治文化研究会 世界の歴史\n",
            "--------------------------------------------------------------------------------\n",
            "ひるね けいず ねま 津田村 千葉県白井市 ひもん とうぶん 上石 べんじょ とよの ほうてん づえ 神奈川県横浜市旭区 こうけつ けいせ けす せんぱ しゅうしゅう 岡山県岡山市東区 ほうさい きょうがく 秋田県北秋田市 まやく はくよう 地球村 舞昆 ゆうわく 河端 れんせい 七百 日方 ねはん 愧 うごき なほこ Pharmaceutical 熊本県熊本市東区 くいず しののめ 月野 かすみがうら きゅうめい まさん でんせん えんす ねんり ?/ しつれん いなご ふれ愛\n",
            "--------------------------------------------------------------------------------\n",
            "ホジャ 1456 ウィテリウス ティーリュンス ジョン・スターク リプシウス レッチェ ヴェネズエラ マインハルト Tīmūr リエゴ エリック・エルスト ナヴァフルダク トムタラカニ モリーズ シラクーザ キャサリン・ハワード 1689 メデューズ号の筏 エルサレム国王 ソルコクタニ・ベキ フィリッピーネ バインナウン アルチ・ノヤン アーサフ・ハーン リブルヌ ピーテル・ブリューゲル ハーゼ クアンガイ省 イシドロ Pasha ヘラクレア ブランメル クバラン エリュアール トゥコージー・ラーオ・ホールカル マドゥロ シャテルロー ブルージュ コグノーメン アンセルム キスユラブルグント ラ・マルシュ フヴォストフ ハドル リタイ ドイツ騎士団国 アーチボルド・キャンベル 聴罪 ズヴェニゴロド\n",
            "--------------------------------------------------------------------------------\n",
            "ラブクラフト 攻殻機動隊 コミュニケーションデザイン 鈴木裕 直筆 絵葉書 サミズダート 那須正幹 尾崎秀樹 電影 ウノ・アスプランド 夢野久作 穂村弘 種村 グイン・サーガ 直木賞 純文学 JICC あざらし ジェッツコミックス 保育社 国立国会図書館 トンデモ 新約 建築写真 ベストセラーズ ノンタン 稿料 漫画アクション イメージ・コミック タブロイド紙 南京大虐殺 中央日報 巻末 pixiv 画展 福島民報 文庫本 カラメイコス うなぎパイ ブランケット判 奇習 日本経済新聞出版社 アンブローズ・ビアス 詩集 成年コミック 便覧 エスペラント語 マジックミラー 講談社文庫\n",
            "--------------------------------------------------------------------------------\n",
            "コナミコマンド ヴァーチャル エンドレス メガ 彩京 富士通 マーベル ネットブック ガーミン タングラム ウィーヴ 流田 ポリスノーツ 既出 エクセル ヒューマン ヘアケア アーケードゲーム基板 gr ゲームマスター 電波新聞社 収録内容 メダルゲーム 無印 PC LINE ぱちんこ アピアランス ポカリスエット コネクト リアプロジェクションテレビ ガラケー チーム郷 ハムスター スワンアイ マンガボックス 機動戦士ガンダム 逆襲のシャア ザ・ SUIT プリインストール イージー メンズ アーケードアーカイブス プレス ギーガー NOVELS ポケモン映画 ゲーム版 Aptiva カシオ計算機\n",
            "--------------------------------------------------------------------------------\n",
            "Lodge カジノ ユニバーシティ ジョージ・ヘンリー・トーマス バート・ガンダースハイム 州立 アリゾナ州 マカルー エスタディオ ストリート 議事堂 オセオラ 地下鉄道 SWR アメリカ合衆国 スマーナ シラキュース ヨーク ポーツマス海軍造船所 ノイシュタット クインジー ノーフォーク島 パルース ウィスコンシン州 号線 ジェファーソン郡 フルトン郡 オルセー ティルデン アルバータ州 エドウィン・スタントン オンタリオ イングランド北部 マンハッタン区 クレルモン＝フェラン セシル・ローズ リムリック ユーティカ ノーザン キングス郡 ユーレカ ダウニング街 リンカンシャー州 ゲアリド エバレット コネチカット州 ブルームフィールド オールトン シュヴァルバッハ ラーデン\n",
            "--------------------------------------------------------------------------------\n",
            "ボケ担当 美音 菊地亜美 さかなクン 山口智充 エイプリル・フール ビキニ姿 北野誠 スクールアイドル インリン 紅一点 久米宏 酒井香奈子 天の声 ラサール石井 小畑実 細美 大川興業 ペンネーム セクシー女優 ASAYAN はなわ パーソナリティー ドタバタ 楽屋裏 にこにこぷん 小雪 月亭八方 スター誕生! 神奈延年 アニパロ 峯岸 アニソン 涼平 鈴木啓之 チエミ シェー 松井咲子 野猿 赤い靴 巨泉 上岡龍太郎 加藤晴彦 Miz 業界人 てれび戦士 とまとあき チアダンス ミキ 美少女図鑑\n",
            "--------------------------------------------------------------------------------\n",
            "レイテ 第四航空戦隊 撃滅 ポルコ 残敵 岡山空襲 隊舎 国境監視 B-29 ホルムズ海峡 青島 金龍丸 第二特務艦隊 ドーントレス ガントーム ローマ海軍 ギルバート諸島沖航空戦 Qシップ 栗田 ハルファヤ 誘爆 ドーセットシャー デュプレクス 艇 安宅船 大日本帝国陸軍 大航海 特務艇 チリ地震津波 クォンセット・ポイント マゼラトップ 人間魚雷 傍受 LSSAH 帆船 ハルゼー グアム ノルマンディー上陸作戦 突入 敵艦 戦闘序列 ロリアン 加古 伊東祐亨 航洋砲艦 偵察 丁字戦法 軍旗 戦闘機部隊 諸共\n",
            "--------------------------------------------------------------------------------\n",
            "全土 IFOR ルーデンドルフ 帰還事業 フィリピン・コモンウェルス 駐日大使 イタリア社会共和国 機密文書 官庁集中計画 北ベトナム ヌーリー 工作員 革命軍 インド総督 タスクフォース 率いる ドーズ案 戦犯 文化闘争 台湾籍 T4作戦 列強 第一次インドシナ戦争 CIS 国際女性デー ナーズム BUF 大本事件 人民警察 ECOWAS ツチ 駐韓 ローマ進軍 アルシャバブ マフディー軍 日本固有の領土 ドミニカ ラパッロ条約 パナイ号事件 金大中事件 防衛司令部 ベトナム戦争 国境管理 日露関係 独裁時代 中独合作 奴隷化 参謀総長 占領政策 ジオン公国\n",
            "--------------------------------------------------------------------------------\n",
            "ジュベネイル・ガイド 副大統領候補 日銀法 新党日本 選挙ポスター 田母神俊雄 ケネソー・マウンテン・ランディス 議決機関 死刑廃止 マイク・ホンダ コニャーズ 単純小選挙区制 全斗煥 三金 アジア女性基金 ムセベニ ジャンフランコ・フィーニ 無産政党 鶴の一声 キャスティングボート 市政 労相 次期政権 民主社会党 DRP ドイツ労働者党 関連法案 政治局員 ドナルド・トランプ 保岡興治 正義党 票数 神奈川県議会 更迭 綿貫民輔 次期 真理党 岩國哲人 社会大衆党 ロビイスト ベルルスコーニ 統一候補 鳩山内閣 準備会 第22回参議院議員通常選挙 福田政権 キーフォーヴァー 近衛内閣 東神大 山口県知事\n",
            "--------------------------------------------------------------------------------\n",
            "UTB ナニコレ珍百景 韓流 角川シネマ新宿 HBC 公開日 東奥日報 独立UHF放送局 木曜日 イマジンスタジオ 東京テレビ 遅れネット 道路交通情報 A&G AT-X こども べにばな 甲信越 CSデジタル 聞ける イブニングニュース CROSS FM 少年ドラマシリーズ テレビ雑誌 ミュージックフェア 亀井希生 全国公開 サウンドロゴ 上泉雄一のええなぁ! 終列車 ダービーニュース フライングスタート Ustream 生出演 日テレ屋 オリックス劇場 総力報道 売り切れる NPR オールジャンル からくりTV 関東甲信越 秋まつり 25時 新宿武蔵野館 フロート番組 横浜国際女子駅伝 ラジオショッピング 佐賀新聞 湘南電車\n",
            "--------------------------------------------------------------------------------\n",
            "海産 コンブ ）; キタキツネ ナイルパーチ アカミミガメ 落果 オピストコンタ アブラコウモリ スッポンタケ オオカナダモ 55種 アスナロ ヌマエビ アンキロサウルス 猛禽類 帰化植物 鉗脚 クロンキスト 魚の目 糞石 イタヤガイ 象徴種 ウルシ カイツブリ 片利共生 アカガシ アマサギ 二枚貝 トガリネズミ アウストラロピテクス 裂脚 両生類 ショウブ キツネザル オナガザメ 衛生害虫 ウンシュウミカン チャノキ ウシ目 インドハッカ ヤブコウジ タケ バージェス頁岩 ナメクジウオ クルマエビ チョウゲンボウ びらん キキョウ 頭状花序\n",
            "--------------------------------------------------------------------------------\n",
            "収賄 年金記録 届出 否決 少数意見 投票所 適法性 静岡刑務所 私信 民間委託 訴追 証券取引法違反 国際私法 重婚 育成選手 巡回裁判所 冤罪事件 名古屋高裁 文言 百条委員会 広島高裁 弁護 デクレ 僧尼令 公印 リーク 投票者 報告 宛 強盗事件 議題 取り下げる 世論調査結果 住民投票 控訴裁判所 スーパー301 立ち入り 米国政府 緊急 共同通信 医師法 陸軍刑法 行政裁判所 原因究明 公共の場 軽重 取り下げ 通信内容 私刑 前記\n",
            "--------------------------------------------------------------------------------\n",
            "スズタケ ババロア ホワイトソース ボディケア アクアチント 桂皮 火鍋 畜肉 大甕 チョコレート色 パラミツ 演し物 売り声 人肌 無縁坂 み場 楊枝 冷や ワカサギ釣り マジョラム ナトロン カラシ 古伊万里 錢 酒楼 純米酒 サファイヤ かて飯 ジンジャーブレッド パイズリ 水注 レース編み 生簀 寝間着 ミミズク 六尺褌 生き餌 うどんこ病 円すい ガルム 呼子笛 ラベンダー畑 湯呑 封蝋 アントニニアヌス グラジオラス ミールワーム タンクメイト ふりかける 緑柱石\n",
            "--------------------------------------------------------------------------------\n",
            "240万 総数 30階 68cm 1.3m 14分間 10分間 208m 36万円 VEI 線量 130度 nm 8週間 100時間 重さ 120秒 20g 1.7倍 10mm 7g 得失点 イースティング 8打 230キロ MWh 4秒 -20度 (~ 60種 ～ 飛行制限 おびただしい ノントーシェント 15分 90種 仰角 間隔 知能指数 40cm 10倍 ‭。 32分 6時間半 パスカル 3℃ 18分 45分 1300メートル 360日\n",
            "--------------------------------------------------------------------------------\n",
            "詩経 青表紙本 藤園 宮増 めぐまれ 横笛 恵果 弓術 騎射 尊王論 金石学 海紅 老子 文人 関西歌舞伎 茶壺 理紀之助 印可 宗立 槍術 喜多六平太 楷書体 岩佐又兵衛 略伝 侍し 金允植 劉生 先秦 兵学 ヴァジュラ・バイラヴァ 碁 内藤湖南 田中智学 青楼 三本の矢 清州韓氏 講釈 明倫館 夏目漱石 草書 名僧 西川春洞 北川冬彦 井月 端唄 道学 細川護立 仏教音楽 剛柔流 嘉長\n",
            "--------------------------------------------------------------------------------\n",
            "古代ギリシャ人 リュッヒェル グジャラート・スルターン朝 エオニア 河畔 ミラノ公国 11世紀 トゥアール シャントソー アレウト族 アルカディア ゴドフロワ・ド・ブイヨン さなか 城塞 スコット人 リグリア アンカラの戦い カニシカ王 ポリス ウグラ エブロ カーディシーヤ 共和政ローマ オーヴルチ ヘイロタイ ドイツ北部 ダキア 第三次ミトリダテス戦争 ヘンリー・モートン・スタンリー 遠征 サルデーニャ チャンタブリー トクタミシュ 133年 英蘭戦争 スカンジナビア クレフテス ガリア人 オーストリア＝ハンガリー帝国 シーラーズ アンダルス ナブーの戦い 西ゴート族 グロールフィンデル 原住民 アクスム サンタ・マルタ イスラエル人 トリポリ ハプスブルク君主国\n",
            "--------------------------------------------------------------------------------\n",
            "G.F. エイリアン イグドラシル ほむら インセクトロン ゴーデス キン肉万太郎 シャプレー ブラッチャー 2112年 人類滅亡 超光速航法 最終兵器 万能翻訳機 ファイヤーコンボイ カシオペヤ 卒業旅行 モリアーティ教授 ネオ・ジオング ハルカ コジロウ マサラタウン 歴史改変 アギト シリウス バットマン アルセウス ダース・ベイダー 小林少年 セーラーサターン メタルソニック ギム・ギンガナム ミスト ビクティニと黒き英雄 ゼクロム 森雪 マラス コグ 予知夢 エルピス パーセプター セレブロ シス ホムンクルス 黒き月 ライドアーマー アラクネ ヴァルヴレイヴ バッフ・クラン ヘブンズ レイオニクスバトル\n",
            "--------------------------------------------------------------------------------\n",
            "減資 損害保険 eBay 課税所得 時間外取引 急騰 $2 動産 代金引換 実勢 2億 入金 株主名簿 発送 5600万円 オープン価格 自動車重量税 売り手 テイクツー メール 教会税 売出し 労働時間 108円 ドルペッグ 銀貨 風営法 物件 銀行 80万円 25万円 派遣会社 領収証 安さ 運送契約 300万円 icsca フリヴニャ 380円 米国債 サーキットブレーカー シズル 掛け金 ギフト券 遺産税 1500億円 年俸 セブン銀行 無許可 ロイヤリティ\n",
            "--------------------------------------------------------------------------------\n",
            "MRBM 船用 キャタピラ 装甲車 従軍記章 SQS ブローニングM2重機関銃 M29 Su-27 デフレクター モシン・ナガン TASS 炸裂弾 FN 中戦車 RPK 特殊攻撃機 機銃 輛 マリュートカ レジオン 750kg テストパイロット マーキュリー計画 サフィール スナイドル銃 標定 単機 ELDO ショットガン 非大気依存推進 技本 F-86 後装式 DD戦車 アストレイ はしご車 ヨット インプロージョン SDF ポーランド製 自動装填装置 海底ケーブル ラテコエール UNSC 中折式 クズネツォフ 乾舷 クロスボーン・ガンダム トラッククレーン\n",
            "--------------------------------------------------------------------------------\n",
            "セティス・ベイ タサファロング スウィフトシュア マシュマー 陣中日誌 ファルメル マル3計画 航空支援集団 第五列 ティンダリス イテ ヴァンデグリフト 駐英 福山大空襲 モスクワ講和条約 黒旗軍 大丁 CIDG 0088 第三次ハリコフ攻防戦 ヤクト・ドーガ オゼル ポンペイ島 バビ STYLE-E 冷凍船 危険地域 秩父丸 洪水線 東部方面隊 軍用船 ダッシャー ロドルフォ・グラツィアーニ ジェムチュク エアパワー レディ・ワシントン 長旗 マキルレイス AEF カテガット海峡 中支那方面軍 対敵 定位置停止装置 高射部隊 ヴィンペル 雨あられ 空中衝突防止装置 ガバヌーア・ウォーレン Feldwebel 北号作戦\n",
            "--------------------------------------------------------------------------------\n",
            "БЭСМ 1505 600 1424 929 751 0102 190m 589 3002 2784 641 136 173 289 254 1352 29000 トーティエント 756 848 680km 334 427 MIL 420 2060 504 8801 1680 99km 0831 865 714 6322 1033 621 95戦 8224 1349 1082 69km 10005 459 115k 1594 82 10年度 810 1790\n",
            "--------------------------------------------------------------------------------\n",
            "体裁 性向 概括 レッテル張り 質料 本書 無記 読み手 エトムント・フッサール 音楽的 死の欲動 超自我 共同幻想 アメリカナイズ 沈潜 ガレノス ウィクリフ 潜在意識 東日本方言 解脱 十五年戦争 NUMBERS 総論 枠物語 心性 カサレヴサ テクスト 多神教 第一義 形式主義 錬金術 とらえる 気宇 上古音 社会的性格 創発 データベース消費 如来蔵 関係性 敬う 経済史 苦行 戦争論 階級差別 言明 近隣住区 巧緻 韓非 民族精神 流暢性\n",
            "--------------------------------------------------------------------------------\n",
            "工藤壮人 先崎学 クロード・マケレレ 山本昌 佐伯和司 鏡里 香川伸行 鉄腕 小野剛 江本孟紀 ギャングスターズ 中村忠 全日本実業団選手権 松井秀喜 福浦和也 浦和 二岡智宏 85kg ジョージ・スタインブレナー 藤井彰人 水谷実雄 ジェフ市原 大引 中学時代 橋本清 元木大介 小6 ジェフ・ウィリアムス 逸材 高橋直樹 クリス・カーペンター 旧広島市民球場 楽天イーグルス JOCエリートアカデミー 日本プロ麻雀協会 SKワイバーンズ 久保康友 栗山英樹 赤星憲広 橋本崇載 早稲田実 伊勢ヶ濱一門 バッテリーコーチ ジーコ 鈴木大介 新浦壽夫 里村明衣子 選抜高校野球大会 90kg 鯖折り\n",
            "--------------------------------------------------------------------------------\n",
            "社会人 組手 日本人学校 自由診療 日本語教育 特別救助隊 3年生 学校教練 療養所 ガールスカウト 基本情報技術者 外科 王俊凱 OJT 復学 気軽 統括 Ａ 保健 2014年度 アルバイト 日本工学院 求職 講演 教員免許 日本留学試験 師範学校 学力偏差値 専門教育 スポーツ種目 防災士 実務家 質疑応答 高等学校 10期生 他薦 扶助 剣道部 体育大会 特待生 福岡大学附属大濠高等学校 試問 大学 カヴン 電話相談 子供会 学校経営 民間病院 新設 コンテスト\n",
            "--------------------------------------------------------------------------------\n",
            "インペラートル・アレクサンドル ヴァンドーム エセックス伯 ウィテッリウス アリウス派 神聖ローマ皇帝 ヘンリー8世 ブランデンブルク＝プロイセン ハーラル コーンウォール公 シュルーズベリー ラーコーツィ・ジェルジ ゴータ マリア・アレクサンドロヴナ ジョン・チャーチル シモン・ド・モンフォール ギリシャ正教 ホーエンツォレルン ホルシュタイン公国 ドン・フアン・デ・アウストリア マルクス・アウレリウス・アントニヌス ゴリツィン ファドゥーツ リウィウス・セウェルス 戴く ゲルマニクス 子爵 ヨハン・アルブレヒト トカ・テムル イサキオス ローマ皇帝 エンリケ コンゴ自由国 ストックホルム条約 キリル ホラント伯 ロベール ロヴィーサ ウェールズ人 サッ マヨリアヌス フェラーラ 長子相続 ムアーウィヤ アメンホテプ ニコメデス フリードリヒ・ヴィルヘルム ラチブシュ 1415年 1525年\n",
            "--------------------------------------------------------------------------------\n",
            "ペトルーシュカ ラフマニノフ オートクチュール ベートーベン 新即物主義 エルンスト・フォン・ドホナーニ 台本 Drei サンフランシスコ交響楽団 チマブーエ 劇場 モネ 音楽作品 アレクサンダー・コルダ コントラファゴット ニヒリスト 声楽 ベルサイユ ヨハン・ゼバスティアン・バッハ コルンゴルト コンサートバンド 舞台美術家 クレッシェンド 大野一雄 シャルル・グノー パウル・クレー シュレーカー テスピス 新実徳英 ライモンディ バーゼル・スコラ・カントルム チェレプニン ベニー・グッドマン コリン・デイヴィス 三曲 Jurek シュトゥルム・ウント・ドラング 伝統音楽 ウィレム・メンゲルベルク ボードビル ジャン・ジュネ アレグロ Op. キュイ バーネイ ハーモニック バリトン イタリア語 ヴァイオル アルトゥル・シュナーベル\n",
            "--------------------------------------------------------------------------------\n",
            "乾燥地帯 ムベ 火山性地震 天体 藤原岳 自然景観 31km うっそう ヴォルガ・バルト水路 西高東低 真南 崇明島 絶海 重囲 安政南海地震 乾燥帯 一周 挟ん 波源域 モンスーン 南西風 抜ける TO図 フィリピン海 エルニーニョ・南方振動 珊瑚礁 火の手 2041年 にわか雨 12km 東南東 台風7号 豪雪 群落 せり出す 寒暖 周極星 タイランド湾 砂漠 連なり ネグロ川 丘 少雨 ブーンバーブ 暖地 山肌 域 74度 生育 エトナ山\n",
            "--------------------------------------------------------------------------------\n",
            "辻政信 第一次頂上作戦 万延元年遣米使節 閑職 末広鉄腸 フェートン号事件 友常 3尉 下級官吏 支那 浄土真宗東本願寺派 クレメンツ・マーカム 宇垣一成 秘書室長 大蔵省 小磯国昭 営繕 馬政局 進 璽尚 内蔵寮 ワシントン支局 懐刀 無任所大臣 山本英輔 戊戌の変法 東洋宣教会 廉潔 政戦 オランダ商館 ザ・ガードマン 富山県知事 本木昌造 門で 公職 袁世凱 日本基督教連盟 神奈川奉行所 大阪毎日新聞 枢密 日華 高等官 旧習 内閣危機管理監 儀典長 下放 番役 旧派 昭和21年 大命\n",
            "--------------------------------------------------------------------------------\n",
            "10月3日 39代 ゲイパレード 90期生 丸の内オアゾ 日本100名城 twl 23期 来春 前頭 校了 5周年 80回 80周年 83歳 12枚 61期 古希 ホルメンコーレンジャンプ 11月22日 ゴールデンラズベリー賞 週刊少年マガジン新人漫画賞 86期生 92年 45回目 12月30日 韓国ソウル 65回 9月25日 1月下旬 初日 24才 81年 選抜高等学校野球大会 1968年5月 エキバストス 12日間 リニア・鉄道館 9年度 10節 1979年度 1日目 81回 第9 8月21日 上半期 東京体育館 75円 8期 14区\n",
            "--------------------------------------------------------------------------------\n",
            "酒米 薬膳 灰吹法 お湯 麦汁 観葉植物 ハラール 油絵具 ごま エンパナーダ 旨み ピラフ ウメ インゴット 半製品 辣 関さば 模倣品 ビールテイスト飲料 碾き 籾殻 パスタ 刈り取る 更紗 生姜 カルビ 花卉 葱 ザワークラウト 韓国料理 日本紙 銀鉱 マカロン タピオカ はちみつ カステラ 郷土菓子 和牛 米ぬか 葡萄 食品加工 タルタルソース 巨峰 塩蔵 タラコ 煮干し ジンギスカン アルコール飲料 俗称 コチュジャン\n",
            "--------------------------------------------------------------------------------\n",
            "愈々 決意 おぼつかない あくまでも 無くなる い国 妬み もめごと 踏み込ん 早く 野次 稼い 故意 必要不可欠 各員 持論 潜在的 鋭く 皆無 ジレンマ 強く 当人 偏り ムラ 知識不足 運命 拘り 言い争い かたち 自己満足 急場 ストーリー展開 劣勢 押し切り 突き進ん 信頼 視力 やす 内輪 足腰 太りすぎ 剛毅 氷雨 かねて ダメージ 伏線 進んで 折り合い おぼつかなく 衝動\n",
            "--------------------------------------------------------------------------------\n",
            "シーシュポス ノルドール エンリーコ アーケン ハレン 孫夫人 イーサー アダン 人魚 ラーマ ジャン・ヴァルジャン レルグ レアー 九太 ヘーパイストス だまし討ち レイモーン ハナちゃん アムピトリーテー チャードル ベルド シバルバー サーセイ ロバート・グレーヴス ライラプス エルゥ ハラ ラーレラ 黒竜 アマン 企み クー・フーリン ヘリオス ヴォルクルス 異郷 ミケル ファラン ビルボ・バギンズ 大賢者 ハスター イシス スカジ クトル・ミシュラク ジャクェン 慈悲深い エラゴン 恐るべき ダンテ 張無忌 ヘルミオネー\n",
            "--------------------------------------------------------------------------------\n",
            "さずけ とどめる 固執 決め 行き渡る 巡っ 拝辞 でき上がっ 冠せ 基づい かわる 闇取引 もたせる 連ね 割り出し とり上げ 削ぐ 書き立て 決定づける 拝聴 しぼっ なる 盛り上げる 自認 使いこなせる 絡み合う 落とし込む あげ ひっ迫 学び取っ なぞっ 通じる 秀で 寝過ごし 覚える 分かれ した 移る 調べる 盛り上げ 多かっ 貯め 引き入れる 曲げ 見出し 明るかっ 含め 私腹 進める 償う\n",
            "--------------------------------------------------------------------------------\n",
            "ジムロック ペンテコステ バインホルン マハリシ・マヘーシュ・ヨーギー ペンテコステ派 収容所 ブルトン 貴族代表議員 アンブロジアーナ ロンドン万国博覧会 アルカサル イーワーン ファエンツァ カルヴァン ホーリネス運動 1786年 中世ドイツ フリーメイソン 司教 カンドー セイヴァリ ピーテル 埋葬式 ツェラー マッテイ サン＝クルー チャールズ・エリオット プラクシテレス マドリード 過越 シンドラー トリノ ルーヴル ベドラム パーシヴァル・ローウェル エベネザー・ハワード ツァールスコエ・セロー ボルケン キング牧師 謝肉祭 ちなみ ハインリヒ・ヘルツ スミソニアン ル・ブラン チェチーリア 埋葬 アウクスブルク バルタザール・ノイマン ユルバン・ルヴェリエ ウィリアム・ケント\n",
            "--------------------------------------------------------------------------------\n",
            "運用実績 斜陽化 第3四半期 継続 激戦区 ハイテク 相次い プロジェクト 輸出産業 減反政策 バブル崩壊 本格化 生活水準 協業 中期 地域振興 試み 大資本 売却 修復 延命 試験湛水 売り切れ 東日本大震災 相乗効果 反対運動 巻き返し 注目 WECPNL 地下水位 安全対策 撤退 娯楽 営業再開 全壊 平成28年熊本地震 戦後占領期 用地 自然破壊 戦時体制 ベッドタウン 。 1920年代後半 漸次 海賊放送 整備 京阪神圏 ハイパーインフレーション 甲府空襲 新潟県中越地震\n",
            "--------------------------------------------------------------------------------\n",
            "手引き 初婚 新郎新婦 酒飲み 子 ジェンマ 直系 老境 年配 親方 近親相姦 老父 幼き 41歳 鄧穎 定宿 99歳 妻子 住人 顔馴染み 告げ口 クロエ ベアテ 母子 旧知 知り合う 義父 先輩 ポルガラ 招待客 同輩 顔見知り 幼少期 創始者 居り 不良少年 育て マルガリータ 誘い 夫婦喧嘩 スネイプ 人格者 善太 甘やかさ 卑賤 首吊り自殺 浮き名 浮気 トゥルーマン 親類\n",
            "--------------------------------------------------------------------------------\n",
            "磨滅 動脈 粃 錐体 枯 一次聴覚野 樹枝 口蓋垂 特有 鼻部 続成作用 物体 螺旋 膣 裂片 渇 鱗 た層 擬鎖 胚珠 でこぼこ 蚊 尾鰭 離 遠位型ミオパチー 磁区 血管 坐骨神経 砂層 関節 性的二形 単眼 体外 歩度 口蓋化 蛹室 64種 産道 肩甲骨 古生 不完全変態 骨格 仰臥位 ポドゾル 噴気 上葉 人骨 扁球 松毬 重力崩壊\n",
            "--------------------------------------------------------------------------------\n",
            "886年 711年 1279年 1673年 1176年 泰始 天安 648年 735年 1484年 フランス革命暦 黄初 1127年 727年 寛延 1368年 建興 655年 アントニヌス勅令 高橋景保 ユリウス暦 522年 トグス・テムル 354年 元慶の乱 太初暦 1167年 安貞 1224年 忠烈王 1730年 天平21年 1422年 135年 郭聖通 1234年 景徳王 596年 1314年 513年 バイエルン継承戦争 673年 1652年 1259年 1036年 辛酉 1047年 233年 正暦 115年\n",
            "--------------------------------------------------------------------------------\n",
            "ガービン ケリー・フォン・エリック 山東魯能 ポール・オーンドーフ FFF アーニー・ラッド Invicta FC 総合格闘家 バトラーツ ヒース・スレイター 小橋建太 隅谷 ディック・マードック ベスト・オブ・ザ・スーパージュニア 神取忍 RENA ジェロム・レ・バンナ 井上怜奈 スーパー・ストロング・マシン HWA NJPW オールスター・レスリング ジョン・モリソン 新日本 パンクラス 堀田祐美子 ジョー・ドーリング Gamma 新宿FACE ファン感謝デー ジン・キニスキー エリック・ビショフ 川田利明 ポーゴ オーサー 議会演説 ペンギンズ ビンス オマロサ 戸澤塾 スーパー王者 トニー・アトラス グレート東郷 インターナショナル・ヘビー級王座 パット・オコーナー ブリットン ジミー・バリアント ストーカー市川 金村キンタロー 獣神サンダー・ライガー\n",
            "--------------------------------------------------------------------------------\n",
            "離合集散 気運 赤化 反動勢力 構想 コアビタシオン TPP 経済面 是認 経済力 志向 政治的地位 縦割り行政 ヘゲモニー政党制 ガンディー 諸派 三者 マネタリスト 譲歩 保守主義 政策金利 地主貴族 昭和維新 核軍縮 言語政策 問題提起 牙城 有事法制 専制 行政権 王朝国家 白人至上主義 危殆 一国二制度 積極財政 日本帝国主義 生産手段 容共 対外政策 党派性 福祉国家 新時代 統一教会 言質 批判対象 政治権力 反資本主義 シオニズム 管理教育 華夏\n",
            "--------------------------------------------------------------------------------\n",
            "遺伝子検査 禁断症状 ブローカ野 喀痰 胆のう 人工呼吸器 トリアゾラム 温熱療法 膀胱直腸障害 月経 熱中症 エクリズマブ アレルギー性鼻炎 罹っ 低める 排尿 検体 過食症 乾癬 特定疾患治療研究事業 心臓肥大 言語障害 CT検査 点滴 罹り 胸痛 ロシグリタゾン スティグマ 軽度 なんらかの 法定伝染病 血腫 血行 ボツリヌストキシン 植物人間 陽性反応 気道確保 熱型 肉芽 メチシリン耐性黄色ブドウ球菌 高機能自閉症 リストカット CJD プラセンタ 卵巣癌 肉腫 偽陽性 合併症 アトピー性皮膚炎 シクロフォスファミド\n",
            "--------------------------------------------------------------------------------\n",
            "240人 90億 0.3% 695人 18.9% 4500万人 20000人 5兆円 5200万円 89人 340万 600万人 6.1% 1800人 189人 17.6% 0813 25.4% 707人 914人 576人 540円 3.1% 389人 45万人 135人 世帯普及率 Tomatoes 162人 143人 471人 410万 524人 41.2% 192人 USDA 38万人 27.7% 386人 52人 97人 3.4% 24万円 5400人 安全素数 229人 10.9% 15.6% 325人 975人\n",
            "--------------------------------------------------------------------------------\n",
            "知育玩具 空室 造船 生糸 帝国ホテル 二番館 月俸 薬代 七宝 煙草屋 三井家 お茶屋 壁土 電燈 製油 洋品 一般廃棄物 靴 軟石 塗物 製革 かばん 見世物 三井財閥 捺染 船主 スレート 同族経営 廃業 蓄 酒造統制 掛屋 江戸相撲 販売業 キッチンカー 公証役場 他所 荒物 ラブホテル 園芸 神戸外国人居留地 寄席 土産物 若松屋 勢子 共有地 住居 蓬莱社 露天 売り場\n",
            "--------------------------------------------------------------------------------\n",
            "芦島 高仲 彰徳 水引村 内モンゴル人民革命党 黒龍江 密山 金華 南京市 彰化 海陸 中浪区 興安総省 旗人 龍川 屏 領事館警察 旌善 清潭 渡党 ガンデンポタン ダルハン 邑 江寧 五胡十六国時代 犍為 対馬島 江陽 古塔 岳麓書院 陽夏 延安 虎尾 新代 交河 キクラデス 北狄 寧波市 三国時代 連隊区 九龍城 赤月 天水 汾河 儲備 贛楡 達す 張家口市 戸長役場 帶\n",
            "--------------------------------------------------------------------------------\n",
            "セントライト記念 加藤正夫 ダイヤモンドステークス 京成杯オータムハンデキャップ WTAツアー選手権 アドマイヤジュピタ ファインモーション 富山競輪場 優駿牝馬 和田共弘 ヘキラク クラシック競走 サンタアニタトロフィー 京都牝馬特別 シャマルダル スルガスペイン ファルブラヴ 笠谷幸生 65敗 大関陣 10番人気 ヒカルイマイ プレモニション ナリタタイシン 有馬記念 ナッソーステークス スミヨン せん馬 イギリスクラシック三冠 マイルチャンピオンシップ ザミンストレル 駒の 八番相撲 ステイゴールド 楽勝 ホープフルステークス サルノキング ニットウチドリ レパーズタウン競馬場 イスパーン賞 愛ダービー 函館2歳ステークス ドリームジャーニー エイシン 道営記念 橋本宇太郎 クロフネ 日本経済賞 ドクターフェイガー 三重ノ海\n",
            "--------------------------------------------------------------------------------\n",
            "すら たじろが 思いがけ 良から 教わら 拘わら 見出せ てま 受け入れれ 繋がら おわら 乗りこなせ 書き込め たどれ 挟め 作り出せ 一々 強けれ 背け 見え 馴染め 聞け 受けつけ はさ 及ば たどり着け 治ら 近来 荒立て 近づか 喜べ たかか 泳げ 積もら 属さ 混じら 欲しく 会え ふさわしく 達せ 変われ 鑑みれ おけ いっさい 泣け 別状 如か 際限 潰せ 潔し\n",
            "--------------------------------------------------------------------------------\n",
            "彩ら 倖 纏わ 付け込ま 待たさ 垂れ流 評さ つづら 伝わ 打ちのめさ 出さ 擦ら 越さ 見張ら とら 貫か 飲まさ 悲しま 羽ばたか ひきとら 苛ま すくわ 娶ら 縁どら 果たさ 思い知らさ 謀ら 遊ば 判読 挟ま 擬さ 見破ら 来ら 区切ら つのら 寝返ら 混用 撃ち殺さ 追い払わ 弾き出さ 探し出さ 磨か 轢か 描き出さ たたかわ 絶た 使用 勢いづか 寸断 起さ\n",
            "--------------------------------------------------------------------------------\n",
            "不機嫌 ナンセンス 華美 密やか 負けず嫌い 控え目 頑迷 真面目 劇的 せっかち うつろ 円満 惰弱 慎ましやか 稀少 強靭 凶悪 法外 スケーラブル 偏狭 屈強 奇麗 ニヒル ステレオタイプ ハイテンション 地すべり的 不用意 残忍 勇猛 パンキッシュ コンパクト 獰猛 様 活発 放漫 難解 あいまい 事務的 晦渋 寡黙 ネガティブ センシティブ 不気味 たいへん 秀逸 可哀想 貧弱 長三度 莫大 スムーズ\n",
            "--------------------------------------------------------------------------------\n",
            "見届けよ づけよ 取り上げよ 見いだそ 射よ よかろ 巻き込も してやろ 取り持と 探そ つけよ 問お 追い込も 断ろ 鎮めよ 譲ろ 流れよ 握ろ てよ 落とそ しりょ 作り出そ かいきょ 生み出そ 留めよ 抜けよ 追いかけよ 見捨てよ 聴こ こきゅ げんど かけよ 吸お 持ち上げよ 渡ろ 削ご 見直そ 終わろ 生き延びよ 突こ いよ 渡そ 免れよ 届けよ 引き返そ 治めよ 通り過ぎよ しんぞ くりょ ほっしょ\n",
            "--------------------------------------------------------------------------------\n"
          ]
        }
      ]
    },
    {
      "cell_type": "code",
      "source": [
        "cluster_idx = sorted_clusters[0]\n",
        "center = centers[cluster_idx]\n",
        "indices = np.argsort(np.linalg.norm(U2 - center, axis=1))\n",
        "filtered_indices = indices[labels[indices] == cluster_idx]\n",
        "' '.join(words[filtered_indices[:100]].tolist())"
      ],
      "metadata": {
        "colab": {
          "base_uri": "https://localhost:8080/",
          "height": 159
        },
        "id": "YW4hPRNG0lPi",
        "outputId": "365caab9-e011-4d4b-91fb-c73e489d94b0"
      },
      "execution_count": 31,
      "outputs": [
        {
          "output_type": "execute_result",
          "data": {
            "text/plain": [
              "'月刊ジェイ・ノベル referred 道哉 carried スペースコブラ こいずみまり 吉岡村 さすらい刑事旅情編 中村弘二 菊地創 内上 夜歩く 鈴木義尾 ラブ・アクチュアリー Kiss PLUS ラーマナータプラム 愛天使伝説ウェディングピーチ エーライツ 好夫 5850 ベストディガー Villanova 新潟県警察部 Tsuchiya 離婚弁護士 カガヤン・バレー ワンズファクトリー ビッグコミックオリジナル増刊 nikkei \")(\" \"）、\" Asarum グッバイガール イースタン・パーク モンティ・パイソン・アンド・ホーリー・グレイル ブケディ シュレージシェ・オーバーラウジッツ ピースプロモーション おねがい☆ティーチャー ワーサル 月刊コミック@バンチ 押原 ダフラク オキソフラン シヴァガンガイ 招商銀行 春畑 アールグルッペ Missing Link ボーン・アイデンティティー 林由美香 浦和高等学校 Hiroyuki うたかたの恋 viridis 俺は用心棒 ドラゴンハート lg ペケ×ポン CEM 機動戦士ガンダム 閃光のハサウェイ 横戸 Eleganceイブ TRY AGAIN 慶南地方警察庁 ビッグコミック増刊号 西郷川 ドラゴンエイジ ソジ 「会いたかった」公演 サクラメリーメン SOLEIL ロード・オブ・ザ・リング/王の帰還 破裏拳ポリマー 古川学園 Nilsson ヨジテレビ! 蒼穹のファフナー edited 大森東 Kuraki 松本洋子 dimethyl ハイ!土曜日です とんがり帽子のメモル FCアムカル・ペルミ BLACK CAT 魔法にかけられて glucosidase ダックスープ ギンダラ かわみなみ Adriana はなればなれに きよせ くちよ ボウイ・ベイソックス セメナウィ・ケイバハリ 種子田健 センター・オブ・ジ・アース'"
            ],
            "application/vnd.google.colaboratory.intrinsic+json": {
              "type": "string"
            }
          },
          "metadata": {},
          "execution_count": 31
        }
      ]
    },
    {
      "cell_type": "code",
      "source": [
        "cluster_idx = sorted_clusters[99]\n",
        "center = centers[cluster_idx]\n",
        "indices = np.argsort(np.linalg.norm(U2 - center, axis=1))\n",
        "filtered_indices = indices[labels[indices] == cluster_idx]\n",
        "' '.join(words[filtered_indices[:100]].tolist())"
      ],
      "metadata": {
        "colab": {
          "base_uri": "https://localhost:8080/",
          "height": 88
        },
        "id": "YBQ1sJ7R27bH",
        "outputId": "fadca49f-6385-43ab-851b-4a94f6019ba8"
      },
      "execution_count": 32,
      "outputs": [
        {
          "output_type": "execute_result",
          "data": {
            "text/plain": [
              "'操ろ 破ろ 取り上げよ 借りよ 引こ 果たそ 尽くそ 押し付けよ 求めよ 立ち上がろ 持ち込も 忘れよ 壊そ 押さえ込も 当てよ 立て直そ かけよ 引き出そ よかろ 解こ 話そ 追いかけよ 向けよ 探ろ 受け入れよ 走ろ 取り込も 直そ 思い出そ 呼び戻そ 続けよ 掴も 確かめよ 選ぼ 呼ぼ 当たろ 送ろ 取り組も 見つけよ 働こ 作り出そ しまお 食い止めよ 開こ 言お まとめよ だそ 知らせよ 聞こ 創ろ 死の 試みよ 遅らせよ 上がろ 見極めよ 貰お 決めよ 追い出そ 騙そ 立ち去ろ とめよ 教えよ 乗り越えよ 扱お 歩も 組も 戻そ 加えよ 押さえよ 迫ろ 消そ 捕えよ 掛けよ 明かそ 取り入ろ 動かそ 持と 伝えよ 託そ 狙お 行なお 叩こ 返そ 乗っ取ろ 放と 励まそ 打と 代わろ 始めよ 救お 隠そ 探そ 加わろ 正そ 出そ 着せよ 鎮めよ 導こ 考えよ 込も'"
            ],
            "application/vnd.google.colaboratory.intrinsic+json": {
              "type": "string"
            }
          },
          "metadata": {},
          "execution_count": 32
        }
      ]
    },
    {
      "cell_type": "code",
      "source": [
        "cluster_idx = sorted_clusters[49]\n",
        "center = centers[cluster_idx]\n",
        "indices = np.argsort(np.linalg.norm(U2 - center, axis=1))\n",
        "filtered_indices = indices[labels[indices] == cluster_idx]\n",
        "' '.join(words[filtered_indices[:100]].tolist())"
      ],
      "metadata": {
        "colab": {
          "base_uri": "https://localhost:8080/",
          "height": 105
        },
        "id": "ViF7lxB429Tf",
        "outputId": "716b343d-1651-4814-faca-eec344e421e8"
      },
      "execution_count": 33,
      "outputs": [
        {
          "output_type": "execute_result",
          "data": {
            "text/plain": [
              "'小早川隆景 大内義弘 柴田勝家 佐々成政 里見義堯 毛利元就 相良氏 畠山重忠 北条氏直 上杉景勝 佐竹義重 毛利輝元 木曾義仲 元親 遺臣 豊臣氏 島津義久 長宗我部元親 秀長 細川勝元 源義仲 藤堂高虎 新田義貞 松永久秀 筒井順慶 武田勝頼 伊東氏 黒田孝高 最上義光 輝元 龍造寺隆信 今川義元 石田三成 大友宗麟 宇喜多直家 木曾義昌 尼子晴久 義元 晴信 真田昌幸 三好長慶 義武 羽柴秀吉 景春 結城合戦 昌幸 義弘 義宣 赤松氏 六角定頼 加賀一向一揆 蘆名 石山本願寺 龍造寺 宗瑞 安国寺恵瓊 小早川秀秋 荒木村重 長尾景虎 三好氏 北原氏 旧臣 長宗我部 足利持氏 和田義盛 為信 朝倉氏 今川 宇喜多秀家 総州家 佐東銀山城 氏綱 浦上宗景 宇喜多 寒河江氏 周防 顕家 尼子 旧主 三好三人衆 和田合戦 勝瑞城 佐久郡 目代 浅井氏 孝景 結城城 本山氏 足利義昭 太田道灌 長政 足利成氏 吉川元春 顕如 細川藤孝 北畠 筒井氏 三浦氏 明智光秀 別所氏'"
            ],
            "application/vnd.google.colaboratory.intrinsic+json": {
              "type": "string"
            }
          },
          "metadata": {},
          "execution_count": 33
        }
      ]
    },
    {
      "cell_type": "code",
      "source": [],
      "metadata": {
        "id": "u1dnkFAy2_Vu"
      },
      "execution_count": 33,
      "outputs": []
    }
  ]
}