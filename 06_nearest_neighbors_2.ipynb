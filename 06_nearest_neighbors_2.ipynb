{
  "nbformat": 4,
  "nbformat_minor": 0,
  "metadata": {
    "colab": {
      "provenance": [],
      "include_colab_link": true
    },
    "kernelspec": {
      "name": "python3",
      "display_name": "Python 3"
    },
    "accelerator": "GPU"
  },
  "cells": [
    {
      "cell_type": "markdown",
      "metadata": {
        "id": "view-in-github",
        "colab_type": "text"
      },
      "source": [
        "<a href=\"https://colab.research.google.com/github/tomonari-masada/course2023-sml/blob/main/06_nearest_neighbors_2.ipynb\" target=\"_parent\"><img src=\"https://colab.research.google.com/assets/colab-badge.svg\" alt=\"Open In Colab\"/></a>"
      ]
    },
    {
      "cell_type": "markdown",
      "metadata": {
        "id": "XjBWCxMKQWQQ"
      },
      "source": [
        "# k近傍法（続）"
      ]
    },
    {
      "cell_type": "markdown",
      "metadata": {
        "id": "yr7h0hM5madL"
      },
      "source": [
        "## 6.1 準備"
      ]
    },
    {
      "cell_type": "markdown",
      "metadata": {
        "id": "2HClwh0oTuKW"
      },
      "source": [
        "### 6.1.1 インポート"
      ]
    },
    {
      "cell_type": "code",
      "metadata": {
        "id": "kKt4G60aQG5a"
      },
      "source": [
        "import numpy as np\n",
        "import pandas as pd\n",
        "import matplotlib.pyplot as plt\n",
        "\n",
        "%config InlineBackend.figure_format = 'retina'"
      ],
      "execution_count": null,
      "outputs": []
    },
    {
      "cell_type": "markdown",
      "metadata": {
        "id": "xndm9EMkT4sn"
      },
      "source": [
        "### 6.1.2 データファイルのアップロード"
      ]
    },
    {
      "cell_type": "markdown",
      "metadata": {
        "id": "0HIgiloQc9xb"
      },
      "source": [
        "* `lifesat_extended.csv`をアップロードする。"
      ]
    },
    {
      "cell_type": "code",
      "metadata": {
        "id": "jk0oEyN9lwzh"
      },
      "source": [
        "from google.colab import files\n",
        "files.upload()"
      ],
      "execution_count": null,
      "outputs": []
    },
    {
      "cell_type": "markdown",
      "metadata": {
        "id": "Ja_Py6ftmd-q"
      },
      "source": [
        "### 6.1.3 データファイルの読み込み\n",
        "* 今回は、ファイルを読み込むときに、国名をインデックスに設定してしまう。\n",
        " * index_col引数を使っている。"
      ]
    },
    {
      "cell_type": "code",
      "metadata": {
        "id": "ZeFRSbhadE_P"
      },
      "source": [
        "df = pd.read_csv('lifesat_extended.csv', index_col=0)"
      ],
      "execution_count": null,
      "outputs": []
    },
    {
      "cell_type": "code",
      "metadata": {
        "id": "KNWLCLZYQT1b"
      },
      "source": [
        "df"
      ],
      "execution_count": null,
      "outputs": []
    },
    {
      "cell_type": "markdown",
      "source": [
        "* 日本をtest setとして除外し、残りのデータ集合を使う。\n",
        " * 日本の生活満足度を予測することを、最終的な目標としたのだった。"
      ],
      "metadata": {
        "id": "c7BaROGebmkq"
      }
    },
    {
      "cell_type": "code",
      "source": [
        "df_test = df.loc[['Japan']]\n",
        "df = df.drop(['Japan'])"
      ],
      "metadata": {
        "id": "JYDgIGy6bmHK"
      },
      "execution_count": null,
      "outputs": []
    },
    {
      "cell_type": "code",
      "metadata": {
        "id": "Clcd6Rxym1Xa"
      },
      "source": [
        "df.describe()"
      ],
      "execution_count": null,
      "outputs": []
    },
    {
      "cell_type": "code",
      "metadata": {
        "id": "gpqykVotm3YT"
      },
      "source": [
        "df.info()"
      ],
      "execution_count": null,
      "outputs": []
    },
    {
      "cell_type": "code",
      "metadata": {
        "id": "zL4GOVPLRBOw"
      },
      "source": [
        "fig, ax = plt.subplots(1, 2, figsize=(14, 5))\n",
        "df.plot(kind='scatter', x='GDP per capita', y='Life satisfaction', ax=ax[0])\n",
        "df.plot(kind='scatter', x='Employment rate', y='Life satisfaction', ax=ax[1]);"
      ],
      "execution_count": null,
      "outputs": []
    },
    {
      "cell_type": "code",
      "source": [
        "X = df[['GDP per capita', 'Employment rate']]\n",
        "y = df['Life satisfaction']"
      ],
      "metadata": {
        "id": "KLqO7PZIkgBM"
      },
      "execution_count": null,
      "outputs": []
    },
    {
      "cell_type": "code",
      "source": [
        "X"
      ],
      "metadata": {
        "id": "cJNGf8sqlbHT"
      },
      "execution_count": null,
      "outputs": []
    },
    {
      "cell_type": "markdown",
      "source": [
        "## 6.2 二つの特徴量を同時に使う\n",
        "* 前回は、一人当たりのGDPと、雇用率を、別々に使った。\n",
        "* 今回は、これら二つの特徴量を、同時に使いたい。\n",
        "* つまり、(一人当たりのGDP, 雇用率)という2次元ベクトルを使って、生活満足度を予測したい。"
      ],
      "metadata": {
        "id": "KboouZbgjsoj"
      }
    },
    {
      "cell_type": "markdown",
      "source": [
        "### 6.2.1 演習"
      ],
      "metadata": {
        "id": "RlEv759WkB8u"
      }
    },
    {
      "cell_type": "markdown",
      "source": [
        "* 演習問題6-1: 韓国とイタリアの距離を、一人当たりのGDPと雇用率を同時に使って計算したい。しかし、下に示す距離の計算方法には、問題がある。どのような問題があるか。"
      ],
      "metadata": {
        "id": "AylcoBoMkF9k"
      }
    },
    {
      "cell_type": "code",
      "source": [
        "print(np.linalg.norm(X.loc['Korea'] - X.loc['Italy']))"
      ],
      "metadata": {
        "id": "Fhw71USdkSKF"
      },
      "execution_count": null,
      "outputs": []
    },
    {
      "cell_type": "markdown",
      "source": [
        "* 演習問題6-2: 上で見つけた問題を解決した上で、あらためて、韓国とイタリアの距離を求めてみよう。"
      ],
      "metadata": {
        "id": "TT8xXyztlCfh"
      }
    },
    {
      "cell_type": "code",
      "source": [],
      "metadata": {
        "id": "GVmo9KT8lbzH"
      },
      "execution_count": null,
      "outputs": []
    },
    {
      "cell_type": "markdown",
      "metadata": {
        "id": "78DFhidVpLXU"
      },
      "source": [
        "## 6.3 訓練データ/検証データ/テストデータ\n"
      ]
    },
    {
      "cell_type": "markdown",
      "metadata": {
        "id": "TKEUXi-WWVN2"
      },
      "source": [
        "### 6.3.1 テストデータ\n",
        "* 最終的にそれについて予測を行なうことで、手法の評価をおこないたいデータを、テストデータと呼ぶ。\n",
        "* よって、今回は、日本のデータが、テストデータになる。\n",
        " * 普通は、テストデータは今回のように一つだけではなく、複数、用意する。\n",
        " * 今回は、データ数そのものが29個と少ないため、テストデータは一つだけにしている。"
      ]
    },
    {
      "cell_type": "markdown",
      "metadata": {
        "id": "QQUQC828WYmN"
      },
      "source": [
        "### 6.3.2 検証データ"
      ]
    },
    {
      "cell_type": "markdown",
      "metadata": {
        "id": "E83Tq5IpVf_g"
      },
      "source": [
        "* 最適な近傍の個数kを、どうやって求めたらいいだろうか。\n",
        "* kの値を変えながら、日本の生活満足度を予測し、予測誤差を見ながらkを決めるのでは、カンニングしていることになる。\n",
        " * テストデータでの評価は、最終評価なので、最後に一度行うだけ。\n",
        " * つまり、テストデータについては、答えが分かっていないと想定する。\n",
        "* 日本の生活満足度を予測する前に、どのようにしてkを決めればいいだろうか。\n"
      ]
    },
    {
      "cell_type": "markdown",
      "metadata": {
        "id": "5LicdakvVsX4"
      },
      "source": [
        "* そこで、テストデータ以外のデータを使って、予測問題を解く。"
      ]
    },
    {
      "cell_type": "markdown",
      "source": [
        "* テストデータ以外のデータの中から、国を一つ選んで（例えば韓国）、その国について予測をしてみる。\n",
        "* k近傍法の場合のkのように、チューニングしなければならないパラメータを決めるために使うデータを、検証データと呼ぶ。\n",
        " * 本当にそれについて予測をしたいデータは、テストデータ。\n",
        " * 検証(validation)のためにそれについて予測をおこなうデータが、検証データ。\n",
        "* 検証データについて予測を行うことで、kの値を変えたとき予測性能がどう変わるか、調べる。\n",
        " * 検証データも、普通は、複数個用意する。\n",
        " * 今回は、データ数そのものが少ないため、検証データも一つだけにしている。\n"
      ],
      "metadata": {
        "id": "55e4EjDd0wnZ"
      }
    },
    {
      "cell_type": "markdown",
      "source": [
        "### 6.3.3 訓練データ\n",
        "* 特定のインスタンスについて予測を実行するために使うデータを、訓練データと呼ぶ。\n",
        "* k近傍法では、そのなかから、特定の国の近傍をk個見つけてくるデータが、訓練データになる。"
      ],
      "metadata": {
        "id": "_TnMoWMfntVN"
      }
    },
    {
      "cell_type": "markdown",
      "metadata": {
        "id": "YzbcCPGTXDgA"
      },
      "source": [
        "## 6.4 検証データを使った最適なkの決定\n",
        "* ここでは、韓国を検証データとして使う。\n",
        " * 日本はテストデータなので、最初に除外しておいた。\n",
        "* そして、韓国の生活満足度を予測し、最も良い予測値を与えるkがいくらか、調べる。"
      ]
    },
    {
      "cell_type": "markdown",
      "metadata": {
        "id": "gtvMM0aQX8mL"
      },
      "source": [
        "### 6.4.1 演習"
      ]
    },
    {
      "cell_type": "markdown",
      "metadata": {
        "id": "XWYuFav7X_OD"
      },
      "source": [
        "* 演習問題6-3: 韓国の生活満足度を予測し、最も良い予測値を与えるkを調べよう。"
      ]
    },
    {
      "cell_type": "code",
      "metadata": {
        "id": "PN7pHCUDYHmU"
      },
      "source": [],
      "execution_count": null,
      "outputs": []
    },
    {
      "cell_type": "markdown",
      "metadata": {
        "id": "K2zd8l9HH7rH"
      },
      "source": [
        "## 6.5 ‎leave-one-out交差検証 (1)\n",
        "* 上では、韓国を検証データとして使った。\n",
        "* しかし、韓国以外の国を検証データとしても構わないはずである。\n",
        "* そこで、テストデータである日本以外の国について、その一つ一つを検証データとした場合の、それぞれの最適なkの値を求めてみる。"
      ]
    },
    {
      "cell_type": "markdown",
      "metadata": {
        "id": "t_HIlGJiYkgB"
      },
      "source": [
        "### 6.5.1 演習"
      ]
    },
    {
      "cell_type": "markdown",
      "metadata": {
        "id": "Suv7tkCzYmMe"
      },
      "source": [
        "* 演習問題6-4: 上で韓国について行ったことと同じことを、他の国についても実行し、最適なkの値がどのくらい違ってくるものか、見てみよう。"
      ]
    },
    {
      "cell_type": "code",
      "metadata": {
        "id": "Gpt6us62YzLC"
      },
      "source": [],
      "execution_count": null,
      "outputs": []
    },
    {
      "cell_type": "markdown",
      "metadata": {
        "id": "SpQn8pOLZruG"
      },
      "source": [
        "* 最適なkを、どのようにして決めればいいだろうか？\n",
        " * 例えば、各国について得られたkの平均をとることが考えられるが、これは良い方法と言えるだろうか？"
      ]
    },
    {
      "cell_type": "markdown",
      "metadata": {
        "id": "FmcPLqoLaVlX"
      },
      "source": [
        "## 6.6 ‎leave-one-out交差検証 (2)\n",
        "* 上では、テストデータである日本を除く国を、一つずつ順番に検証データとして、最適なkを求めた。\n",
        "* しかし、こうして国ごとに求められたkを、どうやってまとめあげるのか、疑問が残った。\n",
        " * それらkの平均をとる、という方法は、何かおかしい感じがする。\n",
        " * 最頻値の方が、まだましであろう。\n",
        "* 最適なkを決める、もっと良い方法はないだろうか？"
      ]
    },
    {
      "cell_type": "markdown",
      "metadata": {
        "id": "D1LITZzNaxfh"
      },
      "source": [
        "### 6.6.1 演習"
      ]
    },
    {
      "cell_type": "markdown",
      "metadata": {
        "id": "YgBC73WmazNG"
      },
      "source": [
        "* 演習問題6-5: 韓国を検証データとする。つまり、韓国について予測を行なう。k=1から27まで変えたとき、それぞれ予測誤差がいくらになるか、求めてみよう。"
      ]
    },
    {
      "cell_type": "code",
      "metadata": {
        "id": "afxk4wnlbQxK"
      },
      "source": [],
      "execution_count": null,
      "outputs": []
    },
    {
      "cell_type": "markdown",
      "metadata": {
        "id": "CogMP3ZCbSeo"
      },
      "source": [
        "* 演習問題6-6: 縦が国名、横がkの値の表を、データフレームとして作り、日本を除く28カ国の国のひとつひとつを検証データとしたとき、各々のkの値で予測誤差がいくらになるかで埋めてみよう。"
      ]
    },
    {
      "cell_type": "code",
      "source": [],
      "metadata": {
        "id": "kN0AXLq0mhAr"
      },
      "execution_count": null,
      "outputs": []
    },
    {
      "cell_type": "markdown",
      "metadata": {
        "id": "oFKOUfF7byOA"
      },
      "source": [
        "* 演習問題6-7: 上で作った表で、それぞれのkの値について、予測誤差の平均値を求めてみよう。"
      ]
    },
    {
      "cell_type": "code",
      "metadata": {
        "id": "Jq6f8uBEbxsm"
      },
      "source": [],
      "execution_count": null,
      "outputs": []
    },
    {
      "cell_type": "markdown",
      "metadata": {
        "id": "P1h3sqg3b68b"
      },
      "source": [
        "* 演習問題6-8: 上で求めた予測誤差の平均値を、最も小さくするkの値は、いくらになるか。"
      ]
    },
    {
      "cell_type": "code",
      "metadata": {
        "id": "8uoFGiTncAbH"
      },
      "source": [],
      "execution_count": null,
      "outputs": []
    },
    {
      "cell_type": "markdown",
      "metadata": {
        "id": "dIjX8tgqcAzw"
      },
      "source": [
        "* 演習問題6-9: こうして求めた最適なkを使って、最終的に、日本の生活満足度の予測をしてみよう。"
      ]
    },
    {
      "cell_type": "code",
      "metadata": {
        "id": "kF-xNdlucHpH"
      },
      "source": [],
      "execution_count": null,
      "outputs": []
    }
  ]
}