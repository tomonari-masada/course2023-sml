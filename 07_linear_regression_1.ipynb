{
  "nbformat": 4,
  "nbformat_minor": 0,
  "metadata": {
    "colab": {
      "provenance": [],
      "authorship_tag": "ABX9TyMgQhU6GZhnhxcOeiYRHtD1",
      "include_colab_link": true
    },
    "kernelspec": {
      "name": "python3",
      "display_name": "Python 3"
    }
  },
  "cells": [
    {
      "cell_type": "markdown",
      "metadata": {
        "id": "view-in-github",
        "colab_type": "text"
      },
      "source": [
        "<a href=\"https://colab.research.google.com/github/tomonari-masada/course2023-sml/blob/main/07_linear_regression_1.ipynb\" target=\"_parent\"><img src=\"https://colab.research.google.com/assets/colab-badge.svg\" alt=\"Open In Colab\"/></a>"
      ]
    },
    {
      "cell_type": "markdown",
      "metadata": {
        "id": "gaQ8dO7PH-Ie"
      },
      "source": [
        "# 重回帰による住宅価格の予測\n",
        "\n",
        "* California housing datasetという有名なデータセットを使う。\n",
        "\n",
        " * scikit-learnからロードできるバージョンは、前処理が済んだキレイなデータなので、ここでは使わない。\n",
        "\n",
        "* データの取得や前処理の一部は、\n",
        "[Aurélien Géron. Hands-On Machine Learning with Scikit-Learn, Keras, and TensorFlow, 2nd Edition.](https://www.oreilly.com/library/view/hands-on-machine-learning/9781492032632/) の2章と同じ。"
      ]
    },
    {
      "cell_type": "markdown",
      "metadata": {
        "id": "qnhBNBAMAMWG"
      },
      "source": [
        "* 機械学習において線形回帰モデルを使うときは、予測性能が最重要\n",
        " * 予測性能が上がるなら何でもする、という考え方。\n",
        "* データ集合について理解を深めるために線形回帰を場合、話はまた別。"
      ]
    },
    {
      "cell_type": "code",
      "metadata": {
        "id": "vCYz2LlyIJUW"
      },
      "source": [
        "import numpy as np\n",
        "from scipy import stats, special\n",
        "import pandas as pd\n",
        "import matplotlib.pyplot as plt\n",
        "import seaborn as sns\n",
        "from sklearn.model_selection import train_test_split\n",
        "from sklearn.linear_model import LinearRegression\n",
        "from sklearn.metrics import mean_squared_error\n",
        "\n",
        "%config InlineBackend.figure_format = 'retina'"
      ],
      "execution_count": null,
      "outputs": []
    },
    {
      "cell_type": "markdown",
      "metadata": {
        "id": "B0ueH1eZQkV0"
      },
      "source": [
        "## 1) データを取得"
      ]
    },
    {
      "cell_type": "code",
      "metadata": {
        "id": "g-8ombKtQkBM"
      },
      "source": [
        "import os\n",
        "import tarfile\n",
        "from six.moves import urllib\n",
        "\n",
        "DOWNLOAD_ROOT = \"https://raw.githubusercontent.com/ageron/handson-ml/master/\"\n",
        "HOUSING_PATH = os.path.join(\"datasets\", \"housing\")\n",
        "HOUSING_URL = DOWNLOAD_ROOT + \"datasets/housing/housing.tgz\"\n",
        "\n",
        "def fetch_housing_data(housing_url=HOUSING_URL, housing_path=HOUSING_PATH):\n",
        "  os.makedirs(housing_path, exist_ok=True)\n",
        "  tgz_path = os.path.join(housing_path, \"housing.tgz\")\n",
        "  urllib.request.urlretrieve(housing_url, tgz_path)\n",
        "  housing_tgz = tarfile.open(tgz_path)\n",
        "  housing_tgz.extractall(path=housing_path)\n",
        "  housing_tgz.close()"
      ],
      "execution_count": null,
      "outputs": []
    },
    {
      "cell_type": "code",
      "metadata": {
        "id": "Ewm8TpCMQj4X"
      },
      "source": [
        "fetch_housing_data()"
      ],
      "execution_count": null,
      "outputs": []
    },
    {
      "cell_type": "code",
      "metadata": {
        "id": "qybD5v56JrtS"
      },
      "source": [
        "def load_housing_data(housing_path=HOUSING_PATH):\n",
        "  csv_path = os.path.join(housing_path, \"housing.csv\")\n",
        "  return pd.read_csv(csv_path)"
      ],
      "execution_count": null,
      "outputs": []
    },
    {
      "cell_type": "markdown",
      "metadata": {
        "id": "EUzt-Kn9Ht91"
      },
      "source": [
        "（ここより上の詳細はフォローしなくてもいいいです。）"
      ]
    },
    {
      "cell_type": "code",
      "metadata": {
        "id": "_L5MBp4WQjeb"
      },
      "source": [
        "housing = load_housing_data()\n",
        "housing.head()"
      ],
      "execution_count": null,
      "outputs": []
    },
    {
      "cell_type": "markdown",
      "metadata": {
        "id": "nl9YJ6M-RFGR"
      },
      "source": [
        "## 2) データを概観しつつ前処理"
      ]
    },
    {
      "cell_type": "code",
      "metadata": {
        "id": "OGJP-5qhNnoz"
      },
      "source": [
        "housing.info()"
      ],
      "execution_count": null,
      "outputs": []
    },
    {
      "cell_type": "markdown",
      "metadata": {
        "id": "l9vh2konBNVb"
      },
      "source": [
        "* 数値データではない列が一つだけある"
      ]
    },
    {
      "cell_type": "code",
      "metadata": {
        "id": "UUcTzYmBNp4g"
      },
      "source": [
        "housing['ocean_proximity'].value_counts()"
      ],
      "execution_count": null,
      "outputs": []
    },
    {
      "cell_type": "markdown",
      "metadata": {
        "id": "m4QjoTtjBQad"
      },
      "source": [
        "* この数値データではない列を消してしまう\n",
        " * ここを変更してもいいです。"
      ]
    },
    {
      "cell_type": "code",
      "metadata": {
        "id": "Ac-bD3EfS9U6"
      },
      "source": [
        "housing_num = housing.drop('ocean_proximity', axis=1)"
      ],
      "execution_count": null,
      "outputs": []
    },
    {
      "cell_type": "code",
      "metadata": {
        "id": "FkOo-YDuTg5l"
      },
      "source": [
        "housing_num.info()"
      ],
      "execution_count": null,
      "outputs": []
    },
    {
      "cell_type": "markdown",
      "metadata": {
        "id": "2_cgXK7R9-DI"
      },
      "source": [
        "* total_bedroomsは欠測箇所がある。\n",
        " * 後で対処する。"
      ]
    },
    {
      "cell_type": "markdown",
      "metadata": {
        "id": "QMZwKUi2BaCY"
      },
      "source": [
        "* median_house_valueを予測する、という問題設定。\n",
        " * これ以外は特徴量として使う。"
      ]
    },
    {
      "cell_type": "code",
      "metadata": {
        "id": "M28tUOwREhEe"
      },
      "source": [
        "X = housing_num.drop('median_house_value', axis=1)\n",
        "y = housing_num[\"median_house_value\"].copy()"
      ],
      "execution_count": null,
      "outputs": []
    },
    {
      "cell_type": "markdown",
      "metadata": {
        "id": "jJVevWKDFPI2"
      },
      "source": [
        "## 3) 評価実験のための準備"
      ]
    },
    {
      "cell_type": "markdown",
      "metadata": {
        "id": "gk-69CHBBhiE"
      },
      "source": [
        "* 訓練データ、検証データ、テストデータに分ける\n",
        " * 今回は、6:2:2になるように分ける。（この比率に深い意味はない。）"
      ]
    },
    {
      "cell_type": "code",
      "metadata": {
        "id": "HPLyJcSqEu6i"
      },
      "source": [
        "X_train, X_test, y_train, y_test = train_test_split(X, y, test_size=0.2, random_state=42)\n",
        "X_train, X_valid, y_train, y_valid = train_test_split(X_train, y_train, test_size=0.25, random_state=42)"
      ],
      "execution_count": null,
      "outputs": []
    },
    {
      "cell_type": "code",
      "metadata": {
        "id": "prhfKKrsB4cj"
      },
      "source": [
        "print(X_train.shape, X_valid.shape, X_test.shape)"
      ],
      "execution_count": null,
      "outputs": []
    },
    {
      "cell_type": "markdown",
      "metadata": {
        "id": "CnaQ5od7BUXk"
      },
      "source": [
        "* total_bedroomsの値が欠けているエントリがある\n",
        "  * ここでは単に削除することにする（ここを変更してもいいです）。\n",
        "  * isna()メソッドでNA valuesがある行を調べて、Xとyの両方に使う。"
      ]
    },
    {
      "cell_type": "code",
      "metadata": {
        "id": "UfaKuLw0TsgQ"
      },
      "source": [
        "na_index = X_train.isna().any(axis=1)\n",
        "X_train = X_train[~ na_index]\n",
        "y_train = y_train[~ na_index]\n",
        "\n",
        "na_index = X_valid.isna().any(axis=1)\n",
        "X_valid = X_valid[~ na_index]\n",
        "y_valid = y_valid[~ na_index]\n",
        "\n",
        "na_index = X_test.isna().any(axis=1)\n",
        "X_test = X_test[~ na_index]\n",
        "y_test = y_test[~ na_index]"
      ],
      "execution_count": null,
      "outputs": []
    },
    {
      "cell_type": "code",
      "metadata": {
        "id": "ASoymVDp8lpZ"
      },
      "source": [
        "print(X_train.shape, X_valid.shape, X_test.shape)"
      ],
      "execution_count": null,
      "outputs": []
    },
    {
      "cell_type": "markdown",
      "metadata": {
        "id": "gRexwZXmW2WO"
      },
      "source": [
        "* 交差検証をしてもらってもいいです。"
      ]
    },
    {
      "cell_type": "markdown",
      "metadata": {
        "id": "WfsOy4znNBHv"
      },
      "source": [
        "## 4) 訓練データをよくよくながめてみる"
      ]
    },
    {
      "cell_type": "markdown",
      "source": [
        " * EDA (exploratory data analysis) をおこなう"
      ],
      "metadata": {
        "id": "_8RiTV93bOgT"
      }
    },
    {
      "cell_type": "code",
      "metadata": {
        "id": "iBD2kfilVG5g"
      },
      "source": [
        "X_train.describe()"
      ],
      "execution_count": null,
      "outputs": []
    },
    {
      "cell_type": "markdown",
      "metadata": {
        "id": "f8GgSP-2CASG"
      },
      "source": [
        "### ヒストグラム\n",
        " * cf. Aurélien Géron. Hands-On Machine Learning with Scikit-Learn, Keras, and TensorFlow, 2nd Edition. p.50"
      ]
    },
    {
      "cell_type": "code",
      "metadata": {
        "id": "jcWCkbkTNwZi"
      },
      "source": [
        "X_train.hist(bins=50, figsize=(15,12));"
      ],
      "execution_count": null,
      "outputs": []
    },
    {
      "cell_type": "markdown",
      "metadata": {
        "id": "YdNl1fbICFBx"
      },
      "source": [
        "* total_roomsの値の分布に注目してみる"
      ]
    },
    {
      "cell_type": "code",
      "metadata": {
        "id": "6uA8bC7vz0da"
      },
      "source": [
        "plt.hist(X_train.total_rooms, bins=50);"
      ],
      "execution_count": null,
      "outputs": []
    },
    {
      "cell_type": "markdown",
      "metadata": {
        "id": "is4bh30qJv69"
      },
      "source": [
        "* 説明変数の値がどのように分布するかは、回帰モデルの予測性能に直接は関係しない。\n",
        " * 回帰モデルでは、誤差項が正規分布に従うという仮定はすることがある（検定を行う場合）。\n",
        " * しかし、説明変数の値の分布については、何も仮定しない。\n",
        "  * 例えば、0か1かの2通りの値しかとらない説明変数もよく使う。\n",
        " * とはいえ、それで予測性能が上がるなら、説明変数の値の分布を変更してみる余地はある。"
      ]
    },
    {
      "cell_type": "markdown",
      "metadata": {
        "id": "qVjQcoNvCHgT"
      },
      "source": [
        "* total_roomsについて、scipyのBox-Cox変換を適用して、ヒストグラムを描いてみる\n",
        " * scikit-learnでもBox-Cox変換はできる。"
      ]
    },
    {
      "cell_type": "code",
      "metadata": {
        "id": "eZyFsB1jLUAO"
      },
      "source": [
        "boxcox_, maxlog_ = stats.boxcox(X_train.total_rooms)\n",
        "plt.hist(boxcox_, bins=50);\n",
        "print(f\"maxlog_  for train total_rooms: {maxlog_:.4f}\")\n",
        "# （maxlog_ の部分は、test setなど、別のデータ集合を同じ条件で変換するときに使う。）"
      ],
      "execution_count": null,
      "outputs": []
    },
    {
      "cell_type": "markdown",
      "metadata": {
        "id": "ptHbQPz_ChdB"
      },
      "source": [
        "* Box-Cox変換の戻し方"
      ]
    },
    {
      "cell_type": "code",
      "metadata": {
        "id": "VryNqP04ChF6"
      },
      "source": [
        "plt.hist(special.inv_boxcox(boxcox_, maxlog_), bins=50);"
      ],
      "execution_count": null,
      "outputs": []
    },
    {
      "cell_type": "markdown",
      "metadata": {
        "id": "m8llsmbII0OR"
      },
      "source": [
        "* 変換した後のデータを使うほうが予測性能がよくなるかどうか、後で試してみよう。"
      ]
    },
    {
      "cell_type": "markdown",
      "metadata": {
        "id": "R1rt0QPuKXPl"
      },
      "source": [
        "* housing_median_ageを見てみる\n",
        " * 最大値の頻度が妙に高い。"
      ]
    },
    {
      "cell_type": "code",
      "metadata": {
        "id": "4zCfNrUfKYvI"
      },
      "source": [
        "X_train.housing_median_age.hist(bins=50);"
      ],
      "execution_count": null,
      "outputs": []
    },
    {
      "cell_type": "code",
      "metadata": {
        "id": "1W7owdNkKgp7"
      },
      "source": [
        "X_train.housing_median_age.value_counts().head()"
      ],
      "execution_count": null,
      "outputs": []
    },
    {
      "cell_type": "markdown",
      "metadata": {
        "id": "9eqA3ytTC-9N"
      },
      "source": [
        "### 相関係数のヒートマップ\n",
        " * 多重共線性 https://bellcurve.jp/statistics/glossary/1792.html"
      ]
    },
    {
      "cell_type": "code",
      "metadata": {
        "id": "SFMqNDQHF4TW"
      },
      "source": [
        "plt.subplots(figsize=(10,10))\n",
        "sns.heatmap(X_train.corr(), annot=True, square=True);"
      ],
      "execution_count": null,
      "outputs": []
    },
    {
      "cell_type": "markdown",
      "metadata": {
        "id": "rkOeRx7UK_cR"
      },
      "source": [
        "### ペア・プロット"
      ]
    },
    {
      "cell_type": "code",
      "metadata": {
        "id": "l2qk7jRsGaJg"
      },
      "source": [
        "sns.pairplot(X_train, diag_kind='kde');"
      ],
      "execution_count": null,
      "outputs": []
    },
    {
      "cell_type": "markdown",
      "metadata": {
        "id": "Np16Vy-zNTva"
      },
      "source": [
        "## 5) 線形回帰"
      ]
    },
    {
      "cell_type": "markdown",
      "metadata": {
        "id": "aou8jD7JDpUP"
      },
      "source": [
        "* training set上でモデル・パラメータを決定する\n"
      ]
    },
    {
      "cell_type": "code",
      "metadata": {
        "id": "fPy58KHFXJR-"
      },
      "source": [
        "reg = LinearRegression()\n",
        "reg.fit(X_train, y_train)"
      ],
      "execution_count": null,
      "outputs": []
    },
    {
      "cell_type": "markdown",
      "metadata": {
        "id": "y_ZTclVrDsyb"
      },
      "source": [
        "* validation set上で評価する\n"
      ]
    },
    {
      "cell_type": "code",
      "metadata": {
        "id": "vzYQcUGiVJCY"
      },
      "source": [
        "y_valid_pred = reg.predict(X_valid)\n",
        "rmse = mean_squared_error(y_valid, y_valid_pred, squared=False)\n",
        "print(f'RMSE: {rmse:f}')"
      ],
      "execution_count": null,
      "outputs": []
    },
    {
      "cell_type": "markdown",
      "source": [
        "* ここでターゲット（目的変数）の値の分布を見てみる"
      ],
      "metadata": {
        "id": "V6A8oKijc2r0"
      }
    },
    {
      "cell_type": "code",
      "metadata": {
        "id": "0oZX85X2VJ_Y"
      },
      "source": [
        "y_train.hist(bins=50);"
      ],
      "execution_count": null,
      "outputs": []
    },
    {
      "cell_type": "code",
      "metadata": {
        "id": "rbc7czuEVNTh"
      },
      "source": [
        "y_train.value_counts().head()"
      ],
      "execution_count": null,
      "outputs": []
    },
    {
      "cell_type": "markdown",
      "source": [
        "* 予測値が、訓練データ内でのターゲットの最大値を超えないようにして、再び評価する"
      ],
      "metadata": {
        "id": "XtpxZCsic8VH"
      }
    },
    {
      "cell_type": "code",
      "metadata": {
        "id": "EFreSbKFXMHY"
      },
      "source": [
        "y_valid_pred = reg.predict(X_valid)\n",
        "y_valid_pred[y_valid_pred > y_train.max()] = y_train.max()\n",
        "rmse = mean_squared_error(y_valid, y_valid_pred, squared=False)\n",
        "print(f'RMSE: {rmse:f}')"
      ],
      "execution_count": null,
      "outputs": []
    },
    {
      "cell_type": "markdown",
      "metadata": {
        "id": "AdPEFth-LbiL"
      },
      "source": [
        "## 6) リッジ回帰\n",
        "* 係数の二乗の和を抑える正則化を含む。"
      ]
    },
    {
      "cell_type": "code",
      "metadata": {
        "id": "nu1sm4sJLlbm"
      },
      "source": [
        "from sklearn.linear_model import Ridge\n",
        "\n",
        "reg = Ridge(alpha=1.0)\n",
        "reg.fit(X_train, y_train)\n",
        "y_valid_pred = reg.predict(X_valid)\n",
        "y_valid_pred[y_valid_pred > y_train.max()] = y_train.max()\n",
        "print('RMSE: {:f}'.format(mean_squared_error(y_valid, y_valid_pred, squared=False)))"
      ],
      "execution_count": null,
      "outputs": []
    },
    {
      "cell_type": "markdown",
      "metadata": {
        "id": "2nNFzWyXL4Yu"
      },
      "source": [
        "## 7) Lasso\n",
        "* 係数の絶対値の和を抑える正則化を含む。"
      ]
    },
    {
      "cell_type": "code",
      "metadata": {
        "id": "DBR6ESY5L9Jg"
      },
      "source": [
        "from sklearn.linear_model import Lasso\n",
        "\n",
        "reg = Lasso(alpha=1.0)\n",
        "reg.fit(X_train, y_train)\n",
        "y_valid_pred = reg.predict(X_valid)\n",
        "y_valid_pred[y_valid_pred > y_train.max()] = y_train.max()\n",
        "print('RMSE: {:f}'.format(mean_squared_error(y_valid, y_valid_pred, squared=False)))"
      ],
      "execution_count": null,
      "outputs": []
    },
    {
      "cell_type": "markdown",
      "metadata": {
        "id": "WJakf176FYLY"
      },
      "source": [
        "## 8) 試行錯誤するための選択肢"
      ]
    },
    {
      "cell_type": "markdown",
      "metadata": {
        "id": "pK8V2VKcDxWi"
      },
      "source": [
        "### 説明変数の値を加工\n",
        " * Box-Cox変換（既述）\n",
        " * MinMaxScaler"
      ]
    },
    {
      "cell_type": "markdown",
      "source": [
        "* スケーリングは訓練データのみで行うほうが良い\n",
        " * k-近傍法の2つ目の課題では、テストデータ以外のデータ全てを使ってスケーリングしていた。訓練データのみで（つまり、検証データの一国を除いて）スケーリングするとどうなるか、時間があるときに試してみよう。"
      ],
      "metadata": {
        "id": "IvTFo-DJSFyz"
      }
    },
    {
      "cell_type": "code",
      "metadata": {
        "id": "YCSIYz576DTX"
      },
      "source": [
        "from sklearn.preprocessing import MinMaxScaler\n",
        "\n",
        "scaler = MinMaxScaler()\n",
        "scaler.fit(X_train) # スケーラのfitは訓練データのみで行う\n",
        "X_train_scaled = X_train.copy()\n",
        "X_train_scaled[X_train.columns] = scaler.transform(X_train)\n",
        "X_valid_scaled = X_valid.copy()\n",
        "X_valid_scaled[X_valid.columns] = scaler.transform(X_valid) # 検証データに同じスケーリングを適用"
      ],
      "execution_count": null,
      "outputs": []
    },
    {
      "cell_type": "code",
      "metadata": {
        "id": "_-RD6_9SQbNi"
      },
      "source": [
        "X_train_scaled.describe()"
      ],
      "execution_count": null,
      "outputs": []
    },
    {
      "cell_type": "markdown",
      "metadata": {
        "id": "cvWvYfjKD0JU"
      },
      "source": [
        "### 正則化パラメータをチューニング"
      ]
    },
    {
      "cell_type": "code",
      "metadata": {
        "id": "5-4udMmu4mBg"
      },
      "source": [
        "for alpha in 10. ** np.arange(-6, 7):\n",
        "  reg = Ridge(alpha=alpha, random_state=123)\n",
        "  reg.fit(X_train_scaled, y_train)\n",
        "  y_valid_pred = reg.predict(X_valid_scaled)\n",
        "  y_valid_pred[y_valid_pred > y_train.max()] = y_train.max()\n",
        "  rmse = mean_squared_error(y_valid, y_valid_pred, squared=False)\n",
        "  print(f'alpha: {alpha:f}; RMSE: {rmse:f}')"
      ],
      "execution_count": null,
      "outputs": []
    },
    {
      "cell_type": "code",
      "metadata": {
        "id": "KYwYfK-9VxO1"
      },
      "source": [
        "reg = LinearRegression()\n",
        "reg.fit(X_train_scaled, y_train)\n",
        "y_valid_pred = reg.predict(X_valid_scaled)\n",
        "y_valid_pred[y_valid_pred > y_train.max()] = y_train.max()\n",
        "rmse = mean_squared_error(y_valid, y_valid_pred, squared=False)\n",
        "print(f'RMSE: {rmse:f}')"
      ],
      "execution_count": null,
      "outputs": []
    },
    {
      "cell_type": "markdown",
      "metadata": {
        "id": "FfMHMvwgGBu5"
      },
      "source": [
        "### 試行錯誤の例：新しい説明変数を作成"
      ]
    },
    {
      "cell_type": "markdown",
      "source": [
        "* 下の例では、何をしているだろうか？"
      ],
      "metadata": {
        "id": "BDQmZ6Ft2NyI"
      }
    },
    {
      "cell_type": "code",
      "metadata": {
        "id": "SRZOGvZiGQjR"
      },
      "source": [
        "print(X_train.longitude.median(), X_train.latitude.median())"
      ],
      "execution_count": null,
      "outputs": []
    },
    {
      "cell_type": "code",
      "metadata": {
        "id": "bjGM387qKDie"
      },
      "source": [
        "med_lon = X_train.longitude.median()\n",
        "med_lat = X_train.latitude.median()"
      ],
      "execution_count": null,
      "outputs": []
    },
    {
      "cell_type": "code",
      "metadata": {
        "id": "lOSJEp_FHEsH"
      },
      "source": [
        "flag_lon = (X_train.longitude < med_lon) * 1\n",
        "flag_lat = (X_train.latitude < med_lat) * 1\n",
        "\n",
        "X_train['lon'] = flag_lon\n",
        "X_train['lat'] = flag_lat"
      ],
      "execution_count": null,
      "outputs": []
    },
    {
      "cell_type": "code",
      "metadata": {
        "id": "adxEk0tQIGKh"
      },
      "source": [
        "X_train.describe()"
      ],
      "execution_count": null,
      "outputs": []
    },
    {
      "cell_type": "code",
      "metadata": {
        "id": "z3EJZ1qEIs3O"
      },
      "source": [
        "flag_lon = (X_valid.longitude < med_lon) * 1\n",
        "flag_lat = (X_valid.latitude < med_lat) * 1\n",
        "\n",
        "X_valid['lon'] = flag_lon\n",
        "X_valid['lat'] = flag_lat"
      ],
      "execution_count": null,
      "outputs": []
    },
    {
      "cell_type": "code",
      "metadata": {
        "id": "9uWayz4RJIMT"
      },
      "source": [
        "scaler = MinMaxScaler()\n",
        "scaler.fit(X_train) # スケーラのfitは訓練データのみで行う\n",
        "X_train_scaled = X_train.copy()\n",
        "X_train_scaled[X_train.columns] = scaler.transform(X_train)\n",
        "X_valid_scaled = X_valid.copy()\n",
        "X_valid_scaled[X_valid.columns] = scaler.transform(X_valid) # 検証データに同じスケーリングを適用"
      ],
      "execution_count": null,
      "outputs": []
    },
    {
      "cell_type": "code",
      "metadata": {
        "id": "ppsk0w0lUV9L"
      },
      "source": [
        "reg = LinearRegression()\n",
        "reg.fit(X_train_scaled, y_train)\n",
        "y_valid_pred = reg.predict(X_valid_scaled)\n",
        "y_valid_pred[y_valid_pred > y_train.max()] = y_train.max()\n",
        "rmse = mean_squared_error(y_valid, y_valid_pred, squared=False)\n",
        "print(f'RMSE: {rmse:f}')"
      ],
      "execution_count": null,
      "outputs": []
    },
    {
      "cell_type": "code",
      "metadata": {
        "id": "XL2swPrQJsMA"
      },
      "source": [
        "plt.plot(y_valid_pred, np.abs(y_valid_pred - y_valid), '.');"
      ],
      "execution_count": null,
      "outputs": []
    },
    {
      "cell_type": "markdown",
      "metadata": {
        "id": "2PT_IGbQLCis"
      },
      "source": [
        "# 課題7\n",
        "\n",
        "* RMSEによって評価される予測性能を、良くして下さい\n",
        "* test setとそれ以外の部分の分割は、変えないでください\n",
        " * test set以外の部分をどう使うかは、自由です。\n",
        " * training setとvalidation setをくっつけて、交差検証をしていいです。\n",
        "* リッジ回帰とLassoを使ってもいいです\n",
        "* 高次多項式特徴量を使ってもいいです（cf. `sklearn.preprocessing.PolynomialFeatures`）\n",
        "* test setでのRMSEによる評価は最後に一回おこなうだけです"
      ]
    },
    {
      "cell_type": "code",
      "metadata": {
        "id": "imAREvP4TQK7"
      },
      "source": [],
      "execution_count": null,
      "outputs": []
    }
  ]
}