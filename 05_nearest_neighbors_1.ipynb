{
  "nbformat": 4,
  "nbformat_minor": 0,
  "metadata": {
    "kernelspec": {
      "display_name": "Python 3",
      "language": "python",
      "name": "python3"
    },
    "language_info": {
      "codemirror_mode": {
        "name": "ipython",
        "version": 3
      },
      "file_extension": ".py",
      "mimetype": "text/x-python",
      "name": "python",
      "nbconvert_exporter": "python",
      "pygments_lexer": "ipython3",
      "version": "3.7.6"
    },
    "colab": {
      "provenance": [],
      "include_colab_link": true
    }
  },
  "cells": [
    {
      "cell_type": "markdown",
      "metadata": {
        "id": "view-in-github",
        "colab_type": "text"
      },
      "source": [
        "<a href=\"https://colab.research.google.com/github/tomonari-masada/course2023-sml/blob/main/05_nearest_neighbors_1.ipynb\" target=\"_parent\"><img src=\"https://colab.research.google.com/assets/colab-badge.svg\" alt=\"Open In Colab\"/></a>"
      ]
    },
    {
      "cell_type": "markdown",
      "metadata": {
        "id": "mu4ZhS4kEkFp"
      },
      "source": [
        "# k近傍法\n",
        "* 直感的には、「どんな友人と付き合っているかを見ればその人が分かる」という考え方にもとづく分類および回帰の手法。\n",
        "* 新しいデータ点について、対応するターゲットの値を予測する場合、そのデータ点のk個の近傍のクラスを元に予測する。\n",
        " * クラスを予測する（分類）の場合、予測は多数決で行われる。\n",
        " * 数値を予測する（回帰）の場合、近傍のターゲットの値の平均を予測値とする。（他の方法もありうる。）"
      ]
    },
    {
      "cell_type": "markdown",
      "metadata": {
        "id": "o6bysduxJFWw"
      },
      "source": [
        "## 5.1 準備"
      ]
    },
    {
      "cell_type": "markdown",
      "metadata": {
        "id": "tCgsFz61JH-o"
      },
      "source": [
        "### 5.1.1 必要なパッケージのインポート"
      ]
    },
    {
      "cell_type": "code",
      "metadata": {
        "id": "L_Lmt3WUxc1T"
      },
      "source": [
        "import numpy as np\n",
        "import pandas as pd\n",
        "import matplotlib.pyplot as plt\n",
        "\n",
        "%config InlineBackend.figure_format = 'retina'"
      ],
      "execution_count": null,
      "outputs": []
    },
    {
      "cell_type": "markdown",
      "metadata": {
        "id": "kzMp2waiJNca"
      },
      "source": [
        "### 5.1.2 データファイルのアップロード\n",
        "* 特徴量は、「国民一人当たりのGDP (GDP per capita)」と「雇用率 (employment rate)」の、二つを使うことにする。\n",
        "* ターゲットは、生活満足度。つまり・・・\n",
        "* 「国民一人当たりのGDP (GDP per capita)」と「雇用率 (employment rate)」を使って、生活満足度を予測する。"
      ]
    },
    {
      "cell_type": "markdown",
      "metadata": {
        "id": "bg1mpu9nI9DE"
      },
      "source": [
        "* `lifesat_extended.csv`というファイルをColabにアップロードする。"
      ]
    },
    {
      "cell_type": "code",
      "metadata": {
        "id": "d-CK-HssI8Uh"
      },
      "source": [
        "from google.colab import files\n",
        "files.upload()"
      ],
      "execution_count": null,
      "outputs": []
    },
    {
      "cell_type": "markdown",
      "metadata": {
        "id": "KuZKbqTrJmnu"
      },
      "source": [
        "### 5.1.3 データファイルの内容を確認"
      ]
    },
    {
      "cell_type": "code",
      "metadata": {
        "id": "-Yyt9P1Cxc1W"
      },
      "source": [
        "df = pd.read_csv('lifesat_extended.csv')"
      ],
      "execution_count": null,
      "outputs": []
    },
    {
      "cell_type": "code",
      "metadata": {
        "id": "Dt1KNR7Sxc1c"
      },
      "source": [
        "df"
      ],
      "execution_count": null,
      "outputs": []
    },
    {
      "cell_type": "markdown",
      "metadata": {
        "id": "s-umrrVSNlSP"
      },
      "source": [
        "* 国名をインデックスに設定してデータフレームを作り直す。"
      ]
    },
    {
      "cell_type": "code",
      "metadata": {
        "id": "ZIqEnUpeM5pH"
      },
      "source": [
        "df = df.set_index('Country')"
      ],
      "execution_count": null,
      "outputs": []
    },
    {
      "cell_type": "markdown",
      "source": [
        "* データフレームのさまざまな情報を確認する。"
      ],
      "metadata": {
        "id": "QgdCFUTXZt-T"
      }
    },
    {
      "cell_type": "code",
      "metadata": {
        "id": "noBKVMLQxc1Z"
      },
      "source": [
        "df.info()"
      ],
      "execution_count": null,
      "outputs": []
    },
    {
      "cell_type": "code",
      "metadata": {
        "id": "67O8Si4EJwKY"
      },
      "source": [
        "df.describe()"
      ],
      "execution_count": null,
      "outputs": []
    },
    {
      "cell_type": "markdown",
      "metadata": {
        "id": "upvYkkh_KDlS"
      },
      "source": [
        "* GDP per capitaやemployment rateを使って生活満足度を予測するという問題設定が、そもそも妥当な問題設定かどうか、確認する。\n",
        " * 特徴量とターゲットとのあいだに、ある程度の関連性がないと、解けない問題を解こうとしていることになる。"
      ]
    },
    {
      "cell_type": "code",
      "metadata": {
        "id": "o4pTlEYxxc1f"
      },
      "source": [
        "df.plot(kind='scatter', x='GDP per capita', y='Life satisfaction');"
      ],
      "execution_count": null,
      "outputs": []
    },
    {
      "cell_type": "code",
      "source": [
        "df.plot(kind='scatter', x='Employment rate', y='Life satisfaction');"
      ],
      "metadata": {
        "id": "kmnabrwPxica"
      },
      "execution_count": null,
      "outputs": []
    },
    {
      "cell_type": "markdown",
      "source": [
        "## 5.2 問題設定\n",
        "* 最終的に、日本の生活満足度を予測したい、とする。\n",
        " * もちろん、すでに答えは分かっているが・・・\n",
        " * ここでは、日本の生活満足度の予測を、最終的に解きたい問題だと設定する。\n",
        " * 現実には、本当に解きたい問題は、あらかじめ答えが分かっていない。\n",
        "* 言い換えれば、日本のデータが、テストデータとなる。\n",
        " * テストデータ＝最終的に手法の性能を評価するために使うデータ集合。\n",
        " * テストデータでの評価結果を見て、手法のチューニングへ戻ってきてはいけない。\n",
        "* そこで、日本を除外したデータフレームを作り、それを使う。"
      ],
      "metadata": {
        "id": "ngKvh--iXKne"
      }
    },
    {
      "cell_type": "code",
      "source": [
        "df_test = df.loc[['Japan']]"
      ],
      "metadata": {
        "id": "QjrZlwJeZ-4I"
      },
      "execution_count": null,
      "outputs": []
    },
    {
      "cell_type": "code",
      "source": [
        "df_test"
      ],
      "metadata": {
        "id": "hJgEbIJ5ZNGR"
      },
      "execution_count": null,
      "outputs": []
    },
    {
      "cell_type": "code",
      "source": [
        "df = df.drop(['Japan'])"
      ],
      "metadata": {
        "id": "migBa-8gZOvz"
      },
      "execution_count": null,
      "outputs": []
    },
    {
      "cell_type": "code",
      "source": [
        "df"
      ],
      "metadata": {
        "id": "Cx5DXTmLZTPL"
      },
      "execution_count": null,
      "outputs": []
    },
    {
      "cell_type": "markdown",
      "metadata": {
        "id": "Pv2ZyEWkKdVf"
      },
      "source": [
        "## 5.3 k近傍法の実装（k=1の場合）\n",
        "* 例題として、韓国の生活満足度の予測を考える。\n",
        "* そこで、最も韓国に近い国の生活満足度でもって、韓国の生活満足度の予測値とする手法を、実装してみる。\n",
        "* 最も韓国に近い国を、どうやって選べばいいだろうか？"
      ]
    },
    {
      "cell_type": "markdown",
      "metadata": {
        "id": "pVwf-GRQN03L"
      },
      "source": [
        "### 5.3.1 特徴量とターゲットの用意"
      ]
    },
    {
      "cell_type": "markdown",
      "metadata": {
        "id": "lHiE2oavNqjs"
      },
      "source": [
        "* 特徴量である(一人当たりのGDP, 雇用率)と、ターゲットである生活満足度とを、別々に保存する。"
      ]
    },
    {
      "cell_type": "code",
      "metadata": {
        "id": "2sNIm_oTMi0v"
      },
      "source": [
        "X = df[['GDP per capita', 'Employment rate']]\n",
        "y = df['Life satisfaction']"
      ],
      "execution_count": null,
      "outputs": []
    },
    {
      "cell_type": "code",
      "source": [
        "X"
      ],
      "metadata": {
        "id": "dHhbo9eIx3QA"
      },
      "execution_count": null,
      "outputs": []
    },
    {
      "cell_type": "markdown",
      "metadata": {
        "id": "y2czJo-NOBWT"
      },
      "source": [
        "* 韓国の生活満足度を予測したい。\n",
        "* そのために、韓国の近傍となる国を求める必要がある。\n",
        "* 近傍を求めるには、特徴量の\"近さ\"を使う。"
      ]
    },
    {
      "cell_type": "code",
      "metadata": {
        "id": "u2FCQCcCNHXM"
      },
      "source": [
        "X.loc['Korea']"
      ],
      "execution_count": null,
      "outputs": []
    },
    {
      "cell_type": "markdown",
      "metadata": {
        "id": "FBK7T_BRPSW_"
      },
      "source": [
        "* なお、以下のようにすれば、インデックス、つまり国名を枚挙できる。"
      ]
    },
    {
      "cell_type": "code",
      "metadata": {
        "id": "0cvMhZqXPM4X"
      },
      "source": [
        "for country in df.index:\n",
        "  print(country)"
      ],
      "execution_count": null,
      "outputs": []
    },
    {
      "cell_type": "markdown",
      "metadata": {
        "id": "3DmGBd8QRB09"
      },
      "source": [
        "* 以下のようにすれば、各国の特徴量をNumpyの配列として枚挙できる。"
      ]
    },
    {
      "cell_type": "code",
      "metadata": {
        "id": "06Pg2WshRGT7"
      },
      "source": [
        "for country in df.index:\n",
        "  print(X.loc[country].values)"
      ],
      "execution_count": null,
      "outputs": []
    },
    {
      "cell_type": "markdown",
      "source": [
        "* （雇用率は、しばらく使わないことにする。）"
      ],
      "metadata": {
        "id": "P3YASbwmAE8n"
      }
    },
    {
      "cell_type": "markdown",
      "metadata": {
        "id": "l_q45XqlO18M"
      },
      "source": [
        "### 5.3.2 演習"
      ]
    },
    {
      "cell_type": "markdown",
      "metadata": {
        "id": "YD_dx8JyOL-s"
      },
      "source": [
        "* 演習問題5-1： 一人当たりのGDPが、韓国に最も近い国を求めてみよう。"
      ]
    },
    {
      "cell_type": "code",
      "metadata": {
        "id": "ZCOzivS2NjCa"
      },
      "source": [],
      "execution_count": null,
      "outputs": []
    },
    {
      "cell_type": "markdown",
      "metadata": {
        "id": "uo6zKQu-Qdpe"
      },
      "source": [
        "* 演習問題5-2： 上で求めた国の生活満足度を、韓国の生活満足度の予測値としたとする。このとき、予測誤差はいくらになるか。"
      ]
    },
    {
      "cell_type": "code",
      "metadata": {
        "id": "DulsnyugQcNe"
      },
      "source": [],
      "execution_count": null,
      "outputs": []
    },
    {
      "cell_type": "markdown",
      "metadata": {
        "id": "K4YmbhR2O5Ox"
      },
      "source": [
        "## 5.4 k近傍法の実装"
      ]
    },
    {
      "cell_type": "markdown",
      "metadata": {
        "id": "Y0r3MZZ6O-Ef"
      },
      "source": [
        "### 5.4.1 演習"
      ]
    },
    {
      "cell_type": "markdown",
      "metadata": {
        "id": "eUxcbESySVeD"
      },
      "source": [
        "* 演習問題5-3： 韓国以外の全ての国について、一人当たりのGDPを使って計算される韓国との距離を、求めてみよう。"
      ]
    },
    {
      "cell_type": "code",
      "metadata": {
        "id": "Zoj2kgnaSq62"
      },
      "source": [],
      "execution_count": null,
      "outputs": []
    },
    {
      "cell_type": "markdown",
      "metadata": {
        "id": "uj38fHOiObSp"
      },
      "source": [
        "* 演習問題5-4：韓国の一人当たりのGDPに近い順に、他の全ての国を並べ替えて、表示させてみよう。"
      ]
    },
    {
      "cell_type": "code",
      "metadata": {
        "id": "-mm5cZiSOwci"
      },
      "source": [],
      "execution_count": null,
      "outputs": []
    },
    {
      "cell_type": "markdown",
      "metadata": {
        "id": "hLgu1q5YPg4o"
      },
      "source": [
        "* 演習問題5-5：変数kに、求めるべき近傍の個数が下のようにセットされているとする。韓国のk個の近傍の国名を、韓国に近い順に表示させてみよう。"
      ]
    },
    {
      "cell_type": "code",
      "metadata": {
        "id": "suZEBNaDO7n8"
      },
      "source": [
        "k = 5\n"
      ],
      "execution_count": null,
      "outputs": []
    },
    {
      "cell_type": "markdown",
      "metadata": {
        "id": "b89AK_rnQJFg"
      },
      "source": [
        "* 演習問題5-6：上で求めたk個の国について、それらの国の生活満足度の平均値を求めてみよう。"
      ]
    },
    {
      "cell_type": "code",
      "metadata": {
        "id": "kovx7LeBQa3i"
      },
      "source": [],
      "execution_count": null,
      "outputs": []
    },
    {
      "cell_type": "markdown",
      "metadata": {
        "id": "25Yto3BNQ0zR"
      },
      "source": [
        "* 演習問題5-7：上の平均値を、韓国の生活満足度の予測値とした場合、予測誤差はいくらになるか。"
      ]
    },
    {
      "cell_type": "code",
      "metadata": {
        "id": "C9S-4DstQ7_q"
      },
      "source": [],
      "execution_count": null,
      "outputs": []
    },
    {
      "cell_type": "markdown",
      "source": [
        "# 課題5-1\n",
        "* 変数kの値を、1から27まで変化させたとき、最も予測誤差が小さくなるのは、kの値がいくらのときか。"
      ],
      "metadata": {
        "id": "F8Y_ZoRjiJ0O"
      }
    },
    {
      "cell_type": "code",
      "source": [],
      "metadata": {
        "id": "VBZZgwhwidYM"
      },
      "execution_count": null,
      "outputs": []
    },
    {
      "cell_type": "markdown",
      "source": [
        "# 課題5-2\n",
        "* 一人当たりのGDPを使うのではなく、雇用率を使って生活満足度の予測を行ったとき、最も予測誤差を小さくするkの値はいくらか。"
      ],
      "metadata": {
        "id": "yhv5UMaCirLK"
      }
    },
    {
      "cell_type": "code",
      "source": [],
      "metadata": {
        "id": "u1SGcgBVi5Vb"
      },
      "execution_count": null,
      "outputs": []
    }
  ]
}