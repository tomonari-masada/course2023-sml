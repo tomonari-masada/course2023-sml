{
  "nbformat": 4,
  "nbformat_minor": 0,
  "metadata": {
    "colab": {
      "provenance": [],
      "mount_file_id": "1UzJefMTp9kO00UjexZM37kCLESMzKGtV",
      "authorship_tag": "ABX9TyOhVUKoB2b7VXMMRXZcrPnR",
      "include_colab_link": true
    },
    "kernelspec": {
      "name": "python3",
      "display_name": "Python 3"
    }
  },
  "cells": [
    {
      "cell_type": "markdown",
      "metadata": {
        "id": "view-in-github",
        "colab_type": "text"
      },
      "source": [
        "<a href=\"https://colab.research.google.com/github/tomonari-masada/course2023-sml/blob/main/09_logistic_regression.ipynb\" target=\"_parent\"><img src=\"https://colab.research.google.com/assets/colab-badge.svg\" alt=\"Open In Colab\"/></a>"
      ]
    },
    {
      "cell_type": "markdown",
      "metadata": {
        "id": "l4aDsUHDiXoN"
      },
      "source": [
        "# 糖尿病をロジスティック回帰で予測してみる\n",
        "\n",
        "* 有名なPima Indians Diabetes Databaseを使う（下リンク先）\n",
        "\n",
        " * https://www.kaggle.com/uciml/pima-indians-diabetes-database"
      ]
    },
    {
      "cell_type": "markdown",
      "metadata": {
        "id": "1DAJX8yeO0fc"
      },
      "source": [
        "* ロジスティック回帰、そして、分類の評価については、下記も参照\n",
        " * https://developers.google.com/machine-learning/crash-course/logistic-regression/\n",
        " * https://developers.google.com/machine-learning/crash-course/classification/"
      ]
    },
    {
      "cell_type": "code",
      "metadata": {
        "id": "Pd20MbLdBfV5"
      },
      "source": [
        "import numpy as np\n",
        "import pandas as pd\n",
        "import matplotlib.pyplot as plt\n",
        "import seaborn as sns\n",
        "from sklearn.model_selection import train_test_split\n",
        "from sklearn.impute import SimpleImputer\n",
        "from sklearn.linear_model import LogisticRegression, LinearRegression\n",
        "from sklearn.neighbors import KNeighborsRegressor\n",
        "from sklearn.preprocessing import MinMaxScaler, StandardScaler\n",
        "from sklearn.metrics import roc_auc_score, auc, roc_curve\n",
        "from sklearn.model_selection import StratifiedKFold\n",
        "\n",
        "%config InlineBackend.figure_format = 'retina'"
      ],
      "execution_count": null,
      "outputs": []
    },
    {
      "cell_type": "markdown",
      "metadata": {
        "id": "eQ-egZTnizme"
      },
      "source": [
        "## 1) データの読み込み"
      ]
    },
    {
      "cell_type": "code",
      "metadata": {
        "id": "h6Qv7hnyCEjh"
      },
      "source": [
        "diabetes = pd.read_csv('/content/drive/MyDrive/data/diabetes.csv')"
      ],
      "execution_count": null,
      "outputs": []
    },
    {
      "cell_type": "code",
      "metadata": {
        "id": "lGFzAgWbCvXT"
      },
      "source": [
        "diabetes.head()"
      ],
      "execution_count": null,
      "outputs": []
    },
    {
      "cell_type": "code",
      "metadata": {
        "id": "HgqyPRukDv80"
      },
      "source": [
        "y = diabetes['Outcome']\n",
        "X = diabetes.drop('Outcome', axis=1)"
      ],
      "execution_count": null,
      "outputs": []
    },
    {
      "cell_type": "markdown",
      "metadata": {
        "id": "E2uJY56bi3Ry"
      },
      "source": [
        "## 2) 訓練データ、テストデータに分割"
      ]
    },
    {
      "cell_type": "markdown",
      "metadata": {
        "id": "J6TDDlZenD3_"
      },
      "source": [
        "**この分割は変えないようにしてください。**"
      ]
    },
    {
      "cell_type": "code",
      "metadata": {
        "id": "bLsoxn02B8CR"
      },
      "source": [
        "X_train, X_test, y_train, y_test = train_test_split(X, y, test_size=0.15, random_state=123)"
      ],
      "execution_count": null,
      "outputs": []
    },
    {
      "cell_type": "code",
      "source": [
        "X_train.describe()"
      ],
      "metadata": {
        "id": "9H67WqpemRIM"
      },
      "execution_count": null,
      "outputs": []
    },
    {
      "cell_type": "code",
      "source": [
        "X_train.hist(bins=50, figsize=(12,12));"
      ],
      "metadata": {
        "id": "bYWsGyglleZg"
      },
      "execution_count": null,
      "outputs": []
    },
    {
      "cell_type": "markdown",
      "metadata": {
        "id": "M_NNgy-Fi839"
      },
      "source": [
        "* 以下、訓練データ部分を使って、交差検証によって良いモデルを探す。\n",
        "\n",
        "---\n",
        "\n"
      ]
    },
    {
      "cell_type": "markdown",
      "metadata": {
        "id": "2BtszzrDdRrj"
      },
      "source": [
        "## 3) デフォルト設定のロジスティック回帰をベースラインとみなしてテストデータでの評価値を得る\n",
        "* 交差検証も何もせずに、単にテストセット以外の部分で、モデルの学習を実行する。"
      ]
    },
    {
      "cell_type": "code",
      "metadata": {
        "id": "ac5I0ruIoSCY"
      },
      "source": [
        "baseline = LogisticRegression(random_state=123)\n",
        "baseline.fit(X_train, y_train)"
      ],
      "execution_count": null,
      "outputs": []
    },
    {
      "cell_type": "markdown",
      "metadata": {
        "id": "oNGfn66joV2t"
      },
      "source": [
        "* `max_iter`が小さいとの警告が出ているので、増やして学習しなおし。"
      ]
    },
    {
      "cell_type": "code",
      "metadata": {
        "id": "ZF1Yyo3NocBr"
      },
      "source": [
        "baseline = LogisticRegression(max_iter=1000, random_state=123)\n",
        "baseline.fit(X_train, y_train)"
      ],
      "execution_count": null,
      "outputs": []
    },
    {
      "cell_type": "markdown",
      "metadata": {
        "id": "zfHzwsAxoeiL"
      },
      "source": [
        "* 大丈夫だったので、テストデータでの最終評価値を得る。"
      ]
    },
    {
      "cell_type": "code",
      "metadata": {
        "id": "uEss5itsdJAU"
      },
      "source": [
        "print(f'test score: {baseline.score(X_test, y_test):.4f}')"
      ],
      "execution_count": null,
      "outputs": []
    },
    {
      "cell_type": "markdown",
      "metadata": {
        "id": "g93ND4YLrRUe"
      },
      "source": [
        "* Area under ROC curveも計算してみる。\n"
      ]
    },
    {
      "cell_type": "code",
      "metadata": {
        "id": "5ufvnV0qrQtI"
      },
      "source": [
        "y_test_pred_proba = baseline.predict_proba(X_test)\n",
        "print(f'ROC AUC: {roc_auc_score(y_test, y_test_pred_proba[:,1]):.4f}')"
      ],
      "execution_count": null,
      "outputs": []
    },
    {
      "cell_type": "markdown",
      "metadata": {
        "id": "U_r9hAHttZZq"
      },
      "source": [
        "* ROC curveを描いてみる。\n",
        " * https://scikit-learn.org/stable/auto_examples/model_selection/plot_roc.html#sphx-glr-auto-examples-model-selection-plot-roc-py"
      ]
    },
    {
      "cell_type": "code",
      "metadata": {
        "id": "R8y1Fvlyslb9"
      },
      "source": [
        "def draw_roc_curve(model, X_test, y_test):\n",
        "  y_score = model.decision_function(X_test)\n",
        "\n",
        "  fpr, tpr, _ = roc_curve(y_test, y_score)\n",
        "  roc_auc = auc(fpr, tpr)\n",
        "\n",
        "  plt.plot(fpr, tpr, color='darkorange', label=f'ROC curve (area = {roc_auc:.4f})')\n",
        "  plt.plot([0, 1], [0, 1], color='navy', linestyle='--')\n",
        "  plt.xlim([0.0, 1.0])\n",
        "  plt.ylim([0.0, 1.0])\n",
        "  plt.xlabel('False Positive Rate')\n",
        "  plt.ylabel('True Positive Rate')\n",
        "  plt.title('Receiver operating characteristic example')\n",
        "  plt.legend(loc=\"lower right\")"
      ],
      "execution_count": null,
      "outputs": []
    },
    {
      "cell_type": "code",
      "source": [
        "draw_roc_curve(baseline, X_test, y_test);"
      ],
      "metadata": {
        "id": "zUgqt7h7m_XW"
      },
      "execution_count": null,
      "outputs": []
    },
    {
      "cell_type": "markdown",
      "metadata": {
        "id": "sMirEcP0dbaG"
      },
      "source": [
        "* これをベースラインとみなす。\n",
        "* これより良い結果を得るべく、試行錯誤する。\n",
        "* 試行錯誤した結果として辿り着いたモデルで、最後に一回、テストデータ上での評価を行う。"
      ]
    },
    {
      "cell_type": "markdown",
      "metadata": {
        "id": "NFLJ24NNxi0r"
      },
      "source": [
        "* ロジスティック回帰についてscoreがどのように計算されているかの確認\n",
        " * thresholdが0.5である必要は、実は、ない。\n",
        " * thresholdを、交差検証で決定してもよい。"
      ]
    },
    {
      "cell_type": "markdown",
      "source": [
        "* `threshold = 0.5`とすれば、次のセルで求まる値と、上で求めたtest scoreは、一致する。"
      ],
      "metadata": {
        "id": "L2dZq3u3gz36"
      }
    },
    {
      "cell_type": "code",
      "metadata": {
        "id": "H7Yjaca4xK7C"
      },
      "source": [
        "threshold = 0.5\n",
        "n_correct_answers = ((baseline.predict_proba(X_test)[:,1] >= threshold) * 1 == y_test).sum()\n",
        "print(f'test score at a threshold {threshold}: {n_correct_answers / len(y_test):.4f}')"
      ],
      "execution_count": null,
      "outputs": []
    },
    {
      "cell_type": "markdown",
      "metadata": {
        "id": "VtaI7G6IpDgG"
      },
      "source": [
        "## 4) 交差検証しつつ試行錯誤する"
      ]
    },
    {
      "cell_type": "markdown",
      "source": [
        "* 元々の訓練データのコピーを作っておく。"
      ],
      "metadata": {
        "id": "WPxt9gkh6Ria"
      }
    },
    {
      "cell_type": "code",
      "source": [
        "X_train_original = X_train.copy()\n",
        "X_test_original = X_test.copy()"
      ],
      "metadata": {
        "id": "0ldn3E-o6JVx"
      },
      "execution_count": null,
      "outputs": []
    },
    {
      "cell_type": "markdown",
      "metadata": {
        "id": "Vx322yZLSkTV"
      },
      "source": [
        "### A) 交差検証の準備"
      ]
    },
    {
      "cell_type": "code",
      "metadata": {
        "id": "2s3rL94SDW3u"
      },
      "source": [
        "skf = StratifiedKFold(n_splits=10, shuffle=True, random_state=123)"
      ],
      "execution_count": null,
      "outputs": []
    },
    {
      "cell_type": "markdown",
      "metadata": {
        "id": "WK1tqw_yQ0JM"
      },
      "source": [
        "### B) 交差検証のための関数"
      ]
    },
    {
      "cell_type": "code",
      "metadata": {
        "id": "8BdbwVSqDEkH"
      },
      "source": [
        "def cv(skf, X_train, y_train, preprocess=None, **kwargs):\n",
        "\n",
        "  # キーワード引数として、モデルの設定を指定できるようにしてある。\n",
        "  for kwarg in kwargs:\n",
        "    print(f'{kwarg} = {kwargs[kwarg]}')\n",
        "\n",
        "  # 交差検証のループ\n",
        "  scores = list()\n",
        "  for train_index, valid_index in skf.split(X_train, y_train):\n",
        "\n",
        "    cv_X_train = X_train.iloc[train_index]\n",
        "    cv_y_train = y_train.iloc[train_index]\n",
        "    cv_X_valid = X_train.iloc[valid_index]\n",
        "    cv_y_valid = y_train.iloc[valid_index]\n",
        "\n",
        "    # データの前処理\n",
        "    #   その都度、関数preprocessを定義してから、この関数cvを呼び出す。\n",
        "    if preprocess:\n",
        "      cv_X_train, cv_X_valid = preprocess(cv_X_train, cv_X_valid)\n",
        "\n",
        "    # ロジスティック回帰の学習\n",
        "    if not 'max_iter' in kwargs:\n",
        "      model = LogisticRegression(**kwargs, max_iter=1000)\n",
        "    else:\n",
        "      model = LogisticRegression(**kwargs)\n",
        "    model.fit(cv_X_train, cv_y_train)\n",
        "\n",
        "    # 検証データでの評価\n",
        "    score = model.score(cv_X_valid, cv_y_valid)\n",
        "    print(f'score: {score:.4f}')\n",
        "    scores.append(score)\n",
        "\n",
        "  mean_score = np.array(scores).mean()\n",
        "  print(f'mean score: {mean_score:.4f}')\n",
        "  return mean_score"
      ],
      "execution_count": null,
      "outputs": []
    },
    {
      "cell_type": "markdown",
      "metadata": {
        "id": "DyJOj1VjRCyb"
      },
      "source": [
        "### C) デフォルトの設定での評価\n",
        "* 交差検証で性能評価するとどうなるかを確認している。"
      ]
    },
    {
      "cell_type": "code",
      "metadata": {
        "id": "Ybu2HlflEcEH"
      },
      "source": [
        "cv(skf, X_train, y_train);"
      ],
      "execution_count": null,
      "outputs": []
    },
    {
      "cell_type": "markdown",
      "metadata": {
        "id": "QzTgn1PzSYl6"
      },
      "source": [
        "### D) BloodPressureへの対応"
      ]
    },
    {
      "cell_type": "markdown",
      "metadata": {
        "id": "4uGFAoBFp9Q9"
      },
      "source": [
        "* まず、属性「BloodPressure」について、ヒストグラムを描いてよくよく眺める。\n"
      ]
    },
    {
      "cell_type": "code",
      "metadata": {
        "id": "5cv90evwFhjJ"
      },
      "source": [
        "sns.histplot(X_train['BloodPressure']);"
      ],
      "execution_count": null,
      "outputs": []
    },
    {
      "cell_type": "markdown",
      "metadata": {
        "id": "RPEAoO9CqB9m"
      },
      "source": [
        "* 0という値がけっこうあるらしい。実は、これは欠測値。そこで、中央値で埋めることにする。"
      ]
    },
    {
      "cell_type": "code",
      "metadata": {
        "id": "ITc026D4JskX"
      },
      "source": [
        "X_train_copy = X_train.copy()\n",
        "\n",
        "feature = 'BloodPressure'\n",
        "imp = SimpleImputer(missing_values=0, strategy='median')\n",
        "X_train_copy[feature] = imp.fit_transform(X_train[[feature]])\n",
        "print(f'imputation fill value for {feature}: {imp.statistics_[0]}')\n",
        "\n",
        "sns.histplot(X_train_copy[feature]);"
      ],
      "execution_count": null,
      "outputs": []
    },
    {
      "cell_type": "markdown",
      "metadata": {
        "id": "C0G06qlLOPaH"
      },
      "source": [
        "* 交差検証で評価する。"
      ]
    },
    {
      "cell_type": "code",
      "metadata": {
        "id": "oOk6Lf19EuXj"
      },
      "source": [
        "def preprocess(X_train, X_valid):\n",
        "  imp = SimpleImputer(missing_values=0, strategy='median')\n",
        "\n",
        "  X_train_copy = X_train.copy()\n",
        "  X_valid_copy = X_valid.copy()\n",
        "\n",
        "  feature = 'BloodPressure'\n",
        "  X_train_copy[feature] = imp.fit_transform(X_train[[feature]])\n",
        "  X_valid_copy[feature] = imp.transform(X_valid[[feature]])\n",
        "  print(f'imputation fill value for {feature}: {imp.statistics_[0]}')\n",
        "\n",
        "  return X_train_copy, X_valid_copy"
      ],
      "execution_count": null,
      "outputs": []
    },
    {
      "cell_type": "code",
      "source": [
        "cv(skf, X_train, y_train, preprocess=preprocess);"
      ],
      "metadata": {
        "id": "cuNtB5DCuRXZ"
      },
      "execution_count": null,
      "outputs": []
    },
    {
      "cell_type": "markdown",
      "source": [
        "* 下のようにテストセット以外全体で欠損値を埋めても、結果は変わらない。"
      ],
      "metadata": {
        "id": "7DB65j6sOpCk"
      }
    },
    {
      "cell_type": "code",
      "source": [
        "X_train_copy = X_train.copy()\n",
        "\n",
        "feature = 'BloodPressure'\n",
        "imp = SimpleImputer(missing_values=0, strategy='median')\n",
        "X_train_copy[feature] = imp.fit_transform(X_train[[feature]])\n",
        "print(f'imputation fill value for {feature}: {imp.statistics_[0]}')\n",
        "\n",
        "cv(skf, X_train_copy, y_train);"
      ],
      "metadata": {
        "id": "6i327Ah6MAfS"
      },
      "execution_count": null,
      "outputs": []
    },
    {
      "cell_type": "markdown",
      "metadata": {
        "id": "ngfAvLFOS23T"
      },
      "source": [
        "### E) BMIへの対応"
      ]
    },
    {
      "cell_type": "markdown",
      "metadata": {
        "id": "GpRXbEREqcrN"
      },
      "source": [
        "* 次に、training dataの「BMI」のヒストグラムを描いてみる\n"
      ]
    },
    {
      "cell_type": "code",
      "metadata": {
        "id": "wC-DcEmwMQDn"
      },
      "source": [
        "sns.histplot(X_train['BMI']);"
      ],
      "execution_count": null,
      "outputs": []
    },
    {
      "cell_type": "markdown",
      "metadata": {
        "id": "xAxC2NJcqfGb"
      },
      "source": [
        "* やはり欠測値の部分が0とされているようなので、先ほどと同様、中央値で埋める。\n"
      ]
    },
    {
      "cell_type": "code",
      "metadata": {
        "id": "LgKJFIc9pz7n"
      },
      "source": [
        "X_train_copy = X_train.copy()\n",
        "\n",
        "feature = 'BMI'\n",
        "imp = SimpleImputer(missing_values=0, strategy='median')\n",
        "X_train_copy[feature] = imp.fit_transform(X_train[[feature]])\n",
        "print(f'imputation fill value for {feature}: {imp.statistics_[0]}')\n",
        "\n",
        "sns.histplot(X_train_copy[feature]);"
      ],
      "execution_count": null,
      "outputs": []
    },
    {
      "cell_type": "markdown",
      "source": [
        "* 交差検証で評価する。"
      ],
      "metadata": {
        "id": "-FZBol9gs-gr"
      }
    },
    {
      "cell_type": "code",
      "metadata": {
        "id": "nLkcjQooEz0f"
      },
      "source": [
        "def preprocess(X_train, X_valid):\n",
        "  imp = SimpleImputer(missing_values=0, strategy='median')\n",
        "\n",
        "  X_train_copy = X_train.copy()\n",
        "  X_valid_copy = X_valid.copy()\n",
        "\n",
        "  for feature in ['BloodPressure', 'BMI']:\n",
        "    X_train_copy[feature] = imp.fit_transform(X_train[[feature]])\n",
        "    X_valid_copy[feature] = imp.transform(X_valid[[feature]])\n",
        "    print(f'imputation fill value for {feature}: {imp.statistics_[0]}')\n",
        "\n",
        "  return X_train_copy, X_valid_copy"
      ],
      "execution_count": null,
      "outputs": []
    },
    {
      "cell_type": "code",
      "source": [
        "cv(skf, X_train, y_train, preprocess=preprocess);"
      ],
      "metadata": {
        "id": "nF69ebaPuhby"
      },
      "execution_count": null,
      "outputs": []
    },
    {
      "cell_type": "markdown",
      "source": [
        "* 下のようにテストセット以外全体で欠損値を埋めても、結果は変わらない。"
      ],
      "metadata": {
        "id": "MQ6Tkqj3PMqn"
      }
    },
    {
      "cell_type": "code",
      "source": [
        "X_train_copy = X_train.copy()\n",
        "\n",
        "for feature in ['BloodPressure', 'BMI']:\n",
        "  imp = SimpleImputer(missing_values=0, strategy='median')\n",
        "  X_train_copy[feature] = imp.fit_transform(X_train[[feature]])\n",
        "  print(f'imputation fill value for {feature}: {imp.statistics_[0]}')\n",
        "\n",
        "cv(skf, X_train_copy, y_train);"
      ],
      "metadata": {
        "id": "9tZd4vvZM1vA"
      },
      "execution_count": null,
      "outputs": []
    },
    {
      "cell_type": "markdown",
      "metadata": {
        "id": "FRsaNT2iTWXr"
      },
      "source": [
        "### F) Glucoseへの対応"
      ]
    },
    {
      "cell_type": "code",
      "metadata": {
        "id": "XYkYQJSLTKo2"
      },
      "source": [
        "sns.histplot(X_train['Glucose']);"
      ],
      "execution_count": null,
      "outputs": []
    },
    {
      "cell_type": "code",
      "metadata": {
        "id": "NYbXN-p9TZ52"
      },
      "source": [
        "X_train_copy = X_train.copy()\n",
        "\n",
        "feature = 'Glucose'\n",
        "imp = SimpleImputer(missing_values=0, strategy='median')\n",
        "X_train_copy[feature] = imp.fit_transform(X_train[[feature]])\n",
        "print(f'imputation fill value for {feature}: {imp.statistics_[0]}')\n",
        "\n",
        "sns.histplot(X_train_copy[feature]);"
      ],
      "execution_count": null,
      "outputs": []
    },
    {
      "cell_type": "code",
      "metadata": {
        "id": "OA7TcLkgTprV"
      },
      "source": [
        "def preprocess(X_train, X_valid):\n",
        "  imp = SimpleImputer(missing_values=0, strategy='median')\n",
        "\n",
        "  X_train_copy = X_train.copy()\n",
        "  X_valid_copy = X_valid.copy()\n",
        "\n",
        "  for feature in ['BloodPressure', 'BMI', 'Glucose']:\n",
        "    X_train_copy[feature] = imp.fit_transform(X_train[[feature]])\n",
        "    X_valid_copy[feature] = imp.transform(X_valid[[feature]])\n",
        "    print(f'imputation fill value for {feature}: {imp.statistics_[0]}')\n",
        "\n",
        "  return X_train_copy, X_valid_copy"
      ],
      "execution_count": null,
      "outputs": []
    },
    {
      "cell_type": "code",
      "source": [
        "cv(skf, X_train, y_train, preprocess=preprocess);"
      ],
      "metadata": {
        "id": "ZmbAIB_pu2P-"
      },
      "execution_count": null,
      "outputs": []
    },
    {
      "cell_type": "markdown",
      "source": [
        "* 下のようにテストセット以外全体で欠損値を埋めても、結果は変わらない。"
      ],
      "metadata": {
        "id": "CJL8NFJWPmjk"
      }
    },
    {
      "cell_type": "code",
      "source": [
        "X_train_copy = X_train.copy()\n",
        "\n",
        "for feature in ['BloodPressure', 'BMI', 'Glucose']:\n",
        "  imp = SimpleImputer(missing_values=0, strategy='median')\n",
        "  X_train_copy[feature] = imp.fit_transform(X_train[[feature]])\n",
        "  print(f'imputation fill value for {feature}: {imp.statistics_[0]}')\n",
        "\n",
        "cv(skf, X_train_copy, y_train);"
      ],
      "metadata": {
        "id": "5DZ3gk68PRbN"
      },
      "execution_count": null,
      "outputs": []
    },
    {
      "cell_type": "markdown",
      "metadata": {
        "id": "lu5aGqJZ03Ox"
      },
      "source": [
        "* ここまでの交差検証でのベスト・スコアは0.7759。"
      ]
    },
    {
      "cell_type": "markdown",
      "source": [
        "* 訓練データと検証データを区別して欠損値を埋めても、テストセット以外全体で欠損値を埋めても、結果はあまり変わらなさそう。\n",
        "* 以下、単純に、テストセット以外全体で欠損値を埋めることで、ベストな前処理を探ることにする。"
      ],
      "metadata": {
        "id": "UhNoam6bPZZq"
      }
    },
    {
      "cell_type": "markdown",
      "source": [
        "* X_trainの欠損値を埋めて、元のX_trainを上書きする。"
      ],
      "metadata": {
        "id": "0mK2UHMvQjsF"
      }
    },
    {
      "cell_type": "code",
      "source": [
        "X_train_copy = X_train.copy()\n",
        "\n",
        "for feature in ['BloodPressure', 'BMI', 'Glucose']:\n",
        "  imp = SimpleImputer(missing_values=0, strategy='median')\n",
        "  X_train_copy[feature] = imp.fit_transform(X_train[[feature]])\n",
        "  print(f'imputation fill value for {feature}: {imp.statistics_[0]}')\n",
        "\n",
        "X_train = X_train_copy\n",
        "\n",
        "cv(skf, X_train, y_train);"
      ],
      "metadata": {
        "id": "01nzySzfQgky"
      },
      "execution_count": null,
      "outputs": []
    },
    {
      "cell_type": "markdown",
      "metadata": {
        "id": "B7hDDVnNUATp"
      },
      "source": [
        "### G) SkinThicknessとInsulinへの対応"
      ]
    },
    {
      "cell_type": "code",
      "metadata": {
        "id": "kvegwCbRuBIS"
      },
      "source": [
        "sns.histplot(X_train['SkinThickness'], bins=50);"
      ],
      "execution_count": null,
      "outputs": []
    },
    {
      "cell_type": "code",
      "metadata": {
        "id": "L5ffQqerbRMc"
      },
      "source": [
        "sns.histplot(X_train['Insulin'], bins=50);"
      ],
      "execution_count": null,
      "outputs": []
    },
    {
      "cell_type": "code",
      "metadata": {
        "id": "AE7hom2eVWnR"
      },
      "source": [
        "(X_train['SkinThickness'] == 0).sum()"
      ],
      "execution_count": null,
      "outputs": []
    },
    {
      "cell_type": "code",
      "metadata": {
        "id": "7l5ISkugWXmc"
      },
      "source": [
        "(X_train['Insulin'] == 0).sum()"
      ],
      "execution_count": null,
      "outputs": []
    },
    {
      "cell_type": "markdown",
      "source": [
        "* 欠測値が多すぎるので、同じ一つの値で埋めると、問題あり。"
      ],
      "metadata": {
        "id": "3rXzoWZqvMMh"
      }
    },
    {
      "cell_type": "code",
      "metadata": {
        "id": "Mg87bdcVYCT1"
      },
      "source": [
        "((X_train['SkinThickness'] == 0) & (X_train['Insulin'] == 0)).sum()"
      ],
      "execution_count": null,
      "outputs": []
    },
    {
      "cell_type": "code",
      "metadata": {
        "id": "6Y8vGCUDWeLA"
      },
      "source": [
        "for i in X_train.index[X_train['SkinThickness'] == 0]:\n",
        "  if not i in X_train.index[X_train['Insulin'] == 0]:\n",
        "    print('No')"
      ],
      "execution_count": null,
      "outputs": []
    },
    {
      "cell_type": "markdown",
      "metadata": {
        "id": "ojghc1WgXQ4h"
      },
      "source": [
        "* SkinThicknessが0の個体は、必ずInsulinも0になっているらしい。\n",
        "\n",
        " * ただし、これは訓練データだけでこうなっているだけかもしれないので、この事実に依存して何かをすることはしない。"
      ]
    },
    {
      "cell_type": "markdown",
      "source": [
        "* 線形回帰でSkinThicknessとInsulinの欠測部分を埋める。\n",
        " * 欠測部分を同じ値で埋めたくないため。"
      ],
      "metadata": {
        "id": "ZP3qt7OLvtpe"
      }
    },
    {
      "cell_type": "code",
      "source": [
        "# 欠測値を埋めるための回帰で、特徴量として使う列\n",
        "columns = X_train.columns.drop('SkinThickness').drop('Insulin')"
      ],
      "metadata": {
        "id": "5OdXIMAZ3doo"
      },
      "execution_count": null,
      "outputs": []
    },
    {
      "cell_type": "code",
      "source": [
        "def preprocess(X_train, X_valid):\n",
        "\n",
        "  X_train_copy = X_train.copy()\n",
        "  X_valid_copy = X_valid.copy()\n",
        "\n",
        "  for feature in ['SkinThickness', 'Insulin']:\n",
        "    reg = LinearRegression()\n",
        "    indices = (X_train[feature] != 0)\n",
        "    reg.fit(X_train.loc[indices, columns], X_train.loc[indices, feature])\n",
        "    X_train_copy.loc[~ indices, feature] = reg.predict(X_train.loc[~ indices, columns])\n",
        "\n",
        "    indices = (X_valid[feature] != 0)\n",
        "    X_valid_copy.loc[~ indices, feature] = reg.predict(X_valid.loc[~ indices, columns])\n",
        "\n",
        "  return X_train_copy, X_valid_copy"
      ],
      "metadata": {
        "id": "EwmgkboY1Qdx"
      },
      "execution_count": null,
      "outputs": []
    },
    {
      "cell_type": "code",
      "metadata": {
        "id": "o1zdunK4YtZM"
      },
      "source": [
        "cv(skf, X_train, y_train, preprocess=preprocess);"
      ],
      "execution_count": null,
      "outputs": []
    },
    {
      "cell_type": "markdown",
      "metadata": {
        "id": "v2JBRGrbb8-B"
      },
      "source": [
        "* 悪くなったので不採用。"
      ]
    },
    {
      "cell_type": "markdown",
      "source": [
        "* 次は、k-NNを使って欠測値を埋める。"
      ],
      "metadata": {
        "id": "KL5yoXsZ3wmg"
      }
    },
    {
      "cell_type": "code",
      "source": [
        "# columnsとkは、関数の外から値を指定する。\n",
        "\n",
        "def preprocess(X_train, X_valid):\n",
        "  print(f'imputation k-NN k={k}')\n",
        "\n",
        "  X_train_copy = X_train.copy()\n",
        "  X_valid_copy = X_valid.copy()\n",
        "\n",
        "  for feature in ['SkinThickness', 'Insulin']:\n",
        "    reg = KNeighborsRegressor(n_neighbors=k)\n",
        "    indices = (X_train[feature] != 0)\n",
        "    reg.fit(X_train.loc[indices, columns], X_train.loc[indices, feature])\n",
        "    X_train_copy.loc[~ indices, feature] = reg.predict(X_train.loc[~ indices, columns])\n",
        "\n",
        "    indices = (X_valid[feature] != 0)\n",
        "    X_valid_copy.loc[~ indices, feature] = reg.predict(X_valid.loc[~ indices, columns])\n",
        "\n",
        "  return X_train_copy, X_valid_copy"
      ],
      "metadata": {
        "id": "_qyMKph133YO"
      },
      "execution_count": null,
      "outputs": []
    },
    {
      "cell_type": "code",
      "metadata": {
        "id": "ROSCKIUQOzMk"
      },
      "source": [
        "best_k, best_score = 1, 0.0\n",
        "\n",
        "for k in range(1, 21):\n",
        "  score = cv(skf, X_train, y_train, preprocess=preprocess)\n",
        "  print('-'*64)\n",
        "  if best_score < score:\n",
        "    best_k, best_score = k, score\n",
        "\n",
        "print(f'best score {best_score:.4f} for k = {best_k}')"
      ],
      "execution_count": null,
      "outputs": []
    },
    {
      "cell_type": "markdown",
      "source": [
        "* 選ばれたkの値を使って、訓練データ全体で欠測値を埋める。"
      ],
      "metadata": {
        "id": "ozQh8Aer--V2"
      }
    },
    {
      "cell_type": "code",
      "metadata": {
        "id": "Fw0j_0JcUfwZ"
      },
      "source": [
        "k = best_k\n",
        "\n",
        "X_train_copy = X_train.copy()\n",
        "\n",
        "for feature in ['SkinThickness', 'Insulin']:\n",
        "  reg = KNeighborsRegressor(n_neighbors=k)\n",
        "  indices = (X_train[feature] != 0)\n",
        "  reg.fit(X_train.loc[indices, columns], X_train.loc[indices, feature])\n",
        "  X_train_copy.loc[~ indices, feature] = reg.predict(X_train.loc[~ indices, columns])"
      ],
      "execution_count": null,
      "outputs": []
    },
    {
      "cell_type": "code",
      "metadata": {
        "id": "dgJeArAIPYyp"
      },
      "source": [
        "sns.histplot(X_train_copy['SkinThickness'], bins=50);"
      ],
      "execution_count": null,
      "outputs": []
    },
    {
      "cell_type": "code",
      "metadata": {
        "id": "Rr3x6UWQPcoQ"
      },
      "source": [
        "sns.histplot(X_train_copy['Insulin'], bins=50);"
      ],
      "execution_count": null,
      "outputs": []
    },
    {
      "cell_type": "code",
      "metadata": {
        "id": "TVRl23QOPe0d"
      },
      "source": [
        "cv(skf, X_train_copy, y_train);"
      ],
      "execution_count": null,
      "outputs": []
    },
    {
      "cell_type": "markdown",
      "metadata": {
        "id": "hRBbY9W-QAoF"
      },
      "source": [
        "* 分類性能が良くなったので、埋めた後のデータセットを採用する。"
      ]
    },
    {
      "cell_type": "code",
      "metadata": {
        "id": "LkvtCrYXWarC"
      },
      "source": [
        "X_train = X_train_copy"
      ],
      "execution_count": null,
      "outputs": []
    },
    {
      "cell_type": "markdown",
      "source": [
        "* Pregnanciesを除いて、値0は無くなっている。"
      ],
      "metadata": {
        "id": "uFMLwcJr9_D8"
      }
    },
    {
      "cell_type": "code",
      "metadata": {
        "id": "C29KswDay_OV"
      },
      "source": [
        "(X_train == 0).sum()"
      ],
      "execution_count": null,
      "outputs": []
    },
    {
      "cell_type": "markdown",
      "metadata": {
        "id": "iLd-Rg8RlUtj"
      },
      "source": [
        "### H) スケーラー"
      ]
    },
    {
      "cell_type": "code",
      "source": [
        "def preprocess(X_train, X_valid):\n",
        "  scaler = MinMaxScaler()\n",
        "  scaler.fit(X_train)\n",
        "  return scaler.transform(X_train), scaler.transform(X_valid)"
      ],
      "metadata": {
        "id": "Qz8PMENm_J6f"
      },
      "execution_count": null,
      "outputs": []
    },
    {
      "cell_type": "code",
      "metadata": {
        "id": "fnNi8kaXrDQP"
      },
      "source": [
        "cv(skf, X_train, y_train, preprocess=preprocess);"
      ],
      "execution_count": null,
      "outputs": []
    },
    {
      "cell_type": "code",
      "source": [
        "def preprocess(X_train, X_valid):\n",
        "  scaler = StandardScaler()\n",
        "  scaler.fit(X_train)\n",
        "  return scaler.transform(X_train), scaler.transform(X_valid)"
      ],
      "metadata": {
        "id": "2bh_Rhbt_pxC"
      },
      "execution_count": null,
      "outputs": []
    },
    {
      "cell_type": "code",
      "metadata": {
        "id": "CxAI7gORc5td"
      },
      "source": [
        "cv(skf, X_train, y_train, preprocess=preprocess);"
      ],
      "execution_count": null,
      "outputs": []
    },
    {
      "cell_type": "markdown",
      "metadata": {
        "id": "l3W1GQ_34qhY"
      },
      "source": [
        "いずれも不採用。"
      ]
    },
    {
      "cell_type": "markdown",
      "metadata": {
        "id": "0zFe16YjmHPf"
      },
      "source": [
        "### I) 正則化"
      ]
    },
    {
      "cell_type": "code",
      "metadata": {
        "id": "UhjQGKFaJiGH"
      },
      "source": [
        "best_C, best_score = 0, 0\n",
        "\n",
        "for C in np.power(10.0, np.arange(13) - 5):\n",
        "  score = cv(skf, X_train, y_train, C=C)\n",
        "  if best_score < score:\n",
        "    best_C, best_score = C, score\n",
        "  print('-' * 64)\n",
        "\n",
        "print(f'best score {best_score:.4f} for C={C}')"
      ],
      "execution_count": null,
      "outputs": []
    },
    {
      "cell_type": "markdown",
      "source": [
        "* Cの値が大きいほど良いということは、正則化なしが良いということ。"
      ],
      "metadata": {
        "id": "CW0STZEDBJm_"
      }
    },
    {
      "cell_type": "code",
      "source": [
        "cv(skf, X_train, y_train, penalty='none');"
      ],
      "metadata": {
        "id": "kZoSDnB5BSNP"
      },
      "execution_count": null,
      "outputs": []
    },
    {
      "cell_type": "markdown",
      "metadata": {
        "id": "72sKbveFZqAV"
      },
      "source": [
        "* 以上をまとめると・・・\n",
        " * 'BloodPressure', 'BMI', 'Glucose'の欠損値は中央値で埋める。\n",
        " * 'SkinThickness', 'Insulin'の欠損値はk-NNで埋める。\n",
        " * ロジスティック回帰は正則化なしで使う。"
      ]
    },
    {
      "cell_type": "markdown",
      "metadata": {
        "id": "UNavOCyN2hZr"
      },
      "source": [
        "## 5) テストデータで最終評価"
      ]
    },
    {
      "cell_type": "markdown",
      "source": [
        "* 訓練データの中央値を使って、テストデータの欠測値を埋める。"
      ],
      "metadata": {
        "id": "GxBvhemBTmv5"
      }
    },
    {
      "cell_type": "code",
      "source": [
        "# 訓練データについては、最初に取っておいたオリジナル X_train_original を使うこと。\n",
        "\n",
        "X_train_copy = X_train_original.copy()\n",
        "X_test_copy = X_test.copy()\n",
        "\n",
        "for feature in ['BloodPressure', 'BMI', 'Glucose']:\n",
        "  imp = SimpleImputer(missing_values=0, strategy='median')\n",
        "  X_train_copy[feature] = imp.fit_transform(X_train_original[[feature]])\n",
        "  X_test_copy[feature] = imp.transform(X_test[[feature]])\n",
        "  print(f'imputation fill value for {feature}: {imp.statistics_[0]}')"
      ],
      "metadata": {
        "id": "qXDt-9xMCB7P"
      },
      "execution_count": null,
      "outputs": []
    },
    {
      "cell_type": "markdown",
      "source": [
        "* k-NNでは、上で'BloodPressure', 'BMI', 'Glucose'の欠測値を埋めたデータを使う。"
      ],
      "metadata": {
        "id": "Y-w1izrJDBNX"
      }
    },
    {
      "cell_type": "code",
      "source": [
        "X_train = X_train_copy\n",
        "X_test = X_test_copy"
      ],
      "metadata": {
        "id": "39dUE7EBC-_G"
      },
      "execution_count": null,
      "outputs": []
    },
    {
      "cell_type": "markdown",
      "source": [
        "* 訓練データで近傍を見つけることによって、テストデータの欠測値を埋める。"
      ],
      "metadata": {
        "id": "NSI5XJQ0G1z_"
      }
    },
    {
      "cell_type": "code",
      "source": [
        "k = best_k\n",
        "\n",
        "X_train_copy = X_train.copy()\n",
        "X_test_copy = X_test.copy()\n",
        "\n",
        "for feature in ['SkinThickness', 'Insulin']:\n",
        "  reg = KNeighborsRegressor(n_neighbors=k)\n",
        "  indices = (X_train[feature] != 0)\n",
        "  reg.fit(X_train.loc[indices, columns], X_train.loc[indices, feature])\n",
        "  X_train_copy.loc[~ indices, feature] = reg.predict(X_train.loc[~ indices, columns])\n",
        "  indices = (X_test[feature] != 0)\n",
        "  X_test_copy.loc[~ indices, feature] = reg.predict(X_test.loc[~ indices, columns])"
      ],
      "metadata": {
        "id": "H3_8mSaBT_eS"
      },
      "execution_count": null,
      "outputs": []
    },
    {
      "cell_type": "code",
      "source": [
        "X_train = X_train_copy\n",
        "X_test = X_test"
      ],
      "metadata": {
        "id": "tt9mZQ2QD0w_"
      },
      "execution_count": null,
      "outputs": []
    },
    {
      "cell_type": "code",
      "metadata": {
        "id": "H-c0X3gCJwsq"
      },
      "source": [
        "model = LogisticRegression(max_iter=1000, penalty='none', random_state=123)\n",
        "model.fit(X_train, y_train)\n",
        "print('test score: {:.4f}'.format(model.score(X_test, y_test)))"
      ],
      "execution_count": null,
      "outputs": []
    },
    {
      "cell_type": "code",
      "metadata": {
        "id": "KayAjOl5x_On"
      },
      "source": [
        "y_test_pred_proba = model.predict_proba(X_test)\n",
        "print('ROC AUC: {:.4f}'.format(roc_auc_score(y_test, y_test_pred_proba[:,1])))"
      ],
      "execution_count": null,
      "outputs": []
    },
    {
      "cell_type": "code",
      "metadata": {
        "id": "WopC3aJ02PVO"
      },
      "source": [
        "y_score = baseline.decision_function(X_test_original) # ベースラインには元のテストデータを使う\n",
        "fpr, tpr, _ = roc_curve(y_test, y_score)\n",
        "roc_auc = auc(fpr, tpr)\n",
        "\n",
        "y_score_ours = model.decision_function(X_test)\n",
        "fpr_ours, tpr_ours, _ = roc_curve(y_test, y_score_ours)\n",
        "roc_auc_ours = auc(fpr_ours, tpr_ours)\n",
        "\n",
        "plt.plot(fpr, tpr, color='darkorange', label=f'ROC curve (area = {roc_auc:.4f})')\n",
        "plt.plot(fpr_ours, tpr_ours, color='firebrick', label=f'ROC curve (area = {roc_auc_ours:.4f})')\n",
        "plt.plot([0, 1], [0, 1], color='navy', linestyle='--')\n",
        "plt.xlim([0.0, 1.0])\n",
        "plt.ylim([0.0, 1.05])\n",
        "plt.xlabel('False Positive Rate')\n",
        "plt.ylabel('True Positive Rate')\n",
        "plt.title('Receiver operating characteristic example')\n",
        "plt.legend(loc=\"lower right\");"
      ],
      "execution_count": null,
      "outputs": []
    },
    {
      "cell_type": "markdown",
      "source": [
        "# 2022/06/11の課題\n",
        "* 上の結果を改良できるかどうか、試行錯誤してみてください。"
      ],
      "metadata": {
        "id": "sflvsPYqkflX"
      }
    },
    {
      "cell_type": "code",
      "source": [],
      "metadata": {
        "id": "zWoqZKFlkjsA"
      },
      "execution_count": null,
      "outputs": []
    }
  ]
}