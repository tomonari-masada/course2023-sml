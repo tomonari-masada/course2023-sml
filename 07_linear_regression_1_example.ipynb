{
  "nbformat": 4,
  "nbformat_minor": 0,
  "metadata": {
    "colab": {
      "provenance": [],
      "authorship_tag": "ABX9TyNaqhDl1eyaV1JGh2tUEH5o",
      "include_colab_link": true
    },
    "kernelspec": {
      "name": "python3",
      "display_name": "Python 3"
    }
  },
  "cells": [
    {
      "cell_type": "markdown",
      "metadata": {
        "id": "view-in-github",
        "colab_type": "text"
      },
      "source": [
        "<a href=\"https://colab.research.google.com/github/tomonari-masada/course2023-sml/blob/main/07_linear_regression_1_example.ipynb\" target=\"_parent\"><img src=\"https://colab.research.google.com/assets/colab-badge.svg\" alt=\"Open In Colab\"/></a>"
      ]
    },
    {
      "cell_type": "markdown",
      "metadata": {
        "id": "gaQ8dO7PH-Ie"
      },
      "source": [
        "# 課題7\n",
        "\n",
        "* RMSEによって評価される予測性能を、良くして下さい\n",
        "* test setとそれ以外の部分の分割は、変えないでください\n",
        " * test set以外の部分をどう使うかは、自由です。\n",
        " * training setとvalidation setをくっつけて、交差検証をしていいです。\n",
        "* リッジ回帰とLassoを使ってもいいです\n",
        "* 高次多項式特徴量を使ってもいいです（cf. `sklearn.preprocessing.PolynomialFeatures`）\n",
        "* test setでのRMSEによる評価は最後に一回おこなうだけです"
      ]
    },
    {
      "cell_type": "code",
      "metadata": {
        "id": "vCYz2LlyIJUW"
      },
      "source": [
        "import numpy as np\n",
        "from scipy import stats, special\n",
        "import pandas as pd\n",
        "import matplotlib.pyplot as plt\n",
        "import seaborn as sns\n",
        "from sklearn.model_selection import train_test_split\n",
        "from sklearn.preprocessing import StandardScaler, MinMaxScaler\n",
        "from sklearn.linear_model import LinearRegression, Ridge, Lasso\n",
        "from sklearn.metrics import mean_squared_error\n",
        "from sklearn.model_selection import KFold\n",
        "from sklearn.preprocessing import PolynomialFeatures\n",
        "\n",
        "%config InlineBackend.figure_format = 'retina'"
      ],
      "execution_count": 1,
      "outputs": []
    },
    {
      "cell_type": "code",
      "metadata": {
        "id": "g-8ombKtQkBM"
      },
      "source": [
        "import os\n",
        "import tarfile\n",
        "from six.moves import urllib\n",
        "\n",
        "DOWNLOAD_ROOT = \"https://raw.githubusercontent.com/ageron/handson-ml/master/\"\n",
        "HOUSING_PATH = os.path.join(\"datasets\", \"housing\")\n",
        "HOUSING_URL = DOWNLOAD_ROOT + \"datasets/housing/housing.tgz\"\n",
        "\n",
        "def fetch_housing_data(housing_url=HOUSING_URL, housing_path=HOUSING_PATH):\n",
        "  os.makedirs(housing_path, exist_ok=True)\n",
        "  tgz_path = os.path.join(housing_path, \"housing.tgz\")\n",
        "  urllib.request.urlretrieve(housing_url, tgz_path)\n",
        "  housing_tgz = tarfile.open(tgz_path)\n",
        "  housing_tgz.extractall(path=housing_path)\n",
        "  housing_tgz.close()"
      ],
      "execution_count": 2,
      "outputs": []
    },
    {
      "cell_type": "code",
      "metadata": {
        "id": "Ewm8TpCMQj4X"
      },
      "source": [
        "fetch_housing_data()"
      ],
      "execution_count": 3,
      "outputs": []
    },
    {
      "cell_type": "code",
      "metadata": {
        "id": "qybD5v56JrtS"
      },
      "source": [
        "def load_housing_data(housing_path=HOUSING_PATH):\n",
        "  csv_path = os.path.join(housing_path, \"housing.csv\")\n",
        "  return pd.read_csv(csv_path)"
      ],
      "execution_count": 4,
      "outputs": []
    },
    {
      "cell_type": "markdown",
      "metadata": {
        "id": "EUzt-Kn9Ht91"
      },
      "source": [
        "（ここより上の詳細はフォローしなくてもいいいです。）"
      ]
    },
    {
      "cell_type": "code",
      "metadata": {
        "id": "_L5MBp4WQjeb",
        "colab": {
          "base_uri": "https://localhost:8080/",
          "height": 206
        },
        "outputId": "d02a2a9f-b5bc-43ca-861c-1e0a57609c35"
      },
      "source": [
        "housing = load_housing_data()\n",
        "housing.head()"
      ],
      "execution_count": 5,
      "outputs": [
        {
          "output_type": "execute_result",
          "data": {
            "text/plain": [
              "   longitude  latitude  housing_median_age  total_rooms  total_bedrooms  \\\n",
              "0    -122.23     37.88                41.0        880.0           129.0   \n",
              "1    -122.22     37.86                21.0       7099.0          1106.0   \n",
              "2    -122.24     37.85                52.0       1467.0           190.0   \n",
              "3    -122.25     37.85                52.0       1274.0           235.0   \n",
              "4    -122.25     37.85                52.0       1627.0           280.0   \n",
              "\n",
              "   population  households  median_income  median_house_value ocean_proximity  \n",
              "0       322.0       126.0         8.3252            452600.0        NEAR BAY  \n",
              "1      2401.0      1138.0         8.3014            358500.0        NEAR BAY  \n",
              "2       496.0       177.0         7.2574            352100.0        NEAR BAY  \n",
              "3       558.0       219.0         5.6431            341300.0        NEAR BAY  \n",
              "4       565.0       259.0         3.8462            342200.0        NEAR BAY  "
            ],
            "text/html": [
              "\n",
              "  <div id=\"df-d40928bf-3727-46e6-8467-10e63ecbf7c1\">\n",
              "    <div class=\"colab-df-container\">\n",
              "      <div>\n",
              "<style scoped>\n",
              "    .dataframe tbody tr th:only-of-type {\n",
              "        vertical-align: middle;\n",
              "    }\n",
              "\n",
              "    .dataframe tbody tr th {\n",
              "        vertical-align: top;\n",
              "    }\n",
              "\n",
              "    .dataframe thead th {\n",
              "        text-align: right;\n",
              "    }\n",
              "</style>\n",
              "<table border=\"1\" class=\"dataframe\">\n",
              "  <thead>\n",
              "    <tr style=\"text-align: right;\">\n",
              "      <th></th>\n",
              "      <th>longitude</th>\n",
              "      <th>latitude</th>\n",
              "      <th>housing_median_age</th>\n",
              "      <th>total_rooms</th>\n",
              "      <th>total_bedrooms</th>\n",
              "      <th>population</th>\n",
              "      <th>households</th>\n",
              "      <th>median_income</th>\n",
              "      <th>median_house_value</th>\n",
              "      <th>ocean_proximity</th>\n",
              "    </tr>\n",
              "  </thead>\n",
              "  <tbody>\n",
              "    <tr>\n",
              "      <th>0</th>\n",
              "      <td>-122.23</td>\n",
              "      <td>37.88</td>\n",
              "      <td>41.0</td>\n",
              "      <td>880.0</td>\n",
              "      <td>129.0</td>\n",
              "      <td>322.0</td>\n",
              "      <td>126.0</td>\n",
              "      <td>8.3252</td>\n",
              "      <td>452600.0</td>\n",
              "      <td>NEAR BAY</td>\n",
              "    </tr>\n",
              "    <tr>\n",
              "      <th>1</th>\n",
              "      <td>-122.22</td>\n",
              "      <td>37.86</td>\n",
              "      <td>21.0</td>\n",
              "      <td>7099.0</td>\n",
              "      <td>1106.0</td>\n",
              "      <td>2401.0</td>\n",
              "      <td>1138.0</td>\n",
              "      <td>8.3014</td>\n",
              "      <td>358500.0</td>\n",
              "      <td>NEAR BAY</td>\n",
              "    </tr>\n",
              "    <tr>\n",
              "      <th>2</th>\n",
              "      <td>-122.24</td>\n",
              "      <td>37.85</td>\n",
              "      <td>52.0</td>\n",
              "      <td>1467.0</td>\n",
              "      <td>190.0</td>\n",
              "      <td>496.0</td>\n",
              "      <td>177.0</td>\n",
              "      <td>7.2574</td>\n",
              "      <td>352100.0</td>\n",
              "      <td>NEAR BAY</td>\n",
              "    </tr>\n",
              "    <tr>\n",
              "      <th>3</th>\n",
              "      <td>-122.25</td>\n",
              "      <td>37.85</td>\n",
              "      <td>52.0</td>\n",
              "      <td>1274.0</td>\n",
              "      <td>235.0</td>\n",
              "      <td>558.0</td>\n",
              "      <td>219.0</td>\n",
              "      <td>5.6431</td>\n",
              "      <td>341300.0</td>\n",
              "      <td>NEAR BAY</td>\n",
              "    </tr>\n",
              "    <tr>\n",
              "      <th>4</th>\n",
              "      <td>-122.25</td>\n",
              "      <td>37.85</td>\n",
              "      <td>52.0</td>\n",
              "      <td>1627.0</td>\n",
              "      <td>280.0</td>\n",
              "      <td>565.0</td>\n",
              "      <td>259.0</td>\n",
              "      <td>3.8462</td>\n",
              "      <td>342200.0</td>\n",
              "      <td>NEAR BAY</td>\n",
              "    </tr>\n",
              "  </tbody>\n",
              "</table>\n",
              "</div>\n",
              "      <button class=\"colab-df-convert\" onclick=\"convertToInteractive('df-d40928bf-3727-46e6-8467-10e63ecbf7c1')\"\n",
              "              title=\"Convert this dataframe to an interactive table.\"\n",
              "              style=\"display:none;\">\n",
              "        \n",
              "  <svg xmlns=\"http://www.w3.org/2000/svg\" height=\"24px\"viewBox=\"0 0 24 24\"\n",
              "       width=\"24px\">\n",
              "    <path d=\"M0 0h24v24H0V0z\" fill=\"none\"/>\n",
              "    <path d=\"M18.56 5.44l.94 2.06.94-2.06 2.06-.94-2.06-.94-.94-2.06-.94 2.06-2.06.94zm-11 1L8.5 8.5l.94-2.06 2.06-.94-2.06-.94L8.5 2.5l-.94 2.06-2.06.94zm10 10l.94 2.06.94-2.06 2.06-.94-2.06-.94-.94-2.06-.94 2.06-2.06.94z\"/><path d=\"M17.41 7.96l-1.37-1.37c-.4-.4-.92-.59-1.43-.59-.52 0-1.04.2-1.43.59L10.3 9.45l-7.72 7.72c-.78.78-.78 2.05 0 2.83L4 21.41c.39.39.9.59 1.41.59.51 0 1.02-.2 1.41-.59l7.78-7.78 2.81-2.81c.8-.78.8-2.07 0-2.86zM5.41 20L4 18.59l7.72-7.72 1.47 1.35L5.41 20z\"/>\n",
              "  </svg>\n",
              "      </button>\n",
              "      \n",
              "  <style>\n",
              "    .colab-df-container {\n",
              "      display:flex;\n",
              "      flex-wrap:wrap;\n",
              "      gap: 12px;\n",
              "    }\n",
              "\n",
              "    .colab-df-convert {\n",
              "      background-color: #E8F0FE;\n",
              "      border: none;\n",
              "      border-radius: 50%;\n",
              "      cursor: pointer;\n",
              "      display: none;\n",
              "      fill: #1967D2;\n",
              "      height: 32px;\n",
              "      padding: 0 0 0 0;\n",
              "      width: 32px;\n",
              "    }\n",
              "\n",
              "    .colab-df-convert:hover {\n",
              "      background-color: #E2EBFA;\n",
              "      box-shadow: 0px 1px 2px rgba(60, 64, 67, 0.3), 0px 1px 3px 1px rgba(60, 64, 67, 0.15);\n",
              "      fill: #174EA6;\n",
              "    }\n",
              "\n",
              "    [theme=dark] .colab-df-convert {\n",
              "      background-color: #3B4455;\n",
              "      fill: #D2E3FC;\n",
              "    }\n",
              "\n",
              "    [theme=dark] .colab-df-convert:hover {\n",
              "      background-color: #434B5C;\n",
              "      box-shadow: 0px 1px 3px 1px rgba(0, 0, 0, 0.15);\n",
              "      filter: drop-shadow(0px 1px 2px rgba(0, 0, 0, 0.3));\n",
              "      fill: #FFFFFF;\n",
              "    }\n",
              "  </style>\n",
              "\n",
              "      <script>\n",
              "        const buttonEl =\n",
              "          document.querySelector('#df-d40928bf-3727-46e6-8467-10e63ecbf7c1 button.colab-df-convert');\n",
              "        buttonEl.style.display =\n",
              "          google.colab.kernel.accessAllowed ? 'block' : 'none';\n",
              "\n",
              "        async function convertToInteractive(key) {\n",
              "          const element = document.querySelector('#df-d40928bf-3727-46e6-8467-10e63ecbf7c1');\n",
              "          const dataTable =\n",
              "            await google.colab.kernel.invokeFunction('convertToInteractive',\n",
              "                                                     [key], {});\n",
              "          if (!dataTable) return;\n",
              "\n",
              "          const docLinkHtml = 'Like what you see? Visit the ' +\n",
              "            '<a target=\"_blank\" href=https://colab.research.google.com/notebooks/data_table.ipynb>data table notebook</a>'\n",
              "            + ' to learn more about interactive tables.';\n",
              "          element.innerHTML = '';\n",
              "          dataTable['output_type'] = 'display_data';\n",
              "          await google.colab.output.renderOutput(dataTable, element);\n",
              "          const docLink = document.createElement('div');\n",
              "          docLink.innerHTML = docLinkHtml;\n",
              "          element.appendChild(docLink);\n",
              "        }\n",
              "      </script>\n",
              "    </div>\n",
              "  </div>\n",
              "  "
            ]
          },
          "metadata": {},
          "execution_count": 5
        }
      ]
    },
    {
      "cell_type": "code",
      "metadata": {
        "id": "OGJP-5qhNnoz",
        "colab": {
          "base_uri": "https://localhost:8080/"
        },
        "outputId": "36d8a6f0-2ecb-4937-b5b4-e10dd38560dc"
      },
      "source": [
        "housing.info()"
      ],
      "execution_count": 6,
      "outputs": [
        {
          "output_type": "stream",
          "name": "stdout",
          "text": [
            "<class 'pandas.core.frame.DataFrame'>\n",
            "RangeIndex: 20640 entries, 0 to 20639\n",
            "Data columns (total 10 columns):\n",
            " #   Column              Non-Null Count  Dtype  \n",
            "---  ------              --------------  -----  \n",
            " 0   longitude           20640 non-null  float64\n",
            " 1   latitude            20640 non-null  float64\n",
            " 2   housing_median_age  20640 non-null  float64\n",
            " 3   total_rooms         20640 non-null  float64\n",
            " 4   total_bedrooms      20433 non-null  float64\n",
            " 5   population          20640 non-null  float64\n",
            " 6   households          20640 non-null  float64\n",
            " 7   median_income       20640 non-null  float64\n",
            " 8   median_house_value  20640 non-null  float64\n",
            " 9   ocean_proximity     20640 non-null  object \n",
            "dtypes: float64(9), object(1)\n",
            "memory usage: 1.6+ MB\n"
          ]
        }
      ]
    },
    {
      "cell_type": "markdown",
      "metadata": {
        "id": "MCM2yfWY2WUT"
      },
      "source": [
        "## 1) `ocean_proximity`を0/1の数値データへ変換"
      ]
    },
    {
      "cell_type": "markdown",
      "metadata": {
        "id": "m4QjoTtjBQad"
      },
      "source": [
        "* pandasの`get_dummies`を使って、カテゴリカル変数`ocean_proximity`の値を0/1の数値データに変換する。"
      ]
    },
    {
      "cell_type": "code",
      "metadata": {
        "id": "Ac-bD3EfS9U6"
      },
      "source": [
        "housing_dummies = pd.get_dummies(housing['ocean_proximity'])"
      ],
      "execution_count": 7,
      "outputs": []
    },
    {
      "cell_type": "code",
      "metadata": {
        "colab": {
          "base_uri": "https://localhost:8080/",
          "height": 206
        },
        "id": "RneEIPVscGsu",
        "outputId": "9c18bd28-eb5f-4ce4-d1cc-96c4e4ced502"
      },
      "source": [
        "housing_dummies.head()"
      ],
      "execution_count": 8,
      "outputs": [
        {
          "output_type": "execute_result",
          "data": {
            "text/plain": [
              "   <1H OCEAN  INLAND  ISLAND  NEAR BAY  NEAR OCEAN\n",
              "0          0       0       0         1           0\n",
              "1          0       0       0         1           0\n",
              "2          0       0       0         1           0\n",
              "3          0       0       0         1           0\n",
              "4          0       0       0         1           0"
            ],
            "text/html": [
              "\n",
              "  <div id=\"df-7b4297f0-2eba-4c31-b477-c98cc0a52cbd\">\n",
              "    <div class=\"colab-df-container\">\n",
              "      <div>\n",
              "<style scoped>\n",
              "    .dataframe tbody tr th:only-of-type {\n",
              "        vertical-align: middle;\n",
              "    }\n",
              "\n",
              "    .dataframe tbody tr th {\n",
              "        vertical-align: top;\n",
              "    }\n",
              "\n",
              "    .dataframe thead th {\n",
              "        text-align: right;\n",
              "    }\n",
              "</style>\n",
              "<table border=\"1\" class=\"dataframe\">\n",
              "  <thead>\n",
              "    <tr style=\"text-align: right;\">\n",
              "      <th></th>\n",
              "      <th>&lt;1H OCEAN</th>\n",
              "      <th>INLAND</th>\n",
              "      <th>ISLAND</th>\n",
              "      <th>NEAR BAY</th>\n",
              "      <th>NEAR OCEAN</th>\n",
              "    </tr>\n",
              "  </thead>\n",
              "  <tbody>\n",
              "    <tr>\n",
              "      <th>0</th>\n",
              "      <td>0</td>\n",
              "      <td>0</td>\n",
              "      <td>0</td>\n",
              "      <td>1</td>\n",
              "      <td>0</td>\n",
              "    </tr>\n",
              "    <tr>\n",
              "      <th>1</th>\n",
              "      <td>0</td>\n",
              "      <td>0</td>\n",
              "      <td>0</td>\n",
              "      <td>1</td>\n",
              "      <td>0</td>\n",
              "    </tr>\n",
              "    <tr>\n",
              "      <th>2</th>\n",
              "      <td>0</td>\n",
              "      <td>0</td>\n",
              "      <td>0</td>\n",
              "      <td>1</td>\n",
              "      <td>0</td>\n",
              "    </tr>\n",
              "    <tr>\n",
              "      <th>3</th>\n",
              "      <td>0</td>\n",
              "      <td>0</td>\n",
              "      <td>0</td>\n",
              "      <td>1</td>\n",
              "      <td>0</td>\n",
              "    </tr>\n",
              "    <tr>\n",
              "      <th>4</th>\n",
              "      <td>0</td>\n",
              "      <td>0</td>\n",
              "      <td>0</td>\n",
              "      <td>1</td>\n",
              "      <td>0</td>\n",
              "    </tr>\n",
              "  </tbody>\n",
              "</table>\n",
              "</div>\n",
              "      <button class=\"colab-df-convert\" onclick=\"convertToInteractive('df-7b4297f0-2eba-4c31-b477-c98cc0a52cbd')\"\n",
              "              title=\"Convert this dataframe to an interactive table.\"\n",
              "              style=\"display:none;\">\n",
              "        \n",
              "  <svg xmlns=\"http://www.w3.org/2000/svg\" height=\"24px\"viewBox=\"0 0 24 24\"\n",
              "       width=\"24px\">\n",
              "    <path d=\"M0 0h24v24H0V0z\" fill=\"none\"/>\n",
              "    <path d=\"M18.56 5.44l.94 2.06.94-2.06 2.06-.94-2.06-.94-.94-2.06-.94 2.06-2.06.94zm-11 1L8.5 8.5l.94-2.06 2.06-.94-2.06-.94L8.5 2.5l-.94 2.06-2.06.94zm10 10l.94 2.06.94-2.06 2.06-.94-2.06-.94-.94-2.06-.94 2.06-2.06.94z\"/><path d=\"M17.41 7.96l-1.37-1.37c-.4-.4-.92-.59-1.43-.59-.52 0-1.04.2-1.43.59L10.3 9.45l-7.72 7.72c-.78.78-.78 2.05 0 2.83L4 21.41c.39.39.9.59 1.41.59.51 0 1.02-.2 1.41-.59l7.78-7.78 2.81-2.81c.8-.78.8-2.07 0-2.86zM5.41 20L4 18.59l7.72-7.72 1.47 1.35L5.41 20z\"/>\n",
              "  </svg>\n",
              "      </button>\n",
              "      \n",
              "  <style>\n",
              "    .colab-df-container {\n",
              "      display:flex;\n",
              "      flex-wrap:wrap;\n",
              "      gap: 12px;\n",
              "    }\n",
              "\n",
              "    .colab-df-convert {\n",
              "      background-color: #E8F0FE;\n",
              "      border: none;\n",
              "      border-radius: 50%;\n",
              "      cursor: pointer;\n",
              "      display: none;\n",
              "      fill: #1967D2;\n",
              "      height: 32px;\n",
              "      padding: 0 0 0 0;\n",
              "      width: 32px;\n",
              "    }\n",
              "\n",
              "    .colab-df-convert:hover {\n",
              "      background-color: #E2EBFA;\n",
              "      box-shadow: 0px 1px 2px rgba(60, 64, 67, 0.3), 0px 1px 3px 1px rgba(60, 64, 67, 0.15);\n",
              "      fill: #174EA6;\n",
              "    }\n",
              "\n",
              "    [theme=dark] .colab-df-convert {\n",
              "      background-color: #3B4455;\n",
              "      fill: #D2E3FC;\n",
              "    }\n",
              "\n",
              "    [theme=dark] .colab-df-convert:hover {\n",
              "      background-color: #434B5C;\n",
              "      box-shadow: 0px 1px 3px 1px rgba(0, 0, 0, 0.15);\n",
              "      filter: drop-shadow(0px 1px 2px rgba(0, 0, 0, 0.3));\n",
              "      fill: #FFFFFF;\n",
              "    }\n",
              "  </style>\n",
              "\n",
              "      <script>\n",
              "        const buttonEl =\n",
              "          document.querySelector('#df-7b4297f0-2eba-4c31-b477-c98cc0a52cbd button.colab-df-convert');\n",
              "        buttonEl.style.display =\n",
              "          google.colab.kernel.accessAllowed ? 'block' : 'none';\n",
              "\n",
              "        async function convertToInteractive(key) {\n",
              "          const element = document.querySelector('#df-7b4297f0-2eba-4c31-b477-c98cc0a52cbd');\n",
              "          const dataTable =\n",
              "            await google.colab.kernel.invokeFunction('convertToInteractive',\n",
              "                                                     [key], {});\n",
              "          if (!dataTable) return;\n",
              "\n",
              "          const docLinkHtml = 'Like what you see? Visit the ' +\n",
              "            '<a target=\"_blank\" href=https://colab.research.google.com/notebooks/data_table.ipynb>data table notebook</a>'\n",
              "            + ' to learn more about interactive tables.';\n",
              "          element.innerHTML = '';\n",
              "          dataTable['output_type'] = 'display_data';\n",
              "          await google.colab.output.renderOutput(dataTable, element);\n",
              "          const docLink = document.createElement('div');\n",
              "          docLink.innerHTML = docLinkHtml;\n",
              "          element.appendChild(docLink);\n",
              "        }\n",
              "      </script>\n",
              "    </div>\n",
              "  </div>\n",
              "  "
            ]
          },
          "metadata": {},
          "execution_count": 8
        }
      ]
    },
    {
      "cell_type": "code",
      "metadata": {
        "id": "seGCoKcQcLQJ"
      },
      "source": [
        "housing_num = housing.drop('ocean_proximity', axis=1)"
      ],
      "execution_count": 9,
      "outputs": []
    },
    {
      "cell_type": "code",
      "metadata": {
        "id": "JwkSYEuxcNLM"
      },
      "source": [
        "housing = pd.concat([housing_num, housing_dummies], axis=1)"
      ],
      "execution_count": 10,
      "outputs": []
    },
    {
      "cell_type": "code",
      "metadata": {
        "colab": {
          "base_uri": "https://localhost:8080/",
          "height": 288
        },
        "id": "q7QOByvAcTzg",
        "outputId": "fe988dd0-1c48-4f24-aa2a-e09d15e266cd"
      },
      "source": [
        "housing.head()"
      ],
      "execution_count": 11,
      "outputs": [
        {
          "output_type": "execute_result",
          "data": {
            "text/plain": [
              "   longitude  latitude  housing_median_age  total_rooms  total_bedrooms  \\\n",
              "0    -122.23     37.88                41.0        880.0           129.0   \n",
              "1    -122.22     37.86                21.0       7099.0          1106.0   \n",
              "2    -122.24     37.85                52.0       1467.0           190.0   \n",
              "3    -122.25     37.85                52.0       1274.0           235.0   \n",
              "4    -122.25     37.85                52.0       1627.0           280.0   \n",
              "\n",
              "   population  households  median_income  median_house_value  <1H OCEAN  \\\n",
              "0       322.0       126.0         8.3252            452600.0          0   \n",
              "1      2401.0      1138.0         8.3014            358500.0          0   \n",
              "2       496.0       177.0         7.2574            352100.0          0   \n",
              "3       558.0       219.0         5.6431            341300.0          0   \n",
              "4       565.0       259.0         3.8462            342200.0          0   \n",
              "\n",
              "   INLAND  ISLAND  NEAR BAY  NEAR OCEAN  \n",
              "0       0       0         1           0  \n",
              "1       0       0         1           0  \n",
              "2       0       0         1           0  \n",
              "3       0       0         1           0  \n",
              "4       0       0         1           0  "
            ],
            "text/html": [
              "\n",
              "  <div id=\"df-2fbbd6ec-4d58-443f-9f44-044b3237792a\">\n",
              "    <div class=\"colab-df-container\">\n",
              "      <div>\n",
              "<style scoped>\n",
              "    .dataframe tbody tr th:only-of-type {\n",
              "        vertical-align: middle;\n",
              "    }\n",
              "\n",
              "    .dataframe tbody tr th {\n",
              "        vertical-align: top;\n",
              "    }\n",
              "\n",
              "    .dataframe thead th {\n",
              "        text-align: right;\n",
              "    }\n",
              "</style>\n",
              "<table border=\"1\" class=\"dataframe\">\n",
              "  <thead>\n",
              "    <tr style=\"text-align: right;\">\n",
              "      <th></th>\n",
              "      <th>longitude</th>\n",
              "      <th>latitude</th>\n",
              "      <th>housing_median_age</th>\n",
              "      <th>total_rooms</th>\n",
              "      <th>total_bedrooms</th>\n",
              "      <th>population</th>\n",
              "      <th>households</th>\n",
              "      <th>median_income</th>\n",
              "      <th>median_house_value</th>\n",
              "      <th>&lt;1H OCEAN</th>\n",
              "      <th>INLAND</th>\n",
              "      <th>ISLAND</th>\n",
              "      <th>NEAR BAY</th>\n",
              "      <th>NEAR OCEAN</th>\n",
              "    </tr>\n",
              "  </thead>\n",
              "  <tbody>\n",
              "    <tr>\n",
              "      <th>0</th>\n",
              "      <td>-122.23</td>\n",
              "      <td>37.88</td>\n",
              "      <td>41.0</td>\n",
              "      <td>880.0</td>\n",
              "      <td>129.0</td>\n",
              "      <td>322.0</td>\n",
              "      <td>126.0</td>\n",
              "      <td>8.3252</td>\n",
              "      <td>452600.0</td>\n",
              "      <td>0</td>\n",
              "      <td>0</td>\n",
              "      <td>0</td>\n",
              "      <td>1</td>\n",
              "      <td>0</td>\n",
              "    </tr>\n",
              "    <tr>\n",
              "      <th>1</th>\n",
              "      <td>-122.22</td>\n",
              "      <td>37.86</td>\n",
              "      <td>21.0</td>\n",
              "      <td>7099.0</td>\n",
              "      <td>1106.0</td>\n",
              "      <td>2401.0</td>\n",
              "      <td>1138.0</td>\n",
              "      <td>8.3014</td>\n",
              "      <td>358500.0</td>\n",
              "      <td>0</td>\n",
              "      <td>0</td>\n",
              "      <td>0</td>\n",
              "      <td>1</td>\n",
              "      <td>0</td>\n",
              "    </tr>\n",
              "    <tr>\n",
              "      <th>2</th>\n",
              "      <td>-122.24</td>\n",
              "      <td>37.85</td>\n",
              "      <td>52.0</td>\n",
              "      <td>1467.0</td>\n",
              "      <td>190.0</td>\n",
              "      <td>496.0</td>\n",
              "      <td>177.0</td>\n",
              "      <td>7.2574</td>\n",
              "      <td>352100.0</td>\n",
              "      <td>0</td>\n",
              "      <td>0</td>\n",
              "      <td>0</td>\n",
              "      <td>1</td>\n",
              "      <td>0</td>\n",
              "    </tr>\n",
              "    <tr>\n",
              "      <th>3</th>\n",
              "      <td>-122.25</td>\n",
              "      <td>37.85</td>\n",
              "      <td>52.0</td>\n",
              "      <td>1274.0</td>\n",
              "      <td>235.0</td>\n",
              "      <td>558.0</td>\n",
              "      <td>219.0</td>\n",
              "      <td>5.6431</td>\n",
              "      <td>341300.0</td>\n",
              "      <td>0</td>\n",
              "      <td>0</td>\n",
              "      <td>0</td>\n",
              "      <td>1</td>\n",
              "      <td>0</td>\n",
              "    </tr>\n",
              "    <tr>\n",
              "      <th>4</th>\n",
              "      <td>-122.25</td>\n",
              "      <td>37.85</td>\n",
              "      <td>52.0</td>\n",
              "      <td>1627.0</td>\n",
              "      <td>280.0</td>\n",
              "      <td>565.0</td>\n",
              "      <td>259.0</td>\n",
              "      <td>3.8462</td>\n",
              "      <td>342200.0</td>\n",
              "      <td>0</td>\n",
              "      <td>0</td>\n",
              "      <td>0</td>\n",
              "      <td>1</td>\n",
              "      <td>0</td>\n",
              "    </tr>\n",
              "  </tbody>\n",
              "</table>\n",
              "</div>\n",
              "      <button class=\"colab-df-convert\" onclick=\"convertToInteractive('df-2fbbd6ec-4d58-443f-9f44-044b3237792a')\"\n",
              "              title=\"Convert this dataframe to an interactive table.\"\n",
              "              style=\"display:none;\">\n",
              "        \n",
              "  <svg xmlns=\"http://www.w3.org/2000/svg\" height=\"24px\"viewBox=\"0 0 24 24\"\n",
              "       width=\"24px\">\n",
              "    <path d=\"M0 0h24v24H0V0z\" fill=\"none\"/>\n",
              "    <path d=\"M18.56 5.44l.94 2.06.94-2.06 2.06-.94-2.06-.94-.94-2.06-.94 2.06-2.06.94zm-11 1L8.5 8.5l.94-2.06 2.06-.94-2.06-.94L8.5 2.5l-.94 2.06-2.06.94zm10 10l.94 2.06.94-2.06 2.06-.94-2.06-.94-.94-2.06-.94 2.06-2.06.94z\"/><path d=\"M17.41 7.96l-1.37-1.37c-.4-.4-.92-.59-1.43-.59-.52 0-1.04.2-1.43.59L10.3 9.45l-7.72 7.72c-.78.78-.78 2.05 0 2.83L4 21.41c.39.39.9.59 1.41.59.51 0 1.02-.2 1.41-.59l7.78-7.78 2.81-2.81c.8-.78.8-2.07 0-2.86zM5.41 20L4 18.59l7.72-7.72 1.47 1.35L5.41 20z\"/>\n",
              "  </svg>\n",
              "      </button>\n",
              "      \n",
              "  <style>\n",
              "    .colab-df-container {\n",
              "      display:flex;\n",
              "      flex-wrap:wrap;\n",
              "      gap: 12px;\n",
              "    }\n",
              "\n",
              "    .colab-df-convert {\n",
              "      background-color: #E8F0FE;\n",
              "      border: none;\n",
              "      border-radius: 50%;\n",
              "      cursor: pointer;\n",
              "      display: none;\n",
              "      fill: #1967D2;\n",
              "      height: 32px;\n",
              "      padding: 0 0 0 0;\n",
              "      width: 32px;\n",
              "    }\n",
              "\n",
              "    .colab-df-convert:hover {\n",
              "      background-color: #E2EBFA;\n",
              "      box-shadow: 0px 1px 2px rgba(60, 64, 67, 0.3), 0px 1px 3px 1px rgba(60, 64, 67, 0.15);\n",
              "      fill: #174EA6;\n",
              "    }\n",
              "\n",
              "    [theme=dark] .colab-df-convert {\n",
              "      background-color: #3B4455;\n",
              "      fill: #D2E3FC;\n",
              "    }\n",
              "\n",
              "    [theme=dark] .colab-df-convert:hover {\n",
              "      background-color: #434B5C;\n",
              "      box-shadow: 0px 1px 3px 1px rgba(0, 0, 0, 0.15);\n",
              "      filter: drop-shadow(0px 1px 2px rgba(0, 0, 0, 0.3));\n",
              "      fill: #FFFFFF;\n",
              "    }\n",
              "  </style>\n",
              "\n",
              "      <script>\n",
              "        const buttonEl =\n",
              "          document.querySelector('#df-2fbbd6ec-4d58-443f-9f44-044b3237792a button.colab-df-convert');\n",
              "        buttonEl.style.display =\n",
              "          google.colab.kernel.accessAllowed ? 'block' : 'none';\n",
              "\n",
              "        async function convertToInteractive(key) {\n",
              "          const element = document.querySelector('#df-2fbbd6ec-4d58-443f-9f44-044b3237792a');\n",
              "          const dataTable =\n",
              "            await google.colab.kernel.invokeFunction('convertToInteractive',\n",
              "                                                     [key], {});\n",
              "          if (!dataTable) return;\n",
              "\n",
              "          const docLinkHtml = 'Like what you see? Visit the ' +\n",
              "            '<a target=\"_blank\" href=https://colab.research.google.com/notebooks/data_table.ipynb>data table notebook</a>'\n",
              "            + ' to learn more about interactive tables.';\n",
              "          element.innerHTML = '';\n",
              "          dataTable['output_type'] = 'display_data';\n",
              "          await google.colab.output.renderOutput(dataTable, element);\n",
              "          const docLink = document.createElement('div');\n",
              "          docLink.innerHTML = docLinkHtml;\n",
              "          element.appendChild(docLink);\n",
              "        }\n",
              "      </script>\n",
              "    </div>\n",
              "  </div>\n",
              "  "
            ]
          },
          "metadata": {},
          "execution_count": 11
        }
      ]
    },
    {
      "cell_type": "code",
      "metadata": {
        "id": "M28tUOwREhEe"
      },
      "source": [
        "X = housing_num.drop('median_house_value', axis=1)\n",
        "y = housing_num[\"median_house_value\"].copy()"
      ],
      "execution_count": 12,
      "outputs": []
    },
    {
      "cell_type": "markdown",
      "metadata": {
        "id": "2ne-018U2upI"
      },
      "source": [
        "## 2) テストデータの欠損値を訓練データの中央値で埋める\n",
        "* 本当は、テストデータ全てについて予測をさせて評価すべきなので、欠損箇所を埋める。"
      ]
    },
    {
      "cell_type": "code",
      "metadata": {
        "id": "HPLyJcSqEu6i"
      },
      "source": [
        "X_train, X_test, y_train, y_test = train_test_split(X, y, test_size=0.2, random_state=42)\n",
        "X_train, X_valid, y_train, y_valid = train_test_split(X_train, y_train, test_size=0.25, random_state=42)"
      ],
      "execution_count": 13,
      "outputs": []
    },
    {
      "cell_type": "code",
      "metadata": {
        "colab": {
          "base_uri": "https://localhost:8080/"
        },
        "id": "prhfKKrsB4cj",
        "outputId": "f9218e90-9160-41f5-ba48-2e42131f8401"
      },
      "source": [
        "print(X_train.shape, X_valid.shape, X_test.shape)"
      ],
      "execution_count": 14,
      "outputs": [
        {
          "output_type": "stream",
          "name": "stdout",
          "text": [
            "(12384, 8) (4128, 8) (4128, 8)\n"
          ]
        }
      ]
    },
    {
      "cell_type": "code",
      "source": [
        "X_train.info()"
      ],
      "metadata": {
        "colab": {
          "base_uri": "https://localhost:8080/"
        },
        "id": "cKAXMFeBKSJo",
        "outputId": "caa6c063-b120-437d-f0e4-a14c06e050c7"
      },
      "execution_count": 15,
      "outputs": [
        {
          "output_type": "stream",
          "name": "stdout",
          "text": [
            "<class 'pandas.core.frame.DataFrame'>\n",
            "Int64Index: 12384 entries, 17244 to 8472\n",
            "Data columns (total 8 columns):\n",
            " #   Column              Non-Null Count  Dtype  \n",
            "---  ------              --------------  -----  \n",
            " 0   longitude           12384 non-null  float64\n",
            " 1   latitude            12384 non-null  float64\n",
            " 2   housing_median_age  12384 non-null  float64\n",
            " 3   total_rooms         12384 non-null  float64\n",
            " 4   total_bedrooms      12384 non-null  float64\n",
            " 5   population          12384 non-null  float64\n",
            " 6   households          12384 non-null  float64\n",
            " 7   median_income       12384 non-null  float64\n",
            "dtypes: float64(8)\n",
            "memory usage: 870.8 KB\n"
          ]
        }
      ]
    },
    {
      "cell_type": "code",
      "source": [
        "X_valid.info()"
      ],
      "metadata": {
        "colab": {
          "base_uri": "https://localhost:8080/"
        },
        "id": "ADk9xu2NKTxT",
        "outputId": "31fbd6ad-ab33-4dfa-e3bd-61d94122eac7"
      },
      "execution_count": 16,
      "outputs": [
        {
          "output_type": "stream",
          "name": "stdout",
          "text": [
            "<class 'pandas.core.frame.DataFrame'>\n",
            "Int64Index: 4128 entries, 2071 to 788\n",
            "Data columns (total 8 columns):\n",
            " #   Column              Non-Null Count  Dtype  \n",
            "---  ------              --------------  -----  \n",
            " 0   longitude           4128 non-null   float64\n",
            " 1   latitude            4128 non-null   float64\n",
            " 2   housing_median_age  4128 non-null   float64\n",
            " 3   total_rooms         4128 non-null   float64\n",
            " 4   total_bedrooms      4128 non-null   float64\n",
            " 5   population          4128 non-null   float64\n",
            " 6   households          4128 non-null   float64\n",
            " 7   median_income       4128 non-null   float64\n",
            "dtypes: float64(8)\n",
            "memory usage: 290.2 KB\n"
          ]
        }
      ]
    },
    {
      "cell_type": "code",
      "source": [
        "X_test.info()"
      ],
      "metadata": {
        "colab": {
          "base_uri": "https://localhost:8080/"
        },
        "id": "ICNHaDIfKIoV",
        "outputId": "54a5a846-b6fd-4fc3-e016-f78cbe3157d5"
      },
      "execution_count": 17,
      "outputs": [
        {
          "output_type": "stream",
          "name": "stdout",
          "text": [
            "<class 'pandas.core.frame.DataFrame'>\n",
            "Int64Index: 4128 entries, 20046 to 3665\n",
            "Data columns (total 8 columns):\n",
            " #   Column              Non-Null Count  Dtype  \n",
            "---  ------              --------------  -----  \n",
            " 0   longitude           4128 non-null   float64\n",
            " 1   latitude            4128 non-null   float64\n",
            " 2   housing_median_age  4128 non-null   float64\n",
            " 3   total_rooms         4128 non-null   float64\n",
            " 4   total_bedrooms      3921 non-null   float64\n",
            " 5   population          4128 non-null   float64\n",
            " 6   households          4128 non-null   float64\n",
            " 7   median_income       4128 non-null   float64\n",
            "dtypes: float64(8)\n",
            "memory usage: 290.2 KB\n"
          ]
        }
      ]
    },
    {
      "cell_type": "markdown",
      "source": [
        "* テストセットで欠測値を含むインスタンスを単に脱落させたものも作っておく。"
      ],
      "metadata": {
        "id": "drka1ELoVtdD"
      }
    },
    {
      "cell_type": "code",
      "source": [
        "na_index = X_test.isna().any(axis=1)\n",
        "X_test_original = X_test[~ na_index]\n",
        "y_test_original = y_test[~ na_index]"
      ],
      "metadata": {
        "id": "geDCvZHSVpdJ"
      },
      "execution_count": 18,
      "outputs": []
    },
    {
      "cell_type": "markdown",
      "metadata": {
        "id": "CnaQ5od7BUXk"
      },
      "source": [
        "* 欠測箇所を中央値で埋める\n",
        " * テストデータにだけ、total_bedroomsの値が欠けているエントリがある\n",
        " * ここでは訓練データの中央値で埋めることにする。\n",
        " * 訓練データだけから得られる情報を使って埋めているので、問題はない。"
      ]
    },
    {
      "cell_type": "code",
      "metadata": {
        "id": "MOB8AMN_ctbK"
      },
      "source": [
        "median_total_bedrooms = np.median(X_train.total_bedrooms[~ X_train.total_bedrooms.isna()])\n",
        "X_test.total_bedrooms = X_test.total_bedrooms.replace(np.nan, median_total_bedrooms)"
      ],
      "execution_count": 19,
      "outputs": []
    },
    {
      "cell_type": "markdown",
      "metadata": {
        "id": "FRgu9Htyer30"
      },
      "source": [
        "* 欠測箇所がなくなっていることを確認する。"
      ]
    },
    {
      "cell_type": "code",
      "metadata": {
        "colab": {
          "base_uri": "https://localhost:8080/"
        },
        "id": "Fw214jfOeb0q",
        "outputId": "14709f6a-915f-42ec-b45b-425a9f6674e1"
      },
      "source": [
        "X_test.info()"
      ],
      "execution_count": 20,
      "outputs": [
        {
          "output_type": "stream",
          "name": "stdout",
          "text": [
            "<class 'pandas.core.frame.DataFrame'>\n",
            "Int64Index: 4128 entries, 20046 to 3665\n",
            "Data columns (total 8 columns):\n",
            " #   Column              Non-Null Count  Dtype  \n",
            "---  ------              --------------  -----  \n",
            " 0   longitude           4128 non-null   float64\n",
            " 1   latitude            4128 non-null   float64\n",
            " 2   housing_median_age  4128 non-null   float64\n",
            " 3   total_rooms         4128 non-null   float64\n",
            " 4   total_bedrooms      4128 non-null   float64\n",
            " 5   population          4128 non-null   float64\n",
            " 6   households          4128 non-null   float64\n",
            " 7   median_income       4128 non-null   float64\n",
            "dtypes: float64(8)\n",
            "memory usage: 290.2 KB\n"
          ]
        }
      ]
    },
    {
      "cell_type": "markdown",
      "source": [
        "## 3) 目的変数の対数をとる\n",
        "* RMSEで評価するときに、np.exp()を使って元の値に戻す。"
      ],
      "metadata": {
        "id": "hgt4JggeTwj7"
      }
    },
    {
      "cell_type": "code",
      "source": [
        "y_train = np.log(y_train)\n",
        "y_valid = np.log(y_valid)\n",
        "y_test = np.log(y_test)"
      ],
      "metadata": {
        "id": "k19ebknTRoPo"
      },
      "execution_count": 21,
      "outputs": []
    },
    {
      "cell_type": "markdown",
      "metadata": {
        "id": "txxiPG729s-f"
      },
      "source": [
        "## 4) 交差検証をしたいので訓練データと検証データを合併して一つにする"
      ]
    },
    {
      "cell_type": "code",
      "metadata": {
        "id": "F6aBT-Yk7Jl2"
      },
      "source": [
        "X_train = pd.concat([X_train, X_valid])"
      ],
      "execution_count": 22,
      "outputs": []
    },
    {
      "cell_type": "code",
      "metadata": {
        "colab": {
          "base_uri": "https://localhost:8080/"
        },
        "id": "BBYlgGpv7bXb",
        "outputId": "b75ccd55-2e01-4cf3-df07-1f90cb6832ba"
      },
      "source": [
        "print(X_train.shape)"
      ],
      "execution_count": 23,
      "outputs": [
        {
          "output_type": "stream",
          "name": "stdout",
          "text": [
            "(16512, 8)\n"
          ]
        }
      ]
    },
    {
      "cell_type": "code",
      "metadata": {
        "id": "l09_Ey_a7TZr"
      },
      "source": [
        "y_train = pd.concat([y_train, y_valid])"
      ],
      "execution_count": 24,
      "outputs": []
    },
    {
      "cell_type": "code",
      "metadata": {
        "colab": {
          "base_uri": "https://localhost:8080/"
        },
        "id": "kAX9vt0F7cr0",
        "outputId": "a6eabdfe-c051-4ecb-c071-f54fec6a0446"
      },
      "source": [
        "print(y_train.shape)"
      ],
      "execution_count": 25,
      "outputs": [
        {
          "output_type": "stream",
          "name": "stdout",
          "text": [
            "(16512,)\n"
          ]
        }
      ]
    },
    {
      "cell_type": "markdown",
      "metadata": {
        "id": "t5rvTMsE9zWV"
      },
      "source": [
        "* 交差検証は10-foldで行う。"
      ]
    },
    {
      "cell_type": "code",
      "metadata": {
        "id": "9UXamQ357GnJ"
      },
      "source": [
        "kf = KFold(n_splits=10, shuffle=True, random_state=123)"
      ],
      "execution_count": 26,
      "outputs": []
    },
    {
      "cell_type": "markdown",
      "metadata": {
        "id": "RRdwUiig2zzK"
      },
      "source": [
        "## 5) 特徴量を加工する\n",
        "* `sklearn.preprocessing.PolynomialFeatures`を使う"
      ]
    },
    {
      "cell_type": "markdown",
      "metadata": {
        "id": "GVuDIUtH26p8"
      },
      "source": [
        "### 5-1) 比較のためにまず元データのまま交差検証を行なう"
      ]
    },
    {
      "cell_type": "markdown",
      "source": [
        "* 正則化なしの線形回帰"
      ],
      "metadata": {
        "id": "poXgu6w4KmxH"
      }
    },
    {
      "cell_type": "code",
      "metadata": {
        "id": "fPy58KHFXJR-",
        "colab": {
          "base_uri": "https://localhost:8080/"
        },
        "outputId": "63e065f7-e6c6-4c38-9bf7-46e83c37ac2b"
      },
      "source": [
        "reg = LinearRegression()\n",
        "rmses = []\n",
        "print(f'\\tRMSE:', end=' ')\n",
        "for train_index, valid_index in kf.split(X_train):\n",
        "  reg.fit(X_train.values[train_index], y_train.values[train_index])\n",
        "  y_valid_pred = reg.predict(X_train.values[valid_index])\n",
        "  y_valid_pred[y_valid_pred > y_train.values[train_index].max()] = y_train.values[train_index].max()\n",
        "  rmse = mean_squared_error(np.exp(y_train.values[valid_index]), np.exp(y_valid_pred), squared=False)\n",
        "  rmses.append(rmse)\n",
        "  print(f'{rmse:.3f}', end=', ')\n",
        "print()\n",
        "rmses = np.array(rmses)\n",
        "print(f'mean RMSE: {rmses.mean():.1f} ({rmses.std():.1f})')"
      ],
      "execution_count": 27,
      "outputs": [
        {
          "output_type": "stream",
          "name": "stdout",
          "text": [
            "\tRMSE: 65608.163, 66978.500, 69715.565, 68205.479, 67808.092, 65811.269, 70637.762, 68987.730, 68590.921, 72062.025, \n",
            "mean RMSE: 68440.6 (1934.4)\n"
          ]
        }
      ]
    },
    {
      "cell_type": "markdown",
      "source": [
        "* Ridge回帰"
      ],
      "metadata": {
        "id": "rfiP91oRJkGE"
      }
    },
    {
      "cell_type": "code",
      "source": [
        "for alpha in 10.0 ** np.arange(-3, 4):\n",
        "  reg = Ridge(alpha=alpha, random_state=42)\n",
        "  rmses = []\n",
        "  print(f'\\tRMSE:', end=' ')\n",
        "  for train_index, valid_index in kf.split(X_train):\n",
        "    reg.fit(X_train.values[train_index], y_train.values[train_index])\n",
        "    y_valid_pred = reg.predict(X_train.values[valid_index])\n",
        "    y_valid_pred[y_valid_pred > y_train.values[train_index].max()] = y_train.values[train_index].max()\n",
        "    rmse = mean_squared_error(np.exp(y_train.values[valid_index]), np.exp(y_valid_pred), squared=False)\n",
        "    rmses.append(rmse)\n",
        "    print(f'{rmse:.3f}', end=', ')\n",
        "  print()\n",
        "  rmses = np.array(rmses)\n",
        "  print(f'alpha={alpha:.1e} | mean RMSE: {rmses.mean():.1f} ({rmses.std():.1f})')"
      ],
      "metadata": {
        "colab": {
          "base_uri": "https://localhost:8080/"
        },
        "id": "L3s5AT4NJjVG",
        "outputId": "d1ab45dc-bf9f-4d9c-8475-a976a7ce1e66"
      },
      "execution_count": 28,
      "outputs": [
        {
          "output_type": "stream",
          "name": "stdout",
          "text": [
            "\tRMSE: 65608.164, 66978.501, 69715.566, 68205.480, 67808.093, 65811.270, 70637.763, 68987.730, 68590.922, 72062.026, \n",
            "alpha=1.0e-03 | mean RMSE: 68440.6 (1934.4)\n",
            "\tRMSE: 65608.166, 66978.510, 69715.570, 68205.489, 67808.098, 65811.278, 70637.770, 68987.732, 68590.926, 72062.036, \n",
            "alpha=1.0e-02 | mean RMSE: 68440.6 (1934.4)\n",
            "\tRMSE: 65608.189, 66978.599, 69715.615, 68205.579, 67808.144, 65811.358, 70637.838, 68987.746, 68590.974, 72062.134, \n",
            "alpha=1.0e-01 | mean RMSE: 68440.6 (1934.4)\n",
            "\tRMSE: 65608.422, 66979.484, 69716.066, 68206.484, 67808.611, 65812.160, 70638.523, 68987.890, 68591.446, 72063.121, \n",
            "alpha=1.0e+00 | mean RMSE: 68441.2 (1934.5)\n",
            "\tRMSE: 65610.799, 66988.364, 69720.624, 68215.566, 67813.329, 65820.214, 70645.408, 68989.388, 68596.210, 72073.014, \n",
            "alpha=1.0e+01 | mean RMSE: 68447.3 (1935.1)\n",
            "\tRMSE: 65639.436, 67079.334, 69770.863, 68309.136, 67864.750, 65903.738, 70717.067, 69010.118, 68647.349, 72173.951, \n",
            "alpha=1.0e+02 | mean RMSE: 68511.6 (1941.4)\n",
            "\tRMSE: 66217.180, 68085.433, 70532.453, 69372.023, 68618.652, 66878.864, 71602.044, 69558.869, 69359.788, 73261.572, \n",
            "alpha=1.0e+03 | mean RMSE: 69348.7 (1996.7)\n"
          ]
        }
      ]
    },
    {
      "cell_type": "markdown",
      "source": [
        "* Lasso"
      ],
      "metadata": {
        "id": "uTWFS1AhKbSC"
      }
    },
    {
      "cell_type": "code",
      "source": [
        "for alpha in 10.0 ** np.arange(-3, 4):\n",
        "  reg = Lasso(alpha=alpha, random_state=42)\n",
        "  rmses = []\n",
        "  print(f'\\tRMSE:', end=' ')\n",
        "  for train_index, valid_index in kf.split(X_train):\n",
        "    reg.fit(X_train.values[train_index], y_train.values[train_index])\n",
        "    y_valid_pred = reg.predict(X_train.values[valid_index])\n",
        "    y_valid_pred[y_valid_pred > y_train.values[train_index].max()] = y_train.values[train_index].max()\n",
        "    rmse = mean_squared_error(np.exp(y_train.values[valid_index]), np.exp(y_valid_pred), squared=False)\n",
        "    rmses.append(rmse)\n",
        "    print(f'{rmse:.3f}', end=', ')\n",
        "  print()\n",
        "  rmses = np.array(rmses)\n",
        "  print(f'alpha={alpha:.1e} | mean RMSE: {rmses.mean():.1f} ({rmses.std():.1f})')"
      ],
      "metadata": {
        "colab": {
          "base_uri": "https://localhost:8080/"
        },
        "id": "1YFyvYImKa02",
        "outputId": "2cc9a7fe-892a-4ad8-c229-1c72b30765e7"
      },
      "execution_count": 29,
      "outputs": [
        {
          "output_type": "stream",
          "name": "stdout",
          "text": [
            "\tRMSE: 65631.688, 67038.294, 69749.911, 68266.233, 67847.201, 65866.671, 70689.390, 69007.426, 68630.179, 72128.076, \n",
            "alpha=1.0e-03 | mean RMSE: 68485.5 (1938.3)\n",
            "\tRMSE: 65984.348, 67692.472, 70214.915, 68947.756, 68331.510, 66491.140, 71279.027, 69336.603, 69103.749, 72837.479, \n",
            "alpha=1.0e-02 | mean RMSE: 69021.9 (1976.4)\n",
            "\tRMSE: 75413.574, 78164.504, 80543.191, 80162.791, 78271.640, 76982.541, 81690.593, 78894.276, 78800.813, 83208.019, \n",
            "alpha=1.0e-01 | mean RMSE: 79213.2 (2154.9)\n",
            "\tRMSE: 108716.987, 109399.156, 111990.575, 109889.650, 109304.745, 109580.356, 114760.454, 111404.495, 113389.669, 112926.999, \n",
            "alpha=1.0e+00 | mean RMSE: 111136.3 (1960.1)\n",
            "\tRMSE: 112440.004, 112442.754, 115580.547, 113506.066, 113028.271, 113399.826, 118308.972, 114867.657, 116259.668, 116376.554, \n",
            "alpha=1.0e+01 | mean RMSE: 114621.0 (1874.1)\n",
            "\tRMSE: 117163.152, 116156.651, 119897.336, 117538.872, 117174.950, 117766.269, 121569.332, 118084.545, 120584.168, 120216.743, \n",
            "alpha=1.0e+02 | mean RMSE: 118615.2 (1708.8)\n",
            "\tRMSE: 118129.692, 117029.965, 120651.582, 118474.958, 118086.381, 118395.189, 122211.901, 118638.001, 121252.012, 120866.908, \n",
            "alpha=1.0e+03 | mean RMSE: 119373.7 (1626.4)\n"
          ]
        }
      ]
    },
    {
      "cell_type": "markdown",
      "metadata": {
        "id": "yAO-C7gC3Bae"
      },
      "source": [
        "### 5-2) 2次の項を追加する"
      ]
    },
    {
      "cell_type": "markdown",
      "source": [
        "* 正則化なしの線形回帰"
      ],
      "metadata": {
        "id": "V7LE_BK9OLeZ"
      }
    },
    {
      "cell_type": "code",
      "metadata": {
        "colab": {
          "base_uri": "https://localhost:8080/"
        },
        "id": "ytpOCLjt0QTm",
        "outputId": "aabc9210-9f28-4f44-a6c3-635766ae3eed"
      },
      "source": [
        "poly = PolynomialFeatures(2)\n",
        "scaler = MinMaxScaler()\n",
        "\n",
        "reg = LinearRegression()\n",
        "rmses = []\n",
        "print(f'\\tRMSE:', end=' ')\n",
        "for train_index, valid_index in kf.split(X_train):\n",
        "  X_train_transformed = poly.fit_transform(scaler.fit_transform(X_train.values[train_index]))\n",
        "  X_valid_transformed = poly.transform(scaler.transform(X_train.values[valid_index]))\n",
        "  X_train_transformed = poly.fit_transform(X_train.values[train_index])\n",
        "  X_valid_transformed = poly.transform(X_train.values[valid_index])\n",
        "  reg.fit(X_train_transformed, y_train.values[train_index])\n",
        "  y_valid_pred = reg.predict(X_valid_transformed)\n",
        "  y_valid_pred[y_valid_pred > y_train.values[train_index].max()] = y_train.values[train_index].max()\n",
        "  rmse = mean_squared_error(np.exp(y_train.values[valid_index]), np.exp(y_valid_pred), squared=False)\n",
        "  rmses.append(rmse)\n",
        "  print(f'{rmse:.1f}', end=', ')\n",
        "print()\n",
        "rmses = np.array(rmses)\n",
        "print(f'mean RMSE: {rmses.mean():.1f} ({rmses.std():.1f})')"
      ],
      "execution_count": 30,
      "outputs": [
        {
          "output_type": "stream",
          "name": "stdout",
          "text": [
            "\tRMSE: 61125.6, 61104.0, 64637.0, 62001.0, 61899.9, 60897.4, 63691.5, 64874.6, 62961.3, 67686.2, \n",
            "mean RMSE: 63087.9 (2056.5)\n"
          ]
        }
      ]
    },
    {
      "cell_type": "code",
      "source": [
        "poly = PolynomialFeatures(2)\n",
        "scaler = StandardScaler()\n",
        "\n",
        "reg = LinearRegression()\n",
        "rmses = []\n",
        "print(f'\\tRMSE:', end=' ')\n",
        "for train_index, valid_index in kf.split(X_train):\n",
        "  X_train_transformed = poly.fit_transform(scaler.fit_transform(X_train.values[train_index]))\n",
        "  X_valid_transformed = poly.transform(scaler.transform(X_train.values[valid_index]))\n",
        "  X_train_transformed = poly.fit_transform(X_train.values[train_index])\n",
        "  X_valid_transformed = poly.transform(X_train.values[valid_index])\n",
        "  reg.fit(X_train_transformed, y_train.values[train_index])\n",
        "  y_valid_pred = reg.predict(X_valid_transformed)\n",
        "  y_valid_pred[y_valid_pred > y_train.values[train_index].max()] = y_train.values[train_index].max()\n",
        "  rmse = mean_squared_error(np.exp(y_train.values[valid_index]), np.exp(y_valid_pred), squared=False)\n",
        "  rmses.append(rmse)\n",
        "  print(f'{rmse:.1f}', end=', ')\n",
        "print()\n",
        "rmses = np.array(rmses)\n",
        "print(f'mean RMSE: {rmses.mean():.1f} ({rmses.std():.1f})')"
      ],
      "metadata": {
        "colab": {
          "base_uri": "https://localhost:8080/"
        },
        "id": "tEgTGWiDOcU9",
        "outputId": "716dddfd-3b38-4d19-a846-d2255cd3ae5e"
      },
      "execution_count": 31,
      "outputs": [
        {
          "output_type": "stream",
          "name": "stdout",
          "text": [
            "\tRMSE: 61125.6, 61104.0, 64637.0, 62001.0, 61899.9, 60897.4, 63691.5, 64874.6, 62961.3, 67686.2, \n",
            "mean RMSE: 63087.9 (2056.5)\n"
          ]
        }
      ]
    },
    {
      "cell_type": "markdown",
      "source": [
        "* Ridge回帰"
      ],
      "metadata": {
        "id": "R3RUNuTqOKI-"
      }
    },
    {
      "cell_type": "code",
      "source": [
        "poly = PolynomialFeatures(2)\n",
        "scaler = MinMaxScaler()\n",
        "\n",
        "for alpha in 10.0 ** np.arange(-5, 3):\n",
        "  reg = Ridge(alpha=alpha, random_state=42)\n",
        "  rmses = []\n",
        "  print('\\tRMSE:', end=' ')\n",
        "  for train_index, valid_index in kf.split(X_train):\n",
        "    X_train_transformed = poly.fit_transform(scaler.fit_transform(X_train.values[train_index]))\n",
        "    X_valid_transformed = poly.transform(scaler.transform(X_train.values[valid_index]))\n",
        "    reg.fit(X_train_transformed, y_train.values[train_index])\n",
        "    y_valid_pred = reg.predict(X_valid_transformed)\n",
        "    y_valid_pred[y_valid_pred > y_train.values[train_index].max()] = y_train.values[train_index].max()\n",
        "    rmse = mean_squared_error(np.exp(y_train.values[valid_index]), np.exp(y_valid_pred), squared=False)\n",
        "    rmses.append(rmse)\n",
        "    print(f'{rmse:.3f}', end=', ')\n",
        "  print()\n",
        "  rmses = np.array(rmses)\n",
        "  print(f'alpha={alpha:.1e} | mean RMSE: {rmses.mean():.1f} ({rmses.std():.1f})')"
      ],
      "metadata": {
        "colab": {
          "base_uri": "https://localhost:8080/"
        },
        "id": "4zOsdwrDKw0x",
        "outputId": "63f0502c-06be-40fa-ffb8-77610a8fbcba"
      },
      "execution_count": 32,
      "outputs": [
        {
          "output_type": "stream",
          "name": "stdout",
          "text": [
            "\tRMSE: 61123.179, 61103.621, 64636.080, 62001.003, 61895.664, 60898.035, 63688.701, 64874.509, 62961.210, 67683.144, \n",
            "alpha=1.0e-05 | mean RMSE: 63086.5 (2056.2)\n",
            "\tRMSE: 61106.397, 61095.913, 64630.337, 62000.309, 61879.934, 60903.543, 63667.922, 64871.920, 62961.508, 67659.564, \n",
            "alpha=1.0e-04 | mean RMSE: 63077.7 (2052.3)\n",
            "\tRMSE: 61161.037, 61041.098, 64645.646, 62006.311, 61942.652, 60999.582, 63601.209, 64862.491, 63005.680, 67591.003, \n",
            "alpha=1.0e-03 | mean RMSE: 63085.7 (2021.6)\n",
            "\tRMSE: 61343.325, 61109.118, 64913.394, 62147.295, 62223.085, 61448.934, 63833.555, 64939.205, 63229.557, 67774.665, \n",
            "alpha=1.0e-02 | mean RMSE: 63296.2 (2003.6)\n",
            "\tRMSE: 61510.220, 61414.067, 65225.228, 62614.221, 62540.795, 61713.701, 64256.179, 64973.618, 63434.981, 68159.643, \n",
            "alpha=1.0e-01 | mean RMSE: 63584.3 (2014.2)\n",
            "\tRMSE: 62418.326, 63023.018, 66148.650, 64371.589, 64194.165, 62260.602, 66351.360, 66124.407, 64748.228, 69619.107, \n",
            "alpha=1.0e+00 | mean RMSE: 64925.9 (2118.4)\n",
            "\tRMSE: 65959.191, 67205.235, 69611.096, 68274.005, 68582.887, 66345.346, 71164.076, 69783.300, 69473.749, 73375.153, \n",
            "alpha=1.0e+01 | mean RMSE: 68977.4 (2127.1)\n",
            "\tRMSE: 73998.642, 75838.881, 78327.313, 77863.971, 77457.556, 75795.316, 80102.033, 77749.597, 78728.170, 81691.949, \n",
            "alpha=1.0e+02 | mean RMSE: 77755.3 (2097.7)\n"
          ]
        }
      ]
    },
    {
      "cell_type": "code",
      "source": [
        "poly = PolynomialFeatures(2)\n",
        "scaler = StandardScaler()\n",
        "\n",
        "for alpha in 10.0 ** np.arange(-5, 3):\n",
        "  reg = Ridge(alpha=alpha, random_state=42)\n",
        "  rmses = []\n",
        "  print('\\tRMSE:', end=' ')\n",
        "  for train_index, valid_index in kf.split(X_train):\n",
        "    X_train_transformed = poly.fit_transform(scaler.fit_transform(X_train.values[train_index]))\n",
        "    X_valid_transformed = poly.transform(scaler.transform(X_train.values[valid_index]))\n",
        "    reg.fit(X_train_transformed, y_train.values[train_index])\n",
        "    y_valid_pred = reg.predict(X_valid_transformed)\n",
        "    y_valid_pred[y_valid_pred > y_train.values[train_index].max()] = y_train.values[train_index].max()\n",
        "    rmse = mean_squared_error(np.exp(y_train.values[valid_index]), np.exp(y_valid_pred), squared=False)\n",
        "    rmses.append(rmse)\n",
        "    print(f'{rmse:.3f}', end=', ')\n",
        "  print()\n",
        "  rmses = np.array(rmses)\n",
        "  print(f'alpha={alpha:.1e} | mean RMSE: {rmses.mean():.1f} ({rmses.std():.1f})')"
      ],
      "metadata": {
        "colab": {
          "base_uri": "https://localhost:8080/"
        },
        "id": "k1_UWApQN_Pf",
        "outputId": "dbaae26f-5fdd-47e8-e1c1-8073dc853bc6"
      },
      "execution_count": 33,
      "outputs": [
        {
          "output_type": "stream",
          "name": "stdout",
          "text": [
            "\tRMSE: 61125.617, 61103.974, 64637.025, 62001.048, 61899.874, 60897.374, 63691.539, 64874.564, 62961.342, 67686.151, \n",
            "alpha=1.0e-05 | mean RMSE: 63087.9 (2056.5)\n",
            "\tRMSE: 61125.616, 61103.973, 64637.024, 62001.047, 61899.874, 60897.373, 63691.538, 64874.563, 62961.341, 67686.153, \n",
            "alpha=1.0e-04 | mean RMSE: 63087.9 (2056.5)\n",
            "\tRMSE: 61125.602, 61103.970, 64637.014, 62001.040, 61899.869, 60897.368, 63691.534, 64874.550, 62961.336, 67686.165, \n",
            "alpha=1.0e-03 | mean RMSE: 63087.8 (2056.6)\n",
            "\tRMSE: 61125.461, 61103.941, 64636.915, 62000.972, 61899.825, 60897.320, 63691.490, 64874.419, 62961.286, 67686.291, \n",
            "alpha=1.0e-02 | mean RMSE: 63087.8 (2056.6)\n",
            "\tRMSE: 61124.061, 61103.651, 64635.923, 62000.294, 61899.391, 60896.838, 63691.061, 64873.119, 62960.787, 67687.543, \n",
            "alpha=1.0e-01 | mean RMSE: 63087.3 (2056.9)\n",
            "\tRMSE: 61111.116, 61101.005, 64626.569, 61994.413, 61896.093, 60892.521, 63687.759, 64860.642, 62956.172, 67699.918, \n",
            "alpha=1.0e+00 | mean RMSE: 63082.6 (2060.3)\n",
            "\tRMSE: 61027.953, 61106.258, 64567.145, 61985.766, 61914.932, 60882.575, 63710.331, 64775.142, 62935.378, 67811.016, \n",
            "alpha=1.0e+01 | mean RMSE: 63071.6 (2082.7)\n",
            "\tRMSE: 61206.832, 61840.601, 64827.755, 62731.605, 62670.391, 61565.661, 64702.691, 65061.157, 63447.937, 68665.737, \n",
            "alpha=1.0e+02 | mean RMSE: 63672.0 (2123.0)\n"
          ]
        }
      ]
    },
    {
      "cell_type": "markdown",
      "source": [
        "* Lasso"
      ],
      "metadata": {
        "id": "5HVeSkslOgrA"
      }
    },
    {
      "cell_type": "code",
      "source": [
        "poly = PolynomialFeatures(2)\n",
        "scaler = MinMaxScaler()\n",
        "\n",
        "for alpha in 10.0 ** np.arange(-5, 3):\n",
        "  reg = Lasso(alpha=alpha, random_state=42)\n",
        "  rmses = []\n",
        "  print('\\tRMSE:', end=' ')\n",
        "  for train_index, valid_index in kf.split(X_train):\n",
        "    X_train_transformed = poly.fit_transform(scaler.fit_transform(X_train.values[train_index]))\n",
        "    X_valid_transformed = poly.transform(scaler.transform(X_train.values[valid_index]))\n",
        "    reg.fit(X_train_transformed, y_train.values[train_index])\n",
        "    y_valid_pred = reg.predict(X_valid_transformed)\n",
        "    y_valid_pred[y_valid_pred > y_train.values[train_index].max()] = y_train.values[train_index].max()\n",
        "    rmse = mean_squared_error(np.exp(y_train.values[valid_index]), np.exp(y_valid_pred), squared=False)\n",
        "    rmses.append(rmse)\n",
        "    print(f'{rmse:.3f}', end=', ')\n",
        "  print()\n",
        "  rmses = np.array(rmses)\n",
        "  print(f'alpha={alpha:.1e} | mean RMSE: {rmses.mean():.1f} ({rmses.std():.1f})')"
      ],
      "metadata": {
        "colab": {
          "base_uri": "https://localhost:8080/"
        },
        "id": "EW4V34HWOgQS",
        "outputId": "69a43e3d-04f7-4f7c-e137-1e02320cf8a2"
      },
      "execution_count": 34,
      "outputs": [
        {
          "output_type": "stream",
          "name": "stdout",
          "text": [
            "\tRMSE: "
          ]
        },
        {
          "output_type": "stream",
          "name": "stderr",
          "text": [
            "/usr/local/lib/python3.10/dist-packages/sklearn/linear_model/_coordinate_descent.py:631: ConvergenceWarning: Objective did not converge. You might want to increase the number of iterations, check the scale of the features or consider increasing regularisation. Duality gap: 5.649e+02, tolerance: 4.817e-01\n",
            "  model = cd_fast.enet_coordinate_descent(\n"
          ]
        },
        {
          "output_type": "stream",
          "name": "stdout",
          "text": [
            "61351.024, "
          ]
        },
        {
          "output_type": "stream",
          "name": "stderr",
          "text": [
            "/usr/local/lib/python3.10/dist-packages/sklearn/linear_model/_coordinate_descent.py:631: ConvergenceWarning: Objective did not converge. You might want to increase the number of iterations, check the scale of the features or consider increasing regularisation. Duality gap: 5.606e+02, tolerance: 4.822e-01\n",
            "  model = cd_fast.enet_coordinate_descent(\n"
          ]
        },
        {
          "output_type": "stream",
          "name": "stdout",
          "text": [
            "61243.742, "
          ]
        },
        {
          "output_type": "stream",
          "name": "stderr",
          "text": [
            "/usr/local/lib/python3.10/dist-packages/sklearn/linear_model/_coordinate_descent.py:631: ConvergenceWarning: Objective did not converge. You might want to increase the number of iterations, check the scale of the features or consider increasing regularisation. Duality gap: 5.672e+02, tolerance: 4.812e-01\n",
            "  model = cd_fast.enet_coordinate_descent(\n"
          ]
        },
        {
          "output_type": "stream",
          "name": "stdout",
          "text": [
            "65091.308, "
          ]
        },
        {
          "output_type": "stream",
          "name": "stderr",
          "text": [
            "/usr/local/lib/python3.10/dist-packages/sklearn/linear_model/_coordinate_descent.py:631: ConvergenceWarning: Objective did not converge. You might want to increase the number of iterations, check the scale of the features or consider increasing regularisation. Duality gap: 5.678e+02, tolerance: 4.825e-01\n",
            "  model = cd_fast.enet_coordinate_descent(\n"
          ]
        },
        {
          "output_type": "stream",
          "name": "stdout",
          "text": [
            "62468.424, "
          ]
        },
        {
          "output_type": "stream",
          "name": "stderr",
          "text": [
            "/usr/local/lib/python3.10/dist-packages/sklearn/linear_model/_coordinate_descent.py:631: ConvergenceWarning: Objective did not converge. You might want to increase the number of iterations, check the scale of the features or consider increasing regularisation. Duality gap: 5.816e+02, tolerance: 4.831e-01\n",
            "  model = cd_fast.enet_coordinate_descent(\n"
          ]
        },
        {
          "output_type": "stream",
          "name": "stdout",
          "text": [
            "62229.912, "
          ]
        },
        {
          "output_type": "stream",
          "name": "stderr",
          "text": [
            "/usr/local/lib/python3.10/dist-packages/sklearn/linear_model/_coordinate_descent.py:631: ConvergenceWarning: Objective did not converge. You might want to increase the number of iterations, check the scale of the features or consider increasing regularisation. Duality gap: 5.718e+02, tolerance: 4.807e-01\n",
            "  model = cd_fast.enet_coordinate_descent(\n"
          ]
        },
        {
          "output_type": "stream",
          "name": "stdout",
          "text": [
            "61776.709, "
          ]
        },
        {
          "output_type": "stream",
          "name": "stderr",
          "text": [
            "/usr/local/lib/python3.10/dist-packages/sklearn/linear_model/_coordinate_descent.py:631: ConvergenceWarning: Objective did not converge. You might want to increase the number of iterations, check the scale of the features or consider increasing regularisation. Duality gap: 5.723e+02, tolerance: 4.797e-01\n",
            "  model = cd_fast.enet_coordinate_descent(\n"
          ]
        },
        {
          "output_type": "stream",
          "name": "stdout",
          "text": [
            "63819.362, "
          ]
        },
        {
          "output_type": "stream",
          "name": "stderr",
          "text": [
            "/usr/local/lib/python3.10/dist-packages/sklearn/linear_model/_coordinate_descent.py:631: ConvergenceWarning: Objective did not converge. You might want to increase the number of iterations, check the scale of the features or consider increasing regularisation. Duality gap: 5.766e+02, tolerance: 4.811e-01\n",
            "  model = cd_fast.enet_coordinate_descent(\n"
          ]
        },
        {
          "output_type": "stream",
          "name": "stdout",
          "text": [
            "64615.782, "
          ]
        },
        {
          "output_type": "stream",
          "name": "stderr",
          "text": [
            "/usr/local/lib/python3.10/dist-packages/sklearn/linear_model/_coordinate_descent.py:631: ConvergenceWarning: Objective did not converge. You might want to increase the number of iterations, check the scale of the features or consider increasing regularisation. Duality gap: 5.763e+02, tolerance: 4.771e-01\n",
            "  model = cd_fast.enet_coordinate_descent(\n"
          ]
        },
        {
          "output_type": "stream",
          "name": "stdout",
          "text": [
            "63153.479, "
          ]
        },
        {
          "output_type": "stream",
          "name": "stderr",
          "text": [
            "/usr/local/lib/python3.10/dist-packages/sklearn/linear_model/_coordinate_descent.py:631: ConvergenceWarning: Objective did not converge. You might want to increase the number of iterations, check the scale of the features or consider increasing regularisation. Duality gap: 5.597e+02, tolerance: 4.814e-01\n",
            "  model = cd_fast.enet_coordinate_descent(\n"
          ]
        },
        {
          "output_type": "stream",
          "name": "stdout",
          "text": [
            "68030.463, \n",
            "alpha=1.0e-05 | mean RMSE: 63378.0 (1993.3)\n",
            "\tRMSE: 62423.456, "
          ]
        },
        {
          "output_type": "stream",
          "name": "stderr",
          "text": [
            "/usr/local/lib/python3.10/dist-packages/sklearn/linear_model/_coordinate_descent.py:631: ConvergenceWarning: Objective did not converge. You might want to increase the number of iterations, check the scale of the features or consider increasing regularisation. Duality gap: 6.002e-01, tolerance: 4.822e-01\n",
            "  model = cd_fast.enet_coordinate_descent(\n"
          ]
        },
        {
          "output_type": "stream",
          "name": "stdout",
          "text": [
            "63037.277, 66081.138, 64506.486, "
          ]
        },
        {
          "output_type": "stream",
          "name": "stderr",
          "text": [
            "/usr/local/lib/python3.10/dist-packages/sklearn/linear_model/_coordinate_descent.py:631: ConvergenceWarning: Objective did not converge. You might want to increase the number of iterations, check the scale of the features or consider increasing regularisation. Duality gap: 5.908e-01, tolerance: 4.831e-01\n",
            "  model = cd_fast.enet_coordinate_descent(\n"
          ]
        },
        {
          "output_type": "stream",
          "name": "stdout",
          "text": [
            "63971.713, 62348.125, "
          ]
        },
        {
          "output_type": "stream",
          "name": "stderr",
          "text": [
            "/usr/local/lib/python3.10/dist-packages/sklearn/linear_model/_coordinate_descent.py:631: ConvergenceWarning: Objective did not converge. You might want to increase the number of iterations, check the scale of the features or consider increasing regularisation. Duality gap: 4.945e-01, tolerance: 4.797e-01\n",
            "  model = cd_fast.enet_coordinate_descent(\n"
          ]
        },
        {
          "output_type": "stream",
          "name": "stdout",
          "text": [
            "66436.466, 66003.785, 64542.847, 69596.810, \n",
            "alpha=1.0e-04 | mean RMSE: 64894.8 (2104.6)\n",
            "\tRMSE: 68073.671, 69414.051, 71612.693, 70767.017, 70896.917, 68997.703, 73539.052, 71843.655, 72297.279, 75383.823, \n",
            "alpha=1.0e-03 | mean RMSE: 71282.6 (2068.5)\n",
            "\tRMSE: 81886.429, 84240.211, 86595.716, 87090.065, 85413.077, 84620.420, 88776.921, 85195.664, 87042.031, 89417.435, \n",
            "alpha=1.0e-02 | mean RMSE: 86027.8 (2119.5)\n",
            "\tRMSE: 118129.692, 117029.965, 120651.582, 118474.958, 118086.381, 118395.189, 122211.901, 118638.001, 121252.012, 120866.908, \n",
            "alpha=1.0e-01 | mean RMSE: 119373.7 (1626.4)\n",
            "\tRMSE: 118129.692, 117029.965, 120651.582, 118474.958, 118086.381, 118395.189, 122211.901, 118638.001, 121252.012, 120866.908, \n",
            "alpha=1.0e+00 | mean RMSE: 119373.7 (1626.4)\n",
            "\tRMSE: 118129.692, 117029.965, 120651.582, 118474.958, 118086.381, 118395.189, 122211.901, 118638.001, 121252.012, 120866.908, \n",
            "alpha=1.0e+01 | mean RMSE: 119373.7 (1626.4)\n",
            "\tRMSE: 118129.692, 117029.965, 120651.582, 118474.958, 118086.381, 118395.189, 122211.901, 118638.001, 121252.012, 120866.908, \n",
            "alpha=1.0e+02 | mean RMSE: 119373.7 (1626.4)\n"
          ]
        }
      ]
    },
    {
      "cell_type": "code",
      "source": [
        "poly = PolynomialFeatures(2)\n",
        "scaler = StandardScaler()\n",
        "\n",
        "for alpha in 10.0 ** np.arange(-5, 3):\n",
        "  reg = Lasso(alpha=alpha, random_state=42)\n",
        "  rmses = []\n",
        "  print('\\tRMSE:', end=' ')\n",
        "  for train_index, valid_index in kf.split(X_train):\n",
        "    X_train_transformed = poly.fit_transform(scaler.fit_transform(X_train.values[train_index]))\n",
        "    X_valid_transformed = poly.transform(scaler.transform(X_train.values[valid_index]))\n",
        "    reg.fit(X_train_transformed, y_train.values[train_index])\n",
        "    y_valid_pred = reg.predict(X_valid_transformed)\n",
        "    y_valid_pred[y_valid_pred > y_train.values[train_index].max()] = y_train.values[train_index].max()\n",
        "    rmse = mean_squared_error(np.exp(y_train.values[valid_index]), np.exp(y_valid_pred), squared=False)\n",
        "    rmses.append(rmse)\n",
        "    print(f'{rmse:.3f}', end=', ')\n",
        "  print()\n",
        "  rmses = np.array(rmses)\n",
        "  print(f'alpha={alpha:.1e} | mean RMSE: {rmses.mean():.1f} ({rmses.std():.1f})')"
      ],
      "metadata": {
        "colab": {
          "base_uri": "https://localhost:8080/"
        },
        "id": "1uPxs47pOMa-",
        "outputId": "e629f894-24f5-421d-8617-3990c36830c3"
      },
      "execution_count": 35,
      "outputs": [
        {
          "output_type": "stream",
          "name": "stdout",
          "text": [
            "\tRMSE: "
          ]
        },
        {
          "output_type": "stream",
          "name": "stderr",
          "text": [
            "/usr/local/lib/python3.10/dist-packages/sklearn/linear_model/_coordinate_descent.py:631: ConvergenceWarning: Objective did not converge. You might want to increase the number of iterations, check the scale of the features or consider increasing regularisation. Duality gap: 6.608e+02, tolerance: 4.817e-01\n",
            "  model = cd_fast.enet_coordinate_descent(\n"
          ]
        },
        {
          "output_type": "stream",
          "name": "stdout",
          "text": [
            "61149.238, "
          ]
        },
        {
          "output_type": "stream",
          "name": "stderr",
          "text": [
            "/usr/local/lib/python3.10/dist-packages/sklearn/linear_model/_coordinate_descent.py:631: ConvergenceWarning: Objective did not converge. You might want to increase the number of iterations, check the scale of the features or consider increasing regularisation. Duality gap: 6.585e+02, tolerance: 4.822e-01\n",
            "  model = cd_fast.enet_coordinate_descent(\n"
          ]
        },
        {
          "output_type": "stream",
          "name": "stdout",
          "text": [
            "61087.658, "
          ]
        },
        {
          "output_type": "stream",
          "name": "stderr",
          "text": [
            "/usr/local/lib/python3.10/dist-packages/sklearn/linear_model/_coordinate_descent.py:631: ConvergenceWarning: Objective did not converge. You might want to increase the number of iterations, check the scale of the features or consider increasing regularisation. Duality gap: 6.591e+02, tolerance: 4.812e-01\n",
            "  model = cd_fast.enet_coordinate_descent(\n"
          ]
        },
        {
          "output_type": "stream",
          "name": "stdout",
          "text": [
            "64620.582, "
          ]
        },
        {
          "output_type": "stream",
          "name": "stderr",
          "text": [
            "/usr/local/lib/python3.10/dist-packages/sklearn/linear_model/_coordinate_descent.py:631: ConvergenceWarning: Objective did not converge. You might want to increase the number of iterations, check the scale of the features or consider increasing regularisation. Duality gap: 6.632e+02, tolerance: 4.825e-01\n",
            "  model = cd_fast.enet_coordinate_descent(\n"
          ]
        },
        {
          "output_type": "stream",
          "name": "stdout",
          "text": [
            "62032.734, "
          ]
        },
        {
          "output_type": "stream",
          "name": "stderr",
          "text": [
            "/usr/local/lib/python3.10/dist-packages/sklearn/linear_model/_coordinate_descent.py:631: ConvergenceWarning: Objective did not converge. You might want to increase the number of iterations, check the scale of the features or consider increasing regularisation. Duality gap: 6.656e+02, tolerance: 4.831e-01\n",
            "  model = cd_fast.enet_coordinate_descent(\n"
          ]
        },
        {
          "output_type": "stream",
          "name": "stdout",
          "text": [
            "61940.662, "
          ]
        },
        {
          "output_type": "stream",
          "name": "stderr",
          "text": [
            "/usr/local/lib/python3.10/dist-packages/sklearn/linear_model/_coordinate_descent.py:631: ConvergenceWarning: Objective did not converge. You might want to increase the number of iterations, check the scale of the features or consider increasing regularisation. Duality gap: 6.500e+02, tolerance: 4.807e-01\n",
            "  model = cd_fast.enet_coordinate_descent(\n"
          ]
        },
        {
          "output_type": "stream",
          "name": "stdout",
          "text": [
            "60991.410, "
          ]
        },
        {
          "output_type": "stream",
          "name": "stderr",
          "text": [
            "/usr/local/lib/python3.10/dist-packages/sklearn/linear_model/_coordinate_descent.py:631: ConvergenceWarning: Objective did not converge. You might want to increase the number of iterations, check the scale of the features or consider increasing regularisation. Duality gap: 6.576e+02, tolerance: 4.797e-01\n",
            "  model = cd_fast.enet_coordinate_descent(\n"
          ]
        },
        {
          "output_type": "stream",
          "name": "stdout",
          "text": [
            "63663.205, "
          ]
        },
        {
          "output_type": "stream",
          "name": "stderr",
          "text": [
            "/usr/local/lib/python3.10/dist-packages/sklearn/linear_model/_coordinate_descent.py:631: ConvergenceWarning: Objective did not converge. You might want to increase the number of iterations, check the scale of the features or consider increasing regularisation. Duality gap: 6.500e+02, tolerance: 4.811e-01\n",
            "  model = cd_fast.enet_coordinate_descent(\n"
          ]
        },
        {
          "output_type": "stream",
          "name": "stdout",
          "text": [
            "64828.104, "
          ]
        },
        {
          "output_type": "stream",
          "name": "stderr",
          "text": [
            "/usr/local/lib/python3.10/dist-packages/sklearn/linear_model/_coordinate_descent.py:631: ConvergenceWarning: Objective did not converge. You might want to increase the number of iterations, check the scale of the features or consider increasing regularisation. Duality gap: 6.654e+02, tolerance: 4.771e-01\n",
            "  model = cd_fast.enet_coordinate_descent(\n"
          ]
        },
        {
          "output_type": "stream",
          "name": "stdout",
          "text": [
            "62943.041, "
          ]
        },
        {
          "output_type": "stream",
          "name": "stderr",
          "text": [
            "/usr/local/lib/python3.10/dist-packages/sklearn/linear_model/_coordinate_descent.py:631: ConvergenceWarning: Objective did not converge. You might want to increase the number of iterations, check the scale of the features or consider increasing regularisation. Duality gap: 6.517e+02, tolerance: 4.814e-01\n",
            "  model = cd_fast.enet_coordinate_descent(\n"
          ]
        },
        {
          "output_type": "stream",
          "name": "stdout",
          "text": [
            "67727.127, \n",
            "alpha=1.0e-05 | mean RMSE: 63098.4 (2045.4)\n",
            "\tRMSE: "
          ]
        },
        {
          "output_type": "stream",
          "name": "stderr",
          "text": [
            "/usr/local/lib/python3.10/dist-packages/sklearn/linear_model/_coordinate_descent.py:631: ConvergenceWarning: Objective did not converge. You might want to increase the number of iterations, check the scale of the features or consider increasing regularisation. Duality gap: 4.792e+02, tolerance: 4.817e-01\n",
            "  model = cd_fast.enet_coordinate_descent(\n"
          ]
        },
        {
          "output_type": "stream",
          "name": "stdout",
          "text": [
            "61127.722, "
          ]
        },
        {
          "output_type": "stream",
          "name": "stderr",
          "text": [
            "/usr/local/lib/python3.10/dist-packages/sklearn/linear_model/_coordinate_descent.py:631: ConvergenceWarning: Objective did not converge. You might want to increase the number of iterations, check the scale of the features or consider increasing regularisation. Duality gap: 4.766e+02, tolerance: 4.822e-01\n",
            "  model = cd_fast.enet_coordinate_descent(\n"
          ]
        },
        {
          "output_type": "stream",
          "name": "stdout",
          "text": [
            "61081.062, "
          ]
        },
        {
          "output_type": "stream",
          "name": "stderr",
          "text": [
            "/usr/local/lib/python3.10/dist-packages/sklearn/linear_model/_coordinate_descent.py:631: ConvergenceWarning: Objective did not converge. You might want to increase the number of iterations, check the scale of the features or consider increasing regularisation. Duality gap: 4.953e+02, tolerance: 4.812e-01\n",
            "  model = cd_fast.enet_coordinate_descent(\n"
          ]
        },
        {
          "output_type": "stream",
          "name": "stdout",
          "text": [
            "64579.140, "
          ]
        },
        {
          "output_type": "stream",
          "name": "stderr",
          "text": [
            "/usr/local/lib/python3.10/dist-packages/sklearn/linear_model/_coordinate_descent.py:631: ConvergenceWarning: Objective did not converge. You might want to increase the number of iterations, check the scale of the features or consider increasing regularisation. Duality gap: 4.889e+02, tolerance: 4.825e-01\n",
            "  model = cd_fast.enet_coordinate_descent(\n"
          ]
        },
        {
          "output_type": "stream",
          "name": "stdout",
          "text": [
            "62013.005, "
          ]
        },
        {
          "output_type": "stream",
          "name": "stderr",
          "text": [
            "/usr/local/lib/python3.10/dist-packages/sklearn/linear_model/_coordinate_descent.py:631: ConvergenceWarning: Objective did not converge. You might want to increase the number of iterations, check the scale of the features or consider increasing regularisation. Duality gap: 4.970e+02, tolerance: 4.831e-01\n",
            "  model = cd_fast.enet_coordinate_descent(\n"
          ]
        },
        {
          "output_type": "stream",
          "name": "stdout",
          "text": [
            "61977.310, "
          ]
        },
        {
          "output_type": "stream",
          "name": "stderr",
          "text": [
            "/usr/local/lib/python3.10/dist-packages/sklearn/linear_model/_coordinate_descent.py:631: ConvergenceWarning: Objective did not converge. You might want to increase the number of iterations, check the scale of the features or consider increasing regularisation. Duality gap: 4.669e+02, tolerance: 4.807e-01\n",
            "  model = cd_fast.enet_coordinate_descent(\n"
          ]
        },
        {
          "output_type": "stream",
          "name": "stdout",
          "text": [
            "60965.263, "
          ]
        },
        {
          "output_type": "stream",
          "name": "stderr",
          "text": [
            "/usr/local/lib/python3.10/dist-packages/sklearn/linear_model/_coordinate_descent.py:631: ConvergenceWarning: Objective did not converge. You might want to increase the number of iterations, check the scale of the features or consider increasing regularisation. Duality gap: 5.116e+02, tolerance: 4.797e-01\n",
            "  model = cd_fast.enet_coordinate_descent(\n"
          ]
        },
        {
          "output_type": "stream",
          "name": "stdout",
          "text": [
            "63683.679, "
          ]
        },
        {
          "output_type": "stream",
          "name": "stderr",
          "text": [
            "/usr/local/lib/python3.10/dist-packages/sklearn/linear_model/_coordinate_descent.py:631: ConvergenceWarning: Objective did not converge. You might want to increase the number of iterations, check the scale of the features or consider increasing regularisation. Duality gap: 4.688e+02, tolerance: 4.811e-01\n",
            "  model = cd_fast.enet_coordinate_descent(\n"
          ]
        },
        {
          "output_type": "stream",
          "name": "stdout",
          "text": [
            "64795.892, "
          ]
        },
        {
          "output_type": "stream",
          "name": "stderr",
          "text": [
            "/usr/local/lib/python3.10/dist-packages/sklearn/linear_model/_coordinate_descent.py:631: ConvergenceWarning: Objective did not converge. You might want to increase the number of iterations, check the scale of the features or consider increasing regularisation. Duality gap: 5.059e+02, tolerance: 4.771e-01\n",
            "  model = cd_fast.enet_coordinate_descent(\n"
          ]
        },
        {
          "output_type": "stream",
          "name": "stdout",
          "text": [
            "62931.675, "
          ]
        },
        {
          "output_type": "stream",
          "name": "stderr",
          "text": [
            "/usr/local/lib/python3.10/dist-packages/sklearn/linear_model/_coordinate_descent.py:631: ConvergenceWarning: Objective did not converge. You might want to increase the number of iterations, check the scale of the features or consider increasing regularisation. Duality gap: 4.994e+02, tolerance: 4.814e-01\n",
            "  model = cd_fast.enet_coordinate_descent(\n"
          ]
        },
        {
          "output_type": "stream",
          "name": "stdout",
          "text": [
            "67769.607, \n",
            "alpha=1.0e-04 | mean RMSE: 63092.4 (2054.3)\n",
            "\tRMSE: "
          ]
        },
        {
          "output_type": "stream",
          "name": "stderr",
          "text": [
            "/usr/local/lib/python3.10/dist-packages/sklearn/linear_model/_coordinate_descent.py:631: ConvergenceWarning: Objective did not converge. You might want to increase the number of iterations, check the scale of the features or consider increasing regularisation. Duality gap: 2.006e+01, tolerance: 4.817e-01\n",
            "  model = cd_fast.enet_coordinate_descent(\n"
          ]
        },
        {
          "output_type": "stream",
          "name": "stdout",
          "text": [
            "61292.519, "
          ]
        },
        {
          "output_type": "stream",
          "name": "stderr",
          "text": [
            "/usr/local/lib/python3.10/dist-packages/sklearn/linear_model/_coordinate_descent.py:631: ConvergenceWarning: Objective did not converge. You might want to increase the number of iterations, check the scale of the features or consider increasing regularisation. Duality gap: 2.866e+01, tolerance: 4.822e-01\n",
            "  model = cd_fast.enet_coordinate_descent(\n"
          ]
        },
        {
          "output_type": "stream",
          "name": "stdout",
          "text": [
            "61452.058, "
          ]
        },
        {
          "output_type": "stream",
          "name": "stderr",
          "text": [
            "/usr/local/lib/python3.10/dist-packages/sklearn/linear_model/_coordinate_descent.py:631: ConvergenceWarning: Objective did not converge. You might want to increase the number of iterations, check the scale of the features or consider increasing regularisation. Duality gap: 1.991e+01, tolerance: 4.812e-01\n",
            "  model = cd_fast.enet_coordinate_descent(\n"
          ]
        },
        {
          "output_type": "stream",
          "name": "stdout",
          "text": [
            "64617.017, "
          ]
        },
        {
          "output_type": "stream",
          "name": "stderr",
          "text": [
            "/usr/local/lib/python3.10/dist-packages/sklearn/linear_model/_coordinate_descent.py:631: ConvergenceWarning: Objective did not converge. You might want to increase the number of iterations, check the scale of the features or consider increasing regularisation. Duality gap: 3.077e+01, tolerance: 4.825e-01\n",
            "  model = cd_fast.enet_coordinate_descent(\n"
          ]
        },
        {
          "output_type": "stream",
          "name": "stdout",
          "text": [
            "62431.676, "
          ]
        },
        {
          "output_type": "stream",
          "name": "stderr",
          "text": [
            "/usr/local/lib/python3.10/dist-packages/sklearn/linear_model/_coordinate_descent.py:631: ConvergenceWarning: Objective did not converge. You might want to increase the number of iterations, check the scale of the features or consider increasing regularisation. Duality gap: 3.173e+01, tolerance: 4.831e-01\n",
            "  model = cd_fast.enet_coordinate_descent(\n"
          ]
        },
        {
          "output_type": "stream",
          "name": "stdout",
          "text": [
            "62403.302, "
          ]
        },
        {
          "output_type": "stream",
          "name": "stderr",
          "text": [
            "/usr/local/lib/python3.10/dist-packages/sklearn/linear_model/_coordinate_descent.py:631: ConvergenceWarning: Objective did not converge. You might want to increase the number of iterations, check the scale of the features or consider increasing regularisation. Duality gap: 5.401e+01, tolerance: 4.807e-01\n",
            "  model = cd_fast.enet_coordinate_descent(\n"
          ]
        },
        {
          "output_type": "stream",
          "name": "stdout",
          "text": [
            "61207.144, "
          ]
        },
        {
          "output_type": "stream",
          "name": "stderr",
          "text": [
            "/usr/local/lib/python3.10/dist-packages/sklearn/linear_model/_coordinate_descent.py:631: ConvergenceWarning: Objective did not converge. You might want to increase the number of iterations, check the scale of the features or consider increasing regularisation. Duality gap: 3.679e+01, tolerance: 4.797e-01\n",
            "  model = cd_fast.enet_coordinate_descent(\n"
          ]
        },
        {
          "output_type": "stream",
          "name": "stdout",
          "text": [
            "64149.628, "
          ]
        },
        {
          "output_type": "stream",
          "name": "stderr",
          "text": [
            "/usr/local/lib/python3.10/dist-packages/sklearn/linear_model/_coordinate_descent.py:631: ConvergenceWarning: Objective did not converge. You might want to increase the number of iterations, check the scale of the features or consider increasing regularisation. Duality gap: 1.990e+01, tolerance: 4.811e-01\n",
            "  model = cd_fast.enet_coordinate_descent(\n"
          ]
        },
        {
          "output_type": "stream",
          "name": "stdout",
          "text": [
            "64865.373, "
          ]
        },
        {
          "output_type": "stream",
          "name": "stderr",
          "text": [
            "/usr/local/lib/python3.10/dist-packages/sklearn/linear_model/_coordinate_descent.py:631: ConvergenceWarning: Objective did not converge. You might want to increase the number of iterations, check the scale of the features or consider increasing regularisation. Duality gap: 2.396e+01, tolerance: 4.771e-01\n",
            "  model = cd_fast.enet_coordinate_descent(\n"
          ]
        },
        {
          "output_type": "stream",
          "name": "stdout",
          "text": [
            "63236.756, "
          ]
        },
        {
          "output_type": "stream",
          "name": "stderr",
          "text": [
            "/usr/local/lib/python3.10/dist-packages/sklearn/linear_model/_coordinate_descent.py:631: ConvergenceWarning: Objective did not converge. You might want to increase the number of iterations, check the scale of the features or consider increasing regularisation. Duality gap: 4.503e+01, tolerance: 4.814e-01\n",
            "  model = cd_fast.enet_coordinate_descent(\n"
          ]
        },
        {
          "output_type": "stream",
          "name": "stdout",
          "text": [
            "68041.477, \n",
            "alpha=1.0e-03 | mean RMSE: 63369.7 (2018.1)\n",
            "\tRMSE: 65692.489, 66915.507, 69362.813, 68156.175, 67928.309, 66383.691, 70702.277, 69487.507, 69055.314, 73088.941, \n",
            "alpha=1.0e-02 | mean RMSE: 68677.3 (2072.2)\n",
            "\tRMSE: 85677.779, 88094.747, 90799.679, 90722.494, 89320.846, 88436.683, 92601.370, 89040.112, 91311.153, 92976.113, \n",
            "alpha=1.0e-01 | mean RMSE: 89898.1 (2110.4)\n",
            "\tRMSE: 118129.692, 117029.965, 120651.582, 118474.958, 118086.381, 118395.189, 122211.901, 118638.001, 121252.012, 120866.908, \n",
            "alpha=1.0e+00 | mean RMSE: 119373.7 (1626.4)\n",
            "\tRMSE: 118129.692, 117029.965, 120651.582, 118474.958, 118086.381, 118395.189, 122211.901, 118638.001, 121252.012, 120866.908, \n",
            "alpha=1.0e+01 | mean RMSE: 119373.7 (1626.4)\n",
            "\tRMSE: 118129.692, 117029.965, 120651.582, 118474.958, 118086.381, 118395.189, 122211.901, 118638.001, 121252.012, 120866.908, \n",
            "alpha=1.0e+02 | mean RMSE: 119373.7 (1626.4)\n"
          ]
        }
      ]
    },
    {
      "cell_type": "markdown",
      "metadata": {
        "id": "4Q7jD-v--3YM"
      },
      "source": [
        "### 5-3) 3次までの項を追加する"
      ]
    },
    {
      "cell_type": "markdown",
      "source": [
        "* 正則化なしの線形回帰"
      ],
      "metadata": {
        "id": "nEpvRbDnR8gk"
      }
    },
    {
      "cell_type": "code",
      "metadata": {
        "colab": {
          "base_uri": "https://localhost:8080/"
        },
        "id": "CUhMvNQ-_ANb",
        "outputId": "218db7f5-b2a2-45ec-ea11-96190af1b32c"
      },
      "source": [
        "poly = PolynomialFeatures(3)\n",
        "scaler = MinMaxScaler()\n",
        "\n",
        "reg = LinearRegression()\n",
        "rmses = []\n",
        "print(f'\\tRMSE:', end=' ')\n",
        "for train_index, valid_index in kf.split(X_train):\n",
        "  X_train_transformed = poly.fit_transform(scaler.fit_transform(X_train.values[train_index]))\n",
        "  X_valid_transformed = poly.transform(scaler.transform(X_train.values[valid_index]))\n",
        "  reg.fit(X_train_transformed, y_train.values[train_index])\n",
        "  y_valid_pred = reg.predict(X_valid_transformed)\n",
        "  y_valid_pred[y_valid_pred > y_train.values[train_index].max()] = y_train.values[train_index].max()\n",
        "  rmse = mean_squared_error(np.exp(y_train.values[valid_index]), np.exp(y_valid_pred), squared=False)\n",
        "  rmses.append(rmse)\n",
        "  print(f'{rmse:.1f}', end=', ')\n",
        "print()\n",
        "rmses = np.array(rmses)\n",
        "print(f'mean RMSE: {rmses.mean():.1f} ({rmses.std():.1f})')"
      ],
      "execution_count": 36,
      "outputs": [
        {
          "output_type": "stream",
          "name": "stdout",
          "text": [
            "\tRMSE: 58616.0, 58101.6, 61680.5, 59146.7, 59369.7, 59643.7, 61798.1, 61453.8, 60188.7, 64196.5, \n",
            "mean RMSE: 60419.5 (1755.8)\n"
          ]
        }
      ]
    },
    {
      "cell_type": "code",
      "source": [
        "poly = PolynomialFeatures(3)\n",
        "scaler = StandardScaler()\n",
        "\n",
        "reg = LinearRegression()\n",
        "rmses = []\n",
        "print(f'\\tRMSE:', end=' ')\n",
        "for train_index, valid_index in kf.split(X_train):\n",
        "  X_train_transformed = poly.fit_transform(scaler.fit_transform(X_train.values[train_index]))\n",
        "  X_valid_transformed = poly.transform(scaler.transform(X_train.values[valid_index]))\n",
        "  reg.fit(X_train_transformed, y_train.values[train_index])\n",
        "  y_valid_pred = reg.predict(X_valid_transformed)\n",
        "  y_valid_pred[y_valid_pred > y_train.values[train_index].max()] = y_train.values[train_index].max()\n",
        "  rmse = mean_squared_error(np.exp(y_train.values[valid_index]), np.exp(y_valid_pred), squared=False)\n",
        "  rmses.append(rmse)\n",
        "  print(f'{rmse:.1f}', end=', ')\n",
        "print()\n",
        "rmses = np.array(rmses)\n",
        "print(f'mean RMSE: {rmses.mean():.1f} ({rmses.std():.1f})')"
      ],
      "metadata": {
        "colab": {
          "base_uri": "https://localhost:8080/"
        },
        "id": "RhBu0b1pNpAd",
        "outputId": "015c795e-8b30-423a-cbd7-73bad1292b6f"
      },
      "execution_count": 37,
      "outputs": [
        {
          "output_type": "stream",
          "name": "stdout",
          "text": [
            "\tRMSE: 58616.0, 58101.6, 61680.5, 59146.7, 59369.7, 59643.7, 61798.1, 61453.8, 60188.7, 64196.5, \n",
            "mean RMSE: 60419.5 (1755.8)\n"
          ]
        }
      ]
    },
    {
      "cell_type": "markdown",
      "source": [
        "* Ridge回帰"
      ],
      "metadata": {
        "id": "pQIYkxNaSL95"
      }
    },
    {
      "cell_type": "code",
      "source": [
        "poly = PolynomialFeatures(3)\n",
        "scaler = MinMaxScaler()\n",
        "\n",
        "for alpha in 10.0 ** np.arange(-5, 3):\n",
        "  reg = Ridge(alpha=alpha, random_state=42)\n",
        "  rmses = []\n",
        "  print('\\tRMSE:', end=' ')\n",
        "  for train_index, valid_index in kf.split(X_train):\n",
        "    X_train_transformed = scaler.fit_transform(poly.fit_transform(X_train.values[train_index]))\n",
        "    X_valid_transformed = scaler.transform(poly.transform(X_train.values[valid_index]))\n",
        "    reg.fit(X_train_transformed, y_train.values[train_index])\n",
        "    y_valid_pred = reg.predict(X_valid_transformed)\n",
        "    y_valid_pred[y_valid_pred > y_train.values[train_index].max()] = y_train.values[train_index].max()\n",
        "    rmse = mean_squared_error(np.exp(y_train.values[valid_index]), np.exp(y_valid_pred), squared=False)\n",
        "    rmses.append(rmse)\n",
        "    print(f'{rmse:.3f}', end=', ')\n",
        "  print()\n",
        "  rmses = np.array(rmses)\n",
        "  print(f'alpha={alpha:.1e} | mean RMSE: {rmses.mean():.1f} ({rmses.std():.1f})')"
      ],
      "metadata": {
        "colab": {
          "base_uri": "https://localhost:8080/"
        },
        "id": "84tBcfg-SD9F",
        "outputId": "a9276634-5ac7-4939-d9e3-967de85bb613"
      },
      "execution_count": 38,
      "outputs": [
        {
          "output_type": "stream",
          "name": "stdout",
          "text": [
            "\tRMSE: 59532.065, 58865.160, 62471.071, 60256.365, 59018.453, 60765.470, 62397.356, 61888.065, 61619.768, 64611.699, \n",
            "alpha=1.0e-05 | mean RMSE: 61142.5 (1714.0)\n",
            "\tRMSE: 59645.567, 59104.297, 62650.626, 60467.657, 58982.816, 60776.882, 62688.825, 62552.942, 61860.911, 65268.682, \n",
            "alpha=1.0e-04 | mean RMSE: 61399.9 (1875.7)\n",
            "\tRMSE: 59838.113, 59409.918, 62625.333, 60647.908, 59238.610, 60295.788, 62540.747, 62997.801, 61940.270, 65773.555, \n",
            "alpha=1.0e-03 | mean RMSE: 61530.8 (1935.5)\n",
            "\tRMSE: 60046.080, 59758.318, 62563.598, 60429.588, 59668.161, 59514.543, 62673.945, 63302.338, 62099.744, 66005.032, \n",
            "alpha=1.0e-02 | mean RMSE: 61606.1 (1997.3)\n",
            "\tRMSE: 60689.454, 60411.116, 63302.127, 61080.790, 60621.113, 60294.142, 63065.365, 63650.828, 62259.676, 66882.425, \n",
            "alpha=1.0e-01 | mean RMSE: 62225.7 (1971.0)\n",
            "\tRMSE: 61760.816, 61444.851, 64644.982, 62541.139, 62203.131, 62005.609, 64120.822, 64707.994, 63399.388, 68140.553, \n",
            "alpha=1.0e+00 | mean RMSE: 63496.9 (1917.9)\n",
            "\tRMSE: 62976.721, 63290.475, 66481.873, 64250.768, 64410.627, 62779.217, 66542.607, 66357.727, 65186.956, 69798.104, \n",
            "alpha=1.0e+01 | mean RMSE: 65207.5 (2047.0)\n",
            "\tRMSE: 68311.228, 69494.765, 72200.020, 70834.537, 70603.710, 68803.259, 73807.225, 71937.541, 71659.212, 76094.519, \n",
            "alpha=1.0e+02 | mean RMSE: 71374.6 (2229.1)\n"
          ]
        }
      ]
    },
    {
      "cell_type": "code",
      "source": [
        "poly = PolynomialFeatures(3)\n",
        "scaler = StandardScaler()\n",
        "\n",
        "for alpha in 10.0 ** np.arange(-5, 3):\n",
        "  reg = Ridge(alpha=alpha, random_state=42)\n",
        "  rmses = []\n",
        "  print('\\tRMSE:', end=' ')\n",
        "  for train_index, valid_index in kf.split(X_train):\n",
        "    X_train_transformed = scaler.fit_transform(poly.fit_transform(X_train.values[train_index]))\n",
        "    X_valid_transformed = scaler.transform(poly.transform(X_train.values[valid_index]))\n",
        "    reg.fit(X_train_transformed, y_train.values[train_index])\n",
        "    y_valid_pred = reg.predict(X_valid_transformed)\n",
        "    y_valid_pred[y_valid_pred > y_train.values[train_index].max()] = y_train.values[train_index].max()\n",
        "    rmse = mean_squared_error(np.exp(y_train.values[valid_index]), np.exp(y_valid_pred), squared=False)\n",
        "    rmses.append(rmse)\n",
        "    print(f'{rmse:.3f}', end=', ')\n",
        "  print()\n",
        "  rmses = np.array(rmses)\n",
        "  print(f'alpha={alpha:.1e} | mean RMSE: {rmses.mean():.1f} ({rmses.std():.1f})')"
      ],
      "metadata": {
        "colab": {
          "base_uri": "https://localhost:8080/"
        },
        "id": "TfSTBQ6CTbBG",
        "outputId": "c200ce12-d942-4965-cdb9-6e840255743d"
      },
      "execution_count": 39,
      "outputs": [
        {
          "output_type": "stream",
          "name": "stdout",
          "text": [
            "\tRMSE: 59117.665, 58718.155, 62014.510, 59573.106, 59523.598, 59803.955, 62488.216, 61052.259, 60396.813, 64090.581, \n",
            "alpha=1.0e-05 | mean RMSE: 60677.9 (1628.5)\n",
            "\tRMSE: 59391.899, 58944.179, 62294.941, 59731.825, 59652.555, 60209.216, 62744.942, 61373.098, 60678.796, 64364.885, \n",
            "alpha=1.0e-04 | mean RMSE: 60938.6 (1646.5)\n",
            "\tRMSE: 59542.290, 59032.466, 62516.103, 59520.869, 59474.496, 60165.392, 62563.321, 61585.994, 60969.123, 64417.744, \n",
            "alpha=1.0e-03 | mean RMSE: 60978.8 (1672.5)\n",
            "\tRMSE: 59597.253, 59014.167, 62519.356, 59538.009, 59132.972, 60313.693, 62268.157, 61690.047, 61720.942, 64503.774, \n",
            "alpha=1.0e-02 | mean RMSE: 61029.8 (1708.4)\n",
            "\tRMSE: 59613.446, 59260.989, 62402.534, 60317.668, 58926.838, 60469.550, 62229.223, 62458.996, 61763.268, 64949.746, \n",
            "alpha=1.0e-01 | mean RMSE: 61239.2 (1766.6)\n",
            "\tRMSE: 59670.081, 59547.571, 62266.018, 60633.873, 59276.177, 59921.802, 62296.073, 62794.014, 61808.355, 65694.933, \n",
            "alpha=1.0e+00 | mean RMSE: 61390.9 (1892.5)\n",
            "\tRMSE: 60068.227, 60051.473, 62387.919, 60756.028, 60024.556, 60050.258, 62445.410, 63481.207, 62297.536, 66176.244, \n",
            "alpha=1.0e+01 | mean RMSE: 61773.9 (1906.3)\n",
            "\tRMSE: 60739.212, 60781.277, 63641.381, 61303.995, 61075.751, 60723.179, 63176.368, 64336.015, 62974.823, 67338.227, \n",
            "alpha=1.0e+02 | mean RMSE: 62609.0 (2032.6)\n"
          ]
        }
      ]
    },
    {
      "cell_type": "markdown",
      "source": [
        "### 5-4) 4次までの項を追加する"
      ],
      "metadata": {
        "id": "7m3t5XrbUI5q"
      }
    },
    {
      "cell_type": "code",
      "source": [
        "poly = PolynomialFeatures(4)\n",
        "scaler = StandardScaler()\n",
        "\n",
        "reg = LinearRegression()\n",
        "rmses = []\n",
        "print(f'\\tRMSE:', end=' ')\n",
        "for train_index, valid_index in kf.split(X_train):\n",
        "  X_train_transformed = poly.fit_transform(scaler.fit_transform(X_train.values[train_index]))\n",
        "  X_valid_transformed = poly.transform(scaler.transform(X_train.values[valid_index]))\n",
        "  reg.fit(X_train_transformed, y_train.values[train_index])\n",
        "  y_valid_pred = reg.predict(X_valid_transformed)\n",
        "  y_valid_pred[y_valid_pred > y_train.values[train_index].max()] = y_train.values[train_index].max()\n",
        "  rmse = mean_squared_error(np.exp(y_train.values[valid_index]), np.exp(y_valid_pred), squared=False)\n",
        "  rmses.append(rmse)\n",
        "  print(f'{rmse:.1f}', end=', ')\n",
        "print()\n",
        "rmses = np.array(rmses)\n",
        "print(f'mean RMSE: {rmses.mean():.1f} ({rmses.std():.1f})')"
      ],
      "metadata": {
        "colab": {
          "base_uri": "https://localhost:8080/"
        },
        "id": "9Q2hkW0yTOLl",
        "outputId": "26f7f8c5-b560-444a-9fb4-9ef24a3e56a8"
      },
      "execution_count": 40,
      "outputs": [
        {
          "output_type": "stream",
          "name": "stdout",
          "text": [
            "\tRMSE: 55876.8, 56330.9, 58727.0, 59546.0, 55853.2, 55936.6, 59185.1, 58817.3, 57557.6, 62954.0, \n",
            "mean RMSE: 58078.5 (2140.7)\n"
          ]
        }
      ]
    },
    {
      "cell_type": "code",
      "source": [
        "poly = PolynomialFeatures(4)\n",
        "scaler = MinMaxScaler()\n",
        "\n",
        "reg = LinearRegression()\n",
        "rmses = []\n",
        "print(f'\\tRMSE:', end=' ')\n",
        "for train_index, valid_index in kf.split(X_train):\n",
        "  X_train_transformed = poly.fit_transform(scaler.fit_transform(X_train.values[train_index]))\n",
        "  X_valid_transformed = poly.transform(scaler.transform(X_train.values[valid_index]))\n",
        "  reg.fit(X_train_transformed, y_train.values[train_index])\n",
        "  y_valid_pred = reg.predict(X_valid_transformed)\n",
        "  y_valid_pred[y_valid_pred > y_train.values[train_index].max()] = y_train.values[train_index].max()\n",
        "  rmse = mean_squared_error(np.exp(y_train.values[valid_index]), np.exp(y_valid_pred), squared=False)\n",
        "  rmses.append(rmse)\n",
        "  print(f'{rmse:.1f}', end=', ')\n",
        "print()\n",
        "rmses = np.array(rmses)\n",
        "print(f'mean RMSE: {rmses.mean():.1f} ({rmses.std():.1f})')"
      ],
      "metadata": {
        "colab": {
          "base_uri": "https://localhost:8080/"
        },
        "id": "b5ICn7rlQ7zb",
        "outputId": "21ce8d92-9aa5-46c3-efe4-df83c4f8b7e2"
      },
      "execution_count": 41,
      "outputs": [
        {
          "output_type": "stream",
          "name": "stdout",
          "text": [
            "\tRMSE: 55876.8, 56330.9, 58727.0, 59546.0, 55853.2, 55936.6, 59185.1, 58817.3, 57557.6, 62954.0, \n",
            "mean RMSE: 58078.5 (2140.7)\n"
          ]
        }
      ]
    },
    {
      "cell_type": "code",
      "source": [
        "poly = PolynomialFeatures(4)\n",
        "scaler = MinMaxScaler()\n",
        "\n",
        "for alpha in 10.0 ** np.arange(-5, 3):\n",
        "  reg = Ridge(alpha=alpha, random_state=42)\n",
        "  rmses = []\n",
        "  print('\\tRMSE:', end=' ')\n",
        "  for train_index, valid_index in kf.split(X_train):\n",
        "    X_train_transformed = poly.fit_transform(scaler.fit_transform(X_train.values[train_index]))\n",
        "    X_valid_transformed = poly.transform(scaler.transform(X_train.values[valid_index]))\n",
        "    reg.fit(X_train_transformed, y_train.values[train_index])\n",
        "    y_valid_pred = reg.predict(X_valid_transformed)\n",
        "    y_valid_pred[y_valid_pred > y_train.values[train_index].max()] = y_train.values[train_index].max()\n",
        "    rmse = mean_squared_error(np.exp(y_train.values[valid_index]), np.exp(y_valid_pred), squared=False)\n",
        "    rmses.append(rmse)\n",
        "    print(f'{rmse:.3f}', end=', ')\n",
        "  print()\n",
        "  rmses = np.array(rmses)\n",
        "  print(f'alpha={alpha:.1e} | mean RMSE: {rmses.mean():.1f} ({rmses.std():.1f})')"
      ],
      "metadata": {
        "colab": {
          "base_uri": "https://localhost:8080/"
        },
        "id": "sOat8_DTRD88",
        "outputId": "e3203c1e-f219-40b1-80d8-d35983096e7f"
      },
      "execution_count": 42,
      "outputs": [
        {
          "output_type": "stream",
          "name": "stdout",
          "text": [
            "\tRMSE: 55051.920, 56262.811, 58281.415, 57116.744, 55403.682, 53933.122, 58194.477, 57039.603, 57643.146, 61677.355, \n",
            "alpha=1.0e-05 | mean RMSE: 57060.4 (2040.4)\n",
            "\tRMSE: 55715.914, 55797.550, 58913.201, 57045.222, 55898.646, 55574.830, 58585.765, 57750.130, 58336.731, 62708.484, \n",
            "alpha=1.0e-04 | mean RMSE: 57632.6 (2084.5)\n",
            "\tRMSE: 56999.180, 56437.266, 60364.940, 58140.998, 56935.117, 56790.094, 59781.972, 59478.392, 59211.113, 63519.593, \n",
            "alpha=1.0e-03 | mean RMSE: 58765.9 (2075.6)\n",
            "\tRMSE: 58345.010, 57937.717, 61848.788, 58977.859, 58097.480, 57896.421, 60760.494, 61139.148, 59871.613, 64738.130, \n",
            "alpha=1.0e-02 | mean RMSE: 59961.3 (2093.5)\n",
            "\tRMSE: 59936.429, 59378.452, 63168.396, 60773.898, 59745.549, 59296.852, 62528.873, 62870.715, 61225.315, 66092.577, \n",
            "alpha=1.0e-01 | mean RMSE: 61501.7 (2056.5)\n",
            "\tRMSE: 61678.687, 61583.069, 64935.285, 62968.502, 62156.669, 60784.585, 65172.866, 64729.129, 63091.911, 68320.369, \n",
            "alpha=1.0e+00 | mean RMSE: 63542.1 (2149.6)\n",
            "\tRMSE: 64350.654, 65238.914, 67774.303, 66557.497, 66328.015, 64202.989, 68956.955, 67909.539, 67096.455, 71792.076, \n",
            "alpha=1.0e+01 | mean RMSE: 67020.7 (2163.7)\n",
            "\tRMSE: 71582.783, 73356.809, 75921.538, 74957.417, 74917.834, 72983.082, 77705.972, 75512.728, 76124.346, 79309.403, \n",
            "alpha=1.0e+02 | mean RMSE: 75237.2 (2148.5)\n"
          ]
        }
      ]
    },
    {
      "cell_type": "code",
      "source": [
        "poly = PolynomialFeatures(4)\n",
        "scaler = StandardScaler()\n",
        "\n",
        "for alpha in 10.0 ** np.arange(-5, 3):\n",
        "  reg = Ridge(alpha=alpha, random_state=42)\n",
        "  rmses = []\n",
        "  print('\\tRMSE:', end=' ')\n",
        "  for train_index, valid_index in kf.split(X_train):\n",
        "    X_train_transformed = poly.fit_transform(scaler.fit_transform(X_train.values[train_index]))\n",
        "    X_valid_transformed = poly.transform(scaler.transform(X_train.values[valid_index]))\n",
        "    reg.fit(X_train_transformed, y_train.values[train_index])\n",
        "    y_valid_pred = reg.predict(X_valid_transformed)\n",
        "    y_valid_pred[y_valid_pred > y_train.values[train_index].max()] = y_train.values[train_index].max()\n",
        "    rmse = mean_squared_error(np.exp(y_train.values[valid_index]), np.exp(y_valid_pred), squared=False)\n",
        "    rmses.append(rmse)\n",
        "    print(f'{rmse:.3f}', end=', ')\n",
        "  print()\n",
        "  rmses = np.array(rmses)\n",
        "  print(f'alpha={alpha:.1e} | mean RMSE: {rmses.mean():.1f} ({rmses.std():.1f})')"
      ],
      "metadata": {
        "colab": {
          "base_uri": "https://localhost:8080/"
        },
        "id": "khOjzhrYPu84",
        "outputId": "ccf22a0b-f657-4de9-e2f9-ecf73209cd2c"
      },
      "execution_count": 43,
      "outputs": [
        {
          "output_type": "stream",
          "name": "stdout",
          "text": [
            "\tRMSE: "
          ]
        },
        {
          "output_type": "stream",
          "name": "stderr",
          "text": [
            "/usr/local/lib/python3.10/dist-packages/sklearn/linear_model/_ridge.py:216: LinAlgWarning: Ill-conditioned matrix (rcond=2.75389e-18): result may not be accurate.\n",
            "  return linalg.solve(A, Xy, assume_a=\"pos\", overwrite_a=True).T\n"
          ]
        },
        {
          "output_type": "stream",
          "name": "stdout",
          "text": [
            "55876.674, "
          ]
        },
        {
          "output_type": "stream",
          "name": "stderr",
          "text": [
            "/usr/local/lib/python3.10/dist-packages/sklearn/linear_model/_ridge.py:216: LinAlgWarning: Ill-conditioned matrix (rcond=2.60045e-18): result may not be accurate.\n",
            "  return linalg.solve(A, Xy, assume_a=\"pos\", overwrite_a=True).T\n"
          ]
        },
        {
          "output_type": "stream",
          "name": "stdout",
          "text": [
            "56331.009, "
          ]
        },
        {
          "output_type": "stream",
          "name": "stderr",
          "text": [
            "/usr/local/lib/python3.10/dist-packages/sklearn/linear_model/_ridge.py:216: LinAlgWarning: Ill-conditioned matrix (rcond=2.67432e-18): result may not be accurate.\n",
            "  return linalg.solve(A, Xy, assume_a=\"pos\", overwrite_a=True).T\n"
          ]
        },
        {
          "output_type": "stream",
          "name": "stdout",
          "text": [
            "58726.328, "
          ]
        },
        {
          "output_type": "stream",
          "name": "stderr",
          "text": [
            "/usr/local/lib/python3.10/dist-packages/sklearn/linear_model/_ridge.py:216: LinAlgWarning: Ill-conditioned matrix (rcond=2.73683e-18): result may not be accurate.\n",
            "  return linalg.solve(A, Xy, assume_a=\"pos\", overwrite_a=True).T\n"
          ]
        },
        {
          "output_type": "stream",
          "name": "stdout",
          "text": [
            "59544.916, "
          ]
        },
        {
          "output_type": "stream",
          "name": "stderr",
          "text": [
            "/usr/local/lib/python3.10/dist-packages/sklearn/linear_model/_ridge.py:216: LinAlgWarning: Ill-conditioned matrix (rcond=2.70073e-18): result may not be accurate.\n",
            "  return linalg.solve(A, Xy, assume_a=\"pos\", overwrite_a=True).T\n"
          ]
        },
        {
          "output_type": "stream",
          "name": "stdout",
          "text": [
            "55851.584, "
          ]
        },
        {
          "output_type": "stream",
          "name": "stderr",
          "text": [
            "/usr/local/lib/python3.10/dist-packages/sklearn/linear_model/_ridge.py:216: LinAlgWarning: Ill-conditioned matrix (rcond=7.36137e-18): result may not be accurate.\n",
            "  return linalg.solve(A, Xy, assume_a=\"pos\", overwrite_a=True).T\n"
          ]
        },
        {
          "output_type": "stream",
          "name": "stdout",
          "text": [
            "55936.274, "
          ]
        },
        {
          "output_type": "stream",
          "name": "stderr",
          "text": [
            "/usr/local/lib/python3.10/dist-packages/sklearn/linear_model/_ridge.py:216: LinAlgWarning: Ill-conditioned matrix (rcond=2.78219e-18): result may not be accurate.\n",
            "  return linalg.solve(A, Xy, assume_a=\"pos\", overwrite_a=True).T\n"
          ]
        },
        {
          "output_type": "stream",
          "name": "stdout",
          "text": [
            "59184.718, "
          ]
        },
        {
          "output_type": "stream",
          "name": "stderr",
          "text": [
            "/usr/local/lib/python3.10/dist-packages/sklearn/linear_model/_ridge.py:216: LinAlgWarning: Ill-conditioned matrix (rcond=2.54806e-18): result may not be accurate.\n",
            "  return linalg.solve(A, Xy, assume_a=\"pos\", overwrite_a=True).T\n"
          ]
        },
        {
          "output_type": "stream",
          "name": "stdout",
          "text": [
            "58817.491, "
          ]
        },
        {
          "output_type": "stream",
          "name": "stderr",
          "text": [
            "/usr/local/lib/python3.10/dist-packages/sklearn/linear_model/_ridge.py:216: LinAlgWarning: Ill-conditioned matrix (rcond=2.75373e-18): result may not be accurate.\n",
            "  return linalg.solve(A, Xy, assume_a=\"pos\", overwrite_a=True).T\n"
          ]
        },
        {
          "output_type": "stream",
          "name": "stdout",
          "text": [
            "57557.531, "
          ]
        },
        {
          "output_type": "stream",
          "name": "stderr",
          "text": [
            "/usr/local/lib/python3.10/dist-packages/sklearn/linear_model/_ridge.py:216: LinAlgWarning: Ill-conditioned matrix (rcond=3.11321e-18): result may not be accurate.\n",
            "  return linalg.solve(A, Xy, assume_a=\"pos\", overwrite_a=True).T\n"
          ]
        },
        {
          "output_type": "stream",
          "name": "stdout",
          "text": [
            "62954.568, \n",
            "alpha=1.0e-05 | mean RMSE: 58078.1 (2141.0)\n",
            "\tRMSE: "
          ]
        },
        {
          "output_type": "stream",
          "name": "stderr",
          "text": [
            "/usr/local/lib/python3.10/dist-packages/sklearn/linear_model/_ridge.py:216: LinAlgWarning: Ill-conditioned matrix (rcond=2.75389e-17): result may not be accurate.\n",
            "  return linalg.solve(A, Xy, assume_a=\"pos\", overwrite_a=True).T\n"
          ]
        },
        {
          "output_type": "stream",
          "name": "stdout",
          "text": [
            "55874.967, "
          ]
        },
        {
          "output_type": "stream",
          "name": "stderr",
          "text": [
            "/usr/local/lib/python3.10/dist-packages/sklearn/linear_model/_ridge.py:216: LinAlgWarning: Ill-conditioned matrix (rcond=2.60045e-17): result may not be accurate.\n",
            "  return linalg.solve(A, Xy, assume_a=\"pos\", overwrite_a=True).T\n"
          ]
        },
        {
          "output_type": "stream",
          "name": "stdout",
          "text": [
            "56332.223, "
          ]
        },
        {
          "output_type": "stream",
          "name": "stderr",
          "text": [
            "/usr/local/lib/python3.10/dist-packages/sklearn/linear_model/_ridge.py:216: LinAlgWarning: Ill-conditioned matrix (rcond=2.67432e-17): result may not be accurate.\n",
            "  return linalg.solve(A, Xy, assume_a=\"pos\", overwrite_a=True).T\n"
          ]
        },
        {
          "output_type": "stream",
          "name": "stdout",
          "text": [
            "58721.217, "
          ]
        },
        {
          "output_type": "stream",
          "name": "stderr",
          "text": [
            "/usr/local/lib/python3.10/dist-packages/sklearn/linear_model/_ridge.py:216: LinAlgWarning: Ill-conditioned matrix (rcond=2.73683e-17): result may not be accurate.\n",
            "  return linalg.solve(A, Xy, assume_a=\"pos\", overwrite_a=True).T\n"
          ]
        },
        {
          "output_type": "stream",
          "name": "stdout",
          "text": [
            "59536.332, "
          ]
        },
        {
          "output_type": "stream",
          "name": "stderr",
          "text": [
            "/usr/local/lib/python3.10/dist-packages/sklearn/linear_model/_ridge.py:216: LinAlgWarning: Ill-conditioned matrix (rcond=2.70073e-17): result may not be accurate.\n",
            "  return linalg.solve(A, Xy, assume_a=\"pos\", overwrite_a=True).T\n"
          ]
        },
        {
          "output_type": "stream",
          "name": "stdout",
          "text": [
            "55834.896, "
          ]
        },
        {
          "output_type": "stream",
          "name": "stderr",
          "text": [
            "/usr/local/lib/python3.10/dist-packages/sklearn/linear_model/_ridge.py:216: LinAlgWarning: Ill-conditioned matrix (rcond=7.36137e-17): result may not be accurate.\n",
            "  return linalg.solve(A, Xy, assume_a=\"pos\", overwrite_a=True).T\n"
          ]
        },
        {
          "output_type": "stream",
          "name": "stdout",
          "text": [
            "55934.886, "
          ]
        },
        {
          "output_type": "stream",
          "name": "stderr",
          "text": [
            "/usr/local/lib/python3.10/dist-packages/sklearn/linear_model/_ridge.py:216: LinAlgWarning: Ill-conditioned matrix (rcond=2.78219e-17): result may not be accurate.\n",
            "  return linalg.solve(A, Xy, assume_a=\"pos\", overwrite_a=True).T\n"
          ]
        },
        {
          "output_type": "stream",
          "name": "stdout",
          "text": [
            "59182.504, "
          ]
        },
        {
          "output_type": "stream",
          "name": "stderr",
          "text": [
            "/usr/local/lib/python3.10/dist-packages/sklearn/linear_model/_ridge.py:216: LinAlgWarning: Ill-conditioned matrix (rcond=2.54806e-17): result may not be accurate.\n",
            "  return linalg.solve(A, Xy, assume_a=\"pos\", overwrite_a=True).T\n"
          ]
        },
        {
          "output_type": "stream",
          "name": "stdout",
          "text": [
            "58816.534, "
          ]
        },
        {
          "output_type": "stream",
          "name": "stderr",
          "text": [
            "/usr/local/lib/python3.10/dist-packages/sklearn/linear_model/_ridge.py:216: LinAlgWarning: Ill-conditioned matrix (rcond=2.75373e-17): result may not be accurate.\n",
            "  return linalg.solve(A, Xy, assume_a=\"pos\", overwrite_a=True).T\n"
          ]
        },
        {
          "output_type": "stream",
          "name": "stdout",
          "text": [
            "57557.026, "
          ]
        },
        {
          "output_type": "stream",
          "name": "stderr",
          "text": [
            "/usr/local/lib/python3.10/dist-packages/sklearn/linear_model/_ridge.py:216: LinAlgWarning: Ill-conditioned matrix (rcond=3.11321e-17): result may not be accurate.\n",
            "  return linalg.solve(A, Xy, assume_a=\"pos\", overwrite_a=True).T\n"
          ]
        },
        {
          "output_type": "stream",
          "name": "stdout",
          "text": [
            "62961.244, \n",
            "alpha=1.0e-04 | mean RMSE: 58075.2 (2143.6)\n",
            "\tRMSE: 55859.816, 56344.671, 58677.512, 59455.113, 55722.110, 55919.196, 59161.182, 58807.013, 57552.529, 63196.537, \n",
            "alpha=1.0e-03 | mean RMSE: 58069.6 (2203.9)\n",
            "\tRMSE: 55818.991, 56435.730, 58553.368, 58732.692, 55576.423, 55779.364, 59024.082, 58743.939, 57522.095, 63475.448, \n",
            "alpha=1.0e-02 | mean RMSE: 57966.2 (2250.6)\n",
            "\tRMSE: 55771.089, 56582.584, 58596.845, 58436.922, 55270.253, 55380.979, 58769.491, 58494.423, 57427.980, 63441.498, \n",
            "alpha=1.0e-01 | mean RMSE: 57817.2 (2286.4)\n",
            "\tRMSE: 55849.602, 56459.313, 58749.613, 57429.417, 55480.720, 54654.070, 58256.102, 57573.162, 57288.001, 63586.150, \n",
            "alpha=1.0e+00 | mean RMSE: 57532.6 (2349.5)\n",
            "\tRMSE: 56070.765, 55924.006, 58341.770, 57509.184, 55846.861, 54347.018, 58463.492, 58017.531, 57489.109, 63366.634, \n",
            "alpha=1.0e+01 | mean RMSE: 57537.6 (2313.2)\n",
            "\tRMSE: 56639.376, 57408.631, 59857.821, 59804.426, 58362.549, 55923.368, 60103.895, 59324.314, 59454.629, 64027.868, \n",
            "alpha=1.0e+02 | mean RMSE: 59090.7 (2146.8)\n"
          ]
        }
      ]
    },
    {
      "cell_type": "code",
      "source": [
        "poly = PolynomialFeatures(4)\n",
        "scaler = StandardScaler()\n",
        "scaler2 = StandardScaler()\n",
        "\n",
        "for alpha in 10.0 ** np.arange(-5, 3):\n",
        "  reg = Ridge(alpha=alpha, random_state=42)\n",
        "  rmses = []\n",
        "  print('\\tRMSE:', end=' ')\n",
        "  for train_index, valid_index in kf.split(X_train):\n",
        "    X_train_transformed = scaler2.fit_transform(poly.fit_transform(scaler.fit_transform(X_train.values[train_index])))\n",
        "    X_valid_transformed = scaler2.transform(poly.transform(scaler.transform(X_train.values[valid_index])))\n",
        "    reg.fit(X_train_transformed, y_train.values[train_index])\n",
        "    y_valid_pred = reg.predict(X_valid_transformed)\n",
        "    y_valid_pred[y_valid_pred > y_train.values[train_index].max()] = y_train.values[train_index].max()\n",
        "    rmse = mean_squared_error(np.exp(y_train.values[valid_index]), np.exp(y_valid_pred), squared=False)\n",
        "    rmses.append(rmse)\n",
        "    print(f'{rmse:.3f}', end=', ')\n",
        "  print()\n",
        "  rmses = np.array(rmses)\n",
        "  print(f'alpha={alpha:.1e} | mean RMSE: {rmses.mean():.1f} ({rmses.std():.1f})')"
      ],
      "metadata": {
        "colab": {
          "base_uri": "https://localhost:8080/"
        },
        "id": "rr8y0tjBTbTB",
        "outputId": "39832252-36a2-4b7c-dfc7-74717314bf92"
      },
      "execution_count": 44,
      "outputs": [
        {
          "output_type": "stream",
          "name": "stdout",
          "text": [
            "\tRMSE: 55965.851, 56535.177, 58508.539, 58221.427, 55226.392, 55518.948, 58938.983, 58012.631, 57409.576, 63090.925, \n",
            "alpha=1.0e-05 | mean RMSE: 57742.8 (2166.2)\n",
            "\tRMSE: 56131.077, 56579.011, 59154.543, 58357.039, 55286.409, 55383.699, 59078.356, 58045.875, 57362.205, 62181.505, \n",
            "alpha=1.0e-04 | mean RMSE: 57756.0 (1991.0)\n",
            "\tRMSE: 56534.988, 56108.072, 59111.268, 58029.193, 55109.440, 55967.446, 59423.806, 57614.664, 57434.377, 61430.494, \n",
            "alpha=1.0e-03 | mean RMSE: 57676.4 (1807.3)\n",
            "\tRMSE: 56833.816, 56273.478, 58356.648, 57764.019, 55756.530, 55960.350, 58522.135, 57460.081, 57470.955, 61428.045, \n",
            "alpha=1.0e-02 | mean RMSE: 57582.6 (1567.5)\n",
            "\tRMSE: 55901.815, 56717.788, 58215.488, 57307.064, 56122.994, 54008.779, 58251.438, 57066.405, 56982.120, 60768.492, \n",
            "alpha=1.0e-01 | mean RMSE: 57134.2 (1678.3)\n",
            "\tRMSE: 55069.343, 56782.927, 58376.995, 57639.667, 56750.818, 55279.497, 58732.541, 57439.361, 57798.235, 60827.674, \n",
            "alpha=1.0e+00 | mean RMSE: 57469.7 (1593.1)\n",
            "\tRMSE: 55442.745, 56381.047, 59154.387, 58849.681, 56835.901, 56262.310, 59137.113, 58151.000, 58860.887, 62379.422, \n",
            "alpha=1.0e+01 | mean RMSE: 58145.4 (1913.5)\n",
            "\tRMSE: 57733.276, 58168.476, 60897.746, 60064.680, 58746.887, 57733.386, 61458.196, 60785.133, 60683.988, 64654.862, \n",
            "alpha=1.0e+02 | mean RMSE: 60092.7 (2020.0)\n"
          ]
        }
      ]
    },
    {
      "cell_type": "code",
      "source": [
        "poly = PolynomialFeatures(4)\n",
        "scaler = MinMaxScaler()\n",
        "scaler2 = MinMaxScaler()\n",
        "\n",
        "for alpha in 10.0 ** np.arange(-5, 3):\n",
        "  reg = Ridge(alpha=alpha, random_state=42)\n",
        "  rmses = []\n",
        "  print('\\tRMSE:', end=' ')\n",
        "  for train_index, valid_index in kf.split(X_train):\n",
        "    X_train_transformed = scaler2.fit_transform(poly.fit_transform(scaler.fit_transform(X_train.values[train_index])))\n",
        "    X_valid_transformed = scaler2.transform(poly.transform(scaler.transform(X_train.values[valid_index])))\n",
        "    reg.fit(X_train_transformed, y_train.values[train_index])\n",
        "    y_valid_pred = reg.predict(X_valid_transformed)\n",
        "    y_valid_pred[y_valid_pred > y_train.values[train_index].max()] = y_train.values[train_index].max()\n",
        "    rmse = mean_squared_error(np.exp(y_train.values[valid_index]), np.exp(y_valid_pred), squared=False)\n",
        "    rmses.append(rmse)\n",
        "    print(f'{rmse:.3f}', end=', ')\n",
        "  print()\n",
        "  rmses = np.array(rmses)\n",
        "  print(f'alpha={alpha:.1e} | mean RMSE: {rmses.mean():.1f} ({rmses.std():.1f})')"
      ],
      "metadata": {
        "colab": {
          "base_uri": "https://localhost:8080/"
        },
        "id": "-aBoK880SVgO",
        "outputId": "17992f5f-8f0d-46c2-daa0-cb8c80c1ecbb"
      },
      "execution_count": 45,
      "outputs": [
        {
          "output_type": "stream",
          "name": "stdout",
          "text": [
            "\tRMSE: 55762.214, 56600.219, 57805.727, 57671.581, 55593.631, 52827.577, 58224.887, 56735.889, 57256.694, 61660.720, \n",
            "alpha=1.0e-05 | mean RMSE: 57013.9 (2133.9)\n",
            "\tRMSE: 54987.504, 56482.737, 57987.799, 57331.492, 55750.247, 53619.271, 58083.441, 57964.635, 57533.054, 62014.465, \n",
            "alpha=1.0e-04 | mean RMSE: 57175.5 (2135.9)\n",
            "\tRMSE: 55611.160, 56059.336, 58698.827, 58484.456, 56400.681, 55442.379, 58860.287, 58684.238, 57946.339, 62156.515, \n",
            "alpha=1.0e-03 | mean RMSE: 57834.4 (1936.7)\n",
            "\tRMSE: 56891.590, 56204.160, 59812.401, 58506.599, 56808.000, 57263.065, 59889.875, 59591.170, 58724.956, 63262.957, \n",
            "alpha=1.0e-02 | mean RMSE: 58695.5 (1986.2)\n",
            "\tRMSE: 58249.413, 57132.037, 61031.383, 58670.416, 57741.125, 58505.727, 60744.345, 60637.466, 59758.188, 64425.708, \n",
            "alpha=1.0e-01 | mean RMSE: 59689.6 (2027.3)\n",
            "\tRMSE: 59654.303, 58817.156, 62532.578, 60136.893, 59465.069, 59068.007, 61995.178, 62136.572, 61206.882, 66177.783, \n",
            "alpha=1.0e+00 | mean RMSE: 61119.0 (2115.4)\n",
            "\tRMSE: 61723.057, 61625.862, 65218.607, 63140.774, 62708.715, 61295.718, 65006.141, 64751.321, 63212.805, 68496.198, \n",
            "alpha=1.0e+01 | mean RMSE: 63717.9 (2089.1)\n",
            "\tRMSE: 67308.705, 68176.574, 71198.393, 69670.523, 69963.371, 67608.052, 72464.107, 71199.552, 70351.890, 74792.466, \n",
            "alpha=1.0e+02 | mean RMSE: 70273.4 (2183.8)\n"
          ]
        }
      ]
    },
    {
      "cell_type": "code",
      "source": [
        "poly = PolynomialFeatures(4)\n",
        "scaler = MinMaxScaler()\n",
        "scaler2 = MinMaxScaler()\n",
        "\n",
        "for alpha in 10.0 ** np.arange(-9, -5):\n",
        "  reg = Ridge(alpha=alpha, random_state=42)\n",
        "  rmses = []\n",
        "  print('\\tRMSE:', end=' ')\n",
        "  for train_index, valid_index in kf.split(X_train):\n",
        "    X_train_transformed = scaler2.fit_transform(poly.fit_transform(scaler.fit_transform(X_train.values[train_index])))\n",
        "    X_valid_transformed = scaler2.transform(poly.transform(scaler.transform(X_train.values[valid_index])))\n",
        "    reg.fit(X_train_transformed, y_train.values[train_index])\n",
        "    y_valid_pred = reg.predict(X_valid_transformed)\n",
        "    y_valid_pred[y_valid_pred > y_train.values[train_index].max()] = y_train.values[train_index].max()\n",
        "    rmse = mean_squared_error(np.exp(y_train.values[valid_index]), np.exp(y_valid_pred), squared=False)\n",
        "    rmses.append(rmse)\n",
        "    print(f'{rmse:.3f}', end=', ')\n",
        "  print()\n",
        "  rmses = np.array(rmses)\n",
        "  print(f'alpha={alpha:.1e} | mean RMSE: {rmses.mean():.1f} ({rmses.std():.1f})')"
      ],
      "metadata": {
        "colab": {
          "base_uri": "https://localhost:8080/"
        },
        "id": "8HaYb-W6TUEX",
        "outputId": "4d680c30-9ce0-4a03-c6b8-4daeccc687f5"
      },
      "execution_count": 46,
      "outputs": [
        {
          "output_type": "stream",
          "name": "stdout",
          "text": [
            "\tRMSE: 56081.286, 56608.472, 58472.972, 58181.679, 55226.927, 55456.180, 58960.319, 58194.152, 57382.881, 62992.225, \n",
            "alpha=1.0e-09 | mean RMSE: 57755.7 (2137.8)\n",
            "\tRMSE: 56153.506, 56445.211, 59101.215, 58147.845, 55186.568, 56039.237, 59060.814, 57814.390, 57368.105, 61880.571, \n",
            "alpha=1.0e-08 | mean RMSE: 57719.7 (1861.6)\n",
            "\tRMSE: 56749.228, 56135.162, 58810.551, 57163.829, 55059.690, 55605.023, 58517.534, 57211.374, 57386.379, 61791.241, \n",
            "alpha=1.0e-07 | mean RMSE: 57443.0 (1825.3)\n",
            "\tRMSE: 56772.685, 56064.151, 58152.425, 57773.010, 55514.751, 54877.957, 58637.518, 57229.098, 57083.543, 61957.414, \n",
            "alpha=1.0e-06 | mean RMSE: 57406.3 (1876.9)\n"
          ]
        }
      ]
    },
    {
      "cell_type": "code",
      "source": [
        "poly = PolynomialFeatures(4)\n",
        "scaler = StandardScaler()\n",
        "scaler2 = MinMaxScaler()\n",
        "\n",
        "for alpha in 10.0 ** np.arange(-7, 1):\n",
        "  reg = Ridge(alpha=alpha, random_state=42)\n",
        "  rmses = []\n",
        "  print('\\tRMSE:', end=' ')\n",
        "  for train_index, valid_index in kf.split(X_train):\n",
        "    X_train_transformed = scaler2.fit_transform(poly.fit_transform(scaler.fit_transform(X_train.values[train_index])))\n",
        "    X_valid_transformed = scaler2.transform(poly.transform(scaler.transform(X_train.values[valid_index])))\n",
        "    reg.fit(X_train_transformed, y_train.values[train_index])\n",
        "    y_valid_pred = reg.predict(X_valid_transformed)\n",
        "    y_valid_pred[y_valid_pred > y_train.values[train_index].max()] = y_train.values[train_index].max()\n",
        "    rmse = mean_squared_error(np.exp(y_train.values[valid_index]), np.exp(y_valid_pred), squared=False)\n",
        "    rmses.append(rmse)\n",
        "    print(f'{rmse:.3f}', end=', ')\n",
        "  print()\n",
        "  rmses = np.array(rmses)\n",
        "  print(f'alpha={alpha:.1e} | mean RMSE: {rmses.mean():.1f} ({rmses.std():.1f})')"
      ],
      "metadata": {
        "colab": {
          "base_uri": "https://localhost:8080/"
        },
        "id": "3X_iFV1xTtL3",
        "outputId": "e848f688-3da4-4d3a-c0ff-527242c0a53f"
      },
      "execution_count": 47,
      "outputs": [
        {
          "output_type": "stream",
          "name": "stdout",
          "text": [
            "\tRMSE: 56567.848, 56319.455, 59106.887, 57986.205, 55117.190, 56017.971, 59388.349, 57961.050, 57404.251, 61448.588, \n",
            "alpha=1.0e-07 | mean RMSE: 57731.8 (1783.2)\n",
            "\tRMSE: 57129.182, 56350.102, 58222.319, 57681.477, 55742.398, 55953.650, 58533.385, 57544.655, 57434.029, 61452.319, \n",
            "alpha=1.0e-06 | mean RMSE: 57604.4 (1551.8)\n",
            "\tRMSE: 56048.815, 56728.860, 58208.130, 57398.294, 56058.331, 54000.894, 58226.651, 57486.027, 57063.993, 60743.877, \n",
            "alpha=1.0e-05 | mean RMSE: 57196.4 (1668.9)\n",
            "\tRMSE: 54767.093, 56902.837, 58091.087, 57419.677, 56375.058, 55113.483, 58448.177, 56977.964, 57405.314, 60537.502, \n",
            "alpha=1.0e-04 | mean RMSE: 57203.8 (1570.7)\n",
            "\tRMSE: 54793.507, 56320.377, 58626.650, 58322.930, 56002.117, 55534.071, 58728.508, 57281.587, 58140.595, 61730.328, \n",
            "alpha=1.0e-03 | mean RMSE: 57548.1 (1913.4)\n",
            "\tRMSE: 55931.819, 56497.470, 59569.470, 58731.213, 56935.220, 56333.852, 59297.016, 58368.728, 59049.680, 62810.466, \n",
            "alpha=1.0e-02 | mean RMSE: 58352.5 (1956.0)\n",
            "\tRMSE: 57455.450, 57650.536, 61049.537, 58947.261, 58282.196, 57240.711, 60925.822, 60331.505, 60237.151, 64008.720, \n",
            "alpha=1.0e-01 | mean RMSE: 59612.9 (2009.1)\n",
            "\tRMSE: 59904.797, 60104.214, 63180.707, 61633.464, 60800.036, 59625.285, 63802.812, 63399.952, 62040.916, 66597.128, \n",
            "alpha=1.0e+00 | mean RMSE: 62108.9 (2069.3)\n"
          ]
        }
      ]
    },
    {
      "cell_type": "code",
      "source": [
        "poly = PolynomialFeatures(4)\n",
        "scaler = MinMaxScaler()\n",
        "scaler2 = StandardScaler()\n",
        "\n",
        "for alpha in 10.0 ** np.arange(-7, 1):\n",
        "  reg = Ridge(alpha=alpha, random_state=42)\n",
        "  rmses = []\n",
        "  print('\\tRMSE:', end=' ')\n",
        "  for train_index, valid_index in kf.split(X_train):\n",
        "    X_train_transformed = scaler2.fit_transform(poly.fit_transform(scaler.fit_transform(X_train.values[train_index])))\n",
        "    X_valid_transformed = scaler2.transform(poly.transform(scaler.transform(X_train.values[valid_index])))\n",
        "    reg.fit(X_train_transformed, y_train.values[train_index])\n",
        "    y_valid_pred = reg.predict(X_valid_transformed)\n",
        "    y_valid_pred[y_valid_pred > y_train.values[train_index].max()] = y_train.values[train_index].max()\n",
        "    rmse = mean_squared_error(np.exp(y_train.values[valid_index]), np.exp(y_valid_pred), squared=False)\n",
        "    rmses.append(rmse)\n",
        "    print(f'{rmse:.3f}', end=', ')\n",
        "  print()\n",
        "  rmses = np.array(rmses)\n",
        "  print(f'alpha={alpha:.1e} | mean RMSE: {rmses.mean():.1f} ({rmses.std():.1f})')"
      ],
      "metadata": {
        "colab": {
          "base_uri": "https://localhost:8080/"
        },
        "id": "AV9CN6ZvT7w6",
        "outputId": "7ceeecdd-6711-4ee3-da82-c89d2dc21ad3"
      },
      "execution_count": 48,
      "outputs": [
        {
          "output_type": "stream",
          "name": "stdout",
          "text": [
            "\tRMSE: 55968.571, 56491.208, 58584.643, 58993.273, 55323.351, 55302.453, 59003.036, 58977.353, 57313.199, 63154.434, \n",
            "alpha=1.0e-07 | mean RMSE: 57911.2 (2260.4)\n",
            "\tRMSE: 55979.598, 56571.938, 58406.003, 58526.582, 55200.218, 55656.480, 58931.091, 58974.582, 57247.341, 63154.712, \n",
            "alpha=1.0e-06 | mean RMSE: 57864.9 (2206.0)\n",
            "\tRMSE: 55943.178, 56568.526, 58526.396, 58111.599, 55223.296, 55445.166, 58836.003, 58125.612, 57349.640, 62978.224, \n",
            "alpha=1.0e-05 | mean RMSE: 57710.8 (2142.2)\n",
            "\tRMSE: 56046.401, 56372.244, 59046.364, 57347.455, 55160.672, 56018.692, 58677.662, 57341.975, 57335.430, 61998.660, \n",
            "alpha=1.0e-04 | mean RMSE: 57534.6 (1874.3)\n",
            "\tRMSE: 56498.960, 56012.257, 58463.191, 57252.716, 55143.024, 55500.412, 58644.298, 57270.977, 57354.775, 62176.272, \n",
            "alpha=1.0e-03 | mean RMSE: 57431.7 (1922.5)\n",
            "\tRMSE: 56179.835, 56691.782, 57955.240, 57621.704, 55745.868, 53914.186, 58744.765, 57216.415, 57095.751, 62396.154, \n",
            "alpha=1.0e-02 | mean RMSE: 57356.2 (2100.3)\n",
            "\tRMSE: 55936.870, 56690.121, 58242.499, 57693.177, 56459.276, 53979.618, 58796.969, 57826.787, 57941.522, 62010.390, \n",
            "alpha=1.0e-01 | mean RMSE: 57557.7 (1986.4)\n",
            "\tRMSE: 56064.788, 56269.752, 58984.357, 58400.250, 56424.055, 55358.851, 59175.437, 59448.433, 58130.985, 62839.361, \n",
            "alpha=1.0e+00 | mean RMSE: 58109.6 (2100.6)\n"
          ]
        }
      ]
    },
    {
      "cell_type": "markdown",
      "source": [
        "### 5-5) 乱数のシードを変える"
      ],
      "metadata": {
        "id": "pOQ9eMByV_22"
      }
    },
    {
      "cell_type": "markdown",
      "source": [
        "* `random_state`の値を変更した10-fold交差検証をおこなって、似たような性能が出せるか、確認する。"
      ],
      "metadata": {
        "id": "Qrtkd1kLUmCJ"
      }
    },
    {
      "cell_type": "code",
      "source": [
        "kf = KFold(n_splits=10, shuffle=True, random_state=23456)\n",
        "\n",
        "poly = PolynomialFeatures(4)\n",
        "scaler = MinMaxScaler()\n",
        "scaler2 = MinMaxScaler()\n",
        "\n",
        "for alpha in 10.0 ** np.arange(-8, 0):\n",
        "  reg = Ridge(alpha=alpha, random_state=42)\n",
        "  rmses = []\n",
        "  print('\\tRMSE:', end=' ')\n",
        "  for train_index, valid_index in kf.split(X_train):\n",
        "    X_train_transformed = scaler2.fit_transform(poly.fit_transform(scaler.fit_transform(X_train.values[train_index])))\n",
        "    X_valid_transformed = scaler2.transform(poly.transform(scaler.transform(X_train.values[valid_index])))\n",
        "    reg.fit(X_train_transformed, y_train.values[train_index])\n",
        "    y_valid_pred = reg.predict(X_valid_transformed)\n",
        "    y_valid_pred[y_valid_pred > y_train.values[train_index].max()] = y_train.values[train_index].max()\n",
        "    rmse = mean_squared_error(np.exp(y_train.values[valid_index]), np.exp(y_valid_pred), squared=False)\n",
        "    rmses.append(rmse)\n",
        "    print(f'{rmse:.3f}', end=', ')\n",
        "  print()\n",
        "  rmses = np.array(rmses)\n",
        "  print(f'alpha={alpha:.1e} | mean RMSE: {rmses.mean():.1f} ({rmses.std():.1f})')"
      ],
      "metadata": {
        "colab": {
          "base_uri": "https://localhost:8080/"
        },
        "id": "TktYJr1GUJB7",
        "outputId": "2648851e-6b8a-4ff7-b1b9-2ea4b1ffa67e"
      },
      "execution_count": 49,
      "outputs": [
        {
          "output_type": "stream",
          "name": "stdout",
          "text": [
            "\tRMSE: 60673.064, 55416.765, 55407.022, 58969.291, 55181.389, 60541.268, 59091.628, 55810.507, 57722.679, 56232.956, \n",
            "alpha=1.0e-08 | mean RMSE: 57504.7 (2064.3)\n",
            "\tRMSE: 60692.410, 55145.570, 55202.582, 58956.678, 55214.082, 59917.979, 58995.125, 55538.572, 58356.427, 56104.248, \n",
            "alpha=1.0e-07 | mean RMSE: 57412.4 (2071.1)\n",
            "\tRMSE: 60521.181, 54904.455, 54165.384, 58482.577, 55419.735, 59799.059, 60220.091, 55989.557, 57796.402, 55695.833, \n",
            "alpha=1.0e-06 | mean RMSE: 57299.4 (2240.2)\n",
            "\tRMSE: 59712.900, 55021.919, 54143.318, 57942.401, 55340.369, 59687.695, 60107.891, 56011.801, 56878.333, 55872.238, \n",
            "alpha=1.0e-05 | mean RMSE: 57071.9 (2053.5)\n",
            "\tRMSE: 60076.231, 55845.848, 53687.271, 58422.005, 55176.802, 60291.427, 59405.992, 55385.600, 57080.293, 56166.212, \n",
            "alpha=1.0e-04 | mean RMSE: 57153.8 (2163.5)\n",
            "\tRMSE: 61681.755, 56768.241, 53921.582, 59064.534, 56112.692, 60315.400, 60262.263, 56061.403, 57370.974, 57277.598, \n",
            "alpha=1.0e-03 | mean RMSE: 57883.6 (2267.6)\n",
            "\tRMSE: 62823.097, 57240.166, 54791.283, 59815.732, 56280.570, 61124.073, 60930.652, 57097.077, 57323.174, 58485.425, \n",
            "alpha=1.0e-02 | mean RMSE: 58591.1 (2382.3)\n",
            "\tRMSE: 64297.590, 58258.247, 55781.867, 61236.221, 57016.480, 62138.294, 61583.178, 57879.883, 58618.173, 59571.040, \n",
            "alpha=1.0e-01 | mean RMSE: 59638.1 (2491.6)\n"
          ]
        }
      ]
    },
    {
      "cell_type": "markdown",
      "source": [
        "* `alpha=1.0e-05`で良さそう。"
      ],
      "metadata": {
        "id": "3lm779wNYs4-"
      }
    },
    {
      "cell_type": "markdown",
      "metadata": {
        "id": "QrGdLCb-4Kpw"
      },
      "source": [
        "## 6) チューニング済みの手法をテストデータ上で評価"
      ]
    },
    {
      "cell_type": "code",
      "metadata": {
        "id": "4V7G4CR0AP2K",
        "colab": {
          "base_uri": "https://localhost:8080/"
        },
        "outputId": "3f7b7bc5-c9c3-4358-997b-52903bf7b614"
      },
      "source": [
        "poly = PolynomialFeatures(4)\n",
        "scaler = MinMaxScaler()\n",
        "scaler2 = MinMaxScaler()\n",
        "\n",
        "X_train_transformed = scaler2.fit_transform(poly.fit_transform(scaler.fit_transform(X_train)))\n",
        "X_test_transformed = scaler2.transform(poly.transform(scaler.transform(X_test)))\n",
        "\n",
        "reg = Ridge(alpha=1.0e-5, random_state=42)\n",
        "reg.fit(X_train_transformed, y_train)\n",
        "y_test_pred = reg.predict(X_test_transformed)\n",
        "y_test_pred[y_test_pred > y_train.max()] = y_train.max()\n",
        "rmse = mean_squared_error(np.exp(y_test), np.exp(y_test_pred), squared=False)\n",
        "print(f'test RMSE: {rmse:.1f}')"
      ],
      "execution_count": 50,
      "outputs": [
        {
          "output_type": "stream",
          "name": "stdout",
          "text": [
            "test RMSE: 61197.6\n"
          ]
        }
      ]
    },
    {
      "cell_type": "markdown",
      "source": [
        "* 欠測箇所を含むインスタンスを脱落させて作ったテストセットで評価する。"
      ],
      "metadata": {
        "id": "GDMImyolYSrB"
      }
    },
    {
      "cell_type": "code",
      "source": [
        "poly = PolynomialFeatures(4)\n",
        "scaler = MinMaxScaler()\n",
        "scaler2 = MinMaxScaler()\n",
        "\n",
        "X_train_transformed = scaler2.fit_transform(poly.fit_transform(scaler.fit_transform(X_train)))\n",
        "X_test_transformed = scaler2.transform(poly.transform(scaler.transform(X_test_original)))\n",
        "\n",
        "reg = Ridge(alpha=1.0e-5, random_state=42)\n",
        "reg.fit(X_train_transformed, y_train)\n",
        "y_test_pred = reg.predict(X_test_transformed)\n",
        "y_test_pred[y_test_pred > y_train.max()] = y_train.max()\n",
        "rmse = mean_squared_error(y_test_original, np.exp(y_test_pred), squared=False)\n",
        "print(f'test RMSE: {rmse:.1f}')"
      ],
      "metadata": {
        "colab": {
          "base_uri": "https://localhost:8080/"
        },
        "id": "jC5w3iepX2xm",
        "outputId": "f75ff4b5-cf49-467b-b9c2-d22613854119"
      },
      "execution_count": 51,
      "outputs": [
        {
          "output_type": "stream",
          "name": "stdout",
          "text": [
            "test RMSE: 57907.2\n"
          ]
        }
      ]
    },
    {
      "cell_type": "markdown",
      "source": [
        "* 何の工夫もない線形回帰だとテスト性能がどうなるか、確認しておく。"
      ],
      "metadata": {
        "id": "CvdL8oaOVOAP"
      }
    },
    {
      "cell_type": "code",
      "source": [
        "reg = LinearRegression()\n",
        "reg.fit(X_train, y_train)\n",
        "y_test_pred = reg.predict(X_test)\n",
        "y_test_pred[y_test_pred > y_train.max()] = y_train.max()\n",
        "rmse = mean_squared_error(np.exp(y_test), np.exp(y_test_pred), squared=False)\n",
        "print(f'test RMSE: {rmse:.1f}')"
      ],
      "metadata": {
        "colab": {
          "base_uri": "https://localhost:8080/"
        },
        "id": "PNeVz_IJUs9h",
        "outputId": "dfe10e4f-ccd8-4406-95ec-7992bd33a6d7"
      },
      "execution_count": 52,
      "outputs": [
        {
          "output_type": "stream",
          "name": "stdout",
          "text": [
            "test RMSE: 70139.7\n"
          ]
        }
      ]
    },
    {
      "cell_type": "markdown",
      "source": [
        "* 欠測箇所を含むインスタンスを脱落させて作ったテストセットで評価する。"
      ],
      "metadata": {
        "id": "P5YJxMByYhZ_"
      }
    },
    {
      "cell_type": "code",
      "source": [
        "reg = LinearRegression()\n",
        "reg.fit(X_train, y_train)\n",
        "y_test_pred = reg.predict(X_test_original)\n",
        "y_test_pred[y_test_pred > y_train.max()] = y_train.max()\n",
        "rmse = mean_squared_error(y_test_original, np.exp(y_test_pred), squared=False)\n",
        "print(f'test RMSE: {rmse:.1f}')"
      ],
      "metadata": {
        "colab": {
          "base_uri": "https://localhost:8080/"
        },
        "id": "6Y2YOmrRVMtK",
        "outputId": "128962b2-e0f5-49c5-844e-cd102da531b8"
      },
      "execution_count": 53,
      "outputs": [
        {
          "output_type": "stream",
          "name": "stdout",
          "text": [
            "test RMSE: 69744.5\n"
          ]
        }
      ]
    },
    {
      "cell_type": "code",
      "source": [],
      "metadata": {
        "id": "A2aBgvfgYL2C"
      },
      "execution_count": 53,
      "outputs": []
    }
  ]
}