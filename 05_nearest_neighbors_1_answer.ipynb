{
  "nbformat": 4,
  "nbformat_minor": 0,
  "metadata": {
    "kernelspec": {
      "display_name": "Python 3",
      "language": "python",
      "name": "python3"
    },
    "language_info": {
      "codemirror_mode": {
        "name": "ipython",
        "version": 3
      },
      "file_extension": ".py",
      "mimetype": "text/x-python",
      "name": "python",
      "nbconvert_exporter": "python",
      "pygments_lexer": "ipython3",
      "version": "3.7.6"
    },
    "colab": {
      "provenance": [],
      "include_colab_link": true
    }
  },
  "cells": [
    {
      "cell_type": "markdown",
      "metadata": {
        "id": "view-in-github",
        "colab_type": "text"
      },
      "source": [
        "<a href=\"https://colab.research.google.com/github/tomonari-masada/course2023-sml/blob/main/05_nearest_neighbors_1_answer.ipynb\" target=\"_parent\"><img src=\"https://colab.research.google.com/assets/colab-badge.svg\" alt=\"Open In Colab\"/></a>"
      ]
    },
    {
      "cell_type": "markdown",
      "metadata": {
        "id": "mu4ZhS4kEkFp"
      },
      "source": [
        "# 課題p 20230513"
      ]
    },
    {
      "cell_type": "code",
      "metadata": {
        "id": "L_Lmt3WUxc1T"
      },
      "source": [
        "import numpy as np\n",
        "import pandas as pd\n",
        "import matplotlib.pyplot as plt\n",
        "\n",
        "%config InlineBackend.figure_format = 'retina'"
      ],
      "execution_count": null,
      "outputs": []
    },
    {
      "cell_type": "markdown",
      "metadata": {
        "id": "bg1mpu9nI9DE"
      },
      "source": [
        "* `lifesat_extended.csv`というファイルをColabにアップロードする。"
      ]
    },
    {
      "cell_type": "code",
      "metadata": {
        "id": "d-CK-HssI8Uh",
        "colab": {
          "base_uri": "https://localhost:8080/",
          "height": 257
        },
        "outputId": "4a890d38-d4b6-4d2e-8d6b-35870c9d0d1c"
      },
      "source": [
        "from google.colab import files\n",
        "files.upload()"
      ],
      "execution_count": null,
      "outputs": [
        {
          "output_type": "display_data",
          "data": {
            "text/plain": [
              "<IPython.core.display.HTML object>"
            ],
            "text/html": [
              "\n",
              "     <input type=\"file\" id=\"files-ba2e3486-3cfc-460f-a918-d73252be88e3\" name=\"files[]\" multiple disabled\n",
              "        style=\"border:none\" />\n",
              "     <output id=\"result-ba2e3486-3cfc-460f-a918-d73252be88e3\">\n",
              "      Upload widget is only available when the cell has been executed in the\n",
              "      current browser session. Please rerun this cell to enable.\n",
              "      </output>\n",
              "      <script>// Copyright 2017 Google LLC\n",
              "//\n",
              "// Licensed under the Apache License, Version 2.0 (the \"License\");\n",
              "// you may not use this file except in compliance with the License.\n",
              "// You may obtain a copy of the License at\n",
              "//\n",
              "//      http://www.apache.org/licenses/LICENSE-2.0\n",
              "//\n",
              "// Unless required by applicable law or agreed to in writing, software\n",
              "// distributed under the License is distributed on an \"AS IS\" BASIS,\n",
              "// WITHOUT WARRANTIES OR CONDITIONS OF ANY KIND, either express or implied.\n",
              "// See the License for the specific language governing permissions and\n",
              "// limitations under the License.\n",
              "\n",
              "/**\n",
              " * @fileoverview Helpers for google.colab Python module.\n",
              " */\n",
              "(function(scope) {\n",
              "function span(text, styleAttributes = {}) {\n",
              "  const element = document.createElement('span');\n",
              "  element.textContent = text;\n",
              "  for (const key of Object.keys(styleAttributes)) {\n",
              "    element.style[key] = styleAttributes[key];\n",
              "  }\n",
              "  return element;\n",
              "}\n",
              "\n",
              "// Max number of bytes which will be uploaded at a time.\n",
              "const MAX_PAYLOAD_SIZE = 100 * 1024;\n",
              "\n",
              "function _uploadFiles(inputId, outputId) {\n",
              "  const steps = uploadFilesStep(inputId, outputId);\n",
              "  const outputElement = document.getElementById(outputId);\n",
              "  // Cache steps on the outputElement to make it available for the next call\n",
              "  // to uploadFilesContinue from Python.\n",
              "  outputElement.steps = steps;\n",
              "\n",
              "  return _uploadFilesContinue(outputId);\n",
              "}\n",
              "\n",
              "// This is roughly an async generator (not supported in the browser yet),\n",
              "// where there are multiple asynchronous steps and the Python side is going\n",
              "// to poll for completion of each step.\n",
              "// This uses a Promise to block the python side on completion of each step,\n",
              "// then passes the result of the previous step as the input to the next step.\n",
              "function _uploadFilesContinue(outputId) {\n",
              "  const outputElement = document.getElementById(outputId);\n",
              "  const steps = outputElement.steps;\n",
              "\n",
              "  const next = steps.next(outputElement.lastPromiseValue);\n",
              "  return Promise.resolve(next.value.promise).then((value) => {\n",
              "    // Cache the last promise value to make it available to the next\n",
              "    // step of the generator.\n",
              "    outputElement.lastPromiseValue = value;\n",
              "    return next.value.response;\n",
              "  });\n",
              "}\n",
              "\n",
              "/**\n",
              " * Generator function which is called between each async step of the upload\n",
              " * process.\n",
              " * @param {string} inputId Element ID of the input file picker element.\n",
              " * @param {string} outputId Element ID of the output display.\n",
              " * @return {!Iterable<!Object>} Iterable of next steps.\n",
              " */\n",
              "function* uploadFilesStep(inputId, outputId) {\n",
              "  const inputElement = document.getElementById(inputId);\n",
              "  inputElement.disabled = false;\n",
              "\n",
              "  const outputElement = document.getElementById(outputId);\n",
              "  outputElement.innerHTML = '';\n",
              "\n",
              "  const pickedPromise = new Promise((resolve) => {\n",
              "    inputElement.addEventListener('change', (e) => {\n",
              "      resolve(e.target.files);\n",
              "    });\n",
              "  });\n",
              "\n",
              "  const cancel = document.createElement('button');\n",
              "  inputElement.parentElement.appendChild(cancel);\n",
              "  cancel.textContent = 'Cancel upload';\n",
              "  const cancelPromise = new Promise((resolve) => {\n",
              "    cancel.onclick = () => {\n",
              "      resolve(null);\n",
              "    };\n",
              "  });\n",
              "\n",
              "  // Wait for the user to pick the files.\n",
              "  const files = yield {\n",
              "    promise: Promise.race([pickedPromise, cancelPromise]),\n",
              "    response: {\n",
              "      action: 'starting',\n",
              "    }\n",
              "  };\n",
              "\n",
              "  cancel.remove();\n",
              "\n",
              "  // Disable the input element since further picks are not allowed.\n",
              "  inputElement.disabled = true;\n",
              "\n",
              "  if (!files) {\n",
              "    return {\n",
              "      response: {\n",
              "        action: 'complete',\n",
              "      }\n",
              "    };\n",
              "  }\n",
              "\n",
              "  for (const file of files) {\n",
              "    const li = document.createElement('li');\n",
              "    li.append(span(file.name, {fontWeight: 'bold'}));\n",
              "    li.append(span(\n",
              "        `(${file.type || 'n/a'}) - ${file.size} bytes, ` +\n",
              "        `last modified: ${\n",
              "            file.lastModifiedDate ? file.lastModifiedDate.toLocaleDateString() :\n",
              "                                    'n/a'} - `));\n",
              "    const percent = span('0% done');\n",
              "    li.appendChild(percent);\n",
              "\n",
              "    outputElement.appendChild(li);\n",
              "\n",
              "    const fileDataPromise = new Promise((resolve) => {\n",
              "      const reader = new FileReader();\n",
              "      reader.onload = (e) => {\n",
              "        resolve(e.target.result);\n",
              "      };\n",
              "      reader.readAsArrayBuffer(file);\n",
              "    });\n",
              "    // Wait for the data to be ready.\n",
              "    let fileData = yield {\n",
              "      promise: fileDataPromise,\n",
              "      response: {\n",
              "        action: 'continue',\n",
              "      }\n",
              "    };\n",
              "\n",
              "    // Use a chunked sending to avoid message size limits. See b/62115660.\n",
              "    let position = 0;\n",
              "    do {\n",
              "      const length = Math.min(fileData.byteLength - position, MAX_PAYLOAD_SIZE);\n",
              "      const chunk = new Uint8Array(fileData, position, length);\n",
              "      position += length;\n",
              "\n",
              "      const base64 = btoa(String.fromCharCode.apply(null, chunk));\n",
              "      yield {\n",
              "        response: {\n",
              "          action: 'append',\n",
              "          file: file.name,\n",
              "          data: base64,\n",
              "        },\n",
              "      };\n",
              "\n",
              "      let percentDone = fileData.byteLength === 0 ?\n",
              "          100 :\n",
              "          Math.round((position / fileData.byteLength) * 100);\n",
              "      percent.textContent = `${percentDone}% done`;\n",
              "\n",
              "    } while (position < fileData.byteLength);\n",
              "  }\n",
              "\n",
              "  // All done.\n",
              "  yield {\n",
              "    response: {\n",
              "      action: 'complete',\n",
              "    }\n",
              "  };\n",
              "}\n",
              "\n",
              "scope.google = scope.google || {};\n",
              "scope.google.colab = scope.google.colab || {};\n",
              "scope.google.colab._files = {\n",
              "  _uploadFiles,\n",
              "  _uploadFilesContinue,\n",
              "};\n",
              "})(self);\n",
              "</script> "
            ]
          },
          "metadata": {}
        },
        {
          "output_type": "stream",
          "name": "stdout",
          "text": [
            "Saving lifesat_extended.csv to lifesat_extended.csv\n"
          ]
        },
        {
          "output_type": "execute_result",
          "data": {
            "text/plain": [
              "{'lifesat_extended.csv': b'Country,Air pollution,Assault rate,Consultation on rule-making,Dwellings without basic facilities,Educational attainment,Employees working very long hours,Employment rate,Homicide rate,Household net adjusted disposable income,Household net financial wealth,Housing expenditure,Job security,Life expectancy,Life satisfaction,Long-term unemployment rate,Personal earnings,Quality of support network,Rooms per person,Self-reported health,Student skills,Time devoted to leisure and personal care,Voter turnout,Water quality,Years in education,GDP per capita\\nRussia,15.0,3.8,2.5,15.1,94.0,0.16,69.0,12.8,19292.0,3412.0,11.0,4.0,70.2,6.0,1.7,20885.0,90.0,0.9,37.0,481.0,14.97,65.0,56.0,16.0,9054.914\\nTurkey,35.0,5.0,5.5,12.7,34.0,40.86,50.0,1.2,14095.0,3251.0,21.0,8.1,74.6,5.6,2.37,16919.0,86.0,1.1,68.0,462.0,13.42,88.0,62.0,16.4,9437.372\\nHungary,15.0,3.6,7.9,4.8,82.0,3.19,58.0,1.3,15442.0,13277.0,20.0,5.7,75.2,4.9,5.1,20948.0,87.0,1.1,57.0,487.0,15.04,62.0,77.0,17.6,12239.893999999998\\nPoland,33.0,1.4,10.8,3.2,90.0,7.41,60.0,0.9,17852.0,10919.0,21.0,7.3,76.9,5.8,3.77,22655.0,91.0,1.1,58.0,521.0,14.2,55.0,79.0,18.4,12495.333999999999\\nSlovak Republic,13.0,3.0,6.6,0.6,92.0,7.02,60.0,1.2,17503.0,8663.0,26.0,5.5,76.2,6.1,9.46,20307.0,90.0,1.1,66.0,472.0,14.99,59.0,81.0,16.3,15991.736\\nEstonia,9.0,5.5,3.3,8.1,90.0,3.3,68.0,4.8,15167.0,7680.0,19.0,5.2,76.5,5.6,3.82,18944.0,89.0,1.5,54.0,526.0,14.9,64.0,79.0,17.5,17288.083\\nGreece,27.0,3.7,6.5,0.7,68.0,6.16,49.0,1.6,18575.0,14579.0,25.0,12.2,80.7,4.8,18.39,25503.0,83.0,1.2,74.0,466.0,14.91,64.0,69.0,18.6,18064.288\\nPortugal,18.0,5.7,6.5,0.9,38.0,9.62,61.0,1.1,20086.0,31245.0,19.0,8.6,80.5,5.1,9.11,23688.0,86.0,1.6,46.0,488.0,14.95,58.0,86.0,17.6,19121.592\\nSlovenia,26.0,3.9,10.3,0.5,85.0,5.63,63.0,0.4,19326.0,18465.0,20.0,5.5,80.2,5.7,5.15,32037.0,90.0,1.5,65.0,499.0,14.62,52.0,88.0,18.4,20732.482\\nSpain,24.0,4.2,7.3,0.1,55.0,5.89,56.0,0.6,22477.0,24774.0,22.0,17.8,82.5,6.5,12.96,34824.0,95.0,1.9,72.0,490.0,16.06,69.0,71.0,17.6,25864.721\\nKorea,30.0,2.1,10.4,4.2,82.0,18.72,64.0,1.1,19510.0,29091.0,16.0,3.2,81.3,5.8,0.01,36354.0,72.0,1.4,35.0,542.0,14.63,76.0,78.0,17.5,27195.197\\nItaly,21.0,4.7,5.0,1.1,57.0,3.66,56.0,0.7,25166.0,54987.0,24.0,5.9,82.3,6.0,6.94,34561.0,90.0,1.4,66.0,490.0,14.98,75.0,71.0,16.8,29866.581000000002\\nJapan,24.0,1.4,7.3,6.4,94.0,22.26,72.0,0.3,26111.0,86764.0,22.0,2.4,83.2,5.9,1.67,35405.0,89.0,1.8,30.0,540.0,14.93,53.0,85.0,16.3,32485.545\\nIsrael,21.0,6.4,2.5,3.7,85.0,16.03,67.0,2.3,22104.0,52933.0,21.0,5.0,81.8,7.4,0.79,28817.0,87.0,1.2,80.0,474.0,14.48,68.0,68.0,15.8,35343.336\\nNew Zealand,11.0,2.2,10.3,0.2,74.0,13.87,73.0,1.2,23815.0,28290.0,23.0,5.1,81.5,7.3,0.75,35609.0,94.0,2.4,90.0,509.0,14.87,77.0,89.0,18.1,37044.891\\nFrance,12.0,5.0,3.5,0.5,73.0,8.15,64.0,0.6,28799.0,48741.0,21.0,6.5,82.1,6.5,3.99,40242.0,87.0,1.8,67.0,500.0,15.33,80.0,82.0,16.4,37675.006\\nBelgium,21.0,6.6,4.5,2.0,72.0,4.57,62.0,1.1,28307.0,83876.0,21.0,5.0,80.5,6.9,3.88,48082.0,94.0,2.2,74.0,509.0,15.71,89.0,87.0,18.9,40106.632000000005\\nGermany,16.0,3.6,4.5,0.1,86.0,5.25,73.0,0.5,31252.0,50394.0,21.0,3.1,81.0,7.0,2.37,43682.0,94.0,1.8,65.0,515.0,15.31,72.0,95.0,18.2,40996.511\\nFinland,15.0,2.4,9.0,0.6,85.0,3.58,69.0,1.4,27927.0,18761.0,22.0,6.9,80.7,7.4,1.73,40060.0,95.0,1.9,65.0,529.0,14.89,69.0,94.0,19.7,41973.988\\nCanada,15.0,1.3,10.5,0.2,89.0,3.94,72.0,1.5,29365.0,67913.0,21.0,6.4,81.5,7.3,0.9,46911.0,92.0,2.5,89.0,522.0,14.25,61.0,91.0,17.2,43331.960999999996\\nNetherlands,30.0,4.9,6.1,0.0,73.0,0.45,74.0,0.9,27888.0,77961.0,19.0,4.5,81.2,7.3,2.4,47590.0,90.0,2.0,76.0,519.0,15.44,75.0,92.0,18.7,43603.115\\nAustria,27.0,3.4,7.1,1.0,83.0,7.61,72.0,0.4,31173.0,49887.0,21.0,3.9,81.0,6.9,1.19,45199.0,89.0,1.6,69.0,500.0,14.46,75.0,94.0,17.0,43724.030999999995\\nUnited Kingdom,13.0,1.9,11.5,0.2,78.0,12.7,71.0,0.3,27029.0,60778.0,23.0,5.2,81.0,6.8,2.77,41192.0,91.0,1.9,74.0,502.0,14.83,66.0,88.0,16.4,43770.687999999995\\nSweden,10.0,5.1,10.9,0.0,88.0,1.13,74.0,0.7,29185.0,60328.0,20.0,6.5,81.8,7.2,1.37,40818.0,92.0,1.7,81.0,482.0,15.11,86.0,95.0,19.3,49866.265999999996\\nIceland,18.0,2.7,5.1,0.4,71.0,12.25,82.0,0.3,23965.0,43045.0,24.0,4.1,83.0,7.5,1.18,55716.0,96.0,1.5,77.0,484.0,14.61,81.0,97.0,19.8,50854.583\\nAustralia,13.0,2.1,10.5,1.1,76.0,14.02,72.0,0.8,31588.0,47657.0,20.0,4.8,82.1,7.3,1.08,50449.0,92.0,2.3,85.0,512.0,14.41,93.0,91.0,19.4,50961.865\\nIreland,13.0,2.6,9.0,0.2,75.0,4.2,60.0,0.8,23917.0,31580.0,19.0,5.9,81.0,7.0,8.39,49506.0,96.0,2.1,82.0,516.0,15.19,70.0,80.0,17.6,51350.744000000006\\nDenmark,15.0,3.9,7.0,0.9,78.0,2.03,73.0,0.3,26491.0,44488.0,24.0,5.6,80.1,7.5,1.78,48347.0,95.0,1.9,72.0,498.0,16.06,88.0,94.0,19.4,52114.165\\nUnited States,18.0,1.5,8.3,0.1,89.0,11.3,67.0,5.2,41355.0,145769.0,18.0,5.9,78.7,7.2,1.91,56340.0,90.0,2.4,88.0,492.0,14.27,68.0,85.0,17.2,55805.204000000005\\n'}"
            ]
          },
          "metadata": {},
          "execution_count": 2
        }
      ]
    },
    {
      "cell_type": "code",
      "metadata": {
        "id": "-Yyt9P1Cxc1W"
      },
      "source": [
        "df = pd.read_csv('lifesat_extended.csv')\n",
        "df = df.set_index('Country')\n",
        "df_test = df.loc[['Japan']]\n",
        "df = df.drop(['Japan'])"
      ],
      "execution_count": null,
      "outputs": []
    },
    {
      "cell_type": "code",
      "metadata": {
        "id": "2sNIm_oTMi0v"
      },
      "source": [
        "X = df[['GDP per capita', 'Employment rate']]\n",
        "y = df['Life satisfaction']"
      ],
      "execution_count": null,
      "outputs": []
    },
    {
      "cell_type": "code",
      "metadata": {
        "id": "u2FCQCcCNHXM",
        "colab": {
          "base_uri": "https://localhost:8080/"
        },
        "outputId": "16499c62-725f-4083-a2c7-414b52d3fe59"
      },
      "source": [
        "X.loc['Korea']"
      ],
      "execution_count": null,
      "outputs": [
        {
          "output_type": "execute_result",
          "data": {
            "text/plain": [
              "GDP per capita     27195.197\n",
              "Employment rate       64.000\n",
              "Name: Korea, dtype: float64"
            ]
          },
          "metadata": {},
          "execution_count": 5
        }
      ]
    },
    {
      "cell_type": "markdown",
      "source": [
        "## 演習問題の答え"
      ],
      "metadata": {
        "id": "zS0wVUdYOGIz"
      }
    },
    {
      "cell_type": "markdown",
      "metadata": {
        "id": "YD_dx8JyOL-s"
      },
      "source": [
        "* 演習問題5-1： 一人当たりのGDPが、韓国に最も近い国を求めてみよう。"
      ]
    },
    {
      "cell_type": "markdown",
      "source": [
        "**韓国のGDP per capitaとの差の絶対値を計算して、データフレームに新たな列として追加する。**"
      ],
      "metadata": {
        "id": "pRw8JzbZETL_"
      }
    },
    {
      "cell_type": "code",
      "metadata": {
        "id": "ZCOzivS2NjCa",
        "colab": {
          "base_uri": "https://localhost:8080/"
        },
        "outputId": "544f43cb-7ae7-4154-b8b1-a3b54e60f529"
      },
      "source": [
        "feature_name = 'GDP per capita'\n",
        "X[feature_name + ' abs diff'] = (X[feature_name] - X[feature_name]['Korea']).abs()"
      ],
      "execution_count": null,
      "outputs": [
        {
          "output_type": "stream",
          "name": "stderr",
          "text": [
            "<ipython-input-6-340244dfa9b3>:2: SettingWithCopyWarning: \n",
            "A value is trying to be set on a copy of a slice from a DataFrame.\n",
            "Try using .loc[row_indexer,col_indexer] = value instead\n",
            "\n",
            "See the caveats in the documentation: https://pandas.pydata.org/pandas-docs/stable/user_guide/indexing.html#returning-a-view-versus-a-copy\n",
            "  X[feature_name + ' abs diff'] = (X[feature_name] - X[feature_name]['Korea']).abs()\n"
          ]
        }
      ]
    },
    {
      "cell_type": "code",
      "source": [
        "X"
      ],
      "metadata": {
        "colab": {
          "base_uri": "https://localhost:8080/",
          "height": 959
        },
        "id": "-f-F9XCqzXV1",
        "outputId": "384a96f5-0579-4435-d9cb-347603667fb0"
      },
      "execution_count": null,
      "outputs": [
        {
          "output_type": "execute_result",
          "data": {
            "text/plain": [
              "                 GDP per capita  Employment rate  GDP per capita abs diff\n",
              "Country                                                                  \n",
              "Russia                 9054.914             69.0                18140.283\n",
              "Turkey                 9437.372             50.0                17757.825\n",
              "Hungary               12239.894             58.0                14955.303\n",
              "Poland                12495.334             60.0                14699.863\n",
              "Slovak Republic       15991.736             60.0                11203.461\n",
              "Estonia               17288.083             68.0                 9907.114\n",
              "Greece                18064.288             49.0                 9130.909\n",
              "Portugal              19121.592             61.0                 8073.605\n",
              "Slovenia              20732.482             63.0                 6462.715\n",
              "Spain                 25864.721             56.0                 1330.476\n",
              "Korea                 27195.197             64.0                    0.000\n",
              "Italy                 29866.581             56.0                 2671.384\n",
              "Israel                35343.336             67.0                 8148.139\n",
              "New Zealand           37044.891             73.0                 9849.694\n",
              "France                37675.006             64.0                10479.809\n",
              "Belgium               40106.632             62.0                12911.435\n",
              "Germany               40996.511             73.0                13801.314\n",
              "Finland               41973.988             69.0                14778.791\n",
              "Canada                43331.961             72.0                16136.764\n",
              "Netherlands           43603.115             74.0                16407.918\n",
              "Austria               43724.031             72.0                16528.834\n",
              "United Kingdom        43770.688             71.0                16575.491\n",
              "Sweden                49866.266             74.0                22671.069\n",
              "Iceland               50854.583             82.0                23659.386\n",
              "Australia             50961.865             72.0                23766.668\n",
              "Ireland               51350.744             60.0                24155.547\n",
              "Denmark               52114.165             73.0                24918.968\n",
              "United States         55805.204             67.0                28610.007"
            ],
            "text/html": [
              "\n",
              "  <div id=\"df-cccf9981-56a3-4a54-850e-a6798a4769fe\">\n",
              "    <div class=\"colab-df-container\">\n",
              "      <div>\n",
              "<style scoped>\n",
              "    .dataframe tbody tr th:only-of-type {\n",
              "        vertical-align: middle;\n",
              "    }\n",
              "\n",
              "    .dataframe tbody tr th {\n",
              "        vertical-align: top;\n",
              "    }\n",
              "\n",
              "    .dataframe thead th {\n",
              "        text-align: right;\n",
              "    }\n",
              "</style>\n",
              "<table border=\"1\" class=\"dataframe\">\n",
              "  <thead>\n",
              "    <tr style=\"text-align: right;\">\n",
              "      <th></th>\n",
              "      <th>GDP per capita</th>\n",
              "      <th>Employment rate</th>\n",
              "      <th>GDP per capita abs diff</th>\n",
              "    </tr>\n",
              "    <tr>\n",
              "      <th>Country</th>\n",
              "      <th></th>\n",
              "      <th></th>\n",
              "      <th></th>\n",
              "    </tr>\n",
              "  </thead>\n",
              "  <tbody>\n",
              "    <tr>\n",
              "      <th>Russia</th>\n",
              "      <td>9054.914</td>\n",
              "      <td>69.0</td>\n",
              "      <td>18140.283</td>\n",
              "    </tr>\n",
              "    <tr>\n",
              "      <th>Turkey</th>\n",
              "      <td>9437.372</td>\n",
              "      <td>50.0</td>\n",
              "      <td>17757.825</td>\n",
              "    </tr>\n",
              "    <tr>\n",
              "      <th>Hungary</th>\n",
              "      <td>12239.894</td>\n",
              "      <td>58.0</td>\n",
              "      <td>14955.303</td>\n",
              "    </tr>\n",
              "    <tr>\n",
              "      <th>Poland</th>\n",
              "      <td>12495.334</td>\n",
              "      <td>60.0</td>\n",
              "      <td>14699.863</td>\n",
              "    </tr>\n",
              "    <tr>\n",
              "      <th>Slovak Republic</th>\n",
              "      <td>15991.736</td>\n",
              "      <td>60.0</td>\n",
              "      <td>11203.461</td>\n",
              "    </tr>\n",
              "    <tr>\n",
              "      <th>Estonia</th>\n",
              "      <td>17288.083</td>\n",
              "      <td>68.0</td>\n",
              "      <td>9907.114</td>\n",
              "    </tr>\n",
              "    <tr>\n",
              "      <th>Greece</th>\n",
              "      <td>18064.288</td>\n",
              "      <td>49.0</td>\n",
              "      <td>9130.909</td>\n",
              "    </tr>\n",
              "    <tr>\n",
              "      <th>Portugal</th>\n",
              "      <td>19121.592</td>\n",
              "      <td>61.0</td>\n",
              "      <td>8073.605</td>\n",
              "    </tr>\n",
              "    <tr>\n",
              "      <th>Slovenia</th>\n",
              "      <td>20732.482</td>\n",
              "      <td>63.0</td>\n",
              "      <td>6462.715</td>\n",
              "    </tr>\n",
              "    <tr>\n",
              "      <th>Spain</th>\n",
              "      <td>25864.721</td>\n",
              "      <td>56.0</td>\n",
              "      <td>1330.476</td>\n",
              "    </tr>\n",
              "    <tr>\n",
              "      <th>Korea</th>\n",
              "      <td>27195.197</td>\n",
              "      <td>64.0</td>\n",
              "      <td>0.000</td>\n",
              "    </tr>\n",
              "    <tr>\n",
              "      <th>Italy</th>\n",
              "      <td>29866.581</td>\n",
              "      <td>56.0</td>\n",
              "      <td>2671.384</td>\n",
              "    </tr>\n",
              "    <tr>\n",
              "      <th>Israel</th>\n",
              "      <td>35343.336</td>\n",
              "      <td>67.0</td>\n",
              "      <td>8148.139</td>\n",
              "    </tr>\n",
              "    <tr>\n",
              "      <th>New Zealand</th>\n",
              "      <td>37044.891</td>\n",
              "      <td>73.0</td>\n",
              "      <td>9849.694</td>\n",
              "    </tr>\n",
              "    <tr>\n",
              "      <th>France</th>\n",
              "      <td>37675.006</td>\n",
              "      <td>64.0</td>\n",
              "      <td>10479.809</td>\n",
              "    </tr>\n",
              "    <tr>\n",
              "      <th>Belgium</th>\n",
              "      <td>40106.632</td>\n",
              "      <td>62.0</td>\n",
              "      <td>12911.435</td>\n",
              "    </tr>\n",
              "    <tr>\n",
              "      <th>Germany</th>\n",
              "      <td>40996.511</td>\n",
              "      <td>73.0</td>\n",
              "      <td>13801.314</td>\n",
              "    </tr>\n",
              "    <tr>\n",
              "      <th>Finland</th>\n",
              "      <td>41973.988</td>\n",
              "      <td>69.0</td>\n",
              "      <td>14778.791</td>\n",
              "    </tr>\n",
              "    <tr>\n",
              "      <th>Canada</th>\n",
              "      <td>43331.961</td>\n",
              "      <td>72.0</td>\n",
              "      <td>16136.764</td>\n",
              "    </tr>\n",
              "    <tr>\n",
              "      <th>Netherlands</th>\n",
              "      <td>43603.115</td>\n",
              "      <td>74.0</td>\n",
              "      <td>16407.918</td>\n",
              "    </tr>\n",
              "    <tr>\n",
              "      <th>Austria</th>\n",
              "      <td>43724.031</td>\n",
              "      <td>72.0</td>\n",
              "      <td>16528.834</td>\n",
              "    </tr>\n",
              "    <tr>\n",
              "      <th>United Kingdom</th>\n",
              "      <td>43770.688</td>\n",
              "      <td>71.0</td>\n",
              "      <td>16575.491</td>\n",
              "    </tr>\n",
              "    <tr>\n",
              "      <th>Sweden</th>\n",
              "      <td>49866.266</td>\n",
              "      <td>74.0</td>\n",
              "      <td>22671.069</td>\n",
              "    </tr>\n",
              "    <tr>\n",
              "      <th>Iceland</th>\n",
              "      <td>50854.583</td>\n",
              "      <td>82.0</td>\n",
              "      <td>23659.386</td>\n",
              "    </tr>\n",
              "    <tr>\n",
              "      <th>Australia</th>\n",
              "      <td>50961.865</td>\n",
              "      <td>72.0</td>\n",
              "      <td>23766.668</td>\n",
              "    </tr>\n",
              "    <tr>\n",
              "      <th>Ireland</th>\n",
              "      <td>51350.744</td>\n",
              "      <td>60.0</td>\n",
              "      <td>24155.547</td>\n",
              "    </tr>\n",
              "    <tr>\n",
              "      <th>Denmark</th>\n",
              "      <td>52114.165</td>\n",
              "      <td>73.0</td>\n",
              "      <td>24918.968</td>\n",
              "    </tr>\n",
              "    <tr>\n",
              "      <th>United States</th>\n",
              "      <td>55805.204</td>\n",
              "      <td>67.0</td>\n",
              "      <td>28610.007</td>\n",
              "    </tr>\n",
              "  </tbody>\n",
              "</table>\n",
              "</div>\n",
              "      <button class=\"colab-df-convert\" onclick=\"convertToInteractive('df-cccf9981-56a3-4a54-850e-a6798a4769fe')\"\n",
              "              title=\"Convert this dataframe to an interactive table.\"\n",
              "              style=\"display:none;\">\n",
              "        \n",
              "  <svg xmlns=\"http://www.w3.org/2000/svg\" height=\"24px\"viewBox=\"0 0 24 24\"\n",
              "       width=\"24px\">\n",
              "    <path d=\"M0 0h24v24H0V0z\" fill=\"none\"/>\n",
              "    <path d=\"M18.56 5.44l.94 2.06.94-2.06 2.06-.94-2.06-.94-.94-2.06-.94 2.06-2.06.94zm-11 1L8.5 8.5l.94-2.06 2.06-.94-2.06-.94L8.5 2.5l-.94 2.06-2.06.94zm10 10l.94 2.06.94-2.06 2.06-.94-2.06-.94-.94-2.06-.94 2.06-2.06.94z\"/><path d=\"M17.41 7.96l-1.37-1.37c-.4-.4-.92-.59-1.43-.59-.52 0-1.04.2-1.43.59L10.3 9.45l-7.72 7.72c-.78.78-.78 2.05 0 2.83L4 21.41c.39.39.9.59 1.41.59.51 0 1.02-.2 1.41-.59l7.78-7.78 2.81-2.81c.8-.78.8-2.07 0-2.86zM5.41 20L4 18.59l7.72-7.72 1.47 1.35L5.41 20z\"/>\n",
              "  </svg>\n",
              "      </button>\n",
              "      \n",
              "  <style>\n",
              "    .colab-df-container {\n",
              "      display:flex;\n",
              "      flex-wrap:wrap;\n",
              "      gap: 12px;\n",
              "    }\n",
              "\n",
              "    .colab-df-convert {\n",
              "      background-color: #E8F0FE;\n",
              "      border: none;\n",
              "      border-radius: 50%;\n",
              "      cursor: pointer;\n",
              "      display: none;\n",
              "      fill: #1967D2;\n",
              "      height: 32px;\n",
              "      padding: 0 0 0 0;\n",
              "      width: 32px;\n",
              "    }\n",
              "\n",
              "    .colab-df-convert:hover {\n",
              "      background-color: #E2EBFA;\n",
              "      box-shadow: 0px 1px 2px rgba(60, 64, 67, 0.3), 0px 1px 3px 1px rgba(60, 64, 67, 0.15);\n",
              "      fill: #174EA6;\n",
              "    }\n",
              "\n",
              "    [theme=dark] .colab-df-convert {\n",
              "      background-color: #3B4455;\n",
              "      fill: #D2E3FC;\n",
              "    }\n",
              "\n",
              "    [theme=dark] .colab-df-convert:hover {\n",
              "      background-color: #434B5C;\n",
              "      box-shadow: 0px 1px 3px 1px rgba(0, 0, 0, 0.15);\n",
              "      filter: drop-shadow(0px 1px 2px rgba(0, 0, 0, 0.3));\n",
              "      fill: #FFFFFF;\n",
              "    }\n",
              "  </style>\n",
              "\n",
              "      <script>\n",
              "        const buttonEl =\n",
              "          document.querySelector('#df-cccf9981-56a3-4a54-850e-a6798a4769fe button.colab-df-convert');\n",
              "        buttonEl.style.display =\n",
              "          google.colab.kernel.accessAllowed ? 'block' : 'none';\n",
              "\n",
              "        async function convertToInteractive(key) {\n",
              "          const element = document.querySelector('#df-cccf9981-56a3-4a54-850e-a6798a4769fe');\n",
              "          const dataTable =\n",
              "            await google.colab.kernel.invokeFunction('convertToInteractive',\n",
              "                                                     [key], {});\n",
              "          if (!dataTable) return;\n",
              "\n",
              "          const docLinkHtml = 'Like what you see? Visit the ' +\n",
              "            '<a target=\"_blank\" href=https://colab.research.google.com/notebooks/data_table.ipynb>data table notebook</a>'\n",
              "            + ' to learn more about interactive tables.';\n",
              "          element.innerHTML = '';\n",
              "          dataTable['output_type'] = 'display_data';\n",
              "          await google.colab.output.renderOutput(dataTable, element);\n",
              "          const docLink = document.createElement('div');\n",
              "          docLink.innerHTML = docLinkHtml;\n",
              "          element.appendChild(docLink);\n",
              "        }\n",
              "      </script>\n",
              "    </div>\n",
              "  </div>\n",
              "  "
            ]
          },
          "metadata": {},
          "execution_count": 7
        }
      ]
    },
    {
      "cell_type": "markdown",
      "source": [
        "**韓国のGDP per capitaとの差の絶対値を最小にする国を求める**"
      ],
      "metadata": {
        "id": "owSbuJT2EzTv"
      }
    },
    {
      "cell_type": "code",
      "source": [
        "X[feature_name + ' abs diff'].drop('Korea').idxmin()"
      ],
      "metadata": {
        "colab": {
          "base_uri": "https://localhost:8080/",
          "height": 35
        },
        "id": "S0p1A1oRz6LI",
        "outputId": "3825608b-2494-4c56-8047-d00776566ad2"
      },
      "execution_count": null,
      "outputs": [
        {
          "output_type": "execute_result",
          "data": {
            "text/plain": [
              "'Spain'"
            ],
            "application/vnd.google.colaboratory.intrinsic+json": {
              "type": "string"
            }
          },
          "metadata": {},
          "execution_count": 8
        }
      ]
    },
    {
      "cell_type": "markdown",
      "metadata": {
        "id": "uo6zKQu-Qdpe"
      },
      "source": [
        "* 演習問題4-2： 上で求めた国の生活満足度を、韓国の生活満足度の予測値としたとする。このとき、予測誤差はいくらになるか。"
      ]
    },
    {
      "cell_type": "markdown",
      "source": [
        "**データフレームyから、上で求めた国(スペイン)に対応する値を取り出し、予測誤差、つまり、韓国の生活満足度からのズレを求める。**"
      ],
      "metadata": {
        "id": "UG-vGdAlFBuI"
      }
    },
    {
      "cell_type": "code",
      "metadata": {
        "id": "DulsnyugQcNe",
        "colab": {
          "base_uri": "https://localhost:8080/"
        },
        "outputId": "769bf485-f590-49d9-b102-3c8bd6d78a48"
      },
      "source": [
        "abs(y[X[feature_name + ' abs diff'].drop('Korea').idxmin()] - y['Korea'])"
      ],
      "execution_count": null,
      "outputs": [
        {
          "output_type": "execute_result",
          "data": {
            "text/plain": [
              "0.7000000000000002"
            ]
          },
          "metadata": {},
          "execution_count": 9
        }
      ]
    },
    {
      "cell_type": "markdown",
      "metadata": {
        "id": "eUxcbESySVeD"
      },
      "source": [
        "* 演習問題4-3： 韓国以外の全ての国について、一人当たりのGDPを使って計算される韓国との距離を、求めてみよう。"
      ]
    },
    {
      "cell_type": "markdown",
      "source": [
        "**これは先ほどすでに求めてある。**"
      ],
      "metadata": {
        "id": "FJbHbDeRFicK"
      }
    },
    {
      "cell_type": "code",
      "metadata": {
        "id": "Zoj2kgnaSq62",
        "colab": {
          "base_uri": "https://localhost:8080/"
        },
        "outputId": "a7ba1cc0-cc37-4f8a-ae63-c1883e88a1e5"
      },
      "source": [
        "X[feature_name + ' abs diff']"
      ],
      "execution_count": null,
      "outputs": [
        {
          "output_type": "execute_result",
          "data": {
            "text/plain": [
              "Country\n",
              "Russia             18140.283\n",
              "Turkey             17757.825\n",
              "Hungary            14955.303\n",
              "Poland             14699.863\n",
              "Slovak Republic    11203.461\n",
              "Estonia             9907.114\n",
              "Greece              9130.909\n",
              "Portugal            8073.605\n",
              "Slovenia            6462.715\n",
              "Spain               1330.476\n",
              "Korea                  0.000\n",
              "Italy               2671.384\n",
              "Israel              8148.139\n",
              "New Zealand         9849.694\n",
              "France             10479.809\n",
              "Belgium            12911.435\n",
              "Germany            13801.314\n",
              "Finland            14778.791\n",
              "Canada             16136.764\n",
              "Netherlands        16407.918\n",
              "Austria            16528.834\n",
              "United Kingdom     16575.491\n",
              "Sweden             22671.069\n",
              "Iceland            23659.386\n",
              "Australia          23766.668\n",
              "Ireland            24155.547\n",
              "Denmark            24918.968\n",
              "United States      28610.007\n",
              "Name: GDP per capita abs diff, dtype: float64"
            ]
          },
          "metadata": {},
          "execution_count": 10
        }
      ]
    },
    {
      "cell_type": "markdown",
      "metadata": {
        "id": "uj38fHOiObSp"
      },
      "source": [
        "* 演習問題4-4：韓国の一人当たりのGDPに近い順に、他の全ての国を並べ替えて、表示させてみよう。"
      ]
    },
    {
      "cell_type": "markdown",
      "source": [
        "**sort_values()メソッドを使って昇順に並べ替える。**"
      ],
      "metadata": {
        "id": "FEBHuze2FmiM"
      }
    },
    {
      "cell_type": "code",
      "metadata": {
        "id": "-mm5cZiSOwci",
        "colab": {
          "base_uri": "https://localhost:8080/"
        },
        "outputId": "eafd2cf4-4c8d-4561-e39f-59ba3f877ce8"
      },
      "source": [
        "sorted_indices = X[feature_name + ' abs diff'].drop('Korea').sort_values().index\n",
        "print(sorted_indices)"
      ],
      "execution_count": null,
      "outputs": [
        {
          "output_type": "stream",
          "name": "stdout",
          "text": [
            "Index(['Spain', 'Italy', 'Slovenia', 'Portugal', 'Israel', 'Greece',\n",
            "       'New Zealand', 'Estonia', 'France', 'Slovak Republic', 'Belgium',\n",
            "       'Germany', 'Poland', 'Finland', 'Hungary', 'Canada', 'Netherlands',\n",
            "       'Austria', 'United Kingdom', 'Turkey', 'Russia', 'Sweden', 'Iceland',\n",
            "       'Australia', 'Ireland', 'Denmark', 'United States'],\n",
            "      dtype='object', name='Country')\n"
          ]
        }
      ]
    },
    {
      "cell_type": "markdown",
      "metadata": {
        "id": "hLgu1q5YPg4o"
      },
      "source": [
        "* 演習問題4-5：変数kに、求めるべき近傍の個数が下のようにセットされているとする。韓国のk個の近傍の国名を、韓国に近い順に表示させてみよう。"
      ]
    },
    {
      "cell_type": "markdown",
      "source": [
        "**上で並べ替えた国名の列から、上位k件だけを表示する。**"
      ],
      "metadata": {
        "id": "ohAoHYDlFyfy"
      }
    },
    {
      "cell_type": "code",
      "metadata": {
        "id": "suZEBNaDO7n8",
        "colab": {
          "base_uri": "https://localhost:8080/"
        },
        "outputId": "9079f01a-e33c-4321-95cc-43df1ecdb5ac"
      },
      "source": [
        "k = 5\n",
        "print(sorted_indices[:k])"
      ],
      "execution_count": null,
      "outputs": [
        {
          "output_type": "stream",
          "name": "stdout",
          "text": [
            "Index(['Spain', 'Italy', 'Slovenia', 'Portugal', 'Israel'], dtype='object', name='Country')\n"
          ]
        }
      ]
    },
    {
      "cell_type": "markdown",
      "metadata": {
        "id": "b89AK_rnQJFg"
      },
      "source": [
        "* 演習問題4-6：上で求めたk個の国について、それらの国の生活満足度の平均値を求めてみよう。"
      ]
    },
    {
      "cell_type": "markdown",
      "source": [
        "**上で取り出した近傍kカ国に対応するyの値を取り出し、平均値を計算する。これが予測値になる。**"
      ],
      "metadata": {
        "id": "UBOQzMabF-uy"
      }
    },
    {
      "cell_type": "code",
      "metadata": {
        "id": "kovx7LeBQa3i",
        "colab": {
          "base_uri": "https://localhost:8080/"
        },
        "outputId": "26474af1-3f25-4305-d256-d8d6ae704766"
      },
      "source": [
        "y[sorted_indices[:k]].mean()"
      ],
      "execution_count": null,
      "outputs": [
        {
          "output_type": "execute_result",
          "data": {
            "text/plain": [
              "6.139999999999999"
            ]
          },
          "metadata": {},
          "execution_count": 13
        }
      ]
    },
    {
      "cell_type": "markdown",
      "metadata": {
        "id": "25Yto3BNQ0zR"
      },
      "source": [
        "* 演習問題4-7：上の平均値を、韓国の生活満足度の予測値とした場合、予測誤差はいくらになるか。"
      ]
    },
    {
      "cell_type": "markdown",
      "source": [
        "**正解、つまり、韓国の生活満足度から、上で求めた予測値がどれだけズレているかを計算する。**"
      ],
      "metadata": {
        "id": "30CKoV_7GJ1a"
      }
    },
    {
      "cell_type": "code",
      "metadata": {
        "id": "C9S-4DstQ7_q",
        "colab": {
          "base_uri": "https://localhost:8080/"
        },
        "outputId": "1a2e8ee4-b364-40b8-ada4-c53df73c8e8e"
      },
      "source": [
        "abs(y['Korea'] - y[sorted_indices[:k]].mean())"
      ],
      "execution_count": null,
      "outputs": [
        {
          "output_type": "execute_result",
          "data": {
            "text/plain": [
              "0.33999999999999897"
            ]
          },
          "metadata": {},
          "execution_count": 14
        }
      ]
    },
    {
      "cell_type": "markdown",
      "source": [
        "# 課題5-1\n",
        "* 変数kの値を、1から27まで変化させたとき、最も予測誤差が小さくなるのは、kの値がいくらのときか。"
      ],
      "metadata": {
        "id": "F8Y_ZoRjiJ0O"
      }
    },
    {
      "cell_type": "code",
      "source": [
        "# 改めて計算。\n",
        "feature_name = 'GDP per capita'\n",
        "X[feature_name + ' abs diff'] = (X[feature_name] - X[feature_name]['Korea']).abs()"
      ],
      "metadata": {
        "colab": {
          "base_uri": "https://localhost:8080/"
        },
        "id": "JI8Yi9edRWGM",
        "outputId": "b1a10f0b-d99a-48f6-8e85-996a81e57e1f"
      },
      "execution_count": null,
      "outputs": [
        {
          "output_type": "stream",
          "name": "stderr",
          "text": [
            "<ipython-input-15-340244dfa9b3>:2: SettingWithCopyWarning: \n",
            "A value is trying to be set on a copy of a slice from a DataFrame.\n",
            "Try using .loc[row_indexer,col_indexer] = value instead\n",
            "\n",
            "See the caveats in the documentation: https://pandas.pydata.org/pandas-docs/stable/user_guide/indexing.html#returning-a-view-versus-a-copy\n",
            "  X[feature_name + ' abs diff'] = (X[feature_name] - X[feature_name]['Korea']).abs()\n"
          ]
        }
      ]
    },
    {
      "cell_type": "code",
      "source": [
        "sorted_indices = X.drop('Korea').sort_values(feature_name + ' abs diff').index\n",
        "errors = []\n",
        "for k in range(1, 28):\n",
        "  #print('    ', ', '.join([f\"{index}:{X.loc[index][feature_name + ' abs diff']:.1f}\" for index in sorted_indices[:k]]))\n",
        "  error = abs(y['Korea'] - y[sorted_indices[:k]].mean())\n",
        "  print(f\"k={k}のときの予測誤差:{error:.4f}\")\n",
        "  errors.append(error)\n",
        "errors = np.array(errors)\n",
        "print('-'*80)\n",
        "print(f'best k={(errors.argsort() + 1)[0]}')"
      ],
      "metadata": {
        "id": "VBZZgwhwidYM",
        "colab": {
          "base_uri": "https://localhost:8080/"
        },
        "outputId": "7981b389-dc33-4a52-8fc4-aad432f2fccd"
      },
      "execution_count": null,
      "outputs": [
        {
          "output_type": "stream",
          "name": "stdout",
          "text": [
            "k=1のときの予測誤差:0.7000\n",
            "k=2のときの予測誤差:0.4500\n",
            "k=3のときの予測誤差:0.2667\n",
            "k=4のときの予測誤差:0.0250\n",
            "k=5のときの予測誤差:0.3400\n",
            "k=6のときの予測誤差:0.1167\n",
            "k=7のときの予測誤差:0.3143\n",
            "k=8のときの予測誤差:0.2500\n",
            "k=9のときの予測誤差:0.3000\n",
            "k=10のときの予測誤差:0.3000\n",
            "k=11のときの予測誤差:0.3727\n",
            "k=12のときの予測誤差:0.4417\n",
            "k=13のときの予測誤差:0.4077\n",
            "k=14のときの予測誤差:0.4929\n",
            "k=15のときの予測誤差:0.4000\n",
            "k=16のときの予測誤差:0.4688\n",
            "k=17のときの予測誤差:0.5294\n",
            "k=18のときの予測誤差:0.5611\n",
            "k=19のときの予測誤差:0.5842\n",
            "k=20のときの予測誤差:0.5450\n",
            "k=21のときの予測誤差:0.5286\n",
            "k=22のときの予測誤差:0.5682\n",
            "k=23のときの予測誤差:0.6174\n",
            "k=24のときの予測誤差:0.6542\n",
            "k=25のときの予測誤差:0.6760\n",
            "k=26のときの予測誤差:0.7154\n",
            "k=27のときの予測誤差:0.7407\n",
            "--------------------------------------------------------------------------------\n",
            "best k=4\n"
          ]
        }
      ]
    },
    {
      "cell_type": "markdown",
      "source": [
        "# 課題5-2\n",
        "* 一人当たりのGDPを使うのではなく、雇用率を使って生活満足度の予測を行ったとき、最も予測誤差を小さくするkの値はいくらか。"
      ],
      "metadata": {
        "id": "yhv5UMaCirLK"
      }
    },
    {
      "cell_type": "code",
      "source": [
        "feature_name = 'Employment rate'\n",
        "X[feature_name + ' abs diff'] = (X[feature_name] - X[feature_name]['Korea']).abs()"
      ],
      "metadata": {
        "id": "u1SGcgBVi5Vb",
        "colab": {
          "base_uri": "https://localhost:8080/"
        },
        "outputId": "887771fe-e4e5-49da-cfc2-6057722fe1ad"
      },
      "execution_count": null,
      "outputs": [
        {
          "output_type": "stream",
          "name": "stderr",
          "text": [
            "<ipython-input-17-eded3972d189>:2: SettingWithCopyWarning: \n",
            "A value is trying to be set on a copy of a slice from a DataFrame.\n",
            "Try using .loc[row_indexer,col_indexer] = value instead\n",
            "\n",
            "See the caveats in the documentation: https://pandas.pydata.org/pandas-docs/stable/user_guide/indexing.html#returning-a-view-versus-a-copy\n",
            "  X[feature_name + ' abs diff'] = (X[feature_name] - X[feature_name]['Korea']).abs()\n"
          ]
        }
      ]
    },
    {
      "cell_type": "code",
      "source": [
        "X"
      ],
      "metadata": {
        "colab": {
          "base_uri": "https://localhost:8080/",
          "height": 959
        },
        "id": "HxtV39b-2rgP",
        "outputId": "06cf7464-d2f4-45ad-ad9e-152b34ef4604"
      },
      "execution_count": null,
      "outputs": [
        {
          "output_type": "execute_result",
          "data": {
            "text/plain": [
              "                 GDP per capita  Employment rate  GDP per capita abs diff  \\\n",
              "Country                                                                     \n",
              "Russia                 9054.914             69.0                18140.283   \n",
              "Turkey                 9437.372             50.0                17757.825   \n",
              "Hungary               12239.894             58.0                14955.303   \n",
              "Poland                12495.334             60.0                14699.863   \n",
              "Slovak Republic       15991.736             60.0                11203.461   \n",
              "Estonia               17288.083             68.0                 9907.114   \n",
              "Greece                18064.288             49.0                 9130.909   \n",
              "Portugal              19121.592             61.0                 8073.605   \n",
              "Slovenia              20732.482             63.0                 6462.715   \n",
              "Spain                 25864.721             56.0                 1330.476   \n",
              "Korea                 27195.197             64.0                    0.000   \n",
              "Italy                 29866.581             56.0                 2671.384   \n",
              "Israel                35343.336             67.0                 8148.139   \n",
              "New Zealand           37044.891             73.0                 9849.694   \n",
              "France                37675.006             64.0                10479.809   \n",
              "Belgium               40106.632             62.0                12911.435   \n",
              "Germany               40996.511             73.0                13801.314   \n",
              "Finland               41973.988             69.0                14778.791   \n",
              "Canada                43331.961             72.0                16136.764   \n",
              "Netherlands           43603.115             74.0                16407.918   \n",
              "Austria               43724.031             72.0                16528.834   \n",
              "United Kingdom        43770.688             71.0                16575.491   \n",
              "Sweden                49866.266             74.0                22671.069   \n",
              "Iceland               50854.583             82.0                23659.386   \n",
              "Australia             50961.865             72.0                23766.668   \n",
              "Ireland               51350.744             60.0                24155.547   \n",
              "Denmark               52114.165             73.0                24918.968   \n",
              "United States         55805.204             67.0                28610.007   \n",
              "\n",
              "                 Employment rate abs diff  \n",
              "Country                                    \n",
              "Russia                                5.0  \n",
              "Turkey                               14.0  \n",
              "Hungary                               6.0  \n",
              "Poland                                4.0  \n",
              "Slovak Republic                       4.0  \n",
              "Estonia                               4.0  \n",
              "Greece                               15.0  \n",
              "Portugal                              3.0  \n",
              "Slovenia                              1.0  \n",
              "Spain                                 8.0  \n",
              "Korea                                 0.0  \n",
              "Italy                                 8.0  \n",
              "Israel                                3.0  \n",
              "New Zealand                           9.0  \n",
              "France                                0.0  \n",
              "Belgium                               2.0  \n",
              "Germany                               9.0  \n",
              "Finland                               5.0  \n",
              "Canada                                8.0  \n",
              "Netherlands                          10.0  \n",
              "Austria                               8.0  \n",
              "United Kingdom                        7.0  \n",
              "Sweden                               10.0  \n",
              "Iceland                              18.0  \n",
              "Australia                             8.0  \n",
              "Ireland                               4.0  \n",
              "Denmark                               9.0  \n",
              "United States                         3.0  "
            ],
            "text/html": [
              "\n",
              "  <div id=\"df-83d82aff-b3dd-45cb-a2d1-e803cfdf1763\">\n",
              "    <div class=\"colab-df-container\">\n",
              "      <div>\n",
              "<style scoped>\n",
              "    .dataframe tbody tr th:only-of-type {\n",
              "        vertical-align: middle;\n",
              "    }\n",
              "\n",
              "    .dataframe tbody tr th {\n",
              "        vertical-align: top;\n",
              "    }\n",
              "\n",
              "    .dataframe thead th {\n",
              "        text-align: right;\n",
              "    }\n",
              "</style>\n",
              "<table border=\"1\" class=\"dataframe\">\n",
              "  <thead>\n",
              "    <tr style=\"text-align: right;\">\n",
              "      <th></th>\n",
              "      <th>GDP per capita</th>\n",
              "      <th>Employment rate</th>\n",
              "      <th>GDP per capita abs diff</th>\n",
              "      <th>Employment rate abs diff</th>\n",
              "    </tr>\n",
              "    <tr>\n",
              "      <th>Country</th>\n",
              "      <th></th>\n",
              "      <th></th>\n",
              "      <th></th>\n",
              "      <th></th>\n",
              "    </tr>\n",
              "  </thead>\n",
              "  <tbody>\n",
              "    <tr>\n",
              "      <th>Russia</th>\n",
              "      <td>9054.914</td>\n",
              "      <td>69.0</td>\n",
              "      <td>18140.283</td>\n",
              "      <td>5.0</td>\n",
              "    </tr>\n",
              "    <tr>\n",
              "      <th>Turkey</th>\n",
              "      <td>9437.372</td>\n",
              "      <td>50.0</td>\n",
              "      <td>17757.825</td>\n",
              "      <td>14.0</td>\n",
              "    </tr>\n",
              "    <tr>\n",
              "      <th>Hungary</th>\n",
              "      <td>12239.894</td>\n",
              "      <td>58.0</td>\n",
              "      <td>14955.303</td>\n",
              "      <td>6.0</td>\n",
              "    </tr>\n",
              "    <tr>\n",
              "      <th>Poland</th>\n",
              "      <td>12495.334</td>\n",
              "      <td>60.0</td>\n",
              "      <td>14699.863</td>\n",
              "      <td>4.0</td>\n",
              "    </tr>\n",
              "    <tr>\n",
              "      <th>Slovak Republic</th>\n",
              "      <td>15991.736</td>\n",
              "      <td>60.0</td>\n",
              "      <td>11203.461</td>\n",
              "      <td>4.0</td>\n",
              "    </tr>\n",
              "    <tr>\n",
              "      <th>Estonia</th>\n",
              "      <td>17288.083</td>\n",
              "      <td>68.0</td>\n",
              "      <td>9907.114</td>\n",
              "      <td>4.0</td>\n",
              "    </tr>\n",
              "    <tr>\n",
              "      <th>Greece</th>\n",
              "      <td>18064.288</td>\n",
              "      <td>49.0</td>\n",
              "      <td>9130.909</td>\n",
              "      <td>15.0</td>\n",
              "    </tr>\n",
              "    <tr>\n",
              "      <th>Portugal</th>\n",
              "      <td>19121.592</td>\n",
              "      <td>61.0</td>\n",
              "      <td>8073.605</td>\n",
              "      <td>3.0</td>\n",
              "    </tr>\n",
              "    <tr>\n",
              "      <th>Slovenia</th>\n",
              "      <td>20732.482</td>\n",
              "      <td>63.0</td>\n",
              "      <td>6462.715</td>\n",
              "      <td>1.0</td>\n",
              "    </tr>\n",
              "    <tr>\n",
              "      <th>Spain</th>\n",
              "      <td>25864.721</td>\n",
              "      <td>56.0</td>\n",
              "      <td>1330.476</td>\n",
              "      <td>8.0</td>\n",
              "    </tr>\n",
              "    <tr>\n",
              "      <th>Korea</th>\n",
              "      <td>27195.197</td>\n",
              "      <td>64.0</td>\n",
              "      <td>0.000</td>\n",
              "      <td>0.0</td>\n",
              "    </tr>\n",
              "    <tr>\n",
              "      <th>Italy</th>\n",
              "      <td>29866.581</td>\n",
              "      <td>56.0</td>\n",
              "      <td>2671.384</td>\n",
              "      <td>8.0</td>\n",
              "    </tr>\n",
              "    <tr>\n",
              "      <th>Israel</th>\n",
              "      <td>35343.336</td>\n",
              "      <td>67.0</td>\n",
              "      <td>8148.139</td>\n",
              "      <td>3.0</td>\n",
              "    </tr>\n",
              "    <tr>\n",
              "      <th>New Zealand</th>\n",
              "      <td>37044.891</td>\n",
              "      <td>73.0</td>\n",
              "      <td>9849.694</td>\n",
              "      <td>9.0</td>\n",
              "    </tr>\n",
              "    <tr>\n",
              "      <th>France</th>\n",
              "      <td>37675.006</td>\n",
              "      <td>64.0</td>\n",
              "      <td>10479.809</td>\n",
              "      <td>0.0</td>\n",
              "    </tr>\n",
              "    <tr>\n",
              "      <th>Belgium</th>\n",
              "      <td>40106.632</td>\n",
              "      <td>62.0</td>\n",
              "      <td>12911.435</td>\n",
              "      <td>2.0</td>\n",
              "    </tr>\n",
              "    <tr>\n",
              "      <th>Germany</th>\n",
              "      <td>40996.511</td>\n",
              "      <td>73.0</td>\n",
              "      <td>13801.314</td>\n",
              "      <td>9.0</td>\n",
              "    </tr>\n",
              "    <tr>\n",
              "      <th>Finland</th>\n",
              "      <td>41973.988</td>\n",
              "      <td>69.0</td>\n",
              "      <td>14778.791</td>\n",
              "      <td>5.0</td>\n",
              "    </tr>\n",
              "    <tr>\n",
              "      <th>Canada</th>\n",
              "      <td>43331.961</td>\n",
              "      <td>72.0</td>\n",
              "      <td>16136.764</td>\n",
              "      <td>8.0</td>\n",
              "    </tr>\n",
              "    <tr>\n",
              "      <th>Netherlands</th>\n",
              "      <td>43603.115</td>\n",
              "      <td>74.0</td>\n",
              "      <td>16407.918</td>\n",
              "      <td>10.0</td>\n",
              "    </tr>\n",
              "    <tr>\n",
              "      <th>Austria</th>\n",
              "      <td>43724.031</td>\n",
              "      <td>72.0</td>\n",
              "      <td>16528.834</td>\n",
              "      <td>8.0</td>\n",
              "    </tr>\n",
              "    <tr>\n",
              "      <th>United Kingdom</th>\n",
              "      <td>43770.688</td>\n",
              "      <td>71.0</td>\n",
              "      <td>16575.491</td>\n",
              "      <td>7.0</td>\n",
              "    </tr>\n",
              "    <tr>\n",
              "      <th>Sweden</th>\n",
              "      <td>49866.266</td>\n",
              "      <td>74.0</td>\n",
              "      <td>22671.069</td>\n",
              "      <td>10.0</td>\n",
              "    </tr>\n",
              "    <tr>\n",
              "      <th>Iceland</th>\n",
              "      <td>50854.583</td>\n",
              "      <td>82.0</td>\n",
              "      <td>23659.386</td>\n",
              "      <td>18.0</td>\n",
              "    </tr>\n",
              "    <tr>\n",
              "      <th>Australia</th>\n",
              "      <td>50961.865</td>\n",
              "      <td>72.0</td>\n",
              "      <td>23766.668</td>\n",
              "      <td>8.0</td>\n",
              "    </tr>\n",
              "    <tr>\n",
              "      <th>Ireland</th>\n",
              "      <td>51350.744</td>\n",
              "      <td>60.0</td>\n",
              "      <td>24155.547</td>\n",
              "      <td>4.0</td>\n",
              "    </tr>\n",
              "    <tr>\n",
              "      <th>Denmark</th>\n",
              "      <td>52114.165</td>\n",
              "      <td>73.0</td>\n",
              "      <td>24918.968</td>\n",
              "      <td>9.0</td>\n",
              "    </tr>\n",
              "    <tr>\n",
              "      <th>United States</th>\n",
              "      <td>55805.204</td>\n",
              "      <td>67.0</td>\n",
              "      <td>28610.007</td>\n",
              "      <td>3.0</td>\n",
              "    </tr>\n",
              "  </tbody>\n",
              "</table>\n",
              "</div>\n",
              "      <button class=\"colab-df-convert\" onclick=\"convertToInteractive('df-83d82aff-b3dd-45cb-a2d1-e803cfdf1763')\"\n",
              "              title=\"Convert this dataframe to an interactive table.\"\n",
              "              style=\"display:none;\">\n",
              "        \n",
              "  <svg xmlns=\"http://www.w3.org/2000/svg\" height=\"24px\"viewBox=\"0 0 24 24\"\n",
              "       width=\"24px\">\n",
              "    <path d=\"M0 0h24v24H0V0z\" fill=\"none\"/>\n",
              "    <path d=\"M18.56 5.44l.94 2.06.94-2.06 2.06-.94-2.06-.94-.94-2.06-.94 2.06-2.06.94zm-11 1L8.5 8.5l.94-2.06 2.06-.94-2.06-.94L8.5 2.5l-.94 2.06-2.06.94zm10 10l.94 2.06.94-2.06 2.06-.94-2.06-.94-.94-2.06-.94 2.06-2.06.94z\"/><path d=\"M17.41 7.96l-1.37-1.37c-.4-.4-.92-.59-1.43-.59-.52 0-1.04.2-1.43.59L10.3 9.45l-7.72 7.72c-.78.78-.78 2.05 0 2.83L4 21.41c.39.39.9.59 1.41.59.51 0 1.02-.2 1.41-.59l7.78-7.78 2.81-2.81c.8-.78.8-2.07 0-2.86zM5.41 20L4 18.59l7.72-7.72 1.47 1.35L5.41 20z\"/>\n",
              "  </svg>\n",
              "      </button>\n",
              "      \n",
              "  <style>\n",
              "    .colab-df-container {\n",
              "      display:flex;\n",
              "      flex-wrap:wrap;\n",
              "      gap: 12px;\n",
              "    }\n",
              "\n",
              "    .colab-df-convert {\n",
              "      background-color: #E8F0FE;\n",
              "      border: none;\n",
              "      border-radius: 50%;\n",
              "      cursor: pointer;\n",
              "      display: none;\n",
              "      fill: #1967D2;\n",
              "      height: 32px;\n",
              "      padding: 0 0 0 0;\n",
              "      width: 32px;\n",
              "    }\n",
              "\n",
              "    .colab-df-convert:hover {\n",
              "      background-color: #E2EBFA;\n",
              "      box-shadow: 0px 1px 2px rgba(60, 64, 67, 0.3), 0px 1px 3px 1px rgba(60, 64, 67, 0.15);\n",
              "      fill: #174EA6;\n",
              "    }\n",
              "\n",
              "    [theme=dark] .colab-df-convert {\n",
              "      background-color: #3B4455;\n",
              "      fill: #D2E3FC;\n",
              "    }\n",
              "\n",
              "    [theme=dark] .colab-df-convert:hover {\n",
              "      background-color: #434B5C;\n",
              "      box-shadow: 0px 1px 3px 1px rgba(0, 0, 0, 0.15);\n",
              "      filter: drop-shadow(0px 1px 2px rgba(0, 0, 0, 0.3));\n",
              "      fill: #FFFFFF;\n",
              "    }\n",
              "  </style>\n",
              "\n",
              "      <script>\n",
              "        const buttonEl =\n",
              "          document.querySelector('#df-83d82aff-b3dd-45cb-a2d1-e803cfdf1763 button.colab-df-convert');\n",
              "        buttonEl.style.display =\n",
              "          google.colab.kernel.accessAllowed ? 'block' : 'none';\n",
              "\n",
              "        async function convertToInteractive(key) {\n",
              "          const element = document.querySelector('#df-83d82aff-b3dd-45cb-a2d1-e803cfdf1763');\n",
              "          const dataTable =\n",
              "            await google.colab.kernel.invokeFunction('convertToInteractive',\n",
              "                                                     [key], {});\n",
              "          if (!dataTable) return;\n",
              "\n",
              "          const docLinkHtml = 'Like what you see? Visit the ' +\n",
              "            '<a target=\"_blank\" href=https://colab.research.google.com/notebooks/data_table.ipynb>data table notebook</a>'\n",
              "            + ' to learn more about interactive tables.';\n",
              "          element.innerHTML = '';\n",
              "          dataTable['output_type'] = 'display_data';\n",
              "          await google.colab.output.renderOutput(dataTable, element);\n",
              "          const docLink = document.createElement('div');\n",
              "          docLink.innerHTML = docLinkHtml;\n",
              "          element.appendChild(docLink);\n",
              "        }\n",
              "      </script>\n",
              "    </div>\n",
              "  </div>\n",
              "  "
            ]
          },
          "metadata": {},
          "execution_count": 18
        }
      ]
    },
    {
      "cell_type": "code",
      "source": [
        "sorted_indices = X.drop('Korea').sort_values(feature_name + ' abs diff').index\n",
        "errors = []\n",
        "for k in range(1, 28):\n",
        "  print('    ', ', '.join([f\"{index}:{X.loc[index][feature_name + ' abs diff']}\" for index in sorted_indices[:k]]))\n",
        "  error = abs(y['Korea'] - y[sorted_indices[:k]].mean())\n",
        "  print(f\"k={k}のときの予測誤差:{error:.4f}\")\n",
        "  errors.append(error)\n",
        "errors = np.array(errors)\n",
        "print('-'*80)\n",
        "print(f'best k={(errors.argsort() + 1)[0]}')"
      ],
      "metadata": {
        "colab": {
          "base_uri": "https://localhost:8080/"
        },
        "id": "h3ks-Ohs2sb-",
        "outputId": "f120b227-8734-4e38-d924-3fd4fcfb1bc3"
      },
      "execution_count": null,
      "outputs": [
        {
          "output_type": "stream",
          "name": "stdout",
          "text": [
            "     France:0.0\n",
            "k=1のときの予測誤差:0.7000\n",
            "     France:0.0, Slovenia:1.0\n",
            "k=2のときの予測誤差:0.3000\n",
            "     France:0.0, Slovenia:1.0, Belgium:2.0\n",
            "k=3のときの予測誤差:0.5667\n",
            "     France:0.0, Slovenia:1.0, Belgium:2.0, Israel:3.0\n",
            "k=4のときの予測誤差:0.8250\n",
            "     France:0.0, Slovenia:1.0, Belgium:2.0, Israel:3.0, Portugal:3.0\n",
            "k=5のときの予測誤差:0.5200\n",
            "     France:0.0, Slovenia:1.0, Belgium:2.0, Israel:3.0, Portugal:3.0, United States:3.0\n",
            "k=6のときの予測誤差:0.6667\n",
            "     France:0.0, Slovenia:1.0, Belgium:2.0, Israel:3.0, Portugal:3.0, United States:3.0, Slovak Republic:4.0\n",
            "k=7のときの予測誤差:0.6143\n",
            "     France:0.0, Slovenia:1.0, Belgium:2.0, Israel:3.0, Portugal:3.0, United States:3.0, Slovak Republic:4.0, Poland:4.0\n",
            "k=8のときの予測誤差:0.5375\n",
            "     France:0.0, Slovenia:1.0, Belgium:2.0, Israel:3.0, Portugal:3.0, United States:3.0, Slovak Republic:4.0, Poland:4.0, Ireland:4.0\n",
            "k=9のときの予測誤差:0.6111\n",
            "     France:0.0, Slovenia:1.0, Belgium:2.0, Israel:3.0, Portugal:3.0, United States:3.0, Slovak Republic:4.0, Poland:4.0, Ireland:4.0, Estonia:4.0\n",
            "k=10のときの予測誤差:0.5300\n",
            "     France:0.0, Slovenia:1.0, Belgium:2.0, Israel:3.0, Portugal:3.0, United States:3.0, Slovak Republic:4.0, Poland:4.0, Ireland:4.0, Estonia:4.0, Finland:5.0\n",
            "k=11のときの予測誤差:0.6273\n",
            "     France:0.0, Slovenia:1.0, Belgium:2.0, Israel:3.0, Portugal:3.0, United States:3.0, Slovak Republic:4.0, Poland:4.0, Ireland:4.0, Estonia:4.0, Finland:5.0, Russia:5.0\n",
            "k=12のときの予測誤差:0.5917\n",
            "     France:0.0, Slovenia:1.0, Belgium:2.0, Israel:3.0, Portugal:3.0, United States:3.0, Slovak Republic:4.0, Poland:4.0, Ireland:4.0, Estonia:4.0, Finland:5.0, Russia:5.0, Hungary:6.0\n",
            "k=13のときの予測誤差:0.4769\n",
            "     France:0.0, Slovenia:1.0, Belgium:2.0, Israel:3.0, Portugal:3.0, United States:3.0, Slovak Republic:4.0, Poland:4.0, Ireland:4.0, Estonia:4.0, Finland:5.0, Russia:5.0, Hungary:6.0, United Kingdom:7.0\n",
            "k=14のときの予測誤差:0.5143\n",
            "     France:0.0, Slovenia:1.0, Belgium:2.0, Israel:3.0, Portugal:3.0, United States:3.0, Slovak Republic:4.0, Poland:4.0, Ireland:4.0, Estonia:4.0, Finland:5.0, Russia:5.0, Hungary:6.0, United Kingdom:7.0, Italy:8.0\n",
            "k=15のときの予測誤差:0.4933\n",
            "     France:0.0, Slovenia:1.0, Belgium:2.0, Israel:3.0, Portugal:3.0, United States:3.0, Slovak Republic:4.0, Poland:4.0, Ireland:4.0, Estonia:4.0, Finland:5.0, Russia:5.0, Hungary:6.0, United Kingdom:7.0, Italy:8.0, Canada:8.0\n",
            "k=16のときの予測誤差:0.5563\n",
            "     France:0.0, Slovenia:1.0, Belgium:2.0, Israel:3.0, Portugal:3.0, United States:3.0, Slovak Republic:4.0, Poland:4.0, Ireland:4.0, Estonia:4.0, Finland:5.0, Russia:5.0, Hungary:6.0, United Kingdom:7.0, Italy:8.0, Canada:8.0, Austria:8.0\n",
            "k=17のときの予測誤差:0.5882\n",
            "     France:0.0, Slovenia:1.0, Belgium:2.0, Israel:3.0, Portugal:3.0, United States:3.0, Slovak Republic:4.0, Poland:4.0, Ireland:4.0, Estonia:4.0, Finland:5.0, Russia:5.0, Hungary:6.0, United Kingdom:7.0, Italy:8.0, Canada:8.0, Austria:8.0, Australia:8.0\n",
            "k=18のときの予測誤差:0.6389\n",
            "     France:0.0, Slovenia:1.0, Belgium:2.0, Israel:3.0, Portugal:3.0, United States:3.0, Slovak Republic:4.0, Poland:4.0, Ireland:4.0, Estonia:4.0, Finland:5.0, Russia:5.0, Hungary:6.0, United Kingdom:7.0, Italy:8.0, Canada:8.0, Austria:8.0, Australia:8.0, Spain:8.0\n",
            "k=19のときの予測誤差:0.6421\n",
            "     France:0.0, Slovenia:1.0, Belgium:2.0, Israel:3.0, Portugal:3.0, United States:3.0, Slovak Republic:4.0, Poland:4.0, Ireland:4.0, Estonia:4.0, Finland:5.0, Russia:5.0, Hungary:6.0, United Kingdom:7.0, Italy:8.0, Canada:8.0, Austria:8.0, Australia:8.0, Spain:8.0, New Zealand:9.0\n",
            "k=20のときの予測誤差:0.6850\n",
            "     France:0.0, Slovenia:1.0, Belgium:2.0, Israel:3.0, Portugal:3.0, United States:3.0, Slovak Republic:4.0, Poland:4.0, Ireland:4.0, Estonia:4.0, Finland:5.0, Russia:5.0, Hungary:6.0, United Kingdom:7.0, Italy:8.0, Canada:8.0, Austria:8.0, Australia:8.0, Spain:8.0, New Zealand:9.0, Denmark:9.0\n",
            "k=21のときの予測誤差:0.7333\n",
            "     France:0.0, Slovenia:1.0, Belgium:2.0, Israel:3.0, Portugal:3.0, United States:3.0, Slovak Republic:4.0, Poland:4.0, Ireland:4.0, Estonia:4.0, Finland:5.0, Russia:5.0, Hungary:6.0, United Kingdom:7.0, Italy:8.0, Canada:8.0, Austria:8.0, Australia:8.0, Spain:8.0, New Zealand:9.0, Denmark:9.0, Germany:9.0\n",
            "k=22のときの予測誤差:0.7545\n",
            "     France:0.0, Slovenia:1.0, Belgium:2.0, Israel:3.0, Portugal:3.0, United States:3.0, Slovak Republic:4.0, Poland:4.0, Ireland:4.0, Estonia:4.0, Finland:5.0, Russia:5.0, Hungary:6.0, United Kingdom:7.0, Italy:8.0, Canada:8.0, Austria:8.0, Australia:8.0, Spain:8.0, New Zealand:9.0, Denmark:9.0, Germany:9.0, Netherlands:10.0\n",
            "k=23のときの予測誤差:0.7870\n",
            "     France:0.0, Slovenia:1.0, Belgium:2.0, Israel:3.0, Portugal:3.0, United States:3.0, Slovak Republic:4.0, Poland:4.0, Ireland:4.0, Estonia:4.0, Finland:5.0, Russia:5.0, Hungary:6.0, United Kingdom:7.0, Italy:8.0, Canada:8.0, Austria:8.0, Australia:8.0, Spain:8.0, New Zealand:9.0, Denmark:9.0, Germany:9.0, Netherlands:10.0, Sweden:10.0\n",
            "k=24のときの予測誤差:0.8125\n",
            "     France:0.0, Slovenia:1.0, Belgium:2.0, Israel:3.0, Portugal:3.0, United States:3.0, Slovak Republic:4.0, Poland:4.0, Ireland:4.0, Estonia:4.0, Finland:5.0, Russia:5.0, Hungary:6.0, United Kingdom:7.0, Italy:8.0, Canada:8.0, Austria:8.0, Australia:8.0, Spain:8.0, New Zealand:9.0, Denmark:9.0, Germany:9.0, Netherlands:10.0, Sweden:10.0, Turkey:14.0\n",
            "k=25のときの予測誤差:0.7720\n",
            "     France:0.0, Slovenia:1.0, Belgium:2.0, Israel:3.0, Portugal:3.0, United States:3.0, Slovak Republic:4.0, Poland:4.0, Ireland:4.0, Estonia:4.0, Finland:5.0, Russia:5.0, Hungary:6.0, United Kingdom:7.0, Italy:8.0, Canada:8.0, Austria:8.0, Australia:8.0, Spain:8.0, New Zealand:9.0, Denmark:9.0, Germany:9.0, Netherlands:10.0, Sweden:10.0, Turkey:14.0, Greece:15.0\n",
            "k=26のときの予測誤差:0.7038\n",
            "     France:0.0, Slovenia:1.0, Belgium:2.0, Israel:3.0, Portugal:3.0, United States:3.0, Slovak Republic:4.0, Poland:4.0, Ireland:4.0, Estonia:4.0, Finland:5.0, Russia:5.0, Hungary:6.0, United Kingdom:7.0, Italy:8.0, Canada:8.0, Austria:8.0, Australia:8.0, Spain:8.0, New Zealand:9.0, Denmark:9.0, Germany:9.0, Netherlands:10.0, Sweden:10.0, Turkey:14.0, Greece:15.0, Iceland:18.0\n",
            "k=27のときの予測誤差:0.7407\n",
            "--------------------------------------------------------------------------------\n",
            "best k=2\n"
          ]
        }
      ]
    },
    {
      "cell_type": "markdown",
      "source": [
        "## 引き分けへの対処も含む答案"
      ],
      "metadata": {
        "id": "vSxlSCM-ll_f"
      }
    },
    {
      "cell_type": "markdown",
      "source": [
        "* 下の4カ国の組み合わせだと、上の結果の`k=2`の場合よりも、予測誤差は小さくなる。\n",
        "* しかし、Portugalを特に選ぶ理由を、雇用率の差の絶対値だけから見つけることはできない。"
      ],
      "metadata": {
        "id": "XF8utug7SfaX"
      }
    },
    {
      "cell_type": "code",
      "source": [
        "abs(y['Korea'] - y[[\"France\", \"Slovenia\", \"Belgium\", \"Portugal\"]].mean())"
      ],
      "metadata": {
        "id": "OMWdQq1U2xml",
        "colab": {
          "base_uri": "https://localhost:8080/"
        },
        "outputId": "7c49bdcd-55ed-48b1-e4f9-7037e3496d1b"
      },
      "execution_count": null,
      "outputs": [
        {
          "output_type": "execute_result",
          "data": {
            "text/plain": [
              "0.2500000000000009"
            ]
          },
          "metadata": {},
          "execution_count": 47
        }
      ]
    },
    {
      "cell_type": "markdown",
      "source": [
        "* このように、近傍のなかに同じ距離のインスタンスがあった場合への対処を以下に示す。"
      ],
      "metadata": {
        "id": "JLFpg3dIltib"
      }
    },
    {
      "cell_type": "markdown",
      "source": [
        "* まず、雇用率の差の絶対値だけを取り出す。"
      ],
      "metadata": {
        "id": "HZnNZBOZl9LP"
      }
    },
    {
      "cell_type": "code",
      "source": [
        "abs_diff_ER = X.drop('Korea').sort_values(feature_name + ' abs diff')[feature_name + ' abs diff']\n",
        "sorted_indices = abs_diff_ER.index\n",
        "print(abs_diff_ER)\n",
        "print(sorted_indices)"
      ],
      "metadata": {
        "colab": {
          "base_uri": "https://localhost:8080/"
        },
        "id": "hobWDkvMiIC9",
        "outputId": "53304531-90d0-4567-ebd7-f5d0e199e00b"
      },
      "execution_count": null,
      "outputs": [
        {
          "output_type": "stream",
          "name": "stdout",
          "text": [
            "Country\n",
            "France              0.0\n",
            "Slovenia            1.0\n",
            "Belgium             2.0\n",
            "Israel              3.0\n",
            "Portugal            3.0\n",
            "United States       3.0\n",
            "Slovak Republic     4.0\n",
            "Poland              4.0\n",
            "Ireland             4.0\n",
            "Estonia             4.0\n",
            "Finland             5.0\n",
            "Russia              5.0\n",
            "Hungary             6.0\n",
            "United Kingdom      7.0\n",
            "Italy               8.0\n",
            "Canada              8.0\n",
            "Austria             8.0\n",
            "Australia           8.0\n",
            "Spain               8.0\n",
            "New Zealand         9.0\n",
            "Denmark             9.0\n",
            "Germany             9.0\n",
            "Netherlands        10.0\n",
            "Sweden             10.0\n",
            "Turkey             14.0\n",
            "Greece             15.0\n",
            "Iceland            18.0\n",
            "Name: Employment rate abs diff, dtype: float64\n",
            "Index(['France', 'Slovenia', 'Belgium', 'Israel', 'Portugal', 'United States',\n",
            "       'Slovak Republic', 'Poland', 'Ireland', 'Estonia', 'Finland', 'Russia',\n",
            "       'Hungary', 'United Kingdom', 'Italy', 'Canada', 'Austria', 'Australia',\n",
            "       'Spain', 'New Zealand', 'Denmark', 'Germany', 'Netherlands', 'Sweden',\n",
            "       'Turkey', 'Greece', 'Iceland'],\n",
            "      dtype='object', name='Country')\n"
          ]
        }
      ]
    },
    {
      "cell_type": "markdown",
      "source": [
        "* ソートされた順番で、次にくるインスタンスの値は、以下のように取得できる。"
      ],
      "metadata": {
        "id": "3g97UlvomGU0"
      }
    },
    {
      "cell_type": "code",
      "source": [
        "abs_diff_ER.iloc[1:]"
      ],
      "metadata": {
        "colab": {
          "base_uri": "https://localhost:8080/"
        },
        "id": "EaIJ9GhykLAg",
        "outputId": "c7c5d5a7-e0cf-4e43-ebd4-1b36163b9e5d"
      },
      "execution_count": null,
      "outputs": [
        {
          "output_type": "execute_result",
          "data": {
            "text/plain": [
              "Country\n",
              "France              0.0\n",
              "Slovenia            1.0\n",
              "Belgium             2.0\n",
              "Israel              3.0\n",
              "Portugal            3.0\n",
              "United States       3.0\n",
              "Slovak Republic     4.0\n",
              "Poland              4.0\n",
              "Ireland             4.0\n",
              "Estonia             4.0\n",
              "Finland             5.0\n",
              "Russia              5.0\n",
              "Hungary             6.0\n",
              "United Kingdom      7.0\n",
              "Italy               8.0\n",
              "Canada              8.0\n",
              "Austria             8.0\n",
              "Australia           8.0\n",
              "Spain               8.0\n",
              "New Zealand         9.0\n",
              "Denmark             9.0\n",
              "Germany             9.0\n",
              "Netherlands        10.0\n",
              "Sweden             10.0\n",
              "Turkey             14.0\n",
              "Greece             15.0\n",
              "Name: Employment rate abs diff, dtype: float64"
            ]
          },
          "metadata": {},
          "execution_count": 38
        }
      ]
    },
    {
      "cell_type": "markdown",
      "source": [
        "* 次のインスタンスとの値の差を調べる。"
      ],
      "metadata": {
        "id": "ElO8DLE9mMVk"
      }
    },
    {
      "cell_type": "code",
      "source": [
        "abs_diff_ER.iloc[:-1].values - abs_diff_ER.iloc[1:].values"
      ],
      "metadata": {
        "colab": {
          "base_uri": "https://localhost:8080/"
        },
        "id": "pcpE491qkQIv",
        "outputId": "75f2dbb4-a954-4ce3-de21-e3737d1b724c"
      },
      "execution_count": null,
      "outputs": [
        {
          "output_type": "execute_result",
          "data": {
            "text/plain": [
              "array([-1., -1., -1.,  0.,  0., -1.,  0.,  0.,  0., -1.,  0., -1., -1.,\n",
              "       -1.,  0.,  0.,  0.,  0., -1.,  0.,  0., -1.,  0., -4., -1., -3.])"
            ]
          },
          "metadata": {},
          "execution_count": 40
        }
      ]
    },
    {
      "cell_type": "markdown",
      "source": [
        "* この差がゼロなら、次のインスタンスは同じ距離にあるということになる。"
      ],
      "metadata": {
        "id": "gg8Ifj3xmRZH"
      }
    },
    {
      "cell_type": "code",
      "source": [
        "abs_diff_ER.iloc[:-1].values - abs_diff_ER.iloc[1:].values == 0"
      ],
      "metadata": {
        "colab": {
          "base_uri": "https://localhost:8080/"
        },
        "id": "-_8klnyrkPa3",
        "outputId": "4cb1747c-3240-4648-bf8d-6b9c9cc3b839"
      },
      "execution_count": null,
      "outputs": [
        {
          "output_type": "execute_result",
          "data": {
            "text/plain": [
              "array([False, False, False,  True,  True, False,  True,  True,  True,\n",
              "       False,  True, False, False, False,  True,  True,  True,  True,\n",
              "       False,  True,  True, False,  True, False, False, False])"
            ]
          },
          "metadata": {},
          "execution_count": 53
        }
      ]
    },
    {
      "cell_type": "code",
      "source": [
        "flag = np.append(abs_diff_ER.iloc[:-1].values - abs_diff_ER.iloc[1:].values == 0, False)\n",
        "print(flag)"
      ],
      "metadata": {
        "colab": {
          "base_uri": "https://localhost:8080/"
        },
        "id": "cXyXvBTIicpj",
        "outputId": "70c16126-59d2-4c09-fcd3-93b20449a589"
      },
      "execution_count": null,
      "outputs": [
        {
          "output_type": "stream",
          "name": "stdout",
          "text": [
            "[False False False  True  True False  True  True  True False  True False\n",
            " False False  True  True  True  True False  True  True False  True False\n",
            " False False False]\n"
          ]
        }
      ]
    },
    {
      "cell_type": "code",
      "source": [
        "flag_df = pd.DataFrame({\"flag\":flag}, index=sorted_indices)\n",
        "print(flag_df)"
      ],
      "metadata": {
        "colab": {
          "base_uri": "https://localhost:8080/"
        },
        "id": "pDH7_eFBkN1T",
        "outputId": "948337a9-b7a4-46b2-e935-81adc39b9675"
      },
      "execution_count": null,
      "outputs": [
        {
          "output_type": "stream",
          "name": "stdout",
          "text": [
            "                  flag\n",
            "Country               \n",
            "France           False\n",
            "Slovenia         False\n",
            "Belgium          False\n",
            "Israel            True\n",
            "Portugal          True\n",
            "United States    False\n",
            "Slovak Republic   True\n",
            "Poland            True\n",
            "Ireland           True\n",
            "Estonia          False\n",
            "Finland           True\n",
            "Russia           False\n",
            "Hungary          False\n",
            "United Kingdom   False\n",
            "Italy             True\n",
            "Canada            True\n",
            "Austria           True\n",
            "Australia         True\n",
            "Spain            False\n",
            "New Zealand       True\n",
            "Denmark           True\n",
            "Germany          False\n",
            "Netherlands       True\n",
            "Sweden           False\n",
            "Turkey           False\n",
            "Greece           False\n",
            "Iceland          False\n"
          ]
        }
      ]
    },
    {
      "cell_type": "markdown",
      "source": [
        "* 雇用率の差の絶対値でソートしたとき、次のインスタンスが同じ距離にある場合は、予測誤差の計算をしないことにする。"
      ],
      "metadata": {
        "id": "ObGRk6W2mh1H"
      }
    },
    {
      "cell_type": "code",
      "source": [
        "sorted_indices = X.drop('Korea').sort_values(feature_name + ' abs diff').index\n",
        "errors = []\n",
        "for k in range(1, 28):\n",
        "  if flag_df.loc[sorted_indices[k-1]][0]: # ここで判定している。\n",
        "    continue\n",
        "  print('    ', ', '.join([f\"{index}:{X.loc[index][feature_name + ' abs diff']}\" for index in sorted_indices[:k]]))\n",
        "  error = abs(y['Korea'] - y[sorted_indices[:k]].mean())\n",
        "  print(f\"k={k}のときの予測誤差:{error:.4f}\")\n",
        "  errors.append(error)\n",
        "errors = np.array(errors)\n",
        "print('-'*80)\n",
        "print(f'best k={(errors.argsort() + 1)[0]}')"
      ],
      "metadata": {
        "id": "OKmfpiPiSMbL",
        "colab": {
          "base_uri": "https://localhost:8080/"
        },
        "outputId": "122c656b-5222-44d5-c995-bac02d885f5a"
      },
      "execution_count": null,
      "outputs": [
        {
          "output_type": "stream",
          "name": "stdout",
          "text": [
            "     France:0.0\n",
            "k=1のときの予測誤差:0.7000\n",
            "     France:0.0, Slovenia:1.0\n",
            "k=2のときの予測誤差:0.3000\n",
            "     France:0.0, Slovenia:1.0, Belgium:2.0\n",
            "k=3のときの予測誤差:0.5667\n",
            "     France:0.0, Slovenia:1.0, Belgium:2.0, Israel:3.0, Portugal:3.0, United States:3.0\n",
            "k=6のときの予測誤差:0.6667\n",
            "     France:0.0, Slovenia:1.0, Belgium:2.0, Israel:3.0, Portugal:3.0, United States:3.0, Slovak Republic:4.0, Poland:4.0, Ireland:4.0, Estonia:4.0\n",
            "k=10のときの予測誤差:0.5300\n",
            "     France:0.0, Slovenia:1.0, Belgium:2.0, Israel:3.0, Portugal:3.0, United States:3.0, Slovak Republic:4.0, Poland:4.0, Ireland:4.0, Estonia:4.0, Finland:5.0, Russia:5.0\n",
            "k=12のときの予測誤差:0.5917\n",
            "     France:0.0, Slovenia:1.0, Belgium:2.0, Israel:3.0, Portugal:3.0, United States:3.0, Slovak Republic:4.0, Poland:4.0, Ireland:4.0, Estonia:4.0, Finland:5.0, Russia:5.0, Hungary:6.0\n",
            "k=13のときの予測誤差:0.4769\n",
            "     France:0.0, Slovenia:1.0, Belgium:2.0, Israel:3.0, Portugal:3.0, United States:3.0, Slovak Republic:4.0, Poland:4.0, Ireland:4.0, Estonia:4.0, Finland:5.0, Russia:5.0, Hungary:6.0, United Kingdom:7.0\n",
            "k=14のときの予測誤差:0.5143\n",
            "     France:0.0, Slovenia:1.0, Belgium:2.0, Israel:3.0, Portugal:3.0, United States:3.0, Slovak Republic:4.0, Poland:4.0, Ireland:4.0, Estonia:4.0, Finland:5.0, Russia:5.0, Hungary:6.0, United Kingdom:7.0, Italy:8.0, Canada:8.0, Austria:8.0, Australia:8.0, Spain:8.0\n",
            "k=19のときの予測誤差:0.6421\n",
            "     France:0.0, Slovenia:1.0, Belgium:2.0, Israel:3.0, Portugal:3.0, United States:3.0, Slovak Republic:4.0, Poland:4.0, Ireland:4.0, Estonia:4.0, Finland:5.0, Russia:5.0, Hungary:6.0, United Kingdom:7.0, Italy:8.0, Canada:8.0, Austria:8.0, Australia:8.0, Spain:8.0, New Zealand:9.0, Denmark:9.0, Germany:9.0\n",
            "k=22のときの予測誤差:0.7545\n",
            "     France:0.0, Slovenia:1.0, Belgium:2.0, Israel:3.0, Portugal:3.0, United States:3.0, Slovak Republic:4.0, Poland:4.0, Ireland:4.0, Estonia:4.0, Finland:5.0, Russia:5.0, Hungary:6.0, United Kingdom:7.0, Italy:8.0, Canada:8.0, Austria:8.0, Australia:8.0, Spain:8.0, New Zealand:9.0, Denmark:9.0, Germany:9.0, Netherlands:10.0, Sweden:10.0\n",
            "k=24のときの予測誤差:0.8125\n",
            "     France:0.0, Slovenia:1.0, Belgium:2.0, Israel:3.0, Portugal:3.0, United States:3.0, Slovak Republic:4.0, Poland:4.0, Ireland:4.0, Estonia:4.0, Finland:5.0, Russia:5.0, Hungary:6.0, United Kingdom:7.0, Italy:8.0, Canada:8.0, Austria:8.0, Australia:8.0, Spain:8.0, New Zealand:9.0, Denmark:9.0, Germany:9.0, Netherlands:10.0, Sweden:10.0, Turkey:14.0\n",
            "k=25のときの予測誤差:0.7720\n",
            "     France:0.0, Slovenia:1.0, Belgium:2.0, Israel:3.0, Portugal:3.0, United States:3.0, Slovak Republic:4.0, Poland:4.0, Ireland:4.0, Estonia:4.0, Finland:5.0, Russia:5.0, Hungary:6.0, United Kingdom:7.0, Italy:8.0, Canada:8.0, Austria:8.0, Australia:8.0, Spain:8.0, New Zealand:9.0, Denmark:9.0, Germany:9.0, Netherlands:10.0, Sweden:10.0, Turkey:14.0, Greece:15.0\n",
            "k=26のときの予測誤差:0.7038\n",
            "     France:0.0, Slovenia:1.0, Belgium:2.0, Israel:3.0, Portugal:3.0, United States:3.0, Slovak Republic:4.0, Poland:4.0, Ireland:4.0, Estonia:4.0, Finland:5.0, Russia:5.0, Hungary:6.0, United Kingdom:7.0, Italy:8.0, Canada:8.0, Austria:8.0, Australia:8.0, Spain:8.0, New Zealand:9.0, Denmark:9.0, Germany:9.0, Netherlands:10.0, Sweden:10.0, Turkey:14.0, Greece:15.0, Iceland:18.0\n",
            "k=27のときの予測誤差:0.7407\n",
            "--------------------------------------------------------------------------------\n",
            "best k=2\n"
          ]
        }
      ]
    },
    {
      "cell_type": "code",
      "source": [],
      "metadata": {
        "id": "hAcgODG4lHN4"
      },
      "execution_count": null,
      "outputs": []
    }
  ]
}