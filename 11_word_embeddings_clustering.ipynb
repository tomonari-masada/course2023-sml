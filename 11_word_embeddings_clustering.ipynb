{
  "nbformat": 4,
  "nbformat_minor": 0,
  "metadata": {
    "colab": {
      "provenance": [],
      "mount_file_id": "1jww3mEsWrp4VjVCe94LdcScRw4oqKdkn",
      "authorship_tag": "ABX9TyNM2Fm4Ob/f66FJSVAEn94i",
      "include_colab_link": true
    },
    "kernelspec": {
      "name": "python3",
      "display_name": "Python 3"
    }
  },
  "cells": [
    {
      "cell_type": "markdown",
      "metadata": {
        "id": "view-in-github",
        "colab_type": "text"
      },
      "source": [
        "<a href=\"https://colab.research.google.com/github/tomonari-masada/course2023-sml/blob/main/11_word_embeddings_clustering.ipynb\" target=\"_parent\"><img src=\"https://colab.research.google.com/assets/colab-badge.svg\" alt=\"Open In Colab\"/></a>"
      ]
    },
    {
      "cell_type": "markdown",
      "metadata": {
        "id": "dhzrBYzaPTv1"
      },
      "source": [
        "# 日本語の単語ベクトルをクラスタリング"
      ]
    },
    {
      "cell_type": "code",
      "source": [
        "from tqdm import tqdm\n",
        "import numpy as np\n",
        "import pandas as pd\n",
        "from sklearn.cluster import KMeans"
      ],
      "metadata": {
        "id": "x_09KVWCP9Cc"
      },
      "execution_count": null,
      "outputs": []
    },
    {
      "cell_type": "markdown",
      "metadata": {
        "id": "QXcnxM2sPzZB"
      },
      "source": [
        "## 1) spaCyの中規模日本語言語モデルのword2vec"
      ]
    },
    {
      "cell_type": "markdown",
      "source": [
        "* spaCyの中規模日本語モデルで、日本語の単語を300次元のベクトルで表現したデータを利用できる。\n",
        " * word2vecそのものについては、ここでは説明しません。\n",
        "* 今回はこの単語ベクトルをクラスタリングして、意味の近い単語が同じクラスタに属しているかをチェックする。"
      ],
      "metadata": {
        "id": "WfjhH85xD53H"
      }
    },
    {
      "cell_type": "code",
      "source": [
        "!python -m spacy download ja_core_news_md"
      ],
      "metadata": {
        "id": "EtyUdUcrLdsU"
      },
      "execution_count": null,
      "outputs": []
    },
    {
      "cell_type": "code",
      "source": [
        "import spacy\n",
        "nlp = spacy.load(\"ja_core_news_md\")"
      ],
      "metadata": {
        "id": "0kEkNz--LOWy"
      },
      "execution_count": null,
      "outputs": []
    },
    {
      "cell_type": "markdown",
      "metadata": {
        "id": "PO-68J5bL0ca"
      },
      "source": [
        "* 単語ベクトルの次元を確認する。\n",
        "\n"
      ]
    },
    {
      "cell_type": "code",
      "source": [
        "doc = nlp(\"これは何でしょうか。\")\n",
        "for token in doc:\n",
        "  print(token, token.vector.shape)"
      ],
      "metadata": {
        "id": "Yl6pa9QlL4ph"
      },
      "execution_count": null,
      "outputs": []
    },
    {
      "cell_type": "markdown",
      "source": [
        "* 文書全体のベクトル化もできる（今回は使わない）。"
      ],
      "metadata": {
        "id": "56jgMQ3aNOSN"
      }
    },
    {
      "cell_type": "code",
      "source": [
        "doc = nlp(\"これは何でしょうか。\")\n",
        "doc.vector.shape"
      ],
      "metadata": {
        "id": "pdU_338eMZlp"
      },
      "execution_count": null,
      "outputs": []
    },
    {
      "cell_type": "markdown",
      "source": [
        "* 語彙サイズを確認する。"
      ],
      "metadata": {
        "id": "XdTrYb3HNbco"
      }
    },
    {
      "cell_type": "code",
      "source": [
        "len(nlp.vocab.strings)"
      ],
      "metadata": {
        "id": "fOtJex2DMoan"
      },
      "execution_count": null,
      "outputs": []
    },
    {
      "cell_type": "markdown",
      "source": [
        "* 単語ベクトルがゼロベクトルになっている単語があるようだ。"
      ],
      "metadata": {
        "id": "R5VQlmVgQ9Lf"
      }
    },
    {
      "cell_type": "code",
      "source": [
        "nlp.vocab.get_vector(\"これ\")"
      ],
      "metadata": {
        "id": "DWMlx6fsPpBn"
      },
      "execution_count": null,
      "outputs": []
    },
    {
      "cell_type": "code",
      "source": [
        "nlp.vocab.has_vector(\"これ\")"
      ],
      "metadata": {
        "id": "GWZfBdfoQK7w"
      },
      "execution_count": null,
      "outputs": []
    },
    {
      "cell_type": "markdown",
      "source": [
        "* ゼロベクトルでない単語ベクトルだけ集める。"
      ],
      "metadata": {
        "id": "jECPfYywRBNo"
      }
    },
    {
      "cell_type": "code",
      "source": [
        "words = []\n",
        "vectors = []\n",
        "for word in tqdm(nlp.vocab.strings):\n",
        "  if nlp.vocab.has_vector(word):\n",
        "    vector = nlp.vocab.get_vector(word)\n",
        "    if np.abs(vector).sum() > 0:\n",
        "      words.append(word)\n",
        "      vectors.append(vector)\n",
        "words = np.array(words)\n",
        "vectors = np.array(vectors)"
      ],
      "metadata": {
        "id": "EXbsm08eNoIc"
      },
      "execution_count": null,
      "outputs": []
    },
    {
      "cell_type": "code",
      "source": [
        "print(words.shape, vectors.shape)"
      ],
      "metadata": {
        "id": "m15AE5y3PhzA"
      },
      "execution_count": null,
      "outputs": []
    },
    {
      "cell_type": "markdown",
      "metadata": {
        "id": "_i36eLo_L_YL"
      },
      "source": [
        "* 試しに、最初の単語とその単語ベクトルを確認する\n",
        "\n"
      ]
    },
    {
      "cell_type": "code",
      "metadata": {
        "id": "wv_ccTtLOBQW"
      },
      "source": [
        "print(words[0])\n",
        "print(vectors[0])"
      ],
      "execution_count": null,
      "outputs": []
    },
    {
      "cell_type": "markdown",
      "metadata": {
        "id": "8qM5D1WiMWdD"
      },
      "source": [
        "* 「日本」という単語に最も近い10個の単語を表示させてみる。\n"
      ]
    },
    {
      "cell_type": "code",
      "metadata": {
        "id": "eYp7lItAM7b5"
      },
      "source": [
        "vec_jpn = nlp.vocab.get_vector(\"日本\")\n",
        "np.linalg.norm(vectors - vec_jpn, axis=1)\n",
        "indices = np.argsort(np.linalg.norm(vectors - vec_jpn, axis=1))\n",
        "print(words[indices[:11]])\n",
        "print(np.linalg.norm(vectors - vec_jpn, axis=1)[indices[:11]])"
      ],
      "execution_count": null,
      "outputs": []
    },
    {
      "cell_type": "markdown",
      "source": [
        "* 'ハセベ', '日本', 'nippon'という３単語が同じベクトルになっているらしい。"
      ],
      "metadata": {
        "id": "msPyhTni_iMQ"
      }
    },
    {
      "cell_type": "markdown",
      "source": [
        "* 「アメリカ」という単語については、どうか。"
      ],
      "metadata": {
        "id": "gI9y3Hy7EHxe"
      }
    },
    {
      "cell_type": "code",
      "source": [
        "vec_jpn = nlp.vocab.get_vector(\"アメリカ\")\n",
        "np.linalg.norm(vectors - vec_jpn, axis=1)\n",
        "indices = np.argsort(np.linalg.norm(vectors - vec_jpn, axis=1))\n",
        "print(words[indices[:11]])\n",
        "print(np.linalg.norm(vectors - vec_jpn, axis=1)[indices[:11]])"
      ],
      "metadata": {
        "id": "C2Ph6Nky__CA"
      },
      "execution_count": null,
      "outputs": []
    },
    {
      "cell_type": "markdown",
      "source": [
        "* 'ガンジーブログ', 'America', '米西', 'メリカ', 'シアーズ', 'hanson', 'アメリカ', 'アメリカーナ', 'スムート', 'アメリカヘ'が全て同じベクトルになっているらしい。"
      ],
      "metadata": {
        "id": "36t8dB7wAai8"
      }
    },
    {
      "cell_type": "markdown",
      "metadata": {
        "id": "-o2yZ06-QQN4"
      },
      "source": [
        "## 2) 日本語BERTのword embeddings"
      ]
    },
    {
      "cell_type": "markdown",
      "source": [
        "* 東北大が提供している事前学習済みBERTのembeddings部分のみを利用する。\n",
        " * このBERTは日本語データで事前学習されている。"
      ],
      "metadata": {
        "id": "I-mzBTJlEvhR"
      }
    },
    {
      "cell_type": "code",
      "source": [
        "!pip install transformers"
      ],
      "metadata": {
        "id": "SQtUR0A9A6tD"
      },
      "execution_count": null,
      "outputs": []
    },
    {
      "cell_type": "code",
      "source": [
        "!pip install fugashi[unidic-lite]"
      ],
      "metadata": {
        "id": "K4pd944kBTpm"
      },
      "execution_count": null,
      "outputs": []
    },
    {
      "cell_type": "code",
      "source": [
        "from transformers import AutoTokenizer, AutoModelForPreTraining\n",
        "\n",
        "tokenizer = AutoTokenizer.from_pretrained(\"cl-tohoku/bert-base-japanese-v3\")\n",
        "\n",
        "model = AutoModelForPreTraining.from_pretrained(\"cl-tohoku/bert-base-japanese-v3\")"
      ],
      "metadata": {
        "id": "TRCWin9LA5Y7"
      },
      "execution_count": null,
      "outputs": []
    },
    {
      "cell_type": "code",
      "source": [
        "list(tokenizer.vocab)[:10]"
      ],
      "metadata": {
        "id": "A8eHY0msBg2P"
      },
      "execution_count": null,
      "outputs": []
    },
    {
      "cell_type": "code",
      "source": [
        "len(tokenizer.vocab)"
      ],
      "metadata": {
        "id": "qg0Bz6cuCA3I"
      },
      "execution_count": null,
      "outputs": []
    },
    {
      "cell_type": "code",
      "source": [
        "words = np.array(list(tokenizer.vocab))"
      ],
      "metadata": {
        "id": "OQ-fWxe-CXkb"
      },
      "execution_count": null,
      "outputs": []
    },
    {
      "cell_type": "code",
      "source": [
        "model.bert"
      ],
      "metadata": {
        "id": "7394cWsWB2vC"
      },
      "execution_count": null,
      "outputs": []
    },
    {
      "cell_type": "code",
      "source": [
        "vectors = model.bert.embeddings.word_embeddings.weight.data.numpy()"
      ],
      "metadata": {
        "id": "58gznxYGCDDi"
      },
      "execution_count": null,
      "outputs": []
    },
    {
      "cell_type": "code",
      "source": [
        "vectors.shape"
      ],
      "metadata": {
        "id": "67gGDNbFC4u5"
      },
      "execution_count": null,
      "outputs": []
    },
    {
      "cell_type": "code",
      "source": [
        "words[0]"
      ],
      "metadata": {
        "id": "yewQUXmGCb6G"
      },
      "execution_count": null,
      "outputs": []
    },
    {
      "cell_type": "code",
      "source": [
        "vectors[0]"
      ],
      "metadata": {
        "id": "qektANBwCdme"
      },
      "execution_count": null,
      "outputs": []
    },
    {
      "cell_type": "code",
      "source": [
        "tokenizer.convert_tokens_to_ids(['日本'])"
      ],
      "metadata": {
        "id": "t1NthdcUChZP"
      },
      "execution_count": null,
      "outputs": []
    },
    {
      "cell_type": "code",
      "source": [
        "vec_jpn = vectors[tokenizer.convert_tokens_to_ids(['日本']),:]\n",
        "np.linalg.norm(vectors - vec_jpn, axis=1)\n",
        "indices = np.argsort(np.linalg.norm(vectors - vec_jpn, axis=1))\n",
        "print(words[indices[:11]])\n",
        "print(np.linalg.norm(vectors - vec_jpn, axis=1)[indices[:11]])"
      ],
      "metadata": {
        "id": "TV3sf8GlCtVA"
      },
      "execution_count": null,
      "outputs": []
    },
    {
      "cell_type": "markdown",
      "metadata": {
        "id": "jDzUNmnaMaUv"
      },
      "source": [
        "* クラスタ数の設定\n",
        "\n"
      ]
    },
    {
      "cell_type": "code",
      "metadata": {
        "id": "xIgi9fxSaGMq"
      },
      "source": [
        "n_clusters = 100"
      ],
      "execution_count": null,
      "outputs": []
    },
    {
      "cell_type": "markdown",
      "metadata": {
        "id": "WO9p70lpNjQ_"
      },
      "source": [
        "* k-平均法によるクラスタリングを実行。"
      ]
    },
    {
      "cell_type": "code",
      "metadata": {
        "id": "zyXb2eRFOo3i"
      },
      "source": [
        "kmeans = KMeans(n_clusters=n_clusters, n_init='auto', random_state=123)\n",
        "kmeans.fit(vectors)"
      ],
      "execution_count": null,
      "outputs": []
    },
    {
      "cell_type": "markdown",
      "metadata": {
        "id": "sFLiNhQjNpO2"
      },
      "source": [
        "* クラスタリングの結果をcsvファイルとして保存。"
      ]
    },
    {
      "cell_type": "code",
      "metadata": {
        "id": "9AzNSATqPBIz"
      },
      "source": [
        "np.savetxt(f'bert_embed_cluster_centers_{n_clusters:d}.csv', kmeans.cluster_centers_, delimiter=',')\n",
        "centers = kmeans.cluster_centers_"
      ],
      "execution_count": null,
      "outputs": []
    },
    {
      "cell_type": "markdown",
      "metadata": {
        "id": "3Htfxa9sNeML"
      },
      "source": [
        "* k-平均法を実行するのではなく、クラスタの重心をファイルから読み込むときは、下のセルを実行。\n",
        " * パスは適当に書き換える。\n"
      ]
    },
    {
      "cell_type": "code",
      "metadata": {
        "id": "FKZu_PGxVHeW"
      },
      "source": [
        "centers = np.loadtxt(f'bert_embed_cluster_centers_{n_clusters:d}.csv', delimiter=',')"
      ],
      "execution_count": null,
      "outputs": []
    },
    {
      "cell_type": "code",
      "metadata": {
        "id": "819Ne08pUk5C"
      },
      "source": [
        "center = centers[0]\n",
        "indices = np.argsort(np.linalg.norm(vectors - center, axis=1))\n",
        "print(words[indices[:20]])"
      ],
      "execution_count": null,
      "outputs": []
    },
    {
      "cell_type": "markdown",
      "metadata": {
        "id": "SgtCM75KYSjZ"
      },
      "source": [
        "### クラスタのサイズを調べる"
      ]
    },
    {
      "cell_type": "markdown",
      "metadata": {
        "id": "AbVxvTJbf9lJ"
      },
      "source": [
        "* NumPyの配列に、いろいろな値が何回ずつ出てくるかを知るには、unique関数を使うと良い。"
      ]
    },
    {
      "cell_type": "code",
      "metadata": {
        "id": "SEtINadMTpW_"
      },
      "source": [
        "unique, counts = np.unique(kmeans.labels_, return_counts=True)"
      ],
      "execution_count": null,
      "outputs": []
    },
    {
      "cell_type": "code",
      "metadata": {
        "id": "A_yVY0pfYjH0"
      },
      "source": [
        "unique"
      ],
      "execution_count": null,
      "outputs": []
    },
    {
      "cell_type": "code",
      "metadata": {
        "id": "y4oQ0XjCZG8U"
      },
      "source": [
        "counts"
      ],
      "execution_count": null,
      "outputs": []
    },
    {
      "cell_type": "markdown",
      "metadata": {
        "id": "7GC267ESgFqk"
      },
      "source": [
        "* クラスタのインデックスをキーとし、そのサイズを値とする辞書を作る。"
      ]
    },
    {
      "cell_type": "code",
      "metadata": {
        "id": "HdKvO0RWYkO7"
      },
      "source": [
        "size_dict = dict(zip(unique, counts))"
      ],
      "execution_count": null,
      "outputs": []
    },
    {
      "cell_type": "markdown",
      "metadata": {
        "id": "ROivZugMgOds"
      },
      "source": [
        "* 辞書のエントリを、キーではなく値でソートする。"
      ]
    },
    {
      "cell_type": "code",
      "metadata": {
        "id": "41h3OeM9ZF5d"
      },
      "source": [
        "sorted_clusters = [k for k, v in sorted(size_dict.items(), key=lambda item: item[1], reverse=True)]"
      ],
      "execution_count": null,
      "outputs": []
    },
    {
      "cell_type": "code",
      "metadata": {
        "id": "5xZ3Fu1pZc-f"
      },
      "source": [
        "counts[sorted_clusters]"
      ],
      "execution_count": null,
      "outputs": []
    },
    {
      "cell_type": "markdown",
      "metadata": {
        "id": "rla5hIZXZtSK"
      },
      "source": [
        "### サイズが最大のクラスタを調べる"
      ]
    },
    {
      "cell_type": "code",
      "source": [
        "print(sorted_clusters)"
      ],
      "metadata": {
        "id": "RiKgVVNyFm8y"
      },
      "execution_count": null,
      "outputs": []
    },
    {
      "cell_type": "code",
      "source": [
        "kmeans.labels_"
      ],
      "metadata": {
        "id": "-gkQMn9MFfxj"
      },
      "execution_count": null,
      "outputs": []
    },
    {
      "cell_type": "code",
      "metadata": {
        "id": "HP9fzGWJZfql"
      },
      "source": [
        "center = kmeans.cluster_centers_[sorted_clusters[0]]\n",
        "indices = np.argsort(np.linalg.norm(vectors - center, axis=1))\n",
        "' '.join(words[indices[:100]].tolist())"
      ],
      "execution_count": null,
      "outputs": []
    },
    {
      "cell_type": "code",
      "source": [
        "filtered_indices = indices[kmeans.labels_[indices] == 56]\n",
        "' '.join(words[filtered_indices[:100]].tolist())"
      ],
      "metadata": {
        "id": "PGdRn1gCFy-S"
      },
      "execution_count": null,
      "outputs": []
    },
    {
      "cell_type": "markdown",
      "metadata": {
        "id": "irSbDJwegd-s"
      },
      "source": [
        "### サイズが中間的なクラスタを調べる"
      ]
    },
    {
      "cell_type": "code",
      "metadata": {
        "id": "ohQrQEUXZ5Et"
      },
      "source": [
        "center = kmeans.cluster_centers_[sorted_clusters[49]]\n",
        "indices = np.argsort(np.linalg.norm(vectors - center, axis=1))\n",
        "' '.join(words[indices[:100]].tolist())"
      ],
      "execution_count": null,
      "outputs": []
    },
    {
      "cell_type": "code",
      "source": [
        "kmeans.labels_[indices][:100]"
      ],
      "metadata": {
        "id": "8vZrk4uCG8bf"
      },
      "execution_count": null,
      "outputs": []
    },
    {
      "cell_type": "code",
      "source": [
        "filtered_indices = indices[kmeans.labels_[indices] == sorted_clusters[49]]\n",
        "' '.join(words[filtered_indices[:100]].tolist())"
      ],
      "metadata": {
        "id": "kHSDToTtG3Qd"
      },
      "execution_count": null,
      "outputs": []
    },
    {
      "cell_type": "markdown",
      "metadata": {
        "id": "t4GDMNItaPgu"
      },
      "source": [
        "### 適当なクラスターを調べてみる"
      ]
    },
    {
      "cell_type": "code",
      "metadata": {
        "id": "LBtCOiw1aNvz"
      },
      "source": [
        "center = kmeans.cluster_centers_[sorted_clusters[39]]\n",
        "indices = np.argsort(np.linalg.norm(vectors - center, axis=1))\n",
        "' '.join(words[indices[:100]].tolist())"
      ],
      "execution_count": null,
      "outputs": []
    },
    {
      "cell_type": "code",
      "metadata": {
        "id": "lsCiMW4-Zmqc"
      },
      "source": [
        "center = kmeans.cluster_centers_[sorted_clusters[29]]\n",
        "indices = np.argsort(np.linalg.norm(vectors - center, axis=1))\n",
        "' '.join(words[indices[:100]].tolist())"
      ],
      "execution_count": null,
      "outputs": []
    },
    {
      "cell_type": "code",
      "source": [],
      "metadata": {
        "id": "hpwKrF-CFKgz"
      },
      "execution_count": null,
      "outputs": []
    }
  ]
}